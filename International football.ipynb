{
 "cells": [
  {
   "cell_type": "markdown",
   "metadata": {
    "application/vnd.databricks.v1+cell": {
     "cellMetadata": {
      "byteLimit": 2048000,
      "rowLimit": 10000
     },
     "inputWidgets": {},
     "nuid": "00705259-503c-4e10-ad31-0899c7d1623a",
     "showTitle": false,
     "title": ""
    }
   },
   "source": [
    "# Loading the data from the hive metastore"
   ]
  },
  {
   "cell_type": "code",
   "execution_count": 0,
   "metadata": {
    "application/vnd.databricks.v1+cell": {
     "cellMetadata": {
      "byteLimit": 2048000,
      "rowLimit": 10000
     },
     "inputWidgets": {},
     "nuid": "9141569f-e5d7-4d39-b8dc-809c02189c51",
     "showTitle": false,
     "title": ""
    }
   },
   "outputs": [
    {
     "output_type": "display_data",
     "data": {
      "text/html": [
       "<style scoped>\n",
       "  .table-result-container {\n",
       "    max-height: 300px;\n",
       "    overflow: auto;\n",
       "  }\n",
       "  table, th, td {\n",
       "    border: 1px solid black;\n",
       "    border-collapse: collapse;\n",
       "  }\n",
       "  th, td {\n",
       "    padding: 5px;\n",
       "  }\n",
       "  th {\n",
       "    text-align: left;\n",
       "  }\n",
       "</style><div class='table-result-container'><table class='table-result'><thead style='background-color: white'><tr><th>date</th><th>home_team</th><th>away_team</th><th>home_score</th><th>away_score</th><th>tournament</th><th>city</th><th>country</th><th>neutral</th></tr></thead><tbody><tr><td>2024-03-26</td><td>Bangladesh</td><td>Palestine</td><td>0</td><td>1</td><td>FIFA World Cup qualification</td><td>Dhaka</td><td>Bangladesh</td><td>false</td></tr><tr><td>2024-03-26</td><td>Finland</td><td>Estonia</td><td>2</td><td>1</td><td>Friendly</td><td>Helsinki</td><td>Finland</td><td>false</td></tr><tr><td>2024-03-26</td><td>Norway</td><td>Slovakia</td><td>1</td><td>1</td><td>Friendly</td><td>Oslo</td><td>Norway</td><td>false</td></tr><tr><td>2024-03-26</td><td>Turkmenistan</td><td>Iran</td><td>0</td><td>1</td><td>FIFA World Cup qualification</td><td>Ashgabat</td><td>Turkmenistan</td><td>false</td></tr><tr><td>2024-03-26</td><td>Turks and Caicos Islands</td><td>Anguilla</td><td>1</td><td>1</td><td>FIFA World Cup qualification</td><td>Providenciales</td><td>Turks and Caicos Islands</td><td>false</td></tr><tr><td>2024-03-26</td><td>Malaysia</td><td>Oman</td><td>0</td><td>2</td><td>FIFA World Cup qualification</td><td>Kuala Lumpur</td><td>Malaysia</td><td>false</td></tr><tr><td>2024-03-26</td><td>Bahrain</td><td>Nepal</td><td>3</td><td>0</td><td>FIFA World Cup qualification</td><td>Riffa</td><td>Bahrain</td><td>false</td></tr><tr><td>2024-03-26</td><td>Scotland</td><td>Northern Ireland</td><td>0</td><td>1</td><td>Friendly</td><td>Glasgow</td><td>Scotland</td><td>false</td></tr><tr><td>2024-03-26</td><td>El Salvador</td><td>Honduras</td><td>1</td><td>1</td><td>Friendly</td><td>Los Angeles</td><td>United States</td><td>true</td></tr><tr><td>2024-03-26</td><td>Malta</td><td>Belarus</td><td>0</td><td>0</td><td>Friendly</td><td>Ta' Qali</td><td>Malta</td><td>false</td></tr><tr><td>2024-03-26</td><td>New Zealand</td><td>Tunisia</td><td>0</td><td>0</td><td>FIFA Series</td><td>Cairo</td><td>Egypt</td><td>true</td></tr><tr><td>2024-03-26</td><td>Cambodia</td><td>Guyana</td><td>1</td><td>4</td><td>FIFA Series</td><td>Jeddah</td><td>Saudi Arabia</td><td>true</td></tr><tr><td>2024-03-26</td><td>Argentina</td><td>Costa Rica</td><td>3</td><td>1</td><td>Friendly</td><td>Los Angeles</td><td>United States</td><td>true</td></tr><tr><td>2024-03-26</td><td>China PR</td><td>Singapore</td><td>4</td><td>1</td><td>FIFA World Cup qualification</td><td>Tianjin</td><td>China PR</td><td>false</td></tr><tr><td>2024-03-26</td><td>Yemen</td><td>United Arab Emirates</td><td>0</td><td>3</td><td>FIFA World Cup qualification</td><td>Khobar</td><td>Saudi Arabia</td><td>true</td></tr><tr><td>2024-03-26</td><td>Ukraine</td><td>Iceland</td><td>2</td><td>1</td><td>UEFA Euro qualification</td><td>Wrocław</td><td>Poland</td><td>true</td></tr><tr><td>2024-03-26</td><td>Denmark</td><td>Faroe Islands</td><td>2</td><td>0</td><td>Friendly</td><td>Brondbyvester</td><td>Denmark</td><td>false</td></tr><tr><td>2024-03-26</td><td>Austria</td><td>Turkey</td><td>6</td><td>1</td><td>Friendly</td><td>Vienna</td><td>Austria</td><td>false</td></tr><tr><td>2024-03-26</td><td>Nicaragua</td><td>Cuba</td><td>0</td><td>1</td><td>Friendly</td><td>Managua</td><td>Nicaragua</td><td>false</td></tr><tr><td>2024-03-26</td><td>Peru</td><td>Dominican Republic</td><td>4</td><td>1</td><td>Friendly</td><td>Lima</td><td>Peru</td><td>false</td></tr><tr><td>2024-03-26</td><td>Senegal</td><td>Benin</td><td>1</td><td>0</td><td>Friendly</td><td>Amiens</td><td>France</td><td>true</td></tr><tr><td>2024-03-26</td><td>Tajikistan</td><td>Saudi Arabia</td><td>1</td><td>1</td><td>FIFA World Cup qualification</td><td>Dushanbe</td><td>Tajikistan</td><td>false</td></tr><tr><td>2024-03-26</td><td>Kuwait</td><td>Qatar</td><td>1</td><td>2</td><td>FIFA World Cup qualification</td><td>Al Farwaniyah</td><td>Kuwait</td><td>false</td></tr><tr><td>2024-03-26</td><td>Republic of Ireland</td><td>Switzerland</td><td>0</td><td>1</td><td>Friendly</td><td>Dublin</td><td>Republic of Ireland</td><td>false</td></tr><tr><td>2024-03-26</td><td>Spain</td><td>Brazil</td><td>3</td><td>3</td><td>Friendly</td><td>Madrid</td><td>Spain</td><td>false</td></tr><tr><td>2024-03-26</td><td>Uzbekistan</td><td>Hong Kong</td><td>3</td><td>0</td><td>FIFA World Cup qualification</td><td>Tashkent</td><td>Uzbekistan</td><td>false</td></tr><tr><td>2024-03-26</td><td>Czech Republic</td><td>Armenia</td><td>2</td><td>1</td><td>Friendly</td><td>Prague</td><td>Czech Republic</td><td>false</td></tr><tr><td>2024-03-26</td><td>Thailand</td><td>South Korea</td><td>0</td><td>3</td><td>FIFA World Cup qualification</td><td>Bangkok</td><td>Thailand</td><td>false</td></tr><tr><td>2024-03-26</td><td>Vietnam</td><td>Indonesia</td><td>0</td><td>3</td><td>FIFA World Cup qualification</td><td>Hanoi</td><td>Vietnam</td><td>false</td></tr><tr><td>2024-03-26</td><td>India</td><td>Afghanistan</td><td>1</td><td>2</td><td>FIFA World Cup qualification</td><td>Guwahati</td><td>India</td><td>false</td></tr><tr><td>2024-03-26</td><td>Egypt</td><td>Croatia</td><td>2</td><td>4</td><td>FIFA Series</td><td>Cairo</td><td>Egypt</td><td>false</td></tr><tr><td>2024-03-26</td><td>Wales</td><td>Poland</td><td>0</td><td>0</td><td>UEFA Euro qualification</td><td>Cardiff</td><td>Wales</td><td>false</td></tr><tr><td>2024-03-26</td><td>Slovenia</td><td>Portugal</td><td>2</td><td>0</td><td>Friendly</td><td>Ljubljana</td><td>Slovenia</td><td>false</td></tr><tr><td>2024-03-26</td><td>Philippines</td><td>Iraq</td><td>0</td><td>5</td><td>FIFA World Cup qualification</td><td>Manila</td><td>Philippines</td><td>false</td></tr><tr><td>2024-03-26</td><td>Latvia</td><td>Liechtenstein</td><td>1</td><td>1</td><td>Friendly</td><td>Larnaca</td><td>Cyprus</td><td>true</td></tr><tr><td>2024-03-26</td><td>Morocco</td><td>Mauritania</td><td>0</td><td>0</td><td>Friendly</td><td>Agadir</td><td>Morocco</td><td>false</td></tr><tr><td>2024-03-26</td><td>Colombia</td><td>Romania</td><td>3</td><td>2</td><td>Friendly</td><td>Madrid</td><td>Spain</td><td>true</td></tr><tr><td>2024-03-26</td><td>Australia</td><td>Lebanon</td><td>5</td><td>0</td><td>FIFA World Cup qualification</td><td>Canberra</td><td>Australia</td><td>false</td></tr><tr><td>2024-03-26</td><td>Ivory Coast</td><td>Uruguay</td><td>2</td><td>1</td><td>Friendly</td><td>Lens</td><td>France</td><td>true</td></tr><tr><td>2024-03-26</td><td>France</td><td>Chile</td><td>3</td><td>2</td><td>Friendly</td><td>Marseille</td><td>France</td><td>false</td></tr><tr><td>2024-03-26</td><td>Georgia</td><td>Greece</td><td>0</td><td>0</td><td>UEFA Euro qualification</td><td>Tbilisi</td><td>Georgia</td><td>false</td></tr><tr><td>2024-03-26</td><td>Algeria</td><td>South Africa</td><td>3</td><td>3</td><td>FIFA Series</td><td>Algiers</td><td>Algeria</td><td>false</td></tr><tr><td>2024-03-26</td><td>British Virgin Islands</td><td>United States Virgin Islands</td><td>0</td><td>0</td><td>FIFA World Cup qualification</td><td>Road Town</td><td>British Virgin Islands</td><td>false</td></tr><tr><td>2024-03-26</td><td>Kyrgyzstan</td><td>Taiwan</td><td>5</td><td>1</td><td>FIFA World Cup qualification</td><td>Bishkek</td><td>Kyrgyzstan</td><td>false</td></tr><tr><td>2024-03-26</td><td>Brunei</td><td>Vanuatu</td><td>3</td><td>2</td><td>FIFA Series</td><td>Jeddah</td><td>Saudi Arabia</td><td>true</td></tr><tr><td>2024-03-26</td><td>Lithuania</td><td>Gibraltar</td><td>1</td><td>0</td><td>UEFA Nations League</td><td>Kaunas</td><td>Lithuania</td><td>false</td></tr><tr><td>2024-03-26</td><td>Hungary</td><td>Kosovo</td><td>2</td><td>0</td><td>Friendly</td><td>Budapest</td><td>Hungary</td><td>false</td></tr><tr><td>2024-03-26</td><td>Syria</td><td>Myanmar</td><td>7</td><td>0</td><td>FIFA World Cup qualification</td><td>Dammam</td><td>Saudi Arabia</td><td>true</td></tr><tr><td>2024-03-26</td><td>Jordan</td><td>Pakistan</td><td>7</td><td>0</td><td>FIFA World Cup qualification</td><td>Amman</td><td>Jordan</td><td>false</td></tr><tr><td>2024-03-26</td><td>England</td><td>Belgium</td><td>2</td><td>2</td><td>Friendly</td><td>London</td><td>England</td><td>false</td></tr><tr><td>2024-03-26</td><td>Germany</td><td>Netherlands</td><td>2</td><td>1</td><td>Friendly</td><td>Frankfurt</td><td>Germany</td><td>false</td></tr><tr><td>2024-03-25</td><td>Bermuda</td><td>Guinea</td><td>1</td><td>5</td><td>FIFA Series</td><td>Jeddah</td><td>Saudi Arabia</td><td>true</td></tr><tr><td>2024-03-25</td><td>Sri Lanka</td><td>Bhutan</td><td>2</td><td>0</td><td>FIFA Series</td><td>Colombo</td><td>Sri Lanka</td><td>false</td></tr><tr><td>2024-03-25</td><td>Montenegro</td><td>North Macedonia</td><td>1</td><td>0</td><td>Friendly</td><td>Antalya</td><td>Turkey</td><td>true</td></tr><tr><td>2024-03-25</td><td>Bolivia</td><td>Andorra</td><td>1</td><td>0</td><td>FIFA Series</td><td>Annaba</td><td>Algeria</td><td>true</td></tr><tr><td>2024-03-25</td><td>Tanzania</td><td>Mongolia</td><td>3</td><td>0</td><td>FIFA Series</td><td>Baku</td><td>Azerbaijan</td><td>true</td></tr><tr><td>2024-03-25</td><td>Cape Verde</td><td>Equatorial Guinea</td><td>1</td><td>0</td><td>FIFA Series</td><td>Jeddah</td><td>Saudi Arabia</td><td>true</td></tr><tr><td>2024-03-25</td><td>Comoros</td><td>Angola</td><td>0</td><td>0</td><td>Friendly</td><td>Marrakech</td><td>Morocco</td><td>true</td></tr><tr><td>2024-03-25</td><td>Sweden</td><td>Albania</td><td>1</td><td>0</td><td>Friendly</td><td>Stockholm</td><td>Sweden</td><td>false</td></tr><tr><td>2024-03-25</td><td>Gabon</td><td>Congo</td><td>1</td><td>1</td><td>Friendly</td><td>Chambly</td><td>France</td><td>true</td></tr><tr><td>2024-03-25</td><td>Azerbaijan</td><td>Bulgaria</td><td>1</td><td>1</td><td>FIFA Series</td><td>Baku</td><td>Azerbaijan</td><td>false</td></tr><tr><td>2024-03-25</td><td>Central African Republic</td><td>Papua New Guinea</td><td>4</td><td>0</td><td>FIFA Series</td><td>Colombo</td><td>Sri Lanka</td><td>true</td></tr><tr><td>2024-03-25</td><td>Cyprus</td><td>Serbia</td><td>0</td><td>1</td><td>Friendly</td><td>Larnaca</td><td>Cyprus</td><td>false</td></tr><tr><td>2024-03-24</td><td>Belize</td><td>Puerto Rico</td><td>3</td><td>0</td><td>Friendly</td><td>Belmopan</td><td>Belize</td><td>false</td></tr><tr><td>2024-03-24</td><td>Jamaica</td><td>Panama</td><td>1</td><td>0</td><td>CONCACAF Nations League</td><td>Arlington</td><td>United States</td><td>true</td></tr><tr><td>2024-03-24</td><td>United States</td><td>Mexico</td><td>2</td><td>0</td><td>CONCACAF Nations League</td><td>Arlington</td><td>United States</td><td>false</td></tr><tr><td>2024-03-24</td><td>Suriname</td><td>Martinique</td><td>1</td><td>1</td><td>Friendly</td><td>Almere</td><td>Netherlands</td><td>true</td></tr><tr><td>2024-03-24</td><td>Ethiopia</td><td>Lesotho</td><td>2</td><td>1</td><td>Friendly</td><td>Addis Ababa</td><td>Ethiopia</td><td>false</td></tr><tr><td>2024-03-24</td><td>Ecuador</td><td>Italy</td><td>0</td><td>2</td><td>Friendly</td><td>Harrison</td><td>United States</td><td>true</td></tr><tr><td>2024-03-24</td><td>Guatemala</td><td>Venezuela</td><td>0</td><td>0</td><td>Friendly</td><td>Houston</td><td>United States</td><td>true</td></tr><tr><td>2024-03-24</td><td>San Marino</td><td>Saint Kitts and Nevis</td><td>0</td><td>0</td><td>Friendly</td><td>Serravalle</td><td>San Marino</td><td>false</td></tr><tr><td>2024-03-23</td><td>Canada</td><td>Trinidad and Tobago</td><td>2</td><td>0</td><td>CONCACAF Nations League</td><td>Frisco</td><td>United States</td><td>true</td></tr><tr><td>2024-03-23</td><td>France</td><td>Germany</td><td>0</td><td>2</td><td>Friendly</td><td>Lyon</td><td>France</td><td>false</td></tr><tr><td>2024-03-23</td><td>Dominican Republic</td><td>Aruba</td><td>2</td><td>0</td><td>Friendly</td><td>Santiago de los Caballeros</td><td>Dominican Republic</td><td>false</td></tr><tr><td>2024-03-23</td><td>England</td><td>Brazil</td><td>0</td><td>1</td><td>Friendly</td><td>London</td><td>England</td><td>false</td></tr><tr><td>2024-03-23</td><td>Republic of Ireland</td><td>Belgium</td><td>0</td><td>0</td><td>Friendly</td><td>Dublin</td><td>Republic of Ireland</td><td>false</td></tr><tr><td>2024-03-23</td><td>Slovakia</td><td>Austria</td><td>0</td><td>2</td><td>Friendly</td><td>Bratislava</td><td>Slovakia</td><td>false</td></tr><tr><td>2024-03-23</td><td>Ivory Coast</td><td>Benin</td><td>2</td><td>2</td><td>Friendly</td><td>Amiens</td><td>France</td><td>true</td></tr><tr><td>2024-03-23</td><td>Denmark</td><td>Switzerland</td><td>0</td><td>0</td><td>Friendly</td><td>Copenhagen</td><td>Denmark</td><td>false</td></tr><tr><td>2024-03-23</td><td>Costa Rica</td><td>Honduras</td><td>3</td><td>1</td><td>CONCACAF Nations League</td><td>Frisco</td><td>United States</td><td>true</td></tr><tr><td>2024-03-23</td><td>Tunisia</td><td>Croatia</td><td>0</td><td>0</td><td>FIFA Series</td><td>Cairo</td><td>Egypt</td><td>true</td></tr><tr><td>2024-03-22</td><td>Netherlands</td><td>Scotland</td><td>4</td><td>0</td><td>Friendly</td><td>Amsterdam</td><td>Netherlands</td><td>false</td></tr><tr><td>2024-03-22</td><td>Burkina Faso</td><td>Libya</td><td>1</td><td>2</td><td>Friendly</td><td>Casablanca</td><td>Morocco</td><td>true</td></tr><tr><td>2024-03-22</td><td>Nigeria</td><td>Ghana</td><td>2</td><td>1</td><td>Friendly</td><td>Marrakech</td><td>Morocco</td><td>true</td></tr><tr><td>2024-03-22</td><td>Norway</td><td>Czech Republic</td><td>1</td><td>2</td><td>Friendly</td><td>Oslo</td><td>Norway</td><td>false</td></tr><tr><td>2024-03-22</td><td>North Macedonia</td><td>Moldova</td><td>1</td><td>1</td><td>Friendly</td><td>Antalya</td><td>Turkey</td><td>true</td></tr><tr><td>2024-03-22</td><td>Comoros</td><td>Uganda</td><td>4</td><td>0</td><td>Friendly</td><td>Marrakech</td><td>Morocco</td><td>true</td></tr><tr><td>2024-03-22</td><td>Liechtenstein</td><td>Faroe Islands</td><td>0</td><td>4</td><td>Friendly</td><td>San Pedro Alcántara</td><td>Spain</td><td>true</td></tr><tr><td>2024-03-22</td><td>Hungary</td><td>Turkey</td><td>1</td><td>0</td><td>Friendly</td><td>Budapest</td><td>Hungary</td><td>false</td></tr><tr><td>2024-03-22</td><td>Albania</td><td>Chile</td><td>0</td><td>3</td><td>Friendly</td><td>Parma</td><td>Italy</td><td>true</td></tr><tr><td>2024-03-22</td><td>Peru</td><td>Nicaragua</td><td>2</td><td>0</td><td>Friendly</td><td>Lima</td><td>Peru</td><td>false</td></tr><tr><td>2024-03-22</td><td>Mauritania</td><td>Mali</td><td>0</td><td>2</td><td>Friendly</td><td>Marrakech</td><td>Morocco</td><td>true</td></tr><tr><td>2024-03-22</td><td>Argentina</td><td>El Salvador</td><td>3</td><td>0</td><td>Friendly</td><td>Philadelphia</td><td>United States</td><td>true</td></tr><tr><td>2024-03-22</td><td>Morocco</td><td>Angola</td><td>1</td><td>0</td><td>Friendly</td><td>Agadir</td><td>Morocco</td><td>false</td></tr><tr><td>2024-03-22</td><td>Algeria</td><td>Bolivia</td><td>3</td><td>2</td><td>FIFA Series</td><td>Algiers</td><td>Algeria</td><td>false</td></tr><tr><td>2024-03-22</td><td>Bulgaria</td><td>Tanzania</td><td>1</td><td>0</td><td>FIFA Series</td><td>Baku</td><td>Azerbaijan</td><td>true</td></tr><tr><td>2024-03-22</td><td>Azerbaijan</td><td>Mongolia</td><td>1</td><td>0</td><td>FIFA Series</td><td>Baku</td><td>Azerbaijan</td><td>false</td></tr><tr><td>2024-03-22</td><td>Armenia</td><td>Kosovo</td><td>0</td><td>1</td><td>Friendly</td><td>Yerevan</td><td>Armenia</td><td>false</td></tr><tr><td>2024-03-22</td><td>Romania</td><td>Northern Ireland</td><td>1</td><td>1</td><td>Friendly</td><td>Bucharest</td><td>Romania</td><td>false</td></tr><tr><td>2024-03-22</td><td>Senegal</td><td>Gabon</td><td>3</td><td>0</td><td>Friendly</td><td>Amiens</td><td>France</td><td>true</td></tr></tbody></table></div>"
      ]
     },
     "metadata": {
      "application/vnd.databricks.v1+output": {
       "addedWidgets": {},
       "aggData": [],
       "aggError": "",
       "aggOverflow": false,
       "aggSchema": [],
       "aggSeriesLimitReached": false,
       "aggType": "",
       "arguments": {},
       "columnCustomDisplayInfos": {},
       "data": [
        [
         "2024-03-26",
         "Bangladesh",
         "Palestine",
         0,
         1,
         "FIFA World Cup qualification",
         "Dhaka",
         "Bangladesh",
         false
        ],
        [
         "2024-03-26",
         "Finland",
         "Estonia",
         2,
         1,
         "Friendly",
         "Helsinki",
         "Finland",
         false
        ],
        [
         "2024-03-26",
         "Norway",
         "Slovakia",
         1,
         1,
         "Friendly",
         "Oslo",
         "Norway",
         false
        ],
        [
         "2024-03-26",
         "Turkmenistan",
         "Iran",
         0,
         1,
         "FIFA World Cup qualification",
         "Ashgabat",
         "Turkmenistan",
         false
        ],
        [
         "2024-03-26",
         "Turks and Caicos Islands",
         "Anguilla",
         1,
         1,
         "FIFA World Cup qualification",
         "Providenciales",
         "Turks and Caicos Islands",
         false
        ],
        [
         "2024-03-26",
         "Malaysia",
         "Oman",
         0,
         2,
         "FIFA World Cup qualification",
         "Kuala Lumpur",
         "Malaysia",
         false
        ],
        [
         "2024-03-26",
         "Bahrain",
         "Nepal",
         3,
         0,
         "FIFA World Cup qualification",
         "Riffa",
         "Bahrain",
         false
        ],
        [
         "2024-03-26",
         "Scotland",
         "Northern Ireland",
         0,
         1,
         "Friendly",
         "Glasgow",
         "Scotland",
         false
        ],
        [
         "2024-03-26",
         "El Salvador",
         "Honduras",
         1,
         1,
         "Friendly",
         "Los Angeles",
         "United States",
         true
        ],
        [
         "2024-03-26",
         "Malta",
         "Belarus",
         0,
         0,
         "Friendly",
         "Ta' Qali",
         "Malta",
         false
        ],
        [
         "2024-03-26",
         "New Zealand",
         "Tunisia",
         0,
         0,
         "FIFA Series",
         "Cairo",
         "Egypt",
         true
        ],
        [
         "2024-03-26",
         "Cambodia",
         "Guyana",
         1,
         4,
         "FIFA Series",
         "Jeddah",
         "Saudi Arabia",
         true
        ],
        [
         "2024-03-26",
         "Argentina",
         "Costa Rica",
         3,
         1,
         "Friendly",
         "Los Angeles",
         "United States",
         true
        ],
        [
         "2024-03-26",
         "China PR",
         "Singapore",
         4,
         1,
         "FIFA World Cup qualification",
         "Tianjin",
         "China PR",
         false
        ],
        [
         "2024-03-26",
         "Yemen",
         "United Arab Emirates",
         0,
         3,
         "FIFA World Cup qualification",
         "Khobar",
         "Saudi Arabia",
         true
        ],
        [
         "2024-03-26",
         "Ukraine",
         "Iceland",
         2,
         1,
         "UEFA Euro qualification",
         "Wrocław",
         "Poland",
         true
        ],
        [
         "2024-03-26",
         "Denmark",
         "Faroe Islands",
         2,
         0,
         "Friendly",
         "Brondbyvester",
         "Denmark",
         false
        ],
        [
         "2024-03-26",
         "Austria",
         "Turkey",
         6,
         1,
         "Friendly",
         "Vienna",
         "Austria",
         false
        ],
        [
         "2024-03-26",
         "Nicaragua",
         "Cuba",
         0,
         1,
         "Friendly",
         "Managua",
         "Nicaragua",
         false
        ],
        [
         "2024-03-26",
         "Peru",
         "Dominican Republic",
         4,
         1,
         "Friendly",
         "Lima",
         "Peru",
         false
        ],
        [
         "2024-03-26",
         "Senegal",
         "Benin",
         1,
         0,
         "Friendly",
         "Amiens",
         "France",
         true
        ],
        [
         "2024-03-26",
         "Tajikistan",
         "Saudi Arabia",
         1,
         1,
         "FIFA World Cup qualification",
         "Dushanbe",
         "Tajikistan",
         false
        ],
        [
         "2024-03-26",
         "Kuwait",
         "Qatar",
         1,
         2,
         "FIFA World Cup qualification",
         "Al Farwaniyah",
         "Kuwait",
         false
        ],
        [
         "2024-03-26",
         "Republic of Ireland",
         "Switzerland",
         0,
         1,
         "Friendly",
         "Dublin",
         "Republic of Ireland",
         false
        ],
        [
         "2024-03-26",
         "Spain",
         "Brazil",
         3,
         3,
         "Friendly",
         "Madrid",
         "Spain",
         false
        ],
        [
         "2024-03-26",
         "Uzbekistan",
         "Hong Kong",
         3,
         0,
         "FIFA World Cup qualification",
         "Tashkent",
         "Uzbekistan",
         false
        ],
        [
         "2024-03-26",
         "Czech Republic",
         "Armenia",
         2,
         1,
         "Friendly",
         "Prague",
         "Czech Republic",
         false
        ],
        [
         "2024-03-26",
         "Thailand",
         "South Korea",
         0,
         3,
         "FIFA World Cup qualification",
         "Bangkok",
         "Thailand",
         false
        ],
        [
         "2024-03-26",
         "Vietnam",
         "Indonesia",
         0,
         3,
         "FIFA World Cup qualification",
         "Hanoi",
         "Vietnam",
         false
        ],
        [
         "2024-03-26",
         "India",
         "Afghanistan",
         1,
         2,
         "FIFA World Cup qualification",
         "Guwahati",
         "India",
         false
        ],
        [
         "2024-03-26",
         "Egypt",
         "Croatia",
         2,
         4,
         "FIFA Series",
         "Cairo",
         "Egypt",
         false
        ],
        [
         "2024-03-26",
         "Wales",
         "Poland",
         0,
         0,
         "UEFA Euro qualification",
         "Cardiff",
         "Wales",
         false
        ],
        [
         "2024-03-26",
         "Slovenia",
         "Portugal",
         2,
         0,
         "Friendly",
         "Ljubljana",
         "Slovenia",
         false
        ],
        [
         "2024-03-26",
         "Philippines",
         "Iraq",
         0,
         5,
         "FIFA World Cup qualification",
         "Manila",
         "Philippines",
         false
        ],
        [
         "2024-03-26",
         "Latvia",
         "Liechtenstein",
         1,
         1,
         "Friendly",
         "Larnaca",
         "Cyprus",
         true
        ],
        [
         "2024-03-26",
         "Morocco",
         "Mauritania",
         0,
         0,
         "Friendly",
         "Agadir",
         "Morocco",
         false
        ],
        [
         "2024-03-26",
         "Colombia",
         "Romania",
         3,
         2,
         "Friendly",
         "Madrid",
         "Spain",
         true
        ],
        [
         "2024-03-26",
         "Australia",
         "Lebanon",
         5,
         0,
         "FIFA World Cup qualification",
         "Canberra",
         "Australia",
         false
        ],
        [
         "2024-03-26",
         "Ivory Coast",
         "Uruguay",
         2,
         1,
         "Friendly",
         "Lens",
         "France",
         true
        ],
        [
         "2024-03-26",
         "France",
         "Chile",
         3,
         2,
         "Friendly",
         "Marseille",
         "France",
         false
        ],
        [
         "2024-03-26",
         "Georgia",
         "Greece",
         0,
         0,
         "UEFA Euro qualification",
         "Tbilisi",
         "Georgia",
         false
        ],
        [
         "2024-03-26",
         "Algeria",
         "South Africa",
         3,
         3,
         "FIFA Series",
         "Algiers",
         "Algeria",
         false
        ],
        [
         "2024-03-26",
         "British Virgin Islands",
         "United States Virgin Islands",
         0,
         0,
         "FIFA World Cup qualification",
         "Road Town",
         "British Virgin Islands",
         false
        ],
        [
         "2024-03-26",
         "Kyrgyzstan",
         "Taiwan",
         5,
         1,
         "FIFA World Cup qualification",
         "Bishkek",
         "Kyrgyzstan",
         false
        ],
        [
         "2024-03-26",
         "Brunei",
         "Vanuatu",
         3,
         2,
         "FIFA Series",
         "Jeddah",
         "Saudi Arabia",
         true
        ],
        [
         "2024-03-26",
         "Lithuania",
         "Gibraltar",
         1,
         0,
         "UEFA Nations League",
         "Kaunas",
         "Lithuania",
         false
        ],
        [
         "2024-03-26",
         "Hungary",
         "Kosovo",
         2,
         0,
         "Friendly",
         "Budapest",
         "Hungary",
         false
        ],
        [
         "2024-03-26",
         "Syria",
         "Myanmar",
         7,
         0,
         "FIFA World Cup qualification",
         "Dammam",
         "Saudi Arabia",
         true
        ],
        [
         "2024-03-26",
         "Jordan",
         "Pakistan",
         7,
         0,
         "FIFA World Cup qualification",
         "Amman",
         "Jordan",
         false
        ],
        [
         "2024-03-26",
         "England",
         "Belgium",
         2,
         2,
         "Friendly",
         "London",
         "England",
         false
        ],
        [
         "2024-03-26",
         "Germany",
         "Netherlands",
         2,
         1,
         "Friendly",
         "Frankfurt",
         "Germany",
         false
        ],
        [
         "2024-03-25",
         "Bermuda",
         "Guinea",
         1,
         5,
         "FIFA Series",
         "Jeddah",
         "Saudi Arabia",
         true
        ],
        [
         "2024-03-25",
         "Sri Lanka",
         "Bhutan",
         2,
         0,
         "FIFA Series",
         "Colombo",
         "Sri Lanka",
         false
        ],
        [
         "2024-03-25",
         "Montenegro",
         "North Macedonia",
         1,
         0,
         "Friendly",
         "Antalya",
         "Turkey",
         true
        ],
        [
         "2024-03-25",
         "Bolivia",
         "Andorra",
         1,
         0,
         "FIFA Series",
         "Annaba",
         "Algeria",
         true
        ],
        [
         "2024-03-25",
         "Tanzania",
         "Mongolia",
         3,
         0,
         "FIFA Series",
         "Baku",
         "Azerbaijan",
         true
        ],
        [
         "2024-03-25",
         "Cape Verde",
         "Equatorial Guinea",
         1,
         0,
         "FIFA Series",
         "Jeddah",
         "Saudi Arabia",
         true
        ],
        [
         "2024-03-25",
         "Comoros",
         "Angola",
         0,
         0,
         "Friendly",
         "Marrakech",
         "Morocco",
         true
        ],
        [
         "2024-03-25",
         "Sweden",
         "Albania",
         1,
         0,
         "Friendly",
         "Stockholm",
         "Sweden",
         false
        ],
        [
         "2024-03-25",
         "Gabon",
         "Congo",
         1,
         1,
         "Friendly",
         "Chambly",
         "France",
         true
        ],
        [
         "2024-03-25",
         "Azerbaijan",
         "Bulgaria",
         1,
         1,
         "FIFA Series",
         "Baku",
         "Azerbaijan",
         false
        ],
        [
         "2024-03-25",
         "Central African Republic",
         "Papua New Guinea",
         4,
         0,
         "FIFA Series",
         "Colombo",
         "Sri Lanka",
         true
        ],
        [
         "2024-03-25",
         "Cyprus",
         "Serbia",
         0,
         1,
         "Friendly",
         "Larnaca",
         "Cyprus",
         false
        ],
        [
         "2024-03-24",
         "Belize",
         "Puerto Rico",
         3,
         0,
         "Friendly",
         "Belmopan",
         "Belize",
         false
        ],
        [
         "2024-03-24",
         "Jamaica",
         "Panama",
         1,
         0,
         "CONCACAF Nations League",
         "Arlington",
         "United States",
         true
        ],
        [
         "2024-03-24",
         "United States",
         "Mexico",
         2,
         0,
         "CONCACAF Nations League",
         "Arlington",
         "United States",
         false
        ],
        [
         "2024-03-24",
         "Suriname",
         "Martinique",
         1,
         1,
         "Friendly",
         "Almere",
         "Netherlands",
         true
        ],
        [
         "2024-03-24",
         "Ethiopia",
         "Lesotho",
         2,
         1,
         "Friendly",
         "Addis Ababa",
         "Ethiopia",
         false
        ],
        [
         "2024-03-24",
         "Ecuador",
         "Italy",
         0,
         2,
         "Friendly",
         "Harrison",
         "United States",
         true
        ],
        [
         "2024-03-24",
         "Guatemala",
         "Venezuela",
         0,
         0,
         "Friendly",
         "Houston",
         "United States",
         true
        ],
        [
         "2024-03-24",
         "San Marino",
         "Saint Kitts and Nevis",
         0,
         0,
         "Friendly",
         "Serravalle",
         "San Marino",
         false
        ],
        [
         "2024-03-23",
         "Canada",
         "Trinidad and Tobago",
         2,
         0,
         "CONCACAF Nations League",
         "Frisco",
         "United States",
         true
        ],
        [
         "2024-03-23",
         "France",
         "Germany",
         0,
         2,
         "Friendly",
         "Lyon",
         "France",
         false
        ],
        [
         "2024-03-23",
         "Dominican Republic",
         "Aruba",
         2,
         0,
         "Friendly",
         "Santiago de los Caballeros",
         "Dominican Republic",
         false
        ],
        [
         "2024-03-23",
         "England",
         "Brazil",
         0,
         1,
         "Friendly",
         "London",
         "England",
         false
        ],
        [
         "2024-03-23",
         "Republic of Ireland",
         "Belgium",
         0,
         0,
         "Friendly",
         "Dublin",
         "Republic of Ireland",
         false
        ],
        [
         "2024-03-23",
         "Slovakia",
         "Austria",
         0,
         2,
         "Friendly",
         "Bratislava",
         "Slovakia",
         false
        ],
        [
         "2024-03-23",
         "Ivory Coast",
         "Benin",
         2,
         2,
         "Friendly",
         "Amiens",
         "France",
         true
        ],
        [
         "2024-03-23",
         "Denmark",
         "Switzerland",
         0,
         0,
         "Friendly",
         "Copenhagen",
         "Denmark",
         false
        ],
        [
         "2024-03-23",
         "Costa Rica",
         "Honduras",
         3,
         1,
         "CONCACAF Nations League",
         "Frisco",
         "United States",
         true
        ],
        [
         "2024-03-23",
         "Tunisia",
         "Croatia",
         0,
         0,
         "FIFA Series",
         "Cairo",
         "Egypt",
         true
        ],
        [
         "2024-03-22",
         "Netherlands",
         "Scotland",
         4,
         0,
         "Friendly",
         "Amsterdam",
         "Netherlands",
         false
        ],
        [
         "2024-03-22",
         "Burkina Faso",
         "Libya",
         1,
         2,
         "Friendly",
         "Casablanca",
         "Morocco",
         true
        ],
        [
         "2024-03-22",
         "Nigeria",
         "Ghana",
         2,
         1,
         "Friendly",
         "Marrakech",
         "Morocco",
         true
        ],
        [
         "2024-03-22",
         "Norway",
         "Czech Republic",
         1,
         2,
         "Friendly",
         "Oslo",
         "Norway",
         false
        ],
        [
         "2024-03-22",
         "North Macedonia",
         "Moldova",
         1,
         1,
         "Friendly",
         "Antalya",
         "Turkey",
         true
        ],
        [
         "2024-03-22",
         "Comoros",
         "Uganda",
         4,
         0,
         "Friendly",
         "Marrakech",
         "Morocco",
         true
        ],
        [
         "2024-03-22",
         "Liechtenstein",
         "Faroe Islands",
         0,
         4,
         "Friendly",
         "San Pedro Alcántara",
         "Spain",
         true
        ],
        [
         "2024-03-22",
         "Hungary",
         "Turkey",
         1,
         0,
         "Friendly",
         "Budapest",
         "Hungary",
         false
        ],
        [
         "2024-03-22",
         "Albania",
         "Chile",
         0,
         3,
         "Friendly",
         "Parma",
         "Italy",
         true
        ],
        [
         "2024-03-22",
         "Peru",
         "Nicaragua",
         2,
         0,
         "Friendly",
         "Lima",
         "Peru",
         false
        ],
        [
         "2024-03-22",
         "Mauritania",
         "Mali",
         0,
         2,
         "Friendly",
         "Marrakech",
         "Morocco",
         true
        ],
        [
         "2024-03-22",
         "Argentina",
         "El Salvador",
         3,
         0,
         "Friendly",
         "Philadelphia",
         "United States",
         true
        ],
        [
         "2024-03-22",
         "Morocco",
         "Angola",
         1,
         0,
         "Friendly",
         "Agadir",
         "Morocco",
         false
        ],
        [
         "2024-03-22",
         "Algeria",
         "Bolivia",
         3,
         2,
         "FIFA Series",
         "Algiers",
         "Algeria",
         false
        ],
        [
         "2024-03-22",
         "Bulgaria",
         "Tanzania",
         1,
         0,
         "FIFA Series",
         "Baku",
         "Azerbaijan",
         true
        ],
        [
         "2024-03-22",
         "Azerbaijan",
         "Mongolia",
         1,
         0,
         "FIFA Series",
         "Baku",
         "Azerbaijan",
         false
        ],
        [
         "2024-03-22",
         "Armenia",
         "Kosovo",
         0,
         1,
         "Friendly",
         "Yerevan",
         "Armenia",
         false
        ],
        [
         "2024-03-22",
         "Romania",
         "Northern Ireland",
         1,
         1,
         "Friendly",
         "Bucharest",
         "Romania",
         false
        ],
        [
         "2024-03-22",
         "Senegal",
         "Gabon",
         3,
         0,
         "Friendly",
         "Amiens",
         "France",
         true
        ]
       ],
       "datasetInfos": [],
       "dbfsResultPath": null,
       "isJsonSchema": true,
       "metadata": {},
       "overflow": false,
       "plotOptions": {
        "customPlotOptions": {},
        "displayType": "table",
        "pivotAggregation": null,
        "pivotColumns": null,
        "xColumns": null,
        "yColumns": null
       },
       "removedWidgets": [],
       "schema": [
        {
         "metadata": "{}",
         "name": "date",
         "type": "\"date\""
        },
        {
         "metadata": "{}",
         "name": "home_team",
         "type": "\"string\""
        },
        {
         "metadata": "{}",
         "name": "away_team",
         "type": "\"string\""
        },
        {
         "metadata": "{}",
         "name": "home_score",
         "type": "\"long\""
        },
        {
         "metadata": "{}",
         "name": "away_score",
         "type": "\"long\""
        },
        {
         "metadata": "{}",
         "name": "tournament",
         "type": "\"string\""
        },
        {
         "metadata": "{}",
         "name": "city",
         "type": "\"string\""
        },
        {
         "metadata": "{}",
         "name": "country",
         "type": "\"string\""
        },
        {
         "metadata": "{}",
         "name": "neutral",
         "type": "\"boolean\""
        }
       ],
       "type": "table"
      }
     },
     "output_type": "display_data"
    }
   ],
   "source": [
    "results_df = spark.sql(\"SELECT * FROM results\").dropna()\n",
    "display(results_df.orderBy(\"date\", ascending=False).head(100))"
   ]
  },
  {
   "cell_type": "code",
   "execution_count": 0,
   "metadata": {
    "application/vnd.databricks.v1+cell": {
     "cellMetadata": {
      "byteLimit": 2048000,
      "rowLimit": 10000
     },
     "inputWidgets": {},
     "nuid": "1296675a-7117-420d-9670-16a28f51f00d",
     "showTitle": false,
     "title": ""
    }
   },
   "outputs": [
    {
     "output_type": "execute_result",
     "data": {
      "text/plain": [
       "47075"
      ]
     },
     "execution_count": 49,
     "metadata": {},
     "output_type": "execute_result"
    }
   ],
   "source": [
    "results_df.count()"
   ]
  },
  {
   "cell_type": "code",
   "execution_count": 0,
   "metadata": {
    "application/vnd.databricks.v1+cell": {
     "cellMetadata": {
      "byteLimit": 2048000,
      "rowLimit": 10000
     },
     "inputWidgets": {},
     "nuid": "b03801fc-14fa-47d0-8c7a-3fd1f5b143ac",
     "showTitle": false,
     "title": ""
    }
   },
   "outputs": [
    {
     "output_type": "display_data",
     "data": {
      "text/html": [
       "<style scoped>\n",
       "  .table-result-container {\n",
       "    max-height: 300px;\n",
       "    overflow: auto;\n",
       "  }\n",
       "  table, th, td {\n",
       "    border: 1px solid black;\n",
       "    border-collapse: collapse;\n",
       "  }\n",
       "  th, td {\n",
       "    padding: 5px;\n",
       "  }\n",
       "  th {\n",
       "    text-align: left;\n",
       "  }\n",
       "</style><div class='table-result-container'><table class='table-result'><thead style='background-color: white'><tr><th>date</th><th>home_team</th><th>away_team</th><th>team</th><th>scorer</th><th>minute</th><th>own_goal</th><th>penalty</th></tr></thead><tbody><tr><td>1916-07-02</td><td>Chile</td><td>Uruguay</td><td>Uruguay</td><td>José Piendibene</td><td>44</td><td>false</td><td>false</td></tr><tr><td>1916-07-02</td><td>Chile</td><td>Uruguay</td><td>Uruguay</td><td>Isabelino Gradín</td><td>55</td><td>false</td><td>false</td></tr><tr><td>1916-07-02</td><td>Chile</td><td>Uruguay</td><td>Uruguay</td><td>Isabelino Gradín</td><td>70</td><td>false</td><td>false</td></tr><tr><td>1916-07-02</td><td>Chile</td><td>Uruguay</td><td>Uruguay</td><td>José Piendibene</td><td>75</td><td>false</td><td>false</td></tr><tr><td>1916-07-06</td><td>Argentina</td><td>Chile</td><td>Argentina</td><td>Alberto Ohaco</td><td>2</td><td>false</td><td>false</td></tr><tr><td>1916-07-06</td><td>Argentina</td><td>Chile</td><td>Chile</td><td>Telésforo Báez</td><td>44</td><td>false</td><td>false</td></tr><tr><td>1916-07-06</td><td>Argentina</td><td>Chile</td><td>Argentina</td><td>Juan Domingo Brown</td><td>60</td><td>false</td><td>true</td></tr><tr><td>1916-07-06</td><td>Argentina</td><td>Chile</td><td>Argentina</td><td>Juan Domingo Brown</td><td>62</td><td>false</td><td>true</td></tr><tr><td>1916-07-06</td><td>Argentina</td><td>Chile</td><td>Argentina</td><td>Alberto Marcovecchio</td><td>67</td><td>false</td><td>false</td></tr><tr><td>1916-07-06</td><td>Argentina</td><td>Chile</td><td>Argentina</td><td>Alberto Ohaco</td><td>75</td><td>false</td><td>false</td></tr><tr><td>1916-07-06</td><td>Argentina</td><td>Chile</td><td>Argentina</td><td>Alberto Marcovecchio</td><td>81</td><td>false</td><td>false</td></tr><tr><td>1916-07-08</td><td>Brazil</td><td>Chile</td><td>Brazil</td><td>Demóstenes Correia de Syllos</td><td>29</td><td>false</td><td>false</td></tr><tr><td>1916-07-08</td><td>Brazil</td><td>Chile</td><td>Chile</td><td>Hernando Salazar</td><td>85</td><td>false</td><td>false</td></tr><tr><td>1916-07-10</td><td>Argentina</td><td>Brazil</td><td>Argentina</td><td>José Durand Laguna</td><td>10</td><td>false</td><td>false</td></tr><tr><td>1916-07-10</td><td>Argentina</td><td>Brazil</td><td>Brazil</td><td>Manoel Alencar Monte</td><td>23</td><td>false</td><td>false</td></tr><tr><td>1916-07-12</td><td>Brazil</td><td>Uruguay</td><td>Brazil</td><td>Arthur Friedenreich</td><td>8</td><td>false</td><td>false</td></tr><tr><td>1916-07-12</td><td>Brazil</td><td>Uruguay</td><td>Uruguay</td><td>Isabelino Gradín</td><td>58</td><td>false</td><td>false</td></tr><tr><td>1916-07-12</td><td>Brazil</td><td>Uruguay</td><td>Uruguay</td><td>Jose Tognola</td><td>77</td><td>false</td><td>false</td></tr><tr><td>1917-09-30</td><td>Uruguay</td><td>Chile</td><td>Uruguay</td><td>Carlos Scarone</td><td>20</td><td>false</td><td>false</td></tr><tr><td>1917-09-30</td><td>Uruguay</td><td>Chile</td><td>Uruguay</td><td>Ángel Romano</td><td>44</td><td>false</td><td>false</td></tr><tr><td>1917-09-30</td><td>Uruguay</td><td>Chile</td><td>Uruguay</td><td>Carlos Scarone</td><td>62</td><td>false</td><td>true</td></tr><tr><td>1917-09-30</td><td>Uruguay</td><td>Chile</td><td>Uruguay</td><td>Ángel Romano</td><td>75</td><td>false</td><td>false</td></tr><tr><td>1917-10-03</td><td>Argentina</td><td>Brazil</td><td>Brazil</td><td>Neco</td><td>8</td><td>false</td><td>false</td></tr><tr><td>1917-10-03</td><td>Argentina</td><td>Brazil</td><td>Argentina</td><td>Pedro Calomino</td><td>15</td><td>false</td><td>false</td></tr><tr><td>1917-10-03</td><td>Argentina</td><td>Brazil</td><td>Brazil</td><td>Silvio Lagreca</td><td>39</td><td>false</td><td>true</td></tr><tr><td>1917-10-03</td><td>Argentina</td><td>Brazil</td><td>Argentina</td><td>Alberto Ohaco</td><td>56</td><td>false</td><td>true</td></tr><tr><td>1917-10-03</td><td>Argentina</td><td>Brazil</td><td>Argentina</td><td>Alberto Ohaco</td><td>58</td><td>false</td><td>true</td></tr><tr><td>1917-10-03</td><td>Argentina</td><td>Brazil</td><td>Argentina</td><td>Antonio Blanco</td><td>80</td><td>false</td><td>false</td></tr><tr><td>1917-10-06</td><td>Argentina</td><td>Chile</td><td>Argentina</td><td>Luis García</td><td>76</td><td>true</td><td>false</td></tr><tr><td>1917-10-07</td><td>Uruguay</td><td>Brazil</td><td>Uruguay</td><td>Héctor Scarone</td><td>8</td><td>false</td><td>false</td></tr><tr><td>1917-10-07</td><td>Uruguay</td><td>Brazil</td><td>Uruguay</td><td>Ángel Romano</td><td>17</td><td>false</td><td>false</td></tr><tr><td>1917-10-07</td><td>Uruguay</td><td>Brazil</td><td>Uruguay</td><td>Ángel Romano</td><td>77</td><td>false</td><td>false</td></tr><tr><td>1917-10-07</td><td>Uruguay</td><td>Brazil</td><td>Uruguay</td><td>Carlos Scarone</td><td>86</td><td>false</td><td>false</td></tr><tr><td>1917-10-12</td><td>Brazil</td><td>Chile</td><td>Brazil</td><td>Caetano Izzo</td><td>21</td><td>false</td><td>false</td></tr><tr><td>1917-10-12</td><td>Brazil</td><td>Chile</td><td>Brazil</td><td>Neco</td><td>23</td><td>false</td><td>false</td></tr><tr><td>1917-10-12</td><td>Brazil</td><td>Chile</td><td>Brazil</td><td>Haroldo Domingues</td><td>26</td><td>false</td><td>false</td></tr><tr><td>1917-10-12</td><td>Brazil</td><td>Chile</td><td>Brazil</td><td>Amílcar Barbuy</td><td>41</td><td>false</td><td>false</td></tr><tr><td>1917-10-12</td><td>Brazil</td><td>Chile</td><td>Brazil</td><td>Haroldo Domingues</td><td>59</td><td>false</td><td>false</td></tr><tr><td>1917-10-14</td><td>Uruguay</td><td>Argentina</td><td>Uruguay</td><td>Héctor Scarone</td><td>62</td><td>false</td><td>false</td></tr><tr><td>1919-05-11</td><td>Brazil</td><td>Chile</td><td>Brazil</td><td>Arthur Friedenreich</td><td>19</td><td>false</td><td>false</td></tr><tr><td>1919-05-11</td><td>Brazil</td><td>Chile</td><td>Brazil</td><td>Neco</td><td>21</td><td>false</td><td>false</td></tr><tr><td>1919-05-11</td><td>Brazil</td><td>Chile</td><td>Brazil</td><td>Arthur Friedenreich</td><td>38</td><td>false</td><td>false</td></tr><tr><td>1919-05-11</td><td>Brazil</td><td>Chile</td><td>Brazil</td><td>Arthur Friedenreich</td><td>76</td><td>false</td><td>false</td></tr><tr><td>1919-05-11</td><td>Brazil</td><td>Chile</td><td>Brazil</td><td>Haroldo Domingues</td><td>79</td><td>false</td><td>false</td></tr><tr><td>1919-05-11</td><td>Brazil</td><td>Chile</td><td>Brazil</td><td>Neco</td><td>83</td><td>false</td><td>false</td></tr><tr><td>1919-05-13</td><td>Argentina</td><td>Uruguay</td><td>Uruguay</td><td>Carlos Scarone</td><td>19</td><td>false</td><td>false</td></tr><tr><td>1919-05-13</td><td>Argentina</td><td>Uruguay</td><td>Uruguay</td><td>Héctor Scarone</td><td>23</td><td>false</td><td>false</td></tr><tr><td>1919-05-13</td><td>Argentina</td><td>Uruguay</td><td>Argentina</td><td>Carlos Izaguirre</td><td>34</td><td>false</td><td>false</td></tr><tr><td>1919-05-13</td><td>Argentina</td><td>Uruguay</td><td>Argentina</td><td>Manuel Varela</td><td>79</td><td>true</td><td>false</td></tr><tr><td>1919-05-13</td><td>Argentina</td><td>Uruguay</td><td>Uruguay</td><td>Isabelino Gradín</td><td>85</td><td>false</td><td>false</td></tr><tr><td>1919-05-17</td><td>Chile</td><td>Uruguay</td><td>Uruguay</td><td>Carlos Scarone</td><td>31</td><td>false</td><td>false</td></tr><tr><td>1919-05-17</td><td>Chile</td><td>Uruguay</td><td>Uruguay</td><td>José Pérez</td><td>43</td><td>false</td><td>false</td></tr><tr><td>1919-05-18</td><td>Brazil</td><td>Argentina</td><td>Brazil</td><td>Heitor</td><td>22</td><td>false</td><td>false</td></tr><tr><td>1919-05-18</td><td>Brazil</td><td>Argentina</td><td>Brazil</td><td>Amílcar Barbuy</td><td>57</td><td>false</td><td>false</td></tr><tr><td>1919-05-18</td><td>Brazil</td><td>Argentina</td><td>Argentina</td><td>Carlos Izaguirre</td><td>65</td><td>false</td><td>false</td></tr><tr><td>1919-05-18</td><td>Brazil</td><td>Argentina</td><td>Brazil</td><td>Adolpho Millón Junior</td><td>77</td><td>false</td><td>false</td></tr><tr><td>1919-05-22</td><td>Argentina</td><td>Chile</td><td>Argentina</td><td>Edwin Clarcke</td><td>10</td><td>false</td><td>false</td></tr><tr><td>1919-05-22</td><td>Argentina</td><td>Chile</td><td>Argentina</td><td>Carlos Izaguirre</td><td>13</td><td>false</td><td>false</td></tr><tr><td>1919-05-22</td><td>Argentina</td><td>Chile</td><td>Argentina</td><td>Edwin Clarcke</td><td>23</td><td>false</td><td>false</td></tr><tr><td>1919-05-22</td><td>Argentina</td><td>Chile</td><td>Chile</td><td>Alfredo France</td><td>33</td><td>false</td><td>false</td></tr><tr><td>1919-05-22</td><td>Argentina</td><td>Chile</td><td>Argentina</td><td>Edwin Clarcke</td><td>62</td><td>false</td><td>false</td></tr><tr><td>1919-05-26</td><td>Brazil</td><td>Uruguay</td><td>Uruguay</td><td>Isabelino Gradín</td><td>13</td><td>false</td><td>false</td></tr><tr><td>1919-05-26</td><td>Brazil</td><td>Uruguay</td><td>Uruguay</td><td>Carlos Scarone</td><td>17</td><td>false</td><td>false</td></tr><tr><td>1919-05-26</td><td>Brazil</td><td>Uruguay</td><td>Brazil</td><td>Neco</td><td>29</td><td>false</td><td>false</td></tr><tr><td>1919-05-26</td><td>Brazil</td><td>Uruguay</td><td>Brazil</td><td>Neco</td><td>63</td><td>false</td><td>false</td></tr><tr><td>1919-05-29</td><td>Brazil</td><td>Uruguay</td><td>Brazil</td><td>Arthur Friedenreich</td><td>122</td><td>false</td><td>false</td></tr><tr><td>1920-09-11</td><td>Chile</td><td>Brazil</td><td>Brazil</td><td>Ismael Alvariza</td><td>53</td><td>false</td><td>false</td></tr><tr><td>1920-09-12</td><td>Uruguay</td><td>Argentina</td><td>Uruguay</td><td>José Piendibene</td><td>10</td><td>false</td><td>false</td></tr><tr><td>1920-09-12</td><td>Uruguay</td><td>Argentina</td><td>Argentina</td><td>Raúl Echeverría</td><td>75</td><td>false</td><td>false</td></tr><tr><td>1920-09-18</td><td>Brazil</td><td>Uruguay</td><td>Uruguay</td><td>Ángel Romano</td><td>23</td><td>false</td><td>false</td></tr><tr><td>1920-09-18</td><td>Brazil</td><td>Uruguay</td><td>Uruguay</td><td>Antonio Urdinarán</td><td>26</td><td>false</td><td>true</td></tr><tr><td>1920-09-18</td><td>Brazil</td><td>Uruguay</td><td>Uruguay</td><td>José Pérez</td><td>29</td><td>false</td><td>false</td></tr><tr><td>1920-09-18</td><td>Brazil</td><td>Uruguay</td><td>Uruguay</td><td>Antonio Campolo</td><td>48</td><td>false</td><td>false</td></tr><tr><td>1920-09-18</td><td>Brazil</td><td>Uruguay</td><td>Uruguay</td><td>Ángel Romano</td><td>60</td><td>false</td><td>false</td></tr><tr><td>1920-09-18</td><td>Brazil</td><td>Uruguay</td><td>Uruguay</td><td>José Pérez</td><td>65</td><td>false</td><td>false</td></tr><tr><td>1920-09-20</td><td>Chile</td><td>Argentina</td><td>Argentina</td><td>Miguel Dellavalle</td><td>13</td><td>false</td><td>false</td></tr><tr><td>1920-09-20</td><td>Chile</td><td>Argentina</td><td>Chile</td><td>Hernando Bolados</td><td>30</td><td>false</td><td>false</td></tr><tr><td>1920-09-25</td><td>Argentina</td><td>Brazil</td><td>Argentina</td><td>Raúl Echeverría</td><td>40</td><td>false</td><td>false</td></tr><tr><td>1920-09-25</td><td>Argentina</td><td>Brazil</td><td>Argentina</td><td>Julio Libonatti</td><td>73</td><td>false</td><td>false</td></tr><tr><td>1920-10-03</td><td>Chile</td><td>Uruguay</td><td>Uruguay</td><td>Ángel Romano</td><td>37</td><td>false</td><td>false</td></tr><tr><td>1920-10-03</td><td>Chile</td><td>Uruguay</td><td>Chile</td><td>Aurelio Domínguez</td><td>60</td><td>false</td><td>false</td></tr><tr><td>1920-10-03</td><td>Chile</td><td>Uruguay</td><td>Uruguay</td><td>José Pérez</td><td>65</td><td>false</td><td>false</td></tr><tr><td>1921-10-02</td><td>Argentina</td><td>Brazil</td><td>Argentina</td><td>Julio Libonatti</td><td>27</td><td>false</td><td>false</td></tr><tr><td>1921-10-09</td><td>Paraguay</td><td>Uruguay</td><td>Paraguay</td><td>Gerardo Rivas</td><td>9</td><td>false</td><td>false</td></tr><tr><td>1921-10-09</td><td>Paraguay</td><td>Uruguay</td><td>Paraguay</td><td>Ildefonso López</td><td>66</td><td>false</td><td>false</td></tr><tr><td>1921-10-09</td><td>Paraguay</td><td>Uruguay</td><td>Uruguay</td><td>José Piendibene</td><td>83</td><td>false</td><td>false</td></tr><tr><td>1921-10-12</td><td>Brazil</td><td>Paraguay</td><td>Brazil</td><td>Ernesto Duarte Machado da Silva</td><td>21</td><td>false</td><td>false</td></tr><tr><td>1921-10-12</td><td>Brazil</td><td>Paraguay</td><td>Brazil</td><td>Ernesto Duarte Machado da Silva</td><td>44</td><td>false</td><td>false</td></tr><tr><td>1921-10-12</td><td>Brazil</td><td>Paraguay</td><td>Brazil</td><td>Aníbal Médicis Candiota</td><td>46</td><td>false</td><td>false</td></tr><tr><td>1921-10-16</td><td>Argentina</td><td>Paraguay</td><td>Argentina</td><td>Julio Libonatti</td><td>1</td><td>false</td><td>false</td></tr><tr><td>1921-10-16</td><td>Argentina</td><td>Paraguay</td><td>Argentina</td><td>Blas Saruppo</td><td>71</td><td>false</td><td>false</td></tr><tr><td>1921-10-16</td><td>Argentina</td><td>Paraguay</td><td>Argentina</td><td>Raúl Echeverría</td><td>76</td><td>false</td><td>false</td></tr><tr><td>1921-10-23</td><td>Brazil</td><td>Uruguay</td><td>Uruguay</td><td>Ángel Romano</td><td>1</td><td>false</td><td>false</td></tr><tr><td>1921-10-23</td><td>Brazil</td><td>Uruguay</td><td>Uruguay</td><td>Ángel Romano</td><td>8</td><td>false</td><td>false</td></tr><tr><td>1921-10-23</td><td>Brazil</td><td>Uruguay</td><td>Brazil</td><td>José Carlos Guimarães</td><td>53</td><td>false</td><td>false</td></tr><tr><td>1921-10-30</td><td>Argentina</td><td>Uruguay</td><td>Argentina</td><td>Julio Libonatti</td><td>57</td><td>false</td><td>false</td></tr><tr><td>1922-09-17</td><td>Brazil</td><td>Chile</td><td>Brazil</td><td>Altino Marcondes</td><td>9</td><td>false</td><td>false</td></tr><tr><td>1922-09-17</td><td>Brazil</td><td>Chile</td><td>Chile</td><td>Manuel Bravo Paredes</td><td>41</td><td>false</td><td>false</td></tr><tr><td>1922-09-23</td><td>Chile</td><td>Uruguay</td><td>Uruguay</td><td>Juan Carlos Heguy</td><td>10</td><td>false</td><td>false</td></tr><tr><td>1922-09-23</td><td>Chile</td><td>Uruguay</td><td>Uruguay</td><td>Antonio Urdinarán</td><td>19</td><td>false</td><td>true</td></tr></tbody></table></div>"
      ]
     },
     "metadata": {
      "application/vnd.databricks.v1+output": {
       "addedWidgets": {},
       "aggData": [],
       "aggError": "",
       "aggOverflow": false,
       "aggSchema": [],
       "aggSeriesLimitReached": false,
       "aggType": "",
       "arguments": {},
       "columnCustomDisplayInfos": {},
       "data": [
        [
         "1916-07-02",
         "Chile",
         "Uruguay",
         "Uruguay",
         "José Piendibene",
         44,
         false,
         false
        ],
        [
         "1916-07-02",
         "Chile",
         "Uruguay",
         "Uruguay",
         "Isabelino Gradín",
         55,
         false,
         false
        ],
        [
         "1916-07-02",
         "Chile",
         "Uruguay",
         "Uruguay",
         "Isabelino Gradín",
         70,
         false,
         false
        ],
        [
         "1916-07-02",
         "Chile",
         "Uruguay",
         "Uruguay",
         "José Piendibene",
         75,
         false,
         false
        ],
        [
         "1916-07-06",
         "Argentina",
         "Chile",
         "Argentina",
         "Alberto Ohaco",
         2,
         false,
         false
        ],
        [
         "1916-07-06",
         "Argentina",
         "Chile",
         "Chile",
         "Telésforo Báez",
         44,
         false,
         false
        ],
        [
         "1916-07-06",
         "Argentina",
         "Chile",
         "Argentina",
         "Juan Domingo Brown",
         60,
         false,
         true
        ],
        [
         "1916-07-06",
         "Argentina",
         "Chile",
         "Argentina",
         "Juan Domingo Brown",
         62,
         false,
         true
        ],
        [
         "1916-07-06",
         "Argentina",
         "Chile",
         "Argentina",
         "Alberto Marcovecchio",
         67,
         false,
         false
        ],
        [
         "1916-07-06",
         "Argentina",
         "Chile",
         "Argentina",
         "Alberto Ohaco",
         75,
         false,
         false
        ],
        [
         "1916-07-06",
         "Argentina",
         "Chile",
         "Argentina",
         "Alberto Marcovecchio",
         81,
         false,
         false
        ],
        [
         "1916-07-08",
         "Brazil",
         "Chile",
         "Brazil",
         "Demóstenes Correia de Syllos",
         29,
         false,
         false
        ],
        [
         "1916-07-08",
         "Brazil",
         "Chile",
         "Chile",
         "Hernando Salazar",
         85,
         false,
         false
        ],
        [
         "1916-07-10",
         "Argentina",
         "Brazil",
         "Argentina",
         "José Durand Laguna",
         10,
         false,
         false
        ],
        [
         "1916-07-10",
         "Argentina",
         "Brazil",
         "Brazil",
         "Manoel Alencar Monte",
         23,
         false,
         false
        ],
        [
         "1916-07-12",
         "Brazil",
         "Uruguay",
         "Brazil",
         "Arthur Friedenreich",
         8,
         false,
         false
        ],
        [
         "1916-07-12",
         "Brazil",
         "Uruguay",
         "Uruguay",
         "Isabelino Gradín",
         58,
         false,
         false
        ],
        [
         "1916-07-12",
         "Brazil",
         "Uruguay",
         "Uruguay",
         "Jose Tognola",
         77,
         false,
         false
        ],
        [
         "1917-09-30",
         "Uruguay",
         "Chile",
         "Uruguay",
         "Carlos Scarone",
         20,
         false,
         false
        ],
        [
         "1917-09-30",
         "Uruguay",
         "Chile",
         "Uruguay",
         "Ángel Romano",
         44,
         false,
         false
        ],
        [
         "1917-09-30",
         "Uruguay",
         "Chile",
         "Uruguay",
         "Carlos Scarone",
         62,
         false,
         true
        ],
        [
         "1917-09-30",
         "Uruguay",
         "Chile",
         "Uruguay",
         "Ángel Romano",
         75,
         false,
         false
        ],
        [
         "1917-10-03",
         "Argentina",
         "Brazil",
         "Brazil",
         "Neco",
         8,
         false,
         false
        ],
        [
         "1917-10-03",
         "Argentina",
         "Brazil",
         "Argentina",
         "Pedro Calomino",
         15,
         false,
         false
        ],
        [
         "1917-10-03",
         "Argentina",
         "Brazil",
         "Brazil",
         "Silvio Lagreca",
         39,
         false,
         true
        ],
        [
         "1917-10-03",
         "Argentina",
         "Brazil",
         "Argentina",
         "Alberto Ohaco",
         56,
         false,
         true
        ],
        [
         "1917-10-03",
         "Argentina",
         "Brazil",
         "Argentina",
         "Alberto Ohaco",
         58,
         false,
         true
        ],
        [
         "1917-10-03",
         "Argentina",
         "Brazil",
         "Argentina",
         "Antonio Blanco",
         80,
         false,
         false
        ],
        [
         "1917-10-06",
         "Argentina",
         "Chile",
         "Argentina",
         "Luis García",
         76,
         true,
         false
        ],
        [
         "1917-10-07",
         "Uruguay",
         "Brazil",
         "Uruguay",
         "Héctor Scarone",
         8,
         false,
         false
        ],
        [
         "1917-10-07",
         "Uruguay",
         "Brazil",
         "Uruguay",
         "Ángel Romano",
         17,
         false,
         false
        ],
        [
         "1917-10-07",
         "Uruguay",
         "Brazil",
         "Uruguay",
         "Ángel Romano",
         77,
         false,
         false
        ],
        [
         "1917-10-07",
         "Uruguay",
         "Brazil",
         "Uruguay",
         "Carlos Scarone",
         86,
         false,
         false
        ],
        [
         "1917-10-12",
         "Brazil",
         "Chile",
         "Brazil",
         "Caetano Izzo",
         21,
         false,
         false
        ],
        [
         "1917-10-12",
         "Brazil",
         "Chile",
         "Brazil",
         "Neco",
         23,
         false,
         false
        ],
        [
         "1917-10-12",
         "Brazil",
         "Chile",
         "Brazil",
         "Haroldo Domingues",
         26,
         false,
         false
        ],
        [
         "1917-10-12",
         "Brazil",
         "Chile",
         "Brazil",
         "Amílcar Barbuy",
         41,
         false,
         false
        ],
        [
         "1917-10-12",
         "Brazil",
         "Chile",
         "Brazil",
         "Haroldo Domingues",
         59,
         false,
         false
        ],
        [
         "1917-10-14",
         "Uruguay",
         "Argentina",
         "Uruguay",
         "Héctor Scarone",
         62,
         false,
         false
        ],
        [
         "1919-05-11",
         "Brazil",
         "Chile",
         "Brazil",
         "Arthur Friedenreich",
         19,
         false,
         false
        ],
        [
         "1919-05-11",
         "Brazil",
         "Chile",
         "Brazil",
         "Neco",
         21,
         false,
         false
        ],
        [
         "1919-05-11",
         "Brazil",
         "Chile",
         "Brazil",
         "Arthur Friedenreich",
         38,
         false,
         false
        ],
        [
         "1919-05-11",
         "Brazil",
         "Chile",
         "Brazil",
         "Arthur Friedenreich",
         76,
         false,
         false
        ],
        [
         "1919-05-11",
         "Brazil",
         "Chile",
         "Brazil",
         "Haroldo Domingues",
         79,
         false,
         false
        ],
        [
         "1919-05-11",
         "Brazil",
         "Chile",
         "Brazil",
         "Neco",
         83,
         false,
         false
        ],
        [
         "1919-05-13",
         "Argentina",
         "Uruguay",
         "Uruguay",
         "Carlos Scarone",
         19,
         false,
         false
        ],
        [
         "1919-05-13",
         "Argentina",
         "Uruguay",
         "Uruguay",
         "Héctor Scarone",
         23,
         false,
         false
        ],
        [
         "1919-05-13",
         "Argentina",
         "Uruguay",
         "Argentina",
         "Carlos Izaguirre",
         34,
         false,
         false
        ],
        [
         "1919-05-13",
         "Argentina",
         "Uruguay",
         "Argentina",
         "Manuel Varela",
         79,
         true,
         false
        ],
        [
         "1919-05-13",
         "Argentina",
         "Uruguay",
         "Uruguay",
         "Isabelino Gradín",
         85,
         false,
         false
        ],
        [
         "1919-05-17",
         "Chile",
         "Uruguay",
         "Uruguay",
         "Carlos Scarone",
         31,
         false,
         false
        ],
        [
         "1919-05-17",
         "Chile",
         "Uruguay",
         "Uruguay",
         "José Pérez",
         43,
         false,
         false
        ],
        [
         "1919-05-18",
         "Brazil",
         "Argentina",
         "Brazil",
         "Heitor",
         22,
         false,
         false
        ],
        [
         "1919-05-18",
         "Brazil",
         "Argentina",
         "Brazil",
         "Amílcar Barbuy",
         57,
         false,
         false
        ],
        [
         "1919-05-18",
         "Brazil",
         "Argentina",
         "Argentina",
         "Carlos Izaguirre",
         65,
         false,
         false
        ],
        [
         "1919-05-18",
         "Brazil",
         "Argentina",
         "Brazil",
         "Adolpho Millón Junior",
         77,
         false,
         false
        ],
        [
         "1919-05-22",
         "Argentina",
         "Chile",
         "Argentina",
         "Edwin Clarcke",
         10,
         false,
         false
        ],
        [
         "1919-05-22",
         "Argentina",
         "Chile",
         "Argentina",
         "Carlos Izaguirre",
         13,
         false,
         false
        ],
        [
         "1919-05-22",
         "Argentina",
         "Chile",
         "Argentina",
         "Edwin Clarcke",
         23,
         false,
         false
        ],
        [
         "1919-05-22",
         "Argentina",
         "Chile",
         "Chile",
         "Alfredo France",
         33,
         false,
         false
        ],
        [
         "1919-05-22",
         "Argentina",
         "Chile",
         "Argentina",
         "Edwin Clarcke",
         62,
         false,
         false
        ],
        [
         "1919-05-26",
         "Brazil",
         "Uruguay",
         "Uruguay",
         "Isabelino Gradín",
         13,
         false,
         false
        ],
        [
         "1919-05-26",
         "Brazil",
         "Uruguay",
         "Uruguay",
         "Carlos Scarone",
         17,
         false,
         false
        ],
        [
         "1919-05-26",
         "Brazil",
         "Uruguay",
         "Brazil",
         "Neco",
         29,
         false,
         false
        ],
        [
         "1919-05-26",
         "Brazil",
         "Uruguay",
         "Brazil",
         "Neco",
         63,
         false,
         false
        ],
        [
         "1919-05-29",
         "Brazil",
         "Uruguay",
         "Brazil",
         "Arthur Friedenreich",
         122,
         false,
         false
        ],
        [
         "1920-09-11",
         "Chile",
         "Brazil",
         "Brazil",
         "Ismael Alvariza",
         53,
         false,
         false
        ],
        [
         "1920-09-12",
         "Uruguay",
         "Argentina",
         "Uruguay",
         "José Piendibene",
         10,
         false,
         false
        ],
        [
         "1920-09-12",
         "Uruguay",
         "Argentina",
         "Argentina",
         "Raúl Echeverría",
         75,
         false,
         false
        ],
        [
         "1920-09-18",
         "Brazil",
         "Uruguay",
         "Uruguay",
         "Ángel Romano",
         23,
         false,
         false
        ],
        [
         "1920-09-18",
         "Brazil",
         "Uruguay",
         "Uruguay",
         "Antonio Urdinarán",
         26,
         false,
         true
        ],
        [
         "1920-09-18",
         "Brazil",
         "Uruguay",
         "Uruguay",
         "José Pérez",
         29,
         false,
         false
        ],
        [
         "1920-09-18",
         "Brazil",
         "Uruguay",
         "Uruguay",
         "Antonio Campolo",
         48,
         false,
         false
        ],
        [
         "1920-09-18",
         "Brazil",
         "Uruguay",
         "Uruguay",
         "Ángel Romano",
         60,
         false,
         false
        ],
        [
         "1920-09-18",
         "Brazil",
         "Uruguay",
         "Uruguay",
         "José Pérez",
         65,
         false,
         false
        ],
        [
         "1920-09-20",
         "Chile",
         "Argentina",
         "Argentina",
         "Miguel Dellavalle",
         13,
         false,
         false
        ],
        [
         "1920-09-20",
         "Chile",
         "Argentina",
         "Chile",
         "Hernando Bolados",
         30,
         false,
         false
        ],
        [
         "1920-09-25",
         "Argentina",
         "Brazil",
         "Argentina",
         "Raúl Echeverría",
         40,
         false,
         false
        ],
        [
         "1920-09-25",
         "Argentina",
         "Brazil",
         "Argentina",
         "Julio Libonatti",
         73,
         false,
         false
        ],
        [
         "1920-10-03",
         "Chile",
         "Uruguay",
         "Uruguay",
         "Ángel Romano",
         37,
         false,
         false
        ],
        [
         "1920-10-03",
         "Chile",
         "Uruguay",
         "Chile",
         "Aurelio Domínguez",
         60,
         false,
         false
        ],
        [
         "1920-10-03",
         "Chile",
         "Uruguay",
         "Uruguay",
         "José Pérez",
         65,
         false,
         false
        ],
        [
         "1921-10-02",
         "Argentina",
         "Brazil",
         "Argentina",
         "Julio Libonatti",
         27,
         false,
         false
        ],
        [
         "1921-10-09",
         "Paraguay",
         "Uruguay",
         "Paraguay",
         "Gerardo Rivas",
         9,
         false,
         false
        ],
        [
         "1921-10-09",
         "Paraguay",
         "Uruguay",
         "Paraguay",
         "Ildefonso López",
         66,
         false,
         false
        ],
        [
         "1921-10-09",
         "Paraguay",
         "Uruguay",
         "Uruguay",
         "José Piendibene",
         83,
         false,
         false
        ],
        [
         "1921-10-12",
         "Brazil",
         "Paraguay",
         "Brazil",
         "Ernesto Duarte Machado da Silva",
         21,
         false,
         false
        ],
        [
         "1921-10-12",
         "Brazil",
         "Paraguay",
         "Brazil",
         "Ernesto Duarte Machado da Silva",
         44,
         false,
         false
        ],
        [
         "1921-10-12",
         "Brazil",
         "Paraguay",
         "Brazil",
         "Aníbal Médicis Candiota",
         46,
         false,
         false
        ],
        [
         "1921-10-16",
         "Argentina",
         "Paraguay",
         "Argentina",
         "Julio Libonatti",
         1,
         false,
         false
        ],
        [
         "1921-10-16",
         "Argentina",
         "Paraguay",
         "Argentina",
         "Blas Saruppo",
         71,
         false,
         false
        ],
        [
         "1921-10-16",
         "Argentina",
         "Paraguay",
         "Argentina",
         "Raúl Echeverría",
         76,
         false,
         false
        ],
        [
         "1921-10-23",
         "Brazil",
         "Uruguay",
         "Uruguay",
         "Ángel Romano",
         1,
         false,
         false
        ],
        [
         "1921-10-23",
         "Brazil",
         "Uruguay",
         "Uruguay",
         "Ángel Romano",
         8,
         false,
         false
        ],
        [
         "1921-10-23",
         "Brazil",
         "Uruguay",
         "Brazil",
         "José Carlos Guimarães",
         53,
         false,
         false
        ],
        [
         "1921-10-30",
         "Argentina",
         "Uruguay",
         "Argentina",
         "Julio Libonatti",
         57,
         false,
         false
        ],
        [
         "1922-09-17",
         "Brazil",
         "Chile",
         "Brazil",
         "Altino Marcondes",
         9,
         false,
         false
        ],
        [
         "1922-09-17",
         "Brazil",
         "Chile",
         "Chile",
         "Manuel Bravo Paredes",
         41,
         false,
         false
        ],
        [
         "1922-09-23",
         "Chile",
         "Uruguay",
         "Uruguay",
         "Juan Carlos Heguy",
         10,
         false,
         false
        ],
        [
         "1922-09-23",
         "Chile",
         "Uruguay",
         "Uruguay",
         "Antonio Urdinarán",
         19,
         false,
         true
        ]
       ],
       "datasetInfos": [],
       "dbfsResultPath": null,
       "isJsonSchema": true,
       "metadata": {},
       "overflow": false,
       "plotOptions": {
        "customPlotOptions": {},
        "displayType": "table",
        "pivotAggregation": null,
        "pivotColumns": null,
        "xColumns": null,
        "yColumns": null
       },
       "removedWidgets": [],
       "schema": [
        {
         "metadata": "{}",
         "name": "date",
         "type": "\"date\""
        },
        {
         "metadata": "{}",
         "name": "home_team",
         "type": "\"string\""
        },
        {
         "metadata": "{}",
         "name": "away_team",
         "type": "\"string\""
        },
        {
         "metadata": "{}",
         "name": "team",
         "type": "\"string\""
        },
        {
         "metadata": "{}",
         "name": "scorer",
         "type": "\"string\""
        },
        {
         "metadata": "{}",
         "name": "minute",
         "type": "\"long\""
        },
        {
         "metadata": "{}",
         "name": "own_goal",
         "type": "\"boolean\""
        },
        {
         "metadata": "{}",
         "name": "penalty",
         "type": "\"boolean\""
        }
       ],
       "type": "table"
      }
     },
     "output_type": "display_data"
    }
   ],
   "source": [
    "goalscorers_df = spark.sql(\"SELECT * FROM goalscorers\")\n",
    "display(goalscorers_df.head(100))"
   ]
  },
  {
   "cell_type": "code",
   "execution_count": 0,
   "metadata": {
    "application/vnd.databricks.v1+cell": {
     "cellMetadata": {
      "byteLimit": 2048000,
      "rowLimit": 10000
     },
     "inputWidgets": {},
     "nuid": "67594c7c-c078-49fe-b218-a6bf9f5ed25a",
     "showTitle": false,
     "title": ""
    }
   },
   "outputs": [
    {
     "output_type": "display_data",
     "data": {
      "text/html": [
       "<style scoped>\n",
       "  .table-result-container {\n",
       "    max-height: 300px;\n",
       "    overflow: auto;\n",
       "  }\n",
       "  table, th, td {\n",
       "    border: 1px solid black;\n",
       "    border-collapse: collapse;\n",
       "  }\n",
       "  th, td {\n",
       "    padding: 5px;\n",
       "  }\n",
       "  th {\n",
       "    text-align: left;\n",
       "  }\n",
       "</style><div class='table-result-container'><table class='table-result'><thead style='background-color: white'><tr><th>date</th><th>home_team</th><th>away_team</th><th>winner</th><th>first_shooter</th></tr></thead><tbody><tr><td>1967-08-22</td><td>India</td><td>Taiwan</td><td>Taiwan</td><td>null</td></tr><tr><td>1971-11-14</td><td>South Korea</td><td>Vietnam Republic</td><td>South Korea</td><td>null</td></tr><tr><td>1972-05-07</td><td>South Korea</td><td>Iraq</td><td>Iraq</td><td>null</td></tr><tr><td>1972-05-17</td><td>Thailand</td><td>South Korea</td><td>South Korea</td><td>null</td></tr><tr><td>1972-05-19</td><td>Thailand</td><td>Cambodia</td><td>Thailand</td><td>null</td></tr><tr><td>1973-04-21</td><td>Senegal</td><td>Ghana</td><td>Ghana</td><td>null</td></tr><tr><td>1973-06-14</td><td>Guinea</td><td>Mali</td><td>Guinea</td><td>null</td></tr><tr><td>1973-06-14</td><td>Mauritius</td><td>Tanzania</td><td>Mauritius</td><td>null</td></tr><tr><td>1973-07-26</td><td>Malaysia</td><td>Kuwait</td><td>Malaysia</td><td>null</td></tr><tr><td>1973-07-26</td><td>Cambodia</td><td>Singapore</td><td>Singapore</td><td>null</td></tr><tr><td>1973-07-27</td><td>Bangladesh</td><td>Thailand</td><td>Thailand</td><td>null</td></tr><tr><td>1973-07-28</td><td>Myanmar</td><td>South Korea</td><td>Myanmar</td><td>null</td></tr><tr><td>1973-08-09</td><td>India</td><td>Vietnam Republic</td><td>Vietnam Republic</td><td>null</td></tr><tr><td>1973-08-23</td><td>Algeria</td><td>Syria</td><td>Syria</td><td>null</td></tr><tr><td>1973-08-25</td><td>Algeria</td><td>Iraq</td><td>Algeria</td><td>null</td></tr><tr><td>1973-09-06</td><td>Singapore</td><td>Vietnam Republic</td><td>Vietnam Republic</td><td>null</td></tr><tr><td>1974-03-28</td><td>Qatar</td><td>United Arab Emirates</td><td>Qatar</td><td>null</td></tr><tr><td>1974-07-24</td><td>Hong Kong</td><td>Indonesia</td><td>Indonesia</td><td>null</td></tr><tr><td>1974-08-01</td><td>India</td><td>Indonesia</td><td>Indonesia</td><td>null</td></tr><tr><td>1974-10-09</td><td>Syria</td><td>Morocco</td><td>Morocco</td><td>null</td></tr><tr><td>1974-11-22</td><td>Libya</td><td>Tunisia</td><td>Tunisia</td><td>null</td></tr><tr><td>1974-12-18</td><td>South Korea</td><td>Malaysia</td><td>South Korea</td><td>null</td></tr><tr><td>1975-07-13</td><td>Morocco</td><td>Ghana</td><td>Morocco</td><td>null</td></tr><tr><td>1975-11-09</td><td>Kenya</td><td>Malawi</td><td>Kenya</td><td>null</td></tr><tr><td>1975-12-09</td><td>Thailand</td><td>Malaysia</td><td>Thailand</td><td>null</td></tr><tr><td>1975-12-23</td><td>Libya</td><td>Syria</td><td>Syria</td><td>null</td></tr><tr><td>1976-06-20</td><td>Czechoslovakia</td><td>Germany</td><td>Czechoslovakia</td><td>Czechoslovakia</td></tr><tr><td>1976-12-22</td><td>South Korea</td><td>Malaysia</td><td>Malaysia</td><td>null</td></tr><tr><td>1977-01-09</td><td>Tunisia</td><td>Morocco</td><td>Tunisia</td><td>null</td></tr><tr><td>1977-03-22</td><td>Argentina</td><td>Iran</td><td>Argentina</td><td>null</td></tr><tr><td>1977-06-26</td><td>Zambia</td><td>Algeria</td><td>Zambia</td><td>null</td></tr><tr><td>1977-07-27</td><td>Iran</td><td>Morocco</td><td>Iran</td><td>null</td></tr><tr><td>1977-08-31</td><td>Paraguay</td><td>Argentina</td><td>Paraguay</td><td>null</td></tr><tr><td>1979-01-13</td><td>Guinea-Bissau</td><td>Mali</td><td>Mali</td><td>null</td></tr><tr><td>1979-01-14</td><td>Guinea-Bissau</td><td>Guinea</td><td>Guinea</td><td>null</td></tr><tr><td>1979-04-29</td><td>Cameroon</td><td>Guinea</td><td>Guinea</td><td>null</td></tr><tr><td>1979-05-22</td><td>Argentina</td><td>Netherlands</td><td>Argentina</td><td>Argentina</td></tr><tr><td>1979-08-31</td><td>Seychelles</td><td>Mauritius</td><td>Seychelles</td><td>null</td></tr><tr><td>1979-09-29</td><td>Indonesia</td><td>Thailand</td><td>Indonesia</td><td>null</td></tr><tr><td>1980-02-16</td><td>Gambia</td><td>Mauritania</td><td>Gambia</td><td>null</td></tr><tr><td>1980-03-19</td><td>Algeria</td><td>Egypt</td><td>Algeria</td><td>null</td></tr><tr><td>1980-06-21</td><td>Italy</td><td>Czechoslovakia</td><td>Czechoslovakia</td><td>Italy</td></tr><tr><td>1980-07-12</td><td>Nigeria</td><td>Tunisia</td><td>Nigeria</td><td>null</td></tr><tr><td>1980-11-30</td><td>Zambia</td><td>Morocco</td><td>Morocco</td><td>null</td></tr><tr><td>1980-12-31</td><td>Hong Kong</td><td>China PR</td><td>China PR</td><td>null</td></tr><tr><td>1981-02-13</td><td>Mali</td><td>Guinea</td><td>Guinea</td><td>null</td></tr><tr><td>1981-05-10</td><td>Rwanda</td><td>Ethiopia</td><td>Ethiopia</td><td>null</td></tr><tr><td>1981-12-13</td><td>Malaysia</td><td>Singapore</td><td>Malaysia</td><td>null</td></tr><tr><td>1982-02-21</td><td>Ivory Coast</td><td>Togo</td><td>Togo</td><td>null</td></tr><tr><td>1982-02-22</td><td>Ivory Coast</td><td>Burkina Faso</td><td>Burkina Faso</td><td>null</td></tr><tr><td>1982-03-19</td><td>Libya</td><td>Ghana</td><td>Ghana</td><td>null</td></tr><tr><td>1982-05-15</td><td>Thailand</td><td>Singapore</td><td>Thailand</td><td>null</td></tr><tr><td>1982-05-17</td><td>Thailand</td><td>South Korea</td><td>Thailand</td><td>null</td></tr><tr><td>1982-07-08</td><td>Germany</td><td>France</td><td>Germany</td><td>France</td></tr><tr><td>1982-10-17</td><td>Indonesia</td><td>Malaysia</td><td>Indonesia</td><td>null</td></tr><tr><td>1982-11-27</td><td>Uganda</td><td>Kenya</td><td>Kenya</td><td>null</td></tr><tr><td>1983-02-06</td><td>Senegal</td><td>Niger</td><td>Senegal</td><td>null</td></tr><tr><td>1983-02-20</td><td>Gambia</td><td>Sierra Leone</td><td>Gambia</td><td>null</td></tr><tr><td>1983-02-27</td><td>Mali</td><td>Guinea</td><td>Mali</td><td>null</td></tr><tr><td>1983-04-22</td><td>Egypt</td><td>Congo</td><td>Egypt</td><td>null</td></tr><tr><td>1983-04-24</td><td>Mauritius</td><td>Ethiopia</td><td>Ethiopia</td><td>null</td></tr><tr><td>1983-06-04</td><td>Thailand</td><td>Malaysia</td><td>Thailand</td><td>null</td></tr><tr><td>1983-07-18</td><td>Hong Kong</td><td>Thailand</td><td>Thailand</td><td>null</td></tr><tr><td>1983-08-28</td><td>Morocco</td><td>Nigeria</td><td>Nigeria</td><td>null</td></tr><tr><td>1983-12-15</td><td>Ivory Coast</td><td>Mali</td><td>Ivory Coast</td><td>null</td></tr><tr><td>1983-12-18</td><td>Mali</td><td>Nigeria</td><td>Mali</td><td>null</td></tr><tr><td>1984-02-16</td><td>Sierra Leone</td><td>Mali</td><td>Sierra Leone</td><td>null</td></tr><tr><td>1984-02-19</td><td>Sierra Leone</td><td>Senegal</td><td>Senegal</td><td>null</td></tr><tr><td>1984-03-14</td><td>Egypt</td><td>Nigeria</td><td>Nigeria</td><td>null</td></tr><tr><td>1984-03-14</td><td>Algeria</td><td>Cameroon</td><td>Cameroon</td><td>null</td></tr><tr><td>1984-03-28</td><td>Iraq</td><td>Qatar</td><td>Iraq</td><td>null</td></tr><tr><td>1984-06-24</td><td>Denmark</td><td>Spain</td><td>Spain</td><td>Denmark</td></tr><tr><td>1984-07-15</td><td>Senegal</td><td>Angola</td><td>Angola</td><td>null</td></tr><tr><td>1984-11-23</td><td>Kenya</td><td>Somalia</td><td>Kenya</td><td>null</td></tr><tr><td>1984-11-28</td><td>Ghana</td><td>Togo</td><td>Ghana</td><td>null</td></tr><tr><td>1984-12-08</td><td>Kenya</td><td>Somalia</td><td>Kenya</td><td>null</td></tr><tr><td>1984-12-13</td><td>Saudi Arabia</td><td>Iran</td><td>Saudi Arabia</td><td>null</td></tr><tr><td>1984-12-15</td><td>Malawi</td><td>Zambia</td><td>Zambia</td><td>null</td></tr><tr><td>1984-12-16</td><td>Iran</td><td>Kuwait</td><td>Kuwait</td><td>null</td></tr><tr><td>1984-12-16</td><td>Chad</td><td>Equatorial Guinea</td><td>Chad</td><td>null</td></tr><tr><td>1984-12-19</td><td>Central African Republic</td><td>Gabon</td><td>Gabon</td><td>null</td></tr><tr><td>1984-12-20</td><td>Congo</td><td>Cameroon</td><td>Cameroon</td><td>null</td></tr><tr><td>1985-04-16</td><td>Mozambique</td><td>Malawi</td><td>Mozambique</td><td>null</td></tr><tr><td>1985-04-21</td><td>Madagascar</td><td>Egypt</td><td>Egypt</td><td>null</td></tr><tr><td>1985-07-10</td><td>Bahrain</td><td>Qatar</td><td>Bahrain</td><td>null</td></tr><tr><td>1985-07-12</td><td>Saudi Arabia</td><td>Qatar</td><td>Saudi Arabia</td><td>null</td></tr><tr><td>1985-08-25</td><td>Mali</td><td>Guinea</td><td>Guinea</td><td>null</td></tr><tr><td>1985-08-31</td><td>Mauritius</td><td>Réunion</td><td>Mauritius</td><td>null</td></tr><tr><td>1985-09-15</td><td>Mozambique</td><td>Libya</td><td>Mozambique</td><td>null</td></tr><tr><td>1985-10-11</td><td>Kenya</td><td>Uganda</td><td>Kenya</td><td>null</td></tr><tr><td>1985-12-15</td><td>Singapore</td><td>Malaysia</td><td>Singapore</td><td>null</td></tr><tr><td>1985-12-25</td><td>Pakistan</td><td>Nepal</td><td>Nepal</td><td>null</td></tr><tr><td>1985-12-25</td><td>Bangladesh</td><td>India</td><td>India</td><td>null</td></tr><tr><td>1986-03-21</td><td>Egypt</td><td>Cameroon</td><td>Egypt</td><td>null</td></tr><tr><td>1986-06-21</td><td>Brazil</td><td>France</td><td>France</td><td>Brazil</td></tr><tr><td>1986-06-21</td><td>Mexico</td><td>Germany</td><td>Germany</td><td>Germany</td></tr><tr><td>1986-06-22</td><td>Spain</td><td>Belgium</td><td>Belgium</td><td>Spain</td></tr><tr><td>1986-10-01</td><td>Saudi Arabia</td><td>Iraq</td><td>Saudi Arabia</td><td>null</td></tr><tr><td>1986-10-01</td><td>South Korea</td><td>Iran</td><td>South Korea</td><td>null</td></tr><tr><td>1986-10-01</td><td>United Arab Emirates</td><td>Indonesia</td><td>Indonesia</td><td>null</td></tr></tbody></table></div>"
      ]
     },
     "metadata": {
      "application/vnd.databricks.v1+output": {
       "addedWidgets": {},
       "aggData": [],
       "aggError": "",
       "aggOverflow": false,
       "aggSchema": [],
       "aggSeriesLimitReached": false,
       "aggType": "",
       "arguments": {},
       "columnCustomDisplayInfos": {},
       "data": [
        [
         "1967-08-22",
         "India",
         "Taiwan",
         "Taiwan",
         null
        ],
        [
         "1971-11-14",
         "South Korea",
         "Vietnam Republic",
         "South Korea",
         null
        ],
        [
         "1972-05-07",
         "South Korea",
         "Iraq",
         "Iraq",
         null
        ],
        [
         "1972-05-17",
         "Thailand",
         "South Korea",
         "South Korea",
         null
        ],
        [
         "1972-05-19",
         "Thailand",
         "Cambodia",
         "Thailand",
         null
        ],
        [
         "1973-04-21",
         "Senegal",
         "Ghana",
         "Ghana",
         null
        ],
        [
         "1973-06-14",
         "Guinea",
         "Mali",
         "Guinea",
         null
        ],
        [
         "1973-06-14",
         "Mauritius",
         "Tanzania",
         "Mauritius",
         null
        ],
        [
         "1973-07-26",
         "Malaysia",
         "Kuwait",
         "Malaysia",
         null
        ],
        [
         "1973-07-26",
         "Cambodia",
         "Singapore",
         "Singapore",
         null
        ],
        [
         "1973-07-27",
         "Bangladesh",
         "Thailand",
         "Thailand",
         null
        ],
        [
         "1973-07-28",
         "Myanmar",
         "South Korea",
         "Myanmar",
         null
        ],
        [
         "1973-08-09",
         "India",
         "Vietnam Republic",
         "Vietnam Republic",
         null
        ],
        [
         "1973-08-23",
         "Algeria",
         "Syria",
         "Syria",
         null
        ],
        [
         "1973-08-25",
         "Algeria",
         "Iraq",
         "Algeria",
         null
        ],
        [
         "1973-09-06",
         "Singapore",
         "Vietnam Republic",
         "Vietnam Republic",
         null
        ],
        [
         "1974-03-28",
         "Qatar",
         "United Arab Emirates",
         "Qatar",
         null
        ],
        [
         "1974-07-24",
         "Hong Kong",
         "Indonesia",
         "Indonesia",
         null
        ],
        [
         "1974-08-01",
         "India",
         "Indonesia",
         "Indonesia",
         null
        ],
        [
         "1974-10-09",
         "Syria",
         "Morocco",
         "Morocco",
         null
        ],
        [
         "1974-11-22",
         "Libya",
         "Tunisia",
         "Tunisia",
         null
        ],
        [
         "1974-12-18",
         "South Korea",
         "Malaysia",
         "South Korea",
         null
        ],
        [
         "1975-07-13",
         "Morocco",
         "Ghana",
         "Morocco",
         null
        ],
        [
         "1975-11-09",
         "Kenya",
         "Malawi",
         "Kenya",
         null
        ],
        [
         "1975-12-09",
         "Thailand",
         "Malaysia",
         "Thailand",
         null
        ],
        [
         "1975-12-23",
         "Libya",
         "Syria",
         "Syria",
         null
        ],
        [
         "1976-06-20",
         "Czechoslovakia",
         "Germany",
         "Czechoslovakia",
         "Czechoslovakia"
        ],
        [
         "1976-12-22",
         "South Korea",
         "Malaysia",
         "Malaysia",
         null
        ],
        [
         "1977-01-09",
         "Tunisia",
         "Morocco",
         "Tunisia",
         null
        ],
        [
         "1977-03-22",
         "Argentina",
         "Iran",
         "Argentina",
         null
        ],
        [
         "1977-06-26",
         "Zambia",
         "Algeria",
         "Zambia",
         null
        ],
        [
         "1977-07-27",
         "Iran",
         "Morocco",
         "Iran",
         null
        ],
        [
         "1977-08-31",
         "Paraguay",
         "Argentina",
         "Paraguay",
         null
        ],
        [
         "1979-01-13",
         "Guinea-Bissau",
         "Mali",
         "Mali",
         null
        ],
        [
         "1979-01-14",
         "Guinea-Bissau",
         "Guinea",
         "Guinea",
         null
        ],
        [
         "1979-04-29",
         "Cameroon",
         "Guinea",
         "Guinea",
         null
        ],
        [
         "1979-05-22",
         "Argentina",
         "Netherlands",
         "Argentina",
         "Argentina"
        ],
        [
         "1979-08-31",
         "Seychelles",
         "Mauritius",
         "Seychelles",
         null
        ],
        [
         "1979-09-29",
         "Indonesia",
         "Thailand",
         "Indonesia",
         null
        ],
        [
         "1980-02-16",
         "Gambia",
         "Mauritania",
         "Gambia",
         null
        ],
        [
         "1980-03-19",
         "Algeria",
         "Egypt",
         "Algeria",
         null
        ],
        [
         "1980-06-21",
         "Italy",
         "Czechoslovakia",
         "Czechoslovakia",
         "Italy"
        ],
        [
         "1980-07-12",
         "Nigeria",
         "Tunisia",
         "Nigeria",
         null
        ],
        [
         "1980-11-30",
         "Zambia",
         "Morocco",
         "Morocco",
         null
        ],
        [
         "1980-12-31",
         "Hong Kong",
         "China PR",
         "China PR",
         null
        ],
        [
         "1981-02-13",
         "Mali",
         "Guinea",
         "Guinea",
         null
        ],
        [
         "1981-05-10",
         "Rwanda",
         "Ethiopia",
         "Ethiopia",
         null
        ],
        [
         "1981-12-13",
         "Malaysia",
         "Singapore",
         "Malaysia",
         null
        ],
        [
         "1982-02-21",
         "Ivory Coast",
         "Togo",
         "Togo",
         null
        ],
        [
         "1982-02-22",
         "Ivory Coast",
         "Burkina Faso",
         "Burkina Faso",
         null
        ],
        [
         "1982-03-19",
         "Libya",
         "Ghana",
         "Ghana",
         null
        ],
        [
         "1982-05-15",
         "Thailand",
         "Singapore",
         "Thailand",
         null
        ],
        [
         "1982-05-17",
         "Thailand",
         "South Korea",
         "Thailand",
         null
        ],
        [
         "1982-07-08",
         "Germany",
         "France",
         "Germany",
         "France"
        ],
        [
         "1982-10-17",
         "Indonesia",
         "Malaysia",
         "Indonesia",
         null
        ],
        [
         "1982-11-27",
         "Uganda",
         "Kenya",
         "Kenya",
         null
        ],
        [
         "1983-02-06",
         "Senegal",
         "Niger",
         "Senegal",
         null
        ],
        [
         "1983-02-20",
         "Gambia",
         "Sierra Leone",
         "Gambia",
         null
        ],
        [
         "1983-02-27",
         "Mali",
         "Guinea",
         "Mali",
         null
        ],
        [
         "1983-04-22",
         "Egypt",
         "Congo",
         "Egypt",
         null
        ],
        [
         "1983-04-24",
         "Mauritius",
         "Ethiopia",
         "Ethiopia",
         null
        ],
        [
         "1983-06-04",
         "Thailand",
         "Malaysia",
         "Thailand",
         null
        ],
        [
         "1983-07-18",
         "Hong Kong",
         "Thailand",
         "Thailand",
         null
        ],
        [
         "1983-08-28",
         "Morocco",
         "Nigeria",
         "Nigeria",
         null
        ],
        [
         "1983-12-15",
         "Ivory Coast",
         "Mali",
         "Ivory Coast",
         null
        ],
        [
         "1983-12-18",
         "Mali",
         "Nigeria",
         "Mali",
         null
        ],
        [
         "1984-02-16",
         "Sierra Leone",
         "Mali",
         "Sierra Leone",
         null
        ],
        [
         "1984-02-19",
         "Sierra Leone",
         "Senegal",
         "Senegal",
         null
        ],
        [
         "1984-03-14",
         "Egypt",
         "Nigeria",
         "Nigeria",
         null
        ],
        [
         "1984-03-14",
         "Algeria",
         "Cameroon",
         "Cameroon",
         null
        ],
        [
         "1984-03-28",
         "Iraq",
         "Qatar",
         "Iraq",
         null
        ],
        [
         "1984-06-24",
         "Denmark",
         "Spain",
         "Spain",
         "Denmark"
        ],
        [
         "1984-07-15",
         "Senegal",
         "Angola",
         "Angola",
         null
        ],
        [
         "1984-11-23",
         "Kenya",
         "Somalia",
         "Kenya",
         null
        ],
        [
         "1984-11-28",
         "Ghana",
         "Togo",
         "Ghana",
         null
        ],
        [
         "1984-12-08",
         "Kenya",
         "Somalia",
         "Kenya",
         null
        ],
        [
         "1984-12-13",
         "Saudi Arabia",
         "Iran",
         "Saudi Arabia",
         null
        ],
        [
         "1984-12-15",
         "Malawi",
         "Zambia",
         "Zambia",
         null
        ],
        [
         "1984-12-16",
         "Iran",
         "Kuwait",
         "Kuwait",
         null
        ],
        [
         "1984-12-16",
         "Chad",
         "Equatorial Guinea",
         "Chad",
         null
        ],
        [
         "1984-12-19",
         "Central African Republic",
         "Gabon",
         "Gabon",
         null
        ],
        [
         "1984-12-20",
         "Congo",
         "Cameroon",
         "Cameroon",
         null
        ],
        [
         "1985-04-16",
         "Mozambique",
         "Malawi",
         "Mozambique",
         null
        ],
        [
         "1985-04-21",
         "Madagascar",
         "Egypt",
         "Egypt",
         null
        ],
        [
         "1985-07-10",
         "Bahrain",
         "Qatar",
         "Bahrain",
         null
        ],
        [
         "1985-07-12",
         "Saudi Arabia",
         "Qatar",
         "Saudi Arabia",
         null
        ],
        [
         "1985-08-25",
         "Mali",
         "Guinea",
         "Guinea",
         null
        ],
        [
         "1985-08-31",
         "Mauritius",
         "Réunion",
         "Mauritius",
         null
        ],
        [
         "1985-09-15",
         "Mozambique",
         "Libya",
         "Mozambique",
         null
        ],
        [
         "1985-10-11",
         "Kenya",
         "Uganda",
         "Kenya",
         null
        ],
        [
         "1985-12-15",
         "Singapore",
         "Malaysia",
         "Singapore",
         null
        ],
        [
         "1985-12-25",
         "Pakistan",
         "Nepal",
         "Nepal",
         null
        ],
        [
         "1985-12-25",
         "Bangladesh",
         "India",
         "India",
         null
        ],
        [
         "1986-03-21",
         "Egypt",
         "Cameroon",
         "Egypt",
         null
        ],
        [
         "1986-06-21",
         "Brazil",
         "France",
         "France",
         "Brazil"
        ],
        [
         "1986-06-21",
         "Mexico",
         "Germany",
         "Germany",
         "Germany"
        ],
        [
         "1986-06-22",
         "Spain",
         "Belgium",
         "Belgium",
         "Spain"
        ],
        [
         "1986-10-01",
         "Saudi Arabia",
         "Iraq",
         "Saudi Arabia",
         null
        ],
        [
         "1986-10-01",
         "South Korea",
         "Iran",
         "South Korea",
         null
        ],
        [
         "1986-10-01",
         "United Arab Emirates",
         "Indonesia",
         "Indonesia",
         null
        ]
       ],
       "datasetInfos": [],
       "dbfsResultPath": null,
       "isJsonSchema": true,
       "metadata": {},
       "overflow": false,
       "plotOptions": {
        "customPlotOptions": {},
        "displayType": "table",
        "pivotAggregation": null,
        "pivotColumns": null,
        "xColumns": null,
        "yColumns": null
       },
       "removedWidgets": [],
       "schema": [
        {
         "metadata": "{}",
         "name": "date",
         "type": "\"date\""
        },
        {
         "metadata": "{}",
         "name": "home_team",
         "type": "\"string\""
        },
        {
         "metadata": "{}",
         "name": "away_team",
         "type": "\"string\""
        },
        {
         "metadata": "{}",
         "name": "winner",
         "type": "\"string\""
        },
        {
         "metadata": "{}",
         "name": "first_shooter",
         "type": "\"string\""
        }
       ],
       "type": "table"
      }
     },
     "output_type": "display_data"
    }
   ],
   "source": [
    "shootouts_df = spark.sql(\"SELECT * FROM shootouts\")\n",
    "display(shootouts_df.head(100))"
   ]
  },
  {
   "cell_type": "markdown",
   "metadata": {
    "application/vnd.databricks.v1+cell": {
     "cellMetadata": {
      "byteLimit": 2048000,
      "rowLimit": 10000
     },
     "inputWidgets": {},
     "nuid": "775ca518-6d39-4c16-b794-577b6cb96151",
     "showTitle": false,
     "title": ""
    }
   },
   "source": [
    "# Importing modules to be used"
   ]
  },
  {
   "cell_type": "code",
   "execution_count": 0,
   "metadata": {
    "application/vnd.databricks.v1+cell": {
     "cellMetadata": {
      "byteLimit": 2048000,
      "rowLimit": 10000
     },
     "inputWidgets": {},
     "nuid": "df9a0158-bb6b-497f-8f5a-ccbf1cc5f9c7",
     "showTitle": false,
     "title": ""
    }
   },
   "outputs": [],
   "source": [
    "import pyspark.sql.functions as f"
   ]
  },
  {
   "cell_type": "markdown",
   "metadata": {
    "application/vnd.databricks.v1+cell": {
     "cellMetadata": {
      "byteLimit": 2048000,
      "rowLimit": 10000
     },
     "inputWidgets": {},
     "nuid": "b295ef42-d479-4ad9-8912-28751a5200af",
     "showTitle": false,
     "title": ""
    }
   },
   "source": [
    "# Creation of the DimDate dataframe"
   ]
  },
  {
   "cell_type": "code",
   "execution_count": 0,
   "metadata": {
    "application/vnd.databricks.v1+cell": {
     "cellMetadata": {
      "byteLimit": 2048000,
      "rowLimit": 10000
     },
     "inputWidgets": {},
     "nuid": "13f3883d-20b3-4bba-af75-c8ec1bd5a9f5",
     "showTitle": false,
     "title": ""
    }
   },
   "outputs": [
    {
     "output_type": "display_data",
     "data": {
      "text/html": [
       "<style scoped>\n",
       "  .table-result-container {\n",
       "    max-height: 300px;\n",
       "    overflow: auto;\n",
       "  }\n",
       "  table, th, td {\n",
       "    border: 1px solid black;\n",
       "    border-collapse: collapse;\n",
       "  }\n",
       "  th, td {\n",
       "    padding: 5px;\n",
       "  }\n",
       "  th {\n",
       "    text-align: left;\n",
       "  }\n",
       "</style><div class='table-result-container'><table class='table-result'><thead style='background-color: white'><tr><th>uuid</th><th>date</th><th>year</th><th>month</th><th>day</th><th>day_of_week</th></tr></thead><tbody><tr><td>e52fa92e-8dc7-4aad-8aae-81fefe0214d5</td><td>1872-11-30</td><td>1872</td><td>11</td><td>30</td><td>Sat</td></tr><tr><td>7fef1c0e-a1d7-49ae-9332-3e3e8d1e79ad</td><td>1873-03-08</td><td>1873</td><td>3</td><td>8</td><td>Sat</td></tr><tr><td>e7ad1430-ed60-476f-9432-14b6eea0bf37</td><td>1874-03-07</td><td>1874</td><td>3</td><td>7</td><td>Sat</td></tr><tr><td>cc26c5d3-8d71-4c5b-bfdc-7610cd381ad9</td><td>1875-03-06</td><td>1875</td><td>3</td><td>6</td><td>Sat</td></tr><tr><td>3d91b61f-5a41-42bc-a021-fbed43a355a1</td><td>1876-03-04</td><td>1876</td><td>3</td><td>4</td><td>Sat</td></tr><tr><td>53eaa18c-2aac-478a-81c7-21ba05887061</td><td>1876-03-25</td><td>1876</td><td>3</td><td>25</td><td>Sat</td></tr><tr><td>32fd8bd7-46d5-4191-9d61-08e892749777</td><td>1877-03-03</td><td>1877</td><td>3</td><td>3</td><td>Sat</td></tr><tr><td>b45bf31f-1982-47b9-a4d1-04a3b7ebf9c3</td><td>1877-03-05</td><td>1877</td><td>3</td><td>5</td><td>Mon</td></tr><tr><td>f18819af-c611-41ff-88ec-62bce722f397</td><td>1878-03-02</td><td>1878</td><td>3</td><td>2</td><td>Sat</td></tr><tr><td>7beebc72-bf19-4795-8893-9ca694683246</td><td>1878-03-23</td><td>1878</td><td>3</td><td>23</td><td>Sat</td></tr><tr><td>09aed68d-2871-4099-82e5-8b7b413b335d</td><td>1879-01-18</td><td>1879</td><td>1</td><td>18</td><td>Sat</td></tr><tr><td>fb2d7550-9846-4b86-a30d-197f62c3e842</td><td>1879-04-05</td><td>1879</td><td>4</td><td>5</td><td>Sat</td></tr><tr><td>9fa0b6ae-8058-4101-bffb-e14a25e7d518</td><td>1879-04-07</td><td>1879</td><td>4</td><td>7</td><td>Mon</td></tr><tr><td>d1fcb0ac-36fe-4ec4-a8e1-4537f7fbec45</td><td>1880-03-13</td><td>1880</td><td>3</td><td>13</td><td>Sat</td></tr><tr><td>3f4a90da-4483-4b9b-8f0c-e991fb758d47</td><td>1880-03-15</td><td>1880</td><td>3</td><td>15</td><td>Mon</td></tr><tr><td>c5d9756e-6918-4b13-a4e3-b51e42bc5276</td><td>1880-03-27</td><td>1880</td><td>3</td><td>27</td><td>Sat</td></tr><tr><td>653d362c-bb9b-4796-a691-a0af006a790f</td><td>1881-02-26</td><td>1881</td><td>2</td><td>26</td><td>Sat</td></tr><tr><td>53b67591-d8b4-4dc4-88c1-c6ce42e807c3</td><td>1881-03-12</td><td>1881</td><td>3</td><td>12</td><td>Sat</td></tr><tr><td>948be578-68df-44cb-917f-70b39e0bf5dd</td><td>1881-03-14</td><td>1881</td><td>3</td><td>14</td><td>Mon</td></tr><tr><td>e97095c2-1f8b-4097-8645-96c35ef100d2</td><td>1882-02-18</td><td>1882</td><td>2</td><td>18</td><td>Sat</td></tr><tr><td>49e2e1de-f607-4614-9196-751064869126</td><td>1882-02-25</td><td>1882</td><td>2</td><td>25</td><td>Sat</td></tr><tr><td>b0268a40-b871-4bd0-a686-837ec33ece04</td><td>1882-03-11</td><td>1882</td><td>3</td><td>11</td><td>Sat</td></tr><tr><td>8541e2f9-9273-4a2f-b4a3-b21eabd9d1c3</td><td>1882-03-13</td><td>1882</td><td>3</td><td>13</td><td>Mon</td></tr><tr><td>4ca05014-3a98-41d6-b606-1ba1dc23b80c</td><td>1882-03-25</td><td>1882</td><td>3</td><td>25</td><td>Sat</td></tr><tr><td>12283155-33ad-4452-b0b6-ffe8c69a9534</td><td>1883-02-03</td><td>1883</td><td>2</td><td>3</td><td>Sat</td></tr><tr><td>42d4ec96-917a-4ad2-b85c-d0bc4f5395d4</td><td>1883-02-24</td><td>1883</td><td>2</td><td>24</td><td>Sat</td></tr><tr><td>bf25894a-9460-4cc1-9415-32469f9a1947</td><td>1883-03-10</td><td>1883</td><td>3</td><td>10</td><td>Sat</td></tr><tr><td>30b2f9ea-e4c0-4fd3-98ad-869088de5403</td><td>1883-03-12</td><td>1883</td><td>3</td><td>12</td><td>Mon</td></tr><tr><td>2d5d7a7f-1756-4076-b91c-f2ae9bdff493</td><td>1883-03-17</td><td>1883</td><td>3</td><td>17</td><td>Sat</td></tr><tr><td>c74eebc8-e82f-45b2-a7e2-2e60ddb07e0e</td><td>1884-01-26</td><td>1884</td><td>1</td><td>26</td><td>Sat</td></tr><tr><td>f83d3838-7cae-4335-aa91-56cf8d12c38c</td><td>1884-02-09</td><td>1884</td><td>2</td><td>9</td><td>Sat</td></tr><tr><td>f6c72860-1cb9-4f72-b017-f987b06615ef</td><td>1884-02-23</td><td>1884</td><td>2</td><td>23</td><td>Sat</td></tr><tr><td>f8c551ec-d776-4a2b-9dce-88d6bef374b1</td><td>1884-03-15</td><td>1884</td><td>3</td><td>15</td><td>Sat</td></tr><tr><td>e41b5bc3-3126-41ae-9a24-e605f707dfa1</td><td>1884-03-17</td><td>1884</td><td>3</td><td>17</td><td>Mon</td></tr><tr><td>d0033989-405f-4055-815c-68e1da5f8200</td><td>1884-03-29</td><td>1884</td><td>3</td><td>29</td><td>Sat</td></tr><tr><td>2fadf2a5-e9f1-4fef-bde3-9ebf63724beb</td><td>1885-02-28</td><td>1885</td><td>2</td><td>28</td><td>Sat</td></tr><tr><td>1187022c-e3c7-418f-94c8-91b70f875878</td><td>1885-03-14</td><td>1885</td><td>3</td><td>14</td><td>Sat</td></tr><tr><td>1dbcdb34-216b-4c97-a8f4-6d5aa5e08390</td><td>1885-03-21</td><td>1885</td><td>3</td><td>21</td><td>Sat</td></tr><tr><td>4f2a0290-66bd-4e8d-81d0-81d80d0e2c4f</td><td>1885-03-23</td><td>1885</td><td>3</td><td>23</td><td>Mon</td></tr><tr><td>593963f2-be03-41e0-9acb-769296f25d5f</td><td>1885-04-11</td><td>1885</td><td>4</td><td>11</td><td>Sat</td></tr><tr><td>1545c237-0b7c-42e5-a794-9f37d3ed2341</td><td>1885-11-28</td><td>1885</td><td>11</td><td>28</td><td>Sat</td></tr><tr><td>d7f3d9bc-3a9a-4e5f-9d7c-f680202e847a</td><td>1886-02-27</td><td>1886</td><td>2</td><td>27</td><td>Sat</td></tr><tr><td>f53a3c7e-4eb8-435d-a85a-9bc6de8a0dd2</td><td>1886-03-13</td><td>1886</td><td>3</td><td>13</td><td>Sat</td></tr><tr><td>ba5ee054-cf6d-440c-bd60-73d92faff737</td><td>1886-03-20</td><td>1886</td><td>3</td><td>20</td><td>Sat</td></tr><tr><td>c810516d-dfed-4bb4-9128-2bdd9280a52b</td><td>1886-03-27</td><td>1886</td><td>3</td><td>27</td><td>Sat</td></tr><tr><td>71514f29-b9bb-411b-94e3-d328d651d01f</td><td>1886-03-29</td><td>1886</td><td>3</td><td>29</td><td>Mon</td></tr><tr><td>1da9e9af-fcb4-4e28-ad9f-c4fbd3576125</td><td>1886-04-10</td><td>1886</td><td>4</td><td>10</td><td>Sat</td></tr><tr><td>ec0d41b0-81e6-4ec5-86db-09bfc2acdd60</td><td>1886-11-25</td><td>1886</td><td>11</td><td>25</td><td>Thu</td></tr><tr><td>0e5928a9-f0e3-4c78-a3da-833e7be3948b</td><td>1887-02-05</td><td>1887</td><td>2</td><td>5</td><td>Sat</td></tr><tr><td>98ebf437-f35d-4597-933f-e7017c4d2572</td><td>1887-02-19</td><td>1887</td><td>2</td><td>19</td><td>Sat</td></tr><tr><td>839e8b1d-9803-49f1-8883-c0e0910f9bd7</td><td>1887-02-26</td><td>1887</td><td>2</td><td>26</td><td>Sat</td></tr><tr><td>218d0178-bda6-421b-b0e0-2a4ef4fc9628</td><td>1887-03-12</td><td>1887</td><td>3</td><td>12</td><td>Sat</td></tr><tr><td>905c987b-b945-4ccb-b9b7-8abe3a239c87</td><td>1887-03-19</td><td>1887</td><td>3</td><td>19</td><td>Sat</td></tr><tr><td>2445b288-8348-45a9-bed4-e48112af14eb</td><td>1887-03-21</td><td>1887</td><td>3</td><td>21</td><td>Mon</td></tr><tr><td>0816c033-3cfa-45a5-b966-71ee4e69700e</td><td>1888-02-04</td><td>1888</td><td>2</td><td>4</td><td>Sat</td></tr><tr><td>05300654-a8e9-489c-8145-2c28aced259d</td><td>1888-03-03</td><td>1888</td><td>3</td><td>3</td><td>Sat</td></tr><tr><td>74ae77f9-ca1b-413d-94a3-64b5ef34ff90</td><td>1888-03-10</td><td>1888</td><td>3</td><td>10</td><td>Sat</td></tr><tr><td>a4cb3ec1-f58d-4c1e-aa2f-901ec35fdfce</td><td>1888-03-17</td><td>1888</td><td>3</td><td>17</td><td>Sat</td></tr><tr><td>f7fd5d9a-2d47-4596-b1be-83db432c46ee</td><td>1888-03-24</td><td>1888</td><td>3</td><td>24</td><td>Sat</td></tr><tr><td>4ab06951-cb01-4aad-b4de-f8c56d987e9a</td><td>1888-04-07</td><td>1888</td><td>4</td><td>7</td><td>Sat</td></tr><tr><td>4d50040a-3f6e-4598-924f-696161747c98</td><td>1888-09-19</td><td>1888</td><td>9</td><td>19</td><td>Wed</td></tr><tr><td>dd90fcca-4aa2-48ef-9241-2cae80617f19</td><td>1889-02-23</td><td>1889</td><td>2</td><td>23</td><td>Sat</td></tr><tr><td>41cbc58a-aa00-4a7e-a0cc-24d9576ce29c</td><td>1889-03-02</td><td>1889</td><td>3</td><td>2</td><td>Sat</td></tr><tr><td>76535493-ef14-49f9-ad84-f61de951b463</td><td>1889-03-09</td><td>1889</td><td>3</td><td>9</td><td>Sat</td></tr><tr><td>7dde0012-0d27-4d91-9214-fe3109c39ca3</td><td>1889-04-13</td><td>1889</td><td>4</td><td>13</td><td>Sat</td></tr><tr><td>dfa6835c-fbfb-4d85-9a0f-7ad909dd2e05</td><td>1889-04-15</td><td>1889</td><td>4</td><td>15</td><td>Mon</td></tr><tr><td>8cf71268-b1da-4b5c-bc65-377316bf5860</td><td>1889-04-27</td><td>1889</td><td>4</td><td>27</td><td>Sat</td></tr><tr><td>938f44bf-6c5b-45e0-9f66-33e0012b2dd1</td><td>1890-02-08</td><td>1890</td><td>2</td><td>8</td><td>Sat</td></tr><tr><td>82b681b9-8f8e-498b-a508-9bd3604039e4</td><td>1890-03-15</td><td>1890</td><td>3</td><td>15</td><td>Sat</td></tr><tr><td>29a19d0a-d819-495e-8ae3-3255e827f20b</td><td>1890-03-22</td><td>1890</td><td>3</td><td>22</td><td>Sat</td></tr><tr><td>c3ab57b3-4f87-4077-ac55-566540d5519b</td><td>1890-03-29</td><td>1890</td><td>3</td><td>29</td><td>Sat</td></tr><tr><td>715a4c3a-dcb4-4f51-8619-485092d40f38</td><td>1890-04-05</td><td>1890</td><td>4</td><td>5</td><td>Sat</td></tr><tr><td>01f985ce-5c0a-441c-84d6-bbe6f64215a9</td><td>1891-02-07</td><td>1891</td><td>2</td><td>7</td><td>Sat</td></tr><tr><td>99c77f1e-589e-4540-b515-ccbe381a46ed</td><td>1891-03-07</td><td>1891</td><td>3</td><td>7</td><td>Sat</td></tr><tr><td>2cfbe14c-2d37-4935-ab45-22df1a585875</td><td>1891-03-21</td><td>1891</td><td>3</td><td>21</td><td>Sat</td></tr><tr><td>9d01066a-ebdd-49f6-95b1-5826196485b1</td><td>1891-03-28</td><td>1891</td><td>3</td><td>28</td><td>Sat</td></tr><tr><td>8f97e987-31a3-4ada-8fa5-0321fe095dd7</td><td>1891-04-06</td><td>1891</td><td>4</td><td>6</td><td>Mon</td></tr><tr><td>efa2d271-7fd3-41e4-81c7-88a22bd725a6</td><td>1892-02-27</td><td>1892</td><td>2</td><td>27</td><td>Sat</td></tr><tr><td>c5ae943a-5530-4b83-9868-e6b86036f0c3</td><td>1892-03-05</td><td>1892</td><td>3</td><td>5</td><td>Sat</td></tr><tr><td>0b8038f1-237f-4966-a0ef-1b353b3bad5d</td><td>1892-03-19</td><td>1892</td><td>3</td><td>19</td><td>Sat</td></tr><tr><td>13d64090-29dd-4c75-8295-d839f86c07b3</td><td>1892-03-26</td><td>1892</td><td>3</td><td>26</td><td>Sat</td></tr><tr><td>6d4a9417-ce34-44ae-8141-aab25f71a602</td><td>1892-04-02</td><td>1892</td><td>4</td><td>2</td><td>Sat</td></tr><tr><td>cf90412d-26e6-4150-8455-ec2a945cc13e</td><td>1893-02-25</td><td>1893</td><td>2</td><td>25</td><td>Sat</td></tr><tr><td>00c0b526-c2a2-4151-848d-9808073bbe91</td><td>1893-03-13</td><td>1893</td><td>3</td><td>13</td><td>Mon</td></tr><tr><td>4df23e65-55cc-46bc-becb-cde5187099b4</td><td>1893-03-18</td><td>1893</td><td>3</td><td>18</td><td>Sat</td></tr><tr><td>b29113ab-5c37-4601-a706-65570bc6995c</td><td>1893-03-25</td><td>1893</td><td>3</td><td>25</td><td>Sat</td></tr><tr><td>3cf4b9b3-d0f3-4286-a587-d35d6863ff65</td><td>1893-04-01</td><td>1893</td><td>4</td><td>1</td><td>Sat</td></tr><tr><td>ac4204c6-7a83-40d6-aeee-1cc2754df20c</td><td>1894-02-24</td><td>1894</td><td>2</td><td>24</td><td>Sat</td></tr><tr><td>93f0514e-7d0f-4079-9ccf-79279e388531</td><td>1894-03-03</td><td>1894</td><td>3</td><td>3</td><td>Sat</td></tr><tr><td>678a393e-85c2-44c0-817d-1b714812d092</td><td>1894-03-12</td><td>1894</td><td>3</td><td>12</td><td>Mon</td></tr><tr><td>811a24a4-d758-43f1-a8ec-2cba570d70bb</td><td>1894-03-24</td><td>1894</td><td>3</td><td>24</td><td>Sat</td></tr><tr><td>c8f77fca-dd6a-4ca8-9637-e2a688248b70</td><td>1894-03-31</td><td>1894</td><td>3</td><td>31</td><td>Sat</td></tr><tr><td>2642265f-065c-4466-b768-e59072668ffc</td><td>1894-04-07</td><td>1894</td><td>4</td><td>7</td><td>Sat</td></tr><tr><td>e85338e2-6614-4b15-a170-06cf80c12b2f</td><td>1895-03-09</td><td>1895</td><td>3</td><td>9</td><td>Sat</td></tr><tr><td>1a1e350a-bec0-4b31-8ce3-a77eda981716</td><td>1895-03-16</td><td>1895</td><td>3</td><td>16</td><td>Sat</td></tr><tr><td>a8b7f0ea-3138-4837-ad0e-0f477301d49a</td><td>1895-03-18</td><td>1895</td><td>3</td><td>18</td><td>Mon</td></tr><tr><td>ffce4836-1a9b-4997-a443-0be3919250c4</td><td>1895-03-23</td><td>1895</td><td>3</td><td>23</td><td>Sat</td></tr><tr><td>9ce2c2ba-6637-4597-ae6e-231ebc5ed2d8</td><td>1895-03-30</td><td>1895</td><td>3</td><td>30</td><td>Sat</td></tr><tr><td>88b9f08c-ea9d-498c-ac40-15db84fb2165</td><td>1895-04-06</td><td>1895</td><td>4</td><td>6</td><td>Sat</td></tr><tr><td>ac3b780b-a392-4967-97eb-c8d71aebdc93</td><td>1896-02-29</td><td>1896</td><td>2</td><td>29</td><td>Sat</td></tr></tbody></table></div>"
      ]
     },
     "metadata": {
      "application/vnd.databricks.v1+output": {
       "addedWidgets": {},
       "aggData": [],
       "aggError": "",
       "aggOverflow": false,
       "aggSchema": [],
       "aggSeriesLimitReached": false,
       "aggType": "",
       "arguments": {},
       "columnCustomDisplayInfos": {},
       "data": [
        [
         "e52fa92e-8dc7-4aad-8aae-81fefe0214d5",
         "1872-11-30",
         1872,
         11,
         30,
         "Sat"
        ],
        [
         "7fef1c0e-a1d7-49ae-9332-3e3e8d1e79ad",
         "1873-03-08",
         1873,
         3,
         8,
         "Sat"
        ],
        [
         "e7ad1430-ed60-476f-9432-14b6eea0bf37",
         "1874-03-07",
         1874,
         3,
         7,
         "Sat"
        ],
        [
         "cc26c5d3-8d71-4c5b-bfdc-7610cd381ad9",
         "1875-03-06",
         1875,
         3,
         6,
         "Sat"
        ],
        [
         "3d91b61f-5a41-42bc-a021-fbed43a355a1",
         "1876-03-04",
         1876,
         3,
         4,
         "Sat"
        ],
        [
         "53eaa18c-2aac-478a-81c7-21ba05887061",
         "1876-03-25",
         1876,
         3,
         25,
         "Sat"
        ],
        [
         "32fd8bd7-46d5-4191-9d61-08e892749777",
         "1877-03-03",
         1877,
         3,
         3,
         "Sat"
        ],
        [
         "b45bf31f-1982-47b9-a4d1-04a3b7ebf9c3",
         "1877-03-05",
         1877,
         3,
         5,
         "Mon"
        ],
        [
         "f18819af-c611-41ff-88ec-62bce722f397",
         "1878-03-02",
         1878,
         3,
         2,
         "Sat"
        ],
        [
         "7beebc72-bf19-4795-8893-9ca694683246",
         "1878-03-23",
         1878,
         3,
         23,
         "Sat"
        ],
        [
         "09aed68d-2871-4099-82e5-8b7b413b335d",
         "1879-01-18",
         1879,
         1,
         18,
         "Sat"
        ],
        [
         "fb2d7550-9846-4b86-a30d-197f62c3e842",
         "1879-04-05",
         1879,
         4,
         5,
         "Sat"
        ],
        [
         "9fa0b6ae-8058-4101-bffb-e14a25e7d518",
         "1879-04-07",
         1879,
         4,
         7,
         "Mon"
        ],
        [
         "d1fcb0ac-36fe-4ec4-a8e1-4537f7fbec45",
         "1880-03-13",
         1880,
         3,
         13,
         "Sat"
        ],
        [
         "3f4a90da-4483-4b9b-8f0c-e991fb758d47",
         "1880-03-15",
         1880,
         3,
         15,
         "Mon"
        ],
        [
         "c5d9756e-6918-4b13-a4e3-b51e42bc5276",
         "1880-03-27",
         1880,
         3,
         27,
         "Sat"
        ],
        [
         "653d362c-bb9b-4796-a691-a0af006a790f",
         "1881-02-26",
         1881,
         2,
         26,
         "Sat"
        ],
        [
         "53b67591-d8b4-4dc4-88c1-c6ce42e807c3",
         "1881-03-12",
         1881,
         3,
         12,
         "Sat"
        ],
        [
         "948be578-68df-44cb-917f-70b39e0bf5dd",
         "1881-03-14",
         1881,
         3,
         14,
         "Mon"
        ],
        [
         "e97095c2-1f8b-4097-8645-96c35ef100d2",
         "1882-02-18",
         1882,
         2,
         18,
         "Sat"
        ],
        [
         "49e2e1de-f607-4614-9196-751064869126",
         "1882-02-25",
         1882,
         2,
         25,
         "Sat"
        ],
        [
         "b0268a40-b871-4bd0-a686-837ec33ece04",
         "1882-03-11",
         1882,
         3,
         11,
         "Sat"
        ],
        [
         "8541e2f9-9273-4a2f-b4a3-b21eabd9d1c3",
         "1882-03-13",
         1882,
         3,
         13,
         "Mon"
        ],
        [
         "4ca05014-3a98-41d6-b606-1ba1dc23b80c",
         "1882-03-25",
         1882,
         3,
         25,
         "Sat"
        ],
        [
         "12283155-33ad-4452-b0b6-ffe8c69a9534",
         "1883-02-03",
         1883,
         2,
         3,
         "Sat"
        ],
        [
         "42d4ec96-917a-4ad2-b85c-d0bc4f5395d4",
         "1883-02-24",
         1883,
         2,
         24,
         "Sat"
        ],
        [
         "bf25894a-9460-4cc1-9415-32469f9a1947",
         "1883-03-10",
         1883,
         3,
         10,
         "Sat"
        ],
        [
         "30b2f9ea-e4c0-4fd3-98ad-869088de5403",
         "1883-03-12",
         1883,
         3,
         12,
         "Mon"
        ],
        [
         "2d5d7a7f-1756-4076-b91c-f2ae9bdff493",
         "1883-03-17",
         1883,
         3,
         17,
         "Sat"
        ],
        [
         "c74eebc8-e82f-45b2-a7e2-2e60ddb07e0e",
         "1884-01-26",
         1884,
         1,
         26,
         "Sat"
        ],
        [
         "f83d3838-7cae-4335-aa91-56cf8d12c38c",
         "1884-02-09",
         1884,
         2,
         9,
         "Sat"
        ],
        [
         "f6c72860-1cb9-4f72-b017-f987b06615ef",
         "1884-02-23",
         1884,
         2,
         23,
         "Sat"
        ],
        [
         "f8c551ec-d776-4a2b-9dce-88d6bef374b1",
         "1884-03-15",
         1884,
         3,
         15,
         "Sat"
        ],
        [
         "e41b5bc3-3126-41ae-9a24-e605f707dfa1",
         "1884-03-17",
         1884,
         3,
         17,
         "Mon"
        ],
        [
         "d0033989-405f-4055-815c-68e1da5f8200",
         "1884-03-29",
         1884,
         3,
         29,
         "Sat"
        ],
        [
         "2fadf2a5-e9f1-4fef-bde3-9ebf63724beb",
         "1885-02-28",
         1885,
         2,
         28,
         "Sat"
        ],
        [
         "1187022c-e3c7-418f-94c8-91b70f875878",
         "1885-03-14",
         1885,
         3,
         14,
         "Sat"
        ],
        [
         "1dbcdb34-216b-4c97-a8f4-6d5aa5e08390",
         "1885-03-21",
         1885,
         3,
         21,
         "Sat"
        ],
        [
         "4f2a0290-66bd-4e8d-81d0-81d80d0e2c4f",
         "1885-03-23",
         1885,
         3,
         23,
         "Mon"
        ],
        [
         "593963f2-be03-41e0-9acb-769296f25d5f",
         "1885-04-11",
         1885,
         4,
         11,
         "Sat"
        ],
        [
         "1545c237-0b7c-42e5-a794-9f37d3ed2341",
         "1885-11-28",
         1885,
         11,
         28,
         "Sat"
        ],
        [
         "d7f3d9bc-3a9a-4e5f-9d7c-f680202e847a",
         "1886-02-27",
         1886,
         2,
         27,
         "Sat"
        ],
        [
         "f53a3c7e-4eb8-435d-a85a-9bc6de8a0dd2",
         "1886-03-13",
         1886,
         3,
         13,
         "Sat"
        ],
        [
         "ba5ee054-cf6d-440c-bd60-73d92faff737",
         "1886-03-20",
         1886,
         3,
         20,
         "Sat"
        ],
        [
         "c810516d-dfed-4bb4-9128-2bdd9280a52b",
         "1886-03-27",
         1886,
         3,
         27,
         "Sat"
        ],
        [
         "71514f29-b9bb-411b-94e3-d328d651d01f",
         "1886-03-29",
         1886,
         3,
         29,
         "Mon"
        ],
        [
         "1da9e9af-fcb4-4e28-ad9f-c4fbd3576125",
         "1886-04-10",
         1886,
         4,
         10,
         "Sat"
        ],
        [
         "ec0d41b0-81e6-4ec5-86db-09bfc2acdd60",
         "1886-11-25",
         1886,
         11,
         25,
         "Thu"
        ],
        [
         "0e5928a9-f0e3-4c78-a3da-833e7be3948b",
         "1887-02-05",
         1887,
         2,
         5,
         "Sat"
        ],
        [
         "98ebf437-f35d-4597-933f-e7017c4d2572",
         "1887-02-19",
         1887,
         2,
         19,
         "Sat"
        ],
        [
         "839e8b1d-9803-49f1-8883-c0e0910f9bd7",
         "1887-02-26",
         1887,
         2,
         26,
         "Sat"
        ],
        [
         "218d0178-bda6-421b-b0e0-2a4ef4fc9628",
         "1887-03-12",
         1887,
         3,
         12,
         "Sat"
        ],
        [
         "905c987b-b945-4ccb-b9b7-8abe3a239c87",
         "1887-03-19",
         1887,
         3,
         19,
         "Sat"
        ],
        [
         "2445b288-8348-45a9-bed4-e48112af14eb",
         "1887-03-21",
         1887,
         3,
         21,
         "Mon"
        ],
        [
         "0816c033-3cfa-45a5-b966-71ee4e69700e",
         "1888-02-04",
         1888,
         2,
         4,
         "Sat"
        ],
        [
         "05300654-a8e9-489c-8145-2c28aced259d",
         "1888-03-03",
         1888,
         3,
         3,
         "Sat"
        ],
        [
         "74ae77f9-ca1b-413d-94a3-64b5ef34ff90",
         "1888-03-10",
         1888,
         3,
         10,
         "Sat"
        ],
        [
         "a4cb3ec1-f58d-4c1e-aa2f-901ec35fdfce",
         "1888-03-17",
         1888,
         3,
         17,
         "Sat"
        ],
        [
         "f7fd5d9a-2d47-4596-b1be-83db432c46ee",
         "1888-03-24",
         1888,
         3,
         24,
         "Sat"
        ],
        [
         "4ab06951-cb01-4aad-b4de-f8c56d987e9a",
         "1888-04-07",
         1888,
         4,
         7,
         "Sat"
        ],
        [
         "4d50040a-3f6e-4598-924f-696161747c98",
         "1888-09-19",
         1888,
         9,
         19,
         "Wed"
        ],
        [
         "dd90fcca-4aa2-48ef-9241-2cae80617f19",
         "1889-02-23",
         1889,
         2,
         23,
         "Sat"
        ],
        [
         "41cbc58a-aa00-4a7e-a0cc-24d9576ce29c",
         "1889-03-02",
         1889,
         3,
         2,
         "Sat"
        ],
        [
         "76535493-ef14-49f9-ad84-f61de951b463",
         "1889-03-09",
         1889,
         3,
         9,
         "Sat"
        ],
        [
         "7dde0012-0d27-4d91-9214-fe3109c39ca3",
         "1889-04-13",
         1889,
         4,
         13,
         "Sat"
        ],
        [
         "dfa6835c-fbfb-4d85-9a0f-7ad909dd2e05",
         "1889-04-15",
         1889,
         4,
         15,
         "Mon"
        ],
        [
         "8cf71268-b1da-4b5c-bc65-377316bf5860",
         "1889-04-27",
         1889,
         4,
         27,
         "Sat"
        ],
        [
         "938f44bf-6c5b-45e0-9f66-33e0012b2dd1",
         "1890-02-08",
         1890,
         2,
         8,
         "Sat"
        ],
        [
         "82b681b9-8f8e-498b-a508-9bd3604039e4",
         "1890-03-15",
         1890,
         3,
         15,
         "Sat"
        ],
        [
         "29a19d0a-d819-495e-8ae3-3255e827f20b",
         "1890-03-22",
         1890,
         3,
         22,
         "Sat"
        ],
        [
         "c3ab57b3-4f87-4077-ac55-566540d5519b",
         "1890-03-29",
         1890,
         3,
         29,
         "Sat"
        ],
        [
         "715a4c3a-dcb4-4f51-8619-485092d40f38",
         "1890-04-05",
         1890,
         4,
         5,
         "Sat"
        ],
        [
         "01f985ce-5c0a-441c-84d6-bbe6f64215a9",
         "1891-02-07",
         1891,
         2,
         7,
         "Sat"
        ],
        [
         "99c77f1e-589e-4540-b515-ccbe381a46ed",
         "1891-03-07",
         1891,
         3,
         7,
         "Sat"
        ],
        [
         "2cfbe14c-2d37-4935-ab45-22df1a585875",
         "1891-03-21",
         1891,
         3,
         21,
         "Sat"
        ],
        [
         "9d01066a-ebdd-49f6-95b1-5826196485b1",
         "1891-03-28",
         1891,
         3,
         28,
         "Sat"
        ],
        [
         "8f97e987-31a3-4ada-8fa5-0321fe095dd7",
         "1891-04-06",
         1891,
         4,
         6,
         "Mon"
        ],
        [
         "efa2d271-7fd3-41e4-81c7-88a22bd725a6",
         "1892-02-27",
         1892,
         2,
         27,
         "Sat"
        ],
        [
         "c5ae943a-5530-4b83-9868-e6b86036f0c3",
         "1892-03-05",
         1892,
         3,
         5,
         "Sat"
        ],
        [
         "0b8038f1-237f-4966-a0ef-1b353b3bad5d",
         "1892-03-19",
         1892,
         3,
         19,
         "Sat"
        ],
        [
         "13d64090-29dd-4c75-8295-d839f86c07b3",
         "1892-03-26",
         1892,
         3,
         26,
         "Sat"
        ],
        [
         "6d4a9417-ce34-44ae-8141-aab25f71a602",
         "1892-04-02",
         1892,
         4,
         2,
         "Sat"
        ],
        [
         "cf90412d-26e6-4150-8455-ec2a945cc13e",
         "1893-02-25",
         1893,
         2,
         25,
         "Sat"
        ],
        [
         "00c0b526-c2a2-4151-848d-9808073bbe91",
         "1893-03-13",
         1893,
         3,
         13,
         "Mon"
        ],
        [
         "4df23e65-55cc-46bc-becb-cde5187099b4",
         "1893-03-18",
         1893,
         3,
         18,
         "Sat"
        ],
        [
         "b29113ab-5c37-4601-a706-65570bc6995c",
         "1893-03-25",
         1893,
         3,
         25,
         "Sat"
        ],
        [
         "3cf4b9b3-d0f3-4286-a587-d35d6863ff65",
         "1893-04-01",
         1893,
         4,
         1,
         "Sat"
        ],
        [
         "ac4204c6-7a83-40d6-aeee-1cc2754df20c",
         "1894-02-24",
         1894,
         2,
         24,
         "Sat"
        ],
        [
         "93f0514e-7d0f-4079-9ccf-79279e388531",
         "1894-03-03",
         1894,
         3,
         3,
         "Sat"
        ],
        [
         "678a393e-85c2-44c0-817d-1b714812d092",
         "1894-03-12",
         1894,
         3,
         12,
         "Mon"
        ],
        [
         "811a24a4-d758-43f1-a8ec-2cba570d70bb",
         "1894-03-24",
         1894,
         3,
         24,
         "Sat"
        ],
        [
         "c8f77fca-dd6a-4ca8-9637-e2a688248b70",
         "1894-03-31",
         1894,
         3,
         31,
         "Sat"
        ],
        [
         "2642265f-065c-4466-b768-e59072668ffc",
         "1894-04-07",
         1894,
         4,
         7,
         "Sat"
        ],
        [
         "e85338e2-6614-4b15-a170-06cf80c12b2f",
         "1895-03-09",
         1895,
         3,
         9,
         "Sat"
        ],
        [
         "1a1e350a-bec0-4b31-8ce3-a77eda981716",
         "1895-03-16",
         1895,
         3,
         16,
         "Sat"
        ],
        [
         "a8b7f0ea-3138-4837-ad0e-0f477301d49a",
         "1895-03-18",
         1895,
         3,
         18,
         "Mon"
        ],
        [
         "ffce4836-1a9b-4997-a443-0be3919250c4",
         "1895-03-23",
         1895,
         3,
         23,
         "Sat"
        ],
        [
         "9ce2c2ba-6637-4597-ae6e-231ebc5ed2d8",
         "1895-03-30",
         1895,
         3,
         30,
         "Sat"
        ],
        [
         "88b9f08c-ea9d-498c-ac40-15db84fb2165",
         "1895-04-06",
         1895,
         4,
         6,
         "Sat"
        ],
        [
         "ac3b780b-a392-4967-97eb-c8d71aebdc93",
         "1896-02-29",
         1896,
         2,
         29,
         "Sat"
        ]
       ],
       "datasetInfos": [],
       "dbfsResultPath": null,
       "isJsonSchema": true,
       "metadata": {},
       "overflow": false,
       "plotOptions": {
        "customPlotOptions": {},
        "displayType": "table",
        "pivotAggregation": null,
        "pivotColumns": null,
        "xColumns": null,
        "yColumns": null
       },
       "removedWidgets": [],
       "schema": [
        {
         "metadata": "{}",
         "name": "uuid",
         "type": "\"string\""
        },
        {
         "metadata": "{}",
         "name": "date",
         "type": "\"date\""
        },
        {
         "metadata": "{}",
         "name": "year",
         "type": "\"long\""
        },
        {
         "metadata": "{}",
         "name": "month",
         "type": "\"long\""
        },
        {
         "metadata": "{}",
         "name": "day",
         "type": "\"long\""
        },
        {
         "metadata": "{}",
         "name": "day_of_week",
         "type": "\"string\""
        }
       ],
       "type": "table"
      }
     },
     "output_type": "display_data"
    }
   ],
   "source": [
    "dim_date_df = (\n",
    "    results_df.select(\"date\")\n",
    "    .distinct()\n",
    "    .withColumn(\"uuid\", f.expr(\"uuid()\"))\n",
    "    .withColumn(\"year\", f.date_part(f.lit(\"YEAR\"), results_df[\"date\"]))\n",
    "    .withColumn(\"month\", f.date_part(f.lit(\"MONTH\"), results_df[\"date\"]))\n",
    "    .withColumn(\"day\", f.date_part(f.lit(\"DAY\"), results_df[\"date\"]))\n",
    "    .withColumn(\"day_of_week\", f.date_format(results_df[\"date\"], \"E\"))\n",
    "    .orderBy(\"date\")\n",
    "    .select(\"uuid\", \"date\", \"year\", \"month\", \"day\", \"day_of_week\")\n",
    ")\n",
    "display(dim_date_df.head(100))"
   ]
  },
  {
   "cell_type": "markdown",
   "metadata": {
    "application/vnd.databricks.v1+cell": {
     "cellMetadata": {
      "byteLimit": 2048000,
      "rowLimit": 10000
     },
     "inputWidgets": {},
     "nuid": "bd091d4d-4fae-4901-9c8c-1da44f0cee8d",
     "showTitle": false,
     "title": ""
    }
   },
   "source": [
    "# Creation of the Dim Country dataframe"
   ]
  },
  {
   "cell_type": "code",
   "execution_count": 0,
   "metadata": {
    "application/vnd.databricks.v1+cell": {
     "cellMetadata": {
      "byteLimit": 2048000,
      "rowLimit": 10000
     },
     "inputWidgets": {},
     "nuid": "792ce14f-3c95-49ec-9317-09936a78d6d9",
     "showTitle": false,
     "title": ""
    }
   },
   "outputs": [
    {
     "output_type": "display_data",
     "data": {
      "text/html": [
       "<style scoped>\n",
       "  .table-result-container {\n",
       "    max-height: 300px;\n",
       "    overflow: auto;\n",
       "  }\n",
       "  table, th, td {\n",
       "    border: 1px solid black;\n",
       "    border-collapse: collapse;\n",
       "  }\n",
       "  th, td {\n",
       "    padding: 5px;\n",
       "  }\n",
       "  th {\n",
       "    text-align: left;\n",
       "  }\n",
       "</style><div class='table-result-container'><table class='table-result'><thead style='background-color: white'><tr><th>uuid</th><th>country</th></tr></thead><tbody><tr><td>4bf815f3-379f-4b73-ade9-724eb05a0577</td><td>Afghanistan</td></tr><tr><td>4cd98aea-6a3a-4a3b-b757-5b4416894097</td><td>Albania</td></tr><tr><td>9dc7aaec-5268-4d46-8057-2f3c987f6778</td><td>Alderney</td></tr><tr><td>5feb9fbd-544f-4048-8859-259ed9b6c727</td><td>Algeria</td></tr><tr><td>4dfd884e-c2f1-459b-9001-3b40b494a82d</td><td>Andorra</td></tr><tr><td>461aaade-a5f6-44d4-9760-189395b7c9e7</td><td>Angola</td></tr><tr><td>4351c3da-dd25-4b8d-a2c6-d57373695690</td><td>Anguilla</td></tr><tr><td>716844f1-2216-4f10-b7be-4f5370489c23</td><td>Antigua and Barbuda</td></tr><tr><td>ff9d78f6-af28-4065-8deb-d89b38bf41ea</td><td>Argentina</td></tr><tr><td>123f7a0a-6782-4fd8-ba85-3abe5f422310</td><td>Armenia</td></tr><tr><td>c7f10c73-f031-4f99-8303-ba411594f770</td><td>Aruba</td></tr><tr><td>a84c158e-463b-429b-8096-0feda3edd30b</td><td>Australia</td></tr><tr><td>da3d6111-44b9-4e31-b6b2-83dec6df6dc6</td><td>Austria</td></tr><tr><td>00121a84-dd28-4e05-88f0-22feaeeea5d5</td><td>Azerbaijan</td></tr><tr><td>3d7ee3ad-7e6e-4a05-a067-5d958f4fca3c</td><td>Bahamas</td></tr><tr><td>633ade72-11cb-49b4-8c83-9f600b4a1d5b</td><td>Bahrain</td></tr><tr><td>53e95686-83e4-4cb9-86ae-227a12d6d562</td><td>Bangladesh</td></tr><tr><td>90ef1e12-8ad1-4d77-b767-7ec365d29427</td><td>Barbados</td></tr><tr><td>e616a615-0671-4b92-85ac-20ddc35c2e5e</td><td>Belarus</td></tr><tr><td>c3ae6511-823e-4253-b5b0-2770afdfb073</td><td>Belgian Congo</td></tr><tr><td>592431bb-deea-4929-861e-d823ec03092f</td><td>Belgium</td></tr><tr><td>bdb7b71d-83ef-4fdf-8c6c-36a8fbddb5ab</td><td>Belize</td></tr><tr><td>827bb73f-bcc4-46ae-9895-575ce1d6daa7</td><td>Benin</td></tr><tr><td>819d50b2-1dcb-4feb-bb0d-d4c90d0a6df0</td><td>Bermuda</td></tr><tr><td>1e452e8d-24b5-45e2-83d9-2692f92b628b</td><td>Bhutan</td></tr><tr><td>f390d9c0-f436-4b40-9528-67c61dd2562a</td><td>Bohemia</td></tr><tr><td>237e325b-f9ff-4207-a9eb-37a88b1a8726</td><td>Bohemia and Moravia</td></tr><tr><td>6621f44e-eec2-4006-ac7b-b6409f934921</td><td>Bolivia</td></tr><tr><td>90263e05-6ab5-4d50-8541-3974761b1e8c</td><td>Bonaire</td></tr><tr><td>488bcd74-09fb-49d8-960d-f962b6f9d98d</td><td>Bosnia and Herzegovina</td></tr><tr><td>dd46781b-f1f0-47e1-be2d-109e39e72562</td><td>Botswana</td></tr><tr><td>fffa856b-ae15-4a46-959b-3bfb4f311ca1</td><td>Brazil</td></tr><tr><td>e9c50228-a4b9-429a-ac0f-3a9fd372891f</td><td>British Guyana</td></tr><tr><td>ad6eaa66-fc04-4a53-a781-a5b7caa7ad80</td><td>British Virgin Islands</td></tr><tr><td>d0b6f27e-76fa-46dc-ad59-aa9af785852e</td><td>Brunei</td></tr><tr><td>7194ec9c-0f66-4142-8397-88761c166c75</td><td>Bulgaria</td></tr><tr><td>9c5484b0-c081-4f4d-b799-d36e7ced3ff6</td><td>Burkina Faso</td></tr><tr><td>f28bf1a6-c1e0-46da-b58b-b967bf38c578</td><td>Burma</td></tr><tr><td>abac05eb-ff1d-4715-b049-96d005eb0620</td><td>Burundi</td></tr><tr><td>a535e690-cc9e-41e8-b25d-340757943490</td><td>Cambodia</td></tr><tr><td>0b0c0d15-c8ed-45fb-9b54-8c55c6b1c6a8</td><td>Cameroon</td></tr><tr><td>0080b073-9b86-4940-ae31-d2ccc216483f</td><td>Canada</td></tr><tr><td>dce772a2-66c5-4032-bf56-15eb26e18658</td><td>Cape Verde</td></tr><tr><td>4bb97a4c-afa2-43ee-8e70-7d7ea4c58341</td><td>Cayman Islands</td></tr><tr><td>1bab8add-8638-4a24-a1de-3887b1448455</td><td>Central African Republic</td></tr><tr><td>7d91dadc-a7b9-4bbf-9eb1-e25978559558</td><td>Ceylon</td></tr><tr><td>3f50e7dd-95bc-4fcb-8c6e-a43c4cf2b839</td><td>Chad</td></tr><tr><td>38a3e426-eb3e-4b44-9970-4e675bb5e852</td><td>Chile</td></tr><tr><td>071fa484-4107-42cb-ba18-251a85a327d0</td><td>China PR</td></tr><tr><td>43027298-9f51-4a23-9478-832b9cabf408</td><td>Colombia</td></tr><tr><td>c7ba6e93-9686-44d9-a76c-804d386e98a8</td><td>Comoros</td></tr><tr><td>ea5ac70c-1033-42a3-a184-92f8a654a00a</td><td>Congo</td></tr><tr><td>fd0fbfb1-e538-4c14-8666-245e96a61b92</td><td>Cook Islands</td></tr><tr><td>9b171d38-bc2d-4176-8e58-e1a0ce9bef27</td><td>Costa Rica</td></tr><tr><td>14064c5f-d2ec-4873-abce-361bb905ade5</td><td>Croatia</td></tr><tr><td>016befad-8a5a-4cb9-9f08-c455993660a6</td><td>Cuba</td></tr><tr><td>5ad8aeaf-00ca-483d-8f34-96a2afdfa57e</td><td>Curaçao</td></tr><tr><td>72020fd6-84b5-40c2-8769-0aa22abfe82b</td><td>Cyprus</td></tr><tr><td>35f42236-6e48-46f9-a855-215e5254fec6</td><td>Czech Republic</td></tr><tr><td>e927aa4c-19f9-48ca-afd7-1631aa31400d</td><td>Czechoslovakia</td></tr><tr><td>ae57fabe-f181-48ba-837c-90271e658a65</td><td>DR Congo</td></tr><tr><td>8378a87e-2574-4eda-b140-290353ffadf0</td><td>Dahomey</td></tr><tr><td>ffb45dcf-a6a0-48a9-8060-379fbdcc73e6</td><td>Denmark</td></tr><tr><td>1b4a66d0-0883-440d-ac35-37df58fc8700</td><td>Djibouti</td></tr><tr><td>d99f9a4b-6427-40c2-911a-fb0c29ba5f20</td><td>Dominica</td></tr><tr><td>a107279a-dd8e-4d9f-a2dc-56f3703991ae</td><td>Dominican Republic</td></tr><tr><td>2df0f842-b7d2-49ad-931d-9d471d526bf7</td><td>East Timor</td></tr><tr><td>a16864c2-96ab-4151-934a-bccca70591e3</td><td>Ecuador</td></tr><tr><td>8f73e038-cdb7-4167-8690-1f341b561068</td><td>Egypt</td></tr><tr><td>7b60cd0d-aa56-47d4-9426-15261cfdc851</td><td>El Salvador</td></tr><tr><td>e59bcf4a-d10c-4577-8d90-621a6e892e43</td><td>England</td></tr><tr><td>21a5db23-53bd-4174-9eac-63e2217c1f50</td><td>Equatorial Guinea</td></tr><tr><td>13a0cc26-161d-4001-95e3-bac954fc6ec2</td><td>Eritrea</td></tr><tr><td>e57252ab-bba5-448e-80c8-c3b2ffc95b78</td><td>Estonia</td></tr><tr><td>71358bd0-e692-4ac0-af5c-64f50feeccf8</td><td>Eswatini</td></tr><tr><td>d1ad047e-84af-4c07-9fc9-c5c8556ed9cc</td><td>Ethiopia</td></tr><tr><td>90dbe9e9-1cce-488d-a401-eaeeaab3675f</td><td>Faroe Islands</td></tr><tr><td>c60dbdb6-69ad-4ef0-b37c-5ded6bf10b5b</td><td>Fiji</td></tr><tr><td>1b42142c-7e60-490a-be1c-a2112f9fe676</td><td>Finland</td></tr><tr><td>38dbebd7-d5c0-48db-aa3a-570dfb445946</td><td>France</td></tr><tr><td>6cd30171-f027-4927-8720-3dc74e0074c0</td><td>French Guiana</td></tr><tr><td>85246f2d-b239-4468-98e6-63d8160e370f</td><td>French Polynesia</td></tr><tr><td>5fae1f59-1180-44ce-9ce0-e9dc3eed433f</td><td>French Somaliland</td></tr><tr><td>670b77a8-fac3-4909-98a5-e0309db3ad18</td><td>Gabon</td></tr><tr><td>69650041-9289-4e9a-8c28-b1ecca99c476</td><td>Gambia</td></tr><tr><td>9737d083-e9a5-45c8-aaf2-26c88635696f</td><td>Georgia</td></tr><tr><td>5ddad375-16d6-4f69-b4ec-a315a02052ad</td><td>German DR</td></tr><tr><td>f1b027db-5bbb-4f13-b9be-06059c885192</td><td>Germany</td></tr><tr><td>0f75bafe-2e17-4e8c-a361-0949f4bc072e</td><td>Ghana</td></tr><tr><td>cb3f0f42-e04a-4ca4-8b9d-8dd163e567f5</td><td>Gibraltar</td></tr><tr><td>e9cce083-a60c-4a58-a3b3-2c53b6bbebe1</td><td>Gold Coast</td></tr><tr><td>219be898-bda8-4a46-8dae-e66d797fac07</td><td>Greece</td></tr><tr><td>2c568b3c-d3f5-418f-8437-47d91e998805</td><td>Greenland</td></tr><tr><td>0293877e-ea83-4caf-a308-646d873f60ff</td><td>Grenada</td></tr><tr><td>85c7df4e-a99c-4e32-8958-626ce31a632e</td><td>Guadeloupe</td></tr><tr><td>8f0bc84c-9fd1-4f48-bd40-98dbf3a5bf4c</td><td>Guam</td></tr><tr><td>42d8b67a-37da-4167-83bf-425969fc978a</td><td>Guatemala</td></tr><tr><td>4355f6cb-3456-4521-9931-cc1426923f91</td><td>Guernsey</td></tr><tr><td>4fa3cb2a-c367-4dc8-bf82-3688f16b2c63</td><td>Guinea</td></tr><tr><td>0108eac9-6200-41c9-92d9-2c72c500bff0</td><td>Guinea-Bissau</td></tr></tbody></table></div>"
      ]
     },
     "metadata": {
      "application/vnd.databricks.v1+output": {
       "addedWidgets": {},
       "aggData": [],
       "aggError": "",
       "aggOverflow": false,
       "aggSchema": [],
       "aggSeriesLimitReached": false,
       "aggType": "",
       "arguments": {},
       "columnCustomDisplayInfos": {},
       "data": [
        [
         "4bf815f3-379f-4b73-ade9-724eb05a0577",
         "Afghanistan"
        ],
        [
         "4cd98aea-6a3a-4a3b-b757-5b4416894097",
         "Albania"
        ],
        [
         "9dc7aaec-5268-4d46-8057-2f3c987f6778",
         "Alderney"
        ],
        [
         "5feb9fbd-544f-4048-8859-259ed9b6c727",
         "Algeria"
        ],
        [
         "4dfd884e-c2f1-459b-9001-3b40b494a82d",
         "Andorra"
        ],
        [
         "461aaade-a5f6-44d4-9760-189395b7c9e7",
         "Angola"
        ],
        [
         "4351c3da-dd25-4b8d-a2c6-d57373695690",
         "Anguilla"
        ],
        [
         "716844f1-2216-4f10-b7be-4f5370489c23",
         "Antigua and Barbuda"
        ],
        [
         "ff9d78f6-af28-4065-8deb-d89b38bf41ea",
         "Argentina"
        ],
        [
         "123f7a0a-6782-4fd8-ba85-3abe5f422310",
         "Armenia"
        ],
        [
         "c7f10c73-f031-4f99-8303-ba411594f770",
         "Aruba"
        ],
        [
         "a84c158e-463b-429b-8096-0feda3edd30b",
         "Australia"
        ],
        [
         "da3d6111-44b9-4e31-b6b2-83dec6df6dc6",
         "Austria"
        ],
        [
         "00121a84-dd28-4e05-88f0-22feaeeea5d5",
         "Azerbaijan"
        ],
        [
         "3d7ee3ad-7e6e-4a05-a067-5d958f4fca3c",
         "Bahamas"
        ],
        [
         "633ade72-11cb-49b4-8c83-9f600b4a1d5b",
         "Bahrain"
        ],
        [
         "53e95686-83e4-4cb9-86ae-227a12d6d562",
         "Bangladesh"
        ],
        [
         "90ef1e12-8ad1-4d77-b767-7ec365d29427",
         "Barbados"
        ],
        [
         "e616a615-0671-4b92-85ac-20ddc35c2e5e",
         "Belarus"
        ],
        [
         "c3ae6511-823e-4253-b5b0-2770afdfb073",
         "Belgian Congo"
        ],
        [
         "592431bb-deea-4929-861e-d823ec03092f",
         "Belgium"
        ],
        [
         "bdb7b71d-83ef-4fdf-8c6c-36a8fbddb5ab",
         "Belize"
        ],
        [
         "827bb73f-bcc4-46ae-9895-575ce1d6daa7",
         "Benin"
        ],
        [
         "819d50b2-1dcb-4feb-bb0d-d4c90d0a6df0",
         "Bermuda"
        ],
        [
         "1e452e8d-24b5-45e2-83d9-2692f92b628b",
         "Bhutan"
        ],
        [
         "f390d9c0-f436-4b40-9528-67c61dd2562a",
         "Bohemia"
        ],
        [
         "237e325b-f9ff-4207-a9eb-37a88b1a8726",
         "Bohemia and Moravia"
        ],
        [
         "6621f44e-eec2-4006-ac7b-b6409f934921",
         "Bolivia"
        ],
        [
         "90263e05-6ab5-4d50-8541-3974761b1e8c",
         "Bonaire"
        ],
        [
         "488bcd74-09fb-49d8-960d-f962b6f9d98d",
         "Bosnia and Herzegovina"
        ],
        [
         "dd46781b-f1f0-47e1-be2d-109e39e72562",
         "Botswana"
        ],
        [
         "fffa856b-ae15-4a46-959b-3bfb4f311ca1",
         "Brazil"
        ],
        [
         "e9c50228-a4b9-429a-ac0f-3a9fd372891f",
         "British Guyana"
        ],
        [
         "ad6eaa66-fc04-4a53-a781-a5b7caa7ad80",
         "British Virgin Islands"
        ],
        [
         "d0b6f27e-76fa-46dc-ad59-aa9af785852e",
         "Brunei"
        ],
        [
         "7194ec9c-0f66-4142-8397-88761c166c75",
         "Bulgaria"
        ],
        [
         "9c5484b0-c081-4f4d-b799-d36e7ced3ff6",
         "Burkina Faso"
        ],
        [
         "f28bf1a6-c1e0-46da-b58b-b967bf38c578",
         "Burma"
        ],
        [
         "abac05eb-ff1d-4715-b049-96d005eb0620",
         "Burundi"
        ],
        [
         "a535e690-cc9e-41e8-b25d-340757943490",
         "Cambodia"
        ],
        [
         "0b0c0d15-c8ed-45fb-9b54-8c55c6b1c6a8",
         "Cameroon"
        ],
        [
         "0080b073-9b86-4940-ae31-d2ccc216483f",
         "Canada"
        ],
        [
         "dce772a2-66c5-4032-bf56-15eb26e18658",
         "Cape Verde"
        ],
        [
         "4bb97a4c-afa2-43ee-8e70-7d7ea4c58341",
         "Cayman Islands"
        ],
        [
         "1bab8add-8638-4a24-a1de-3887b1448455",
         "Central African Republic"
        ],
        [
         "7d91dadc-a7b9-4bbf-9eb1-e25978559558",
         "Ceylon"
        ],
        [
         "3f50e7dd-95bc-4fcb-8c6e-a43c4cf2b839",
         "Chad"
        ],
        [
         "38a3e426-eb3e-4b44-9970-4e675bb5e852",
         "Chile"
        ],
        [
         "071fa484-4107-42cb-ba18-251a85a327d0",
         "China PR"
        ],
        [
         "43027298-9f51-4a23-9478-832b9cabf408",
         "Colombia"
        ],
        [
         "c7ba6e93-9686-44d9-a76c-804d386e98a8",
         "Comoros"
        ],
        [
         "ea5ac70c-1033-42a3-a184-92f8a654a00a",
         "Congo"
        ],
        [
         "fd0fbfb1-e538-4c14-8666-245e96a61b92",
         "Cook Islands"
        ],
        [
         "9b171d38-bc2d-4176-8e58-e1a0ce9bef27",
         "Costa Rica"
        ],
        [
         "14064c5f-d2ec-4873-abce-361bb905ade5",
         "Croatia"
        ],
        [
         "016befad-8a5a-4cb9-9f08-c455993660a6",
         "Cuba"
        ],
        [
         "5ad8aeaf-00ca-483d-8f34-96a2afdfa57e",
         "Curaçao"
        ],
        [
         "72020fd6-84b5-40c2-8769-0aa22abfe82b",
         "Cyprus"
        ],
        [
         "35f42236-6e48-46f9-a855-215e5254fec6",
         "Czech Republic"
        ],
        [
         "e927aa4c-19f9-48ca-afd7-1631aa31400d",
         "Czechoslovakia"
        ],
        [
         "ae57fabe-f181-48ba-837c-90271e658a65",
         "DR Congo"
        ],
        [
         "8378a87e-2574-4eda-b140-290353ffadf0",
         "Dahomey"
        ],
        [
         "ffb45dcf-a6a0-48a9-8060-379fbdcc73e6",
         "Denmark"
        ],
        [
         "1b4a66d0-0883-440d-ac35-37df58fc8700",
         "Djibouti"
        ],
        [
         "d99f9a4b-6427-40c2-911a-fb0c29ba5f20",
         "Dominica"
        ],
        [
         "a107279a-dd8e-4d9f-a2dc-56f3703991ae",
         "Dominican Republic"
        ],
        [
         "2df0f842-b7d2-49ad-931d-9d471d526bf7",
         "East Timor"
        ],
        [
         "a16864c2-96ab-4151-934a-bccca70591e3",
         "Ecuador"
        ],
        [
         "8f73e038-cdb7-4167-8690-1f341b561068",
         "Egypt"
        ],
        [
         "7b60cd0d-aa56-47d4-9426-15261cfdc851",
         "El Salvador"
        ],
        [
         "e59bcf4a-d10c-4577-8d90-621a6e892e43",
         "England"
        ],
        [
         "21a5db23-53bd-4174-9eac-63e2217c1f50",
         "Equatorial Guinea"
        ],
        [
         "13a0cc26-161d-4001-95e3-bac954fc6ec2",
         "Eritrea"
        ],
        [
         "e57252ab-bba5-448e-80c8-c3b2ffc95b78",
         "Estonia"
        ],
        [
         "71358bd0-e692-4ac0-af5c-64f50feeccf8",
         "Eswatini"
        ],
        [
         "d1ad047e-84af-4c07-9fc9-c5c8556ed9cc",
         "Ethiopia"
        ],
        [
         "90dbe9e9-1cce-488d-a401-eaeeaab3675f",
         "Faroe Islands"
        ],
        [
         "c60dbdb6-69ad-4ef0-b37c-5ded6bf10b5b",
         "Fiji"
        ],
        [
         "1b42142c-7e60-490a-be1c-a2112f9fe676",
         "Finland"
        ],
        [
         "38dbebd7-d5c0-48db-aa3a-570dfb445946",
         "France"
        ],
        [
         "6cd30171-f027-4927-8720-3dc74e0074c0",
         "French Guiana"
        ],
        [
         "85246f2d-b239-4468-98e6-63d8160e370f",
         "French Polynesia"
        ],
        [
         "5fae1f59-1180-44ce-9ce0-e9dc3eed433f",
         "French Somaliland"
        ],
        [
         "670b77a8-fac3-4909-98a5-e0309db3ad18",
         "Gabon"
        ],
        [
         "69650041-9289-4e9a-8c28-b1ecca99c476",
         "Gambia"
        ],
        [
         "9737d083-e9a5-45c8-aaf2-26c88635696f",
         "Georgia"
        ],
        [
         "5ddad375-16d6-4f69-b4ec-a315a02052ad",
         "German DR"
        ],
        [
         "f1b027db-5bbb-4f13-b9be-06059c885192",
         "Germany"
        ],
        [
         "0f75bafe-2e17-4e8c-a361-0949f4bc072e",
         "Ghana"
        ],
        [
         "cb3f0f42-e04a-4ca4-8b9d-8dd163e567f5",
         "Gibraltar"
        ],
        [
         "e9cce083-a60c-4a58-a3b3-2c53b6bbebe1",
         "Gold Coast"
        ],
        [
         "219be898-bda8-4a46-8dae-e66d797fac07",
         "Greece"
        ],
        [
         "2c568b3c-d3f5-418f-8437-47d91e998805",
         "Greenland"
        ],
        [
         "0293877e-ea83-4caf-a308-646d873f60ff",
         "Grenada"
        ],
        [
         "85c7df4e-a99c-4e32-8958-626ce31a632e",
         "Guadeloupe"
        ],
        [
         "8f0bc84c-9fd1-4f48-bd40-98dbf3a5bf4c",
         "Guam"
        ],
        [
         "42d8b67a-37da-4167-83bf-425969fc978a",
         "Guatemala"
        ],
        [
         "4355f6cb-3456-4521-9931-cc1426923f91",
         "Guernsey"
        ],
        [
         "4fa3cb2a-c367-4dc8-bf82-3688f16b2c63",
         "Guinea"
        ],
        [
         "0108eac9-6200-41c9-92d9-2c72c500bff0",
         "Guinea-Bissau"
        ]
       ],
       "datasetInfos": [],
       "dbfsResultPath": null,
       "isJsonSchema": true,
       "metadata": {},
       "overflow": false,
       "plotOptions": {
        "customPlotOptions": {},
        "displayType": "table",
        "pivotAggregation": null,
        "pivotColumns": null,
        "xColumns": null,
        "yColumns": null
       },
       "removedWidgets": [],
       "schema": [
        {
         "metadata": "{}",
         "name": "uuid",
         "type": "\"string\""
        },
        {
         "metadata": "{}",
         "name": "country",
         "type": "\"string\""
        }
       ],
       "type": "table"
      }
     },
     "output_type": "display_data"
    }
   ],
   "source": [
    "dim_country_df = (\n",
    "    results_df.select(\"country\")\n",
    "    .distinct()\n",
    "    .withColumn(\"uuid\", f.expr(\"uuid()\"))\n",
    "    .orderBy(\"country\")\n",
    "    .select(\"uuid\", \"country\")\n",
    ")\n",
    "display(dim_country_df.head(100))"
   ]
  },
  {
   "cell_type": "markdown",
   "metadata": {
    "application/vnd.databricks.v1+cell": {
     "cellMetadata": {
      "byteLimit": 2048000,
      "rowLimit": 10000
     },
     "inputWidgets": {},
     "nuid": "cb7ac653-4ea6-4ac2-9a80-fb18fb52c0b4",
     "showTitle": false,
     "title": ""
    }
   },
   "source": [
    "# Creation of the Dim City Dataframe"
   ]
  },
  {
   "cell_type": "code",
   "execution_count": 0,
   "metadata": {
    "application/vnd.databricks.v1+cell": {
     "cellMetadata": {
      "byteLimit": 2048000,
      "rowLimit": 10000
     },
     "inputWidgets": {},
     "nuid": "b11c8205-53b1-4d18-97cd-25edf98df87b",
     "showTitle": false,
     "title": ""
    }
   },
   "outputs": [
    {
     "output_type": "display_data",
     "data": {
      "text/html": [
       "<style scoped>\n",
       "  .table-result-container {\n",
       "    max-height: 300px;\n",
       "    overflow: auto;\n",
       "  }\n",
       "  table, th, td {\n",
       "    border: 1px solid black;\n",
       "    border-collapse: collapse;\n",
       "  }\n",
       "  th, td {\n",
       "    padding: 5px;\n",
       "  }\n",
       "  th {\n",
       "    text-align: left;\n",
       "  }\n",
       "</style><div class='table-result-container'><table class='table-result'><thead style='background-color: white'><tr><th>uuid</th><th>country_uuid</th><th>city</th></tr></thead><tbody><tr><td>c9648239-e15a-44d5-91ec-861cdade3833</td><td>4bf815f3-379f-4b73-ade9-724eb05a0577</td><td>Kabul</td></tr><tr><td>272064eb-58b1-4838-87b3-503e0c240a2b</td><td>4cd98aea-6a3a-4a3b-b757-5b4416894097</td><td>Berat</td></tr><tr><td>2fd2fe10-31d5-4a23-9592-72c1391622f3</td><td>4cd98aea-6a3a-4a3b-b757-5b4416894097</td><td>Durrës</td></tr><tr><td>7d03d5cc-f96a-466c-8b15-4e9466a48dd9</td><td>4cd98aea-6a3a-4a3b-b757-5b4416894097</td><td>Elbasan</td></tr><tr><td>d4c1df23-9fc0-4090-b32c-d96a8da5da8e</td><td>4cd98aea-6a3a-4a3b-b757-5b4416894097</td><td>Korçë</td></tr><tr><td>6a494cd9-aa02-4eb4-93fd-2963bc7b767f</td><td>4cd98aea-6a3a-4a3b-b757-5b4416894097</td><td>Shkodër</td></tr><tr><td>ad3dbd7a-92bf-486a-9a94-9a438b573a33</td><td>4cd98aea-6a3a-4a3b-b757-5b4416894097</td><td>Tirana</td></tr><tr><td>94ae7e5d-e6d1-47f8-b1cc-6ac117785a34</td><td>4cd98aea-6a3a-4a3b-b757-5b4416894097</td><td>Vlorë</td></tr><tr><td>47ad7018-48b3-48be-8f82-fa6506bb7577</td><td>9dc7aaec-5268-4d46-8057-2f3c987f6778</td><td>Alderney</td></tr><tr><td>08c34e1f-e012-4fa7-973f-8b9502bd2060</td><td>9dc7aaec-5268-4d46-8057-2f3c987f6778</td><td>Saint Anne</td></tr><tr><td>88fcc332-1e59-477c-a684-76dc07b1931d</td><td>5feb9fbd-544f-4048-8859-259ed9b6c727</td><td>Algiers</td></tr><tr><td>2c51a7e6-7c2c-45d2-9559-2b5384000c1d</td><td>5feb9fbd-544f-4048-8859-259ed9b6c727</td><td>Annaba</td></tr><tr><td>ba68c982-0d32-4221-8b41-07ad700f0547</td><td>5feb9fbd-544f-4048-8859-259ed9b6c727</td><td>Batna</td></tr><tr><td>7951b6cd-f920-4dfa-96e7-fe982edb1776</td><td>5feb9fbd-544f-4048-8859-259ed9b6c727</td><td>Bejaia</td></tr><tr><td>aac52817-fcdf-4380-86a7-2cbd32909bfd</td><td>5feb9fbd-544f-4048-8859-259ed9b6c727</td><td>Blida</td></tr><tr><td>900ed9be-5d7e-4dcd-b9e4-67db3778d8ce</td><td>5feb9fbd-544f-4048-8859-259ed9b6c727</td><td>Constantine</td></tr><tr><td>18b8bec5-4ca6-44c4-9da8-9d3532081e48</td><td>5feb9fbd-544f-4048-8859-259ed9b6c727</td><td>Mascara</td></tr><tr><td>7a1dc220-fc32-4493-8a25-f429cd9f75b5</td><td>5feb9fbd-544f-4048-8859-259ed9b6c727</td><td>Oran</td></tr><tr><td>0f9d5166-bf3f-4e57-91a2-b73415754e87</td><td>5feb9fbd-544f-4048-8859-259ed9b6c727</td><td>Sidi Moussa</td></tr><tr><td>a71ca3d6-dd96-4b69-9e38-a37bbda7073b</td><td>5feb9fbd-544f-4048-8859-259ed9b6c727</td><td>Tlemcen</td></tr><tr><td>b119a203-346e-41c7-aabd-a9e383be6a46</td><td>5feb9fbd-544f-4048-8859-259ed9b6c727</td><td>Villeneuve D'Ascq</td></tr><tr><td>5deacbb5-b7db-4b54-bbe0-ed4a53be43d1</td><td>4dfd884e-c2f1-459b-9001-3b40b494a82d</td><td>Andorra la Vella</td></tr><tr><td>7dd6f7d7-2049-4d2b-9913-05ce8fa91df2</td><td>4dfd884e-c2f1-459b-9001-3b40b494a82d</td><td>Sant Julià de Lòria</td></tr><tr><td>34c374ad-a2c2-4018-aefd-7e89fe9567a3</td><td>461aaade-a5f6-44d4-9760-189395b7c9e7</td><td>Benguela</td></tr><tr><td>5a6019b9-1d28-436f-b082-4dcab4fe8cd1</td><td>461aaade-a5f6-44d4-9760-189395b7c9e7</td><td>Cabinda</td></tr><tr><td>5aa869b7-9eac-41c2-97bc-ef0d3491ea75</td><td>461aaade-a5f6-44d4-9760-189395b7c9e7</td><td>Dundo</td></tr><tr><td>971c9693-d182-451c-a600-f48233c6dd98</td><td>461aaade-a5f6-44d4-9760-189395b7c9e7</td><td>Luanda</td></tr><tr><td>0d483074-1995-4d95-ab7f-9f352bb69b7b</td><td>461aaade-a5f6-44d4-9760-189395b7c9e7</td><td>Lubango</td></tr><tr><td>d500d05a-68b1-4602-8ae5-10b0270fa80a</td><td>461aaade-a5f6-44d4-9760-189395b7c9e7</td><td>Penafiel</td></tr><tr><td>d1654264-a0aa-4546-bffe-ced8d8a1d5ff</td><td>4351c3da-dd25-4b8d-a2c6-d57373695690</td><td>The Valley</td></tr><tr><td>b8ef88d5-4a5f-4eaf-936c-eaaf69daea90</td><td>716844f1-2216-4f10-b7be-4f5370489c23</td><td>North Sound</td></tr><tr><td>1a1616f1-fa61-4d56-b0a2-941362d6989a</td><td>716844f1-2216-4f10-b7be-4f5370489c23</td><td>Osbourn</td></tr><tr><td>dfc3d316-fa46-4acd-be9b-ff6bc9d52b57</td><td>716844f1-2216-4f10-b7be-4f5370489c23</td><td>Piggotts</td></tr><tr><td>46ffaa1c-e533-42ba-9604-e648c1bfc5ed</td><td>716844f1-2216-4f10-b7be-4f5370489c23</td><td>St. John's</td></tr><tr><td>58b2ac6f-a673-425f-a44e-ab122a06a18f</td><td>ff9d78f6-af28-4065-8deb-d89b38bf41ea</td><td>Avellaneda</td></tr><tr><td>2c9f349d-05ec-4231-a778-474909cad09b</td><td>ff9d78f6-af28-4065-8deb-d89b38bf41ea</td><td>Buenos Aires</td></tr><tr><td>2c3a662d-9a7d-464d-9ccb-b9f59313bca4</td><td>ff9d78f6-af28-4065-8deb-d89b38bf41ea</td><td>Cutral Có</td></tr><tr><td>a5033b95-af80-4b20-a866-7a2d66b385f3</td><td>ff9d78f6-af28-4065-8deb-d89b38bf41ea</td><td>Córdoba</td></tr><tr><td>31522800-8d67-4dad-935b-3cfc9d9abcef</td><td>ff9d78f6-af28-4065-8deb-d89b38bf41ea</td><td>La Plata</td></tr><tr><td>8f6b7efd-79fb-4344-80b5-0bb03ea290f3</td><td>ff9d78f6-af28-4065-8deb-d89b38bf41ea</td><td>Mar del Plata</td></tr><tr><td>9702153b-9dd8-42f5-b93e-ccc0d65cf06b</td><td>ff9d78f6-af28-4065-8deb-d89b38bf41ea</td><td>Mendoza</td></tr><tr><td>cbe491eb-7e23-48e1-bc63-da6eaf7405e9</td><td>ff9d78f6-af28-4065-8deb-d89b38bf41ea</td><td>Quilmes</td></tr><tr><td>0e28332f-b0ad-4804-baf5-21fae8e95412</td><td>ff9d78f6-af28-4065-8deb-d89b38bf41ea</td><td>Resistencia</td></tr><tr><td>df58157a-e54d-43aa-a021-daad1200d5a0</td><td>ff9d78f6-af28-4065-8deb-d89b38bf41ea</td><td>Rosario</td></tr><tr><td>dfd8fb2b-0117-4aa4-8c23-3ba8a27d0137</td><td>ff9d78f6-af28-4065-8deb-d89b38bf41ea</td><td>Salta</td></tr><tr><td>b604b9cc-4e3c-4cf2-af04-0cb2483713ce</td><td>ff9d78f6-af28-4065-8deb-d89b38bf41ea</td><td>San Juan</td></tr><tr><td>7033918e-6f0c-4156-a96a-810c15ba6de1</td><td>ff9d78f6-af28-4065-8deb-d89b38bf41ea</td><td>San Martín</td></tr><tr><td>74f3a830-937c-48cb-b219-730c54cee72a</td><td>ff9d78f6-af28-4065-8deb-d89b38bf41ea</td><td>San Salvador de Jujuy</td></tr><tr><td>3dfa9924-bfc2-4059-b7cc-a709ea649999</td><td>ff9d78f6-af28-4065-8deb-d89b38bf41ea</td><td>Santa Fe</td></tr><tr><td>801689a3-43b8-437a-b7ee-6ce0d8a7230b</td><td>ff9d78f6-af28-4065-8deb-d89b38bf41ea</td><td>Santiago del Estero</td></tr><tr><td>c1469ce2-9562-4ccd-94ac-c1a87bddd61c</td><td>123f7a0a-6782-4fd8-ba85-3abe5f422310</td><td>Abovyan</td></tr><tr><td>bab96771-63d8-4612-b8ec-5524ddcddfee</td><td>123f7a0a-6782-4fd8-ba85-3abe5f422310</td><td>Yerevan</td></tr><tr><td>8999fb71-daad-4c13-883e-597cc91bc490</td><td>c7f10c73-f031-4f99-8303-ba411594f770</td><td>Oranjestad</td></tr><tr><td>0ce42368-de77-45c8-b42d-c7ba426a1fc1</td><td>c7f10c73-f031-4f99-8303-ba411594f770</td><td>Willemstad</td></tr><tr><td>a0e8f40b-d460-4c7b-bc10-a7aa6f6c936c</td><td>a84c158e-463b-429b-8096-0feda3edd30b</td><td>Adelaide</td></tr><tr><td>b8aa186c-d128-476a-986b-d0fbc4f4e8e8</td><td>a84c158e-463b-429b-8096-0feda3edd30b</td><td>Ballarat</td></tr><tr><td>616710a2-75f0-4e73-8949-45527508a86d</td><td>a84c158e-463b-429b-8096-0feda3edd30b</td><td>Bendigo</td></tr><tr><td>b9fa3e80-7254-4077-8ac5-38af876e01a6</td><td>a84c158e-463b-429b-8096-0feda3edd30b</td><td>Brisbane</td></tr><tr><td>04a692c5-c61f-4b6e-837f-38aea6c5fc3c</td><td>a84c158e-463b-429b-8096-0feda3edd30b</td><td>Canberra</td></tr><tr><td>1dbcb349-3279-46b9-8591-8bb1b7f0e697</td><td>a84c158e-463b-429b-8096-0feda3edd30b</td><td>Coffs Harbour</td></tr><tr><td>ce4b9e25-ca97-4a95-b9c9-e7fd41912f31</td><td>a84c158e-463b-429b-8096-0feda3edd30b</td><td>Gosford</td></tr><tr><td>9ad5557f-1a45-4122-8d0c-4da81c634ca8</td><td>a84c158e-463b-429b-8096-0feda3edd30b</td><td>Melbourne</td></tr><tr><td>c5423c5b-3e6c-41be-a515-04a66f21943f</td><td>a84c158e-463b-429b-8096-0feda3edd30b</td><td>Newcastle</td></tr><tr><td>d6663ec5-7390-40cd-b08f-ac7f4194c15b</td><td>a84c158e-463b-429b-8096-0feda3edd30b</td><td>Parramatta</td></tr><tr><td>53446a08-ef6e-45e2-8c1d-1f94db9d4cba</td><td>a84c158e-463b-429b-8096-0feda3edd30b</td><td>Penrith</td></tr><tr><td>607b2394-3336-45a6-ae14-51a63b6cdcef</td><td>a84c158e-463b-429b-8096-0feda3edd30b</td><td>Perth</td></tr><tr><td>a553b0ef-64e8-419c-97e3-e7bced8bd04e</td><td>a84c158e-463b-429b-8096-0feda3edd30b</td><td>Robina</td></tr><tr><td>855d1c7d-ce39-443b-8aed-76c7bb79caa6</td><td>a84c158e-463b-429b-8096-0feda3edd30b</td><td>South Geelong</td></tr><tr><td>3db8d249-ea9e-4f03-ba81-8fd6c3cc5a18</td><td>a84c158e-463b-429b-8096-0feda3edd30b</td><td>Speers Point</td></tr><tr><td>8c085784-1bc2-43d1-9f73-5e576bc0c4c3</td><td>a84c158e-463b-429b-8096-0feda3edd30b</td><td>Sydney</td></tr><tr><td>25d0257a-60ba-4cef-93bc-17fb8e81528c</td><td>a84c158e-463b-429b-8096-0feda3edd30b</td><td>Wollongong</td></tr><tr><td>65310123-065f-43c9-ad63-529505b5a557</td><td>da3d6111-44b9-4e31-b6b2-83dec6df6dc6</td><td>Altach</td></tr><tr><td>63c5e5b4-2e21-4925-8b3d-c1493b624db9</td><td>da3d6111-44b9-4e31-b6b2-83dec6df6dc6</td><td>Anif</td></tr><tr><td>e99afed8-15eb-40f3-bc7e-229286f20b52</td><td>da3d6111-44b9-4e31-b6b2-83dec6df6dc6</td><td>Bad Erlach</td></tr><tr><td>e013e9d4-e14c-47cb-bbab-434ca4070d8e</td><td>da3d6111-44b9-4e31-b6b2-83dec6df6dc6</td><td>Bad Waltersdorf</td></tr><tr><td>a868d439-8ec1-45d2-b91c-d3027ee41f08</td><td>da3d6111-44b9-4e31-b6b2-83dec6df6dc6</td><td>Bischofshofen</td></tr><tr><td>2c23f946-1719-4c0c-a841-bfe59d3ae886</td><td>da3d6111-44b9-4e31-b6b2-83dec6df6dc6</td><td>Dornbirn</td></tr><tr><td>80b2d84a-1864-4910-93f7-b774ec193a50</td><td>da3d6111-44b9-4e31-b6b2-83dec6df6dc6</td><td>Grassau</td></tr><tr><td>8ba6d363-bc41-4f92-ab93-6a8f26ee1b32</td><td>da3d6111-44b9-4e31-b6b2-83dec6df6dc6</td><td>Graz</td></tr><tr><td>9832051d-92e9-42b0-8e32-5bb60468cfc1</td><td>da3d6111-44b9-4e31-b6b2-83dec6df6dc6</td><td>Grödig</td></tr><tr><td>77ec1673-0244-46e5-a496-997b75a0b00c</td><td>da3d6111-44b9-4e31-b6b2-83dec6df6dc6</td><td>Hartberg</td></tr><tr><td>3ccb6e0a-6a1c-4a18-8904-b3a28eb7a0ff</td><td>da3d6111-44b9-4e31-b6b2-83dec6df6dc6</td><td>Innsbruck</td></tr><tr><td>165067f7-254c-4c8d-ad56-e7ee948260f6</td><td>da3d6111-44b9-4e31-b6b2-83dec6df6dc6</td><td>Kapfenberg</td></tr><tr><td>d15fb0b7-f6d1-4a46-bc0f-13fb917142ba</td><td>da3d6111-44b9-4e31-b6b2-83dec6df6dc6</td><td>Kematen</td></tr><tr><td>63b1a82d-ad7e-40ca-9dd3-2e65f6a14e28</td><td>da3d6111-44b9-4e31-b6b2-83dec6df6dc6</td><td>Klagenfurt</td></tr><tr><td>c7a3e506-03d6-4607-84bb-d2c9dfb8dcfa</td><td>da3d6111-44b9-4e31-b6b2-83dec6df6dc6</td><td>Kufstein</td></tr><tr><td>022711ac-77f3-4465-ae12-36795e544804</td><td>da3d6111-44b9-4e31-b6b2-83dec6df6dc6</td><td>Linz</td></tr><tr><td>ca7c6481-a7b1-4e58-a077-91451fb314cd</td><td>da3d6111-44b9-4e31-b6b2-83dec6df6dc6</td><td>Maria Enzersdorf</td></tr><tr><td>03e537da-e22d-4031-9223-e14c47309f0a</td><td>da3d6111-44b9-4e31-b6b2-83dec6df6dc6</td><td>Matrei in Osttirol</td></tr><tr><td>1c795d39-13b6-4ac9-ad5b-afc57c7d8ee3</td><td>da3d6111-44b9-4e31-b6b2-83dec6df6dc6</td><td>Mauer</td></tr><tr><td>1a31ab83-75dc-429c-8ee5-3c0b68d46e64</td><td>da3d6111-44b9-4e31-b6b2-83dec6df6dc6</td><td>Pasching</td></tr><tr><td>c43b794f-3f1c-4a22-a807-fe6f09a714f5</td><td>da3d6111-44b9-4e31-b6b2-83dec6df6dc6</td><td>Ried im Innkreis</td></tr><tr><td>6aea7124-25dd-43bc-a84a-5b84d01d6d53</td><td>da3d6111-44b9-4e31-b6b2-83dec6df6dc6</td><td>Ritzing</td></tr><tr><td>56b067cf-1598-40c5-91a3-b6b9656764b8</td><td>da3d6111-44b9-4e31-b6b2-83dec6df6dc6</td><td>Rohrbach an der Lafnitz</td></tr><tr><td>a0ecc1de-184f-4deb-a94b-fc4b97e6c56f</td><td>da3d6111-44b9-4e31-b6b2-83dec6df6dc6</td><td>Salzburg</td></tr><tr><td>ae751f89-9f87-414f-89ad-45fa242e1642</td><td>da3d6111-44b9-4e31-b6b2-83dec6df6dc6</td><td>Sankt Pölten</td></tr><tr><td>7ed51df4-c5b5-45b0-80df-27df050fa30a</td><td>da3d6111-44b9-4e31-b6b2-83dec6df6dc6</td><td>Sankt Veit an der Glan</td></tr><tr><td>da78d3ad-94cf-4a09-930b-b00b6d0bc452</td><td>da3d6111-44b9-4e31-b6b2-83dec6df6dc6</td><td>Schwaz</td></tr><tr><td>be906bb8-d6c8-4f09-8984-555ce2b13dcf</td><td>da3d6111-44b9-4e31-b6b2-83dec6df6dc6</td><td>Schwechat</td></tr><tr><td>3f13331f-2a8b-40c3-9f07-f884f8876559</td><td>da3d6111-44b9-4e31-b6b2-83dec6df6dc6</td><td>Seekirchen am Wallersee</td></tr></tbody></table></div>"
      ]
     },
     "metadata": {
      "application/vnd.databricks.v1+output": {
       "addedWidgets": {},
       "aggData": [],
       "aggError": "",
       "aggOverflow": false,
       "aggSchema": [],
       "aggSeriesLimitReached": false,
       "aggType": "",
       "arguments": {},
       "columnCustomDisplayInfos": {},
       "data": [
        [
         "c9648239-e15a-44d5-91ec-861cdade3833",
         "4bf815f3-379f-4b73-ade9-724eb05a0577",
         "Kabul"
        ],
        [
         "272064eb-58b1-4838-87b3-503e0c240a2b",
         "4cd98aea-6a3a-4a3b-b757-5b4416894097",
         "Berat"
        ],
        [
         "2fd2fe10-31d5-4a23-9592-72c1391622f3",
         "4cd98aea-6a3a-4a3b-b757-5b4416894097",
         "Durrës"
        ],
        [
         "7d03d5cc-f96a-466c-8b15-4e9466a48dd9",
         "4cd98aea-6a3a-4a3b-b757-5b4416894097",
         "Elbasan"
        ],
        [
         "d4c1df23-9fc0-4090-b32c-d96a8da5da8e",
         "4cd98aea-6a3a-4a3b-b757-5b4416894097",
         "Korçë"
        ],
        [
         "6a494cd9-aa02-4eb4-93fd-2963bc7b767f",
         "4cd98aea-6a3a-4a3b-b757-5b4416894097",
         "Shkodër"
        ],
        [
         "ad3dbd7a-92bf-486a-9a94-9a438b573a33",
         "4cd98aea-6a3a-4a3b-b757-5b4416894097",
         "Tirana"
        ],
        [
         "94ae7e5d-e6d1-47f8-b1cc-6ac117785a34",
         "4cd98aea-6a3a-4a3b-b757-5b4416894097",
         "Vlorë"
        ],
        [
         "47ad7018-48b3-48be-8f82-fa6506bb7577",
         "9dc7aaec-5268-4d46-8057-2f3c987f6778",
         "Alderney"
        ],
        [
         "08c34e1f-e012-4fa7-973f-8b9502bd2060",
         "9dc7aaec-5268-4d46-8057-2f3c987f6778",
         "Saint Anne"
        ],
        [
         "88fcc332-1e59-477c-a684-76dc07b1931d",
         "5feb9fbd-544f-4048-8859-259ed9b6c727",
         "Algiers"
        ],
        [
         "2c51a7e6-7c2c-45d2-9559-2b5384000c1d",
         "5feb9fbd-544f-4048-8859-259ed9b6c727",
         "Annaba"
        ],
        [
         "ba68c982-0d32-4221-8b41-07ad700f0547",
         "5feb9fbd-544f-4048-8859-259ed9b6c727",
         "Batna"
        ],
        [
         "7951b6cd-f920-4dfa-96e7-fe982edb1776",
         "5feb9fbd-544f-4048-8859-259ed9b6c727",
         "Bejaia"
        ],
        [
         "aac52817-fcdf-4380-86a7-2cbd32909bfd",
         "5feb9fbd-544f-4048-8859-259ed9b6c727",
         "Blida"
        ],
        [
         "900ed9be-5d7e-4dcd-b9e4-67db3778d8ce",
         "5feb9fbd-544f-4048-8859-259ed9b6c727",
         "Constantine"
        ],
        [
         "18b8bec5-4ca6-44c4-9da8-9d3532081e48",
         "5feb9fbd-544f-4048-8859-259ed9b6c727",
         "Mascara"
        ],
        [
         "7a1dc220-fc32-4493-8a25-f429cd9f75b5",
         "5feb9fbd-544f-4048-8859-259ed9b6c727",
         "Oran"
        ],
        [
         "0f9d5166-bf3f-4e57-91a2-b73415754e87",
         "5feb9fbd-544f-4048-8859-259ed9b6c727",
         "Sidi Moussa"
        ],
        [
         "a71ca3d6-dd96-4b69-9e38-a37bbda7073b",
         "5feb9fbd-544f-4048-8859-259ed9b6c727",
         "Tlemcen"
        ],
        [
         "b119a203-346e-41c7-aabd-a9e383be6a46",
         "5feb9fbd-544f-4048-8859-259ed9b6c727",
         "Villeneuve D'Ascq"
        ],
        [
         "5deacbb5-b7db-4b54-bbe0-ed4a53be43d1",
         "4dfd884e-c2f1-459b-9001-3b40b494a82d",
         "Andorra la Vella"
        ],
        [
         "7dd6f7d7-2049-4d2b-9913-05ce8fa91df2",
         "4dfd884e-c2f1-459b-9001-3b40b494a82d",
         "Sant Julià de Lòria"
        ],
        [
         "34c374ad-a2c2-4018-aefd-7e89fe9567a3",
         "461aaade-a5f6-44d4-9760-189395b7c9e7",
         "Benguela"
        ],
        [
         "5a6019b9-1d28-436f-b082-4dcab4fe8cd1",
         "461aaade-a5f6-44d4-9760-189395b7c9e7",
         "Cabinda"
        ],
        [
         "5aa869b7-9eac-41c2-97bc-ef0d3491ea75",
         "461aaade-a5f6-44d4-9760-189395b7c9e7",
         "Dundo"
        ],
        [
         "971c9693-d182-451c-a600-f48233c6dd98",
         "461aaade-a5f6-44d4-9760-189395b7c9e7",
         "Luanda"
        ],
        [
         "0d483074-1995-4d95-ab7f-9f352bb69b7b",
         "461aaade-a5f6-44d4-9760-189395b7c9e7",
         "Lubango"
        ],
        [
         "d500d05a-68b1-4602-8ae5-10b0270fa80a",
         "461aaade-a5f6-44d4-9760-189395b7c9e7",
         "Penafiel"
        ],
        [
         "d1654264-a0aa-4546-bffe-ced8d8a1d5ff",
         "4351c3da-dd25-4b8d-a2c6-d57373695690",
         "The Valley"
        ],
        [
         "b8ef88d5-4a5f-4eaf-936c-eaaf69daea90",
         "716844f1-2216-4f10-b7be-4f5370489c23",
         "North Sound"
        ],
        [
         "1a1616f1-fa61-4d56-b0a2-941362d6989a",
         "716844f1-2216-4f10-b7be-4f5370489c23",
         "Osbourn"
        ],
        [
         "dfc3d316-fa46-4acd-be9b-ff6bc9d52b57",
         "716844f1-2216-4f10-b7be-4f5370489c23",
         "Piggotts"
        ],
        [
         "46ffaa1c-e533-42ba-9604-e648c1bfc5ed",
         "716844f1-2216-4f10-b7be-4f5370489c23",
         "St. John's"
        ],
        [
         "58b2ac6f-a673-425f-a44e-ab122a06a18f",
         "ff9d78f6-af28-4065-8deb-d89b38bf41ea",
         "Avellaneda"
        ],
        [
         "2c9f349d-05ec-4231-a778-474909cad09b",
         "ff9d78f6-af28-4065-8deb-d89b38bf41ea",
         "Buenos Aires"
        ],
        [
         "2c3a662d-9a7d-464d-9ccb-b9f59313bca4",
         "ff9d78f6-af28-4065-8deb-d89b38bf41ea",
         "Cutral Có"
        ],
        [
         "a5033b95-af80-4b20-a866-7a2d66b385f3",
         "ff9d78f6-af28-4065-8deb-d89b38bf41ea",
         "Córdoba"
        ],
        [
         "31522800-8d67-4dad-935b-3cfc9d9abcef",
         "ff9d78f6-af28-4065-8deb-d89b38bf41ea",
         "La Plata"
        ],
        [
         "8f6b7efd-79fb-4344-80b5-0bb03ea290f3",
         "ff9d78f6-af28-4065-8deb-d89b38bf41ea",
         "Mar del Plata"
        ],
        [
         "9702153b-9dd8-42f5-b93e-ccc0d65cf06b",
         "ff9d78f6-af28-4065-8deb-d89b38bf41ea",
         "Mendoza"
        ],
        [
         "cbe491eb-7e23-48e1-bc63-da6eaf7405e9",
         "ff9d78f6-af28-4065-8deb-d89b38bf41ea",
         "Quilmes"
        ],
        [
         "0e28332f-b0ad-4804-baf5-21fae8e95412",
         "ff9d78f6-af28-4065-8deb-d89b38bf41ea",
         "Resistencia"
        ],
        [
         "df58157a-e54d-43aa-a021-daad1200d5a0",
         "ff9d78f6-af28-4065-8deb-d89b38bf41ea",
         "Rosario"
        ],
        [
         "dfd8fb2b-0117-4aa4-8c23-3ba8a27d0137",
         "ff9d78f6-af28-4065-8deb-d89b38bf41ea",
         "Salta"
        ],
        [
         "b604b9cc-4e3c-4cf2-af04-0cb2483713ce",
         "ff9d78f6-af28-4065-8deb-d89b38bf41ea",
         "San Juan"
        ],
        [
         "7033918e-6f0c-4156-a96a-810c15ba6de1",
         "ff9d78f6-af28-4065-8deb-d89b38bf41ea",
         "San Martín"
        ],
        [
         "74f3a830-937c-48cb-b219-730c54cee72a",
         "ff9d78f6-af28-4065-8deb-d89b38bf41ea",
         "San Salvador de Jujuy"
        ],
        [
         "3dfa9924-bfc2-4059-b7cc-a709ea649999",
         "ff9d78f6-af28-4065-8deb-d89b38bf41ea",
         "Santa Fe"
        ],
        [
         "801689a3-43b8-437a-b7ee-6ce0d8a7230b",
         "ff9d78f6-af28-4065-8deb-d89b38bf41ea",
         "Santiago del Estero"
        ],
        [
         "c1469ce2-9562-4ccd-94ac-c1a87bddd61c",
         "123f7a0a-6782-4fd8-ba85-3abe5f422310",
         "Abovyan"
        ],
        [
         "bab96771-63d8-4612-b8ec-5524ddcddfee",
         "123f7a0a-6782-4fd8-ba85-3abe5f422310",
         "Yerevan"
        ],
        [
         "8999fb71-daad-4c13-883e-597cc91bc490",
         "c7f10c73-f031-4f99-8303-ba411594f770",
         "Oranjestad"
        ],
        [
         "0ce42368-de77-45c8-b42d-c7ba426a1fc1",
         "c7f10c73-f031-4f99-8303-ba411594f770",
         "Willemstad"
        ],
        [
         "a0e8f40b-d460-4c7b-bc10-a7aa6f6c936c",
         "a84c158e-463b-429b-8096-0feda3edd30b",
         "Adelaide"
        ],
        [
         "b8aa186c-d128-476a-986b-d0fbc4f4e8e8",
         "a84c158e-463b-429b-8096-0feda3edd30b",
         "Ballarat"
        ],
        [
         "616710a2-75f0-4e73-8949-45527508a86d",
         "a84c158e-463b-429b-8096-0feda3edd30b",
         "Bendigo"
        ],
        [
         "b9fa3e80-7254-4077-8ac5-38af876e01a6",
         "a84c158e-463b-429b-8096-0feda3edd30b",
         "Brisbane"
        ],
        [
         "04a692c5-c61f-4b6e-837f-38aea6c5fc3c",
         "a84c158e-463b-429b-8096-0feda3edd30b",
         "Canberra"
        ],
        [
         "1dbcb349-3279-46b9-8591-8bb1b7f0e697",
         "a84c158e-463b-429b-8096-0feda3edd30b",
         "Coffs Harbour"
        ],
        [
         "ce4b9e25-ca97-4a95-b9c9-e7fd41912f31",
         "a84c158e-463b-429b-8096-0feda3edd30b",
         "Gosford"
        ],
        [
         "9ad5557f-1a45-4122-8d0c-4da81c634ca8",
         "a84c158e-463b-429b-8096-0feda3edd30b",
         "Melbourne"
        ],
        [
         "c5423c5b-3e6c-41be-a515-04a66f21943f",
         "a84c158e-463b-429b-8096-0feda3edd30b",
         "Newcastle"
        ],
        [
         "d6663ec5-7390-40cd-b08f-ac7f4194c15b",
         "a84c158e-463b-429b-8096-0feda3edd30b",
         "Parramatta"
        ],
        [
         "53446a08-ef6e-45e2-8c1d-1f94db9d4cba",
         "a84c158e-463b-429b-8096-0feda3edd30b",
         "Penrith"
        ],
        [
         "607b2394-3336-45a6-ae14-51a63b6cdcef",
         "a84c158e-463b-429b-8096-0feda3edd30b",
         "Perth"
        ],
        [
         "a553b0ef-64e8-419c-97e3-e7bced8bd04e",
         "a84c158e-463b-429b-8096-0feda3edd30b",
         "Robina"
        ],
        [
         "855d1c7d-ce39-443b-8aed-76c7bb79caa6",
         "a84c158e-463b-429b-8096-0feda3edd30b",
         "South Geelong"
        ],
        [
         "3db8d249-ea9e-4f03-ba81-8fd6c3cc5a18",
         "a84c158e-463b-429b-8096-0feda3edd30b",
         "Speers Point"
        ],
        [
         "8c085784-1bc2-43d1-9f73-5e576bc0c4c3",
         "a84c158e-463b-429b-8096-0feda3edd30b",
         "Sydney"
        ],
        [
         "25d0257a-60ba-4cef-93bc-17fb8e81528c",
         "a84c158e-463b-429b-8096-0feda3edd30b",
         "Wollongong"
        ],
        [
         "65310123-065f-43c9-ad63-529505b5a557",
         "da3d6111-44b9-4e31-b6b2-83dec6df6dc6",
         "Altach"
        ],
        [
         "63c5e5b4-2e21-4925-8b3d-c1493b624db9",
         "da3d6111-44b9-4e31-b6b2-83dec6df6dc6",
         "Anif"
        ],
        [
         "e99afed8-15eb-40f3-bc7e-229286f20b52",
         "da3d6111-44b9-4e31-b6b2-83dec6df6dc6",
         "Bad Erlach"
        ],
        [
         "e013e9d4-e14c-47cb-bbab-434ca4070d8e",
         "da3d6111-44b9-4e31-b6b2-83dec6df6dc6",
         "Bad Waltersdorf"
        ],
        [
         "a868d439-8ec1-45d2-b91c-d3027ee41f08",
         "da3d6111-44b9-4e31-b6b2-83dec6df6dc6",
         "Bischofshofen"
        ],
        [
         "2c23f946-1719-4c0c-a841-bfe59d3ae886",
         "da3d6111-44b9-4e31-b6b2-83dec6df6dc6",
         "Dornbirn"
        ],
        [
         "80b2d84a-1864-4910-93f7-b774ec193a50",
         "da3d6111-44b9-4e31-b6b2-83dec6df6dc6",
         "Grassau"
        ],
        [
         "8ba6d363-bc41-4f92-ab93-6a8f26ee1b32",
         "da3d6111-44b9-4e31-b6b2-83dec6df6dc6",
         "Graz"
        ],
        [
         "9832051d-92e9-42b0-8e32-5bb60468cfc1",
         "da3d6111-44b9-4e31-b6b2-83dec6df6dc6",
         "Grödig"
        ],
        [
         "77ec1673-0244-46e5-a496-997b75a0b00c",
         "da3d6111-44b9-4e31-b6b2-83dec6df6dc6",
         "Hartberg"
        ],
        [
         "3ccb6e0a-6a1c-4a18-8904-b3a28eb7a0ff",
         "da3d6111-44b9-4e31-b6b2-83dec6df6dc6",
         "Innsbruck"
        ],
        [
         "165067f7-254c-4c8d-ad56-e7ee948260f6",
         "da3d6111-44b9-4e31-b6b2-83dec6df6dc6",
         "Kapfenberg"
        ],
        [
         "d15fb0b7-f6d1-4a46-bc0f-13fb917142ba",
         "da3d6111-44b9-4e31-b6b2-83dec6df6dc6",
         "Kematen"
        ],
        [
         "63b1a82d-ad7e-40ca-9dd3-2e65f6a14e28",
         "da3d6111-44b9-4e31-b6b2-83dec6df6dc6",
         "Klagenfurt"
        ],
        [
         "c7a3e506-03d6-4607-84bb-d2c9dfb8dcfa",
         "da3d6111-44b9-4e31-b6b2-83dec6df6dc6",
         "Kufstein"
        ],
        [
         "022711ac-77f3-4465-ae12-36795e544804",
         "da3d6111-44b9-4e31-b6b2-83dec6df6dc6",
         "Linz"
        ],
        [
         "ca7c6481-a7b1-4e58-a077-91451fb314cd",
         "da3d6111-44b9-4e31-b6b2-83dec6df6dc6",
         "Maria Enzersdorf"
        ],
        [
         "03e537da-e22d-4031-9223-e14c47309f0a",
         "da3d6111-44b9-4e31-b6b2-83dec6df6dc6",
         "Matrei in Osttirol"
        ],
        [
         "1c795d39-13b6-4ac9-ad5b-afc57c7d8ee3",
         "da3d6111-44b9-4e31-b6b2-83dec6df6dc6",
         "Mauer"
        ],
        [
         "1a31ab83-75dc-429c-8ee5-3c0b68d46e64",
         "da3d6111-44b9-4e31-b6b2-83dec6df6dc6",
         "Pasching"
        ],
        [
         "c43b794f-3f1c-4a22-a807-fe6f09a714f5",
         "da3d6111-44b9-4e31-b6b2-83dec6df6dc6",
         "Ried im Innkreis"
        ],
        [
         "6aea7124-25dd-43bc-a84a-5b84d01d6d53",
         "da3d6111-44b9-4e31-b6b2-83dec6df6dc6",
         "Ritzing"
        ],
        [
         "56b067cf-1598-40c5-91a3-b6b9656764b8",
         "da3d6111-44b9-4e31-b6b2-83dec6df6dc6",
         "Rohrbach an der Lafnitz"
        ],
        [
         "a0ecc1de-184f-4deb-a94b-fc4b97e6c56f",
         "da3d6111-44b9-4e31-b6b2-83dec6df6dc6",
         "Salzburg"
        ],
        [
         "ae751f89-9f87-414f-89ad-45fa242e1642",
         "da3d6111-44b9-4e31-b6b2-83dec6df6dc6",
         "Sankt Pölten"
        ],
        [
         "7ed51df4-c5b5-45b0-80df-27df050fa30a",
         "da3d6111-44b9-4e31-b6b2-83dec6df6dc6",
         "Sankt Veit an der Glan"
        ],
        [
         "da78d3ad-94cf-4a09-930b-b00b6d0bc452",
         "da3d6111-44b9-4e31-b6b2-83dec6df6dc6",
         "Schwaz"
        ],
        [
         "be906bb8-d6c8-4f09-8984-555ce2b13dcf",
         "da3d6111-44b9-4e31-b6b2-83dec6df6dc6",
         "Schwechat"
        ],
        [
         "3f13331f-2a8b-40c3-9f07-f884f8876559",
         "da3d6111-44b9-4e31-b6b2-83dec6df6dc6",
         "Seekirchen am Wallersee"
        ]
       ],
       "datasetInfos": [],
       "dbfsResultPath": null,
       "isJsonSchema": true,
       "metadata": {},
       "overflow": false,
       "plotOptions": {
        "customPlotOptions": {},
        "displayType": "table",
        "pivotAggregation": null,
        "pivotColumns": null,
        "xColumns": null,
        "yColumns": null
       },
       "removedWidgets": [],
       "schema": [
        {
         "metadata": "{}",
         "name": "uuid",
         "type": "\"string\""
        },
        {
         "metadata": "{}",
         "name": "country_uuid",
         "type": "\"string\""
        },
        {
         "metadata": "{}",
         "name": "city",
         "type": "\"string\""
        }
       ],
       "type": "table"
      }
     },
     "output_type": "display_data"
    }
   ],
   "source": [
    "dim_city_df = (\n",
    "    results_df.select(\"country\", \"city\")\n",
    "    .distinct()\n",
    "    .join(dim_country_df, on=\"country\")\n",
    "    .withColumnRenamed(\"uuid\", \"country_uuid\")\n",
    "    .withColumn(\"uuid\", f.expr(\"uuid()\"))\n",
    "    .select(\"uuid\", \"country_uuid\", \"city\")\n",
    "    .orderBy(\"country\", \"city\")\n",
    ")\n",
    "display(dim_city_df.head(100))"
   ]
  },
  {
   "cell_type": "markdown",
   "metadata": {
    "application/vnd.databricks.v1+cell": {
     "cellMetadata": {
      "byteLimit": 2048000,
      "rowLimit": 10000
     },
     "inputWidgets": {},
     "nuid": "4c50025f-2d1c-4a4b-bbdd-9bb7abb15f30",
     "showTitle": false,
     "title": ""
    }
   },
   "source": [
    "# Creation of the Dim Tournament Dataframe"
   ]
  },
  {
   "cell_type": "code",
   "execution_count": 0,
   "metadata": {
    "application/vnd.databricks.v1+cell": {
     "cellMetadata": {
      "byteLimit": 2048000,
      "rowLimit": 10000
     },
     "inputWidgets": {},
     "nuid": "4adf179c-ef5f-40b4-a796-1ee2af922f20",
     "showTitle": false,
     "title": ""
    }
   },
   "outputs": [
    {
     "output_type": "display_data",
     "data": {
      "text/html": [
       "<style scoped>\n",
       "  .table-result-container {\n",
       "    max-height: 300px;\n",
       "    overflow: auto;\n",
       "  }\n",
       "  table, th, td {\n",
       "    border: 1px solid black;\n",
       "    border-collapse: collapse;\n",
       "  }\n",
       "  th, td {\n",
       "    padding: 5px;\n",
       "  }\n",
       "  th {\n",
       "    text-align: left;\n",
       "  }\n",
       "</style><div class='table-result-container'><table class='table-result'><thead style='background-color: white'><tr><th>uuid</th><th>tournament</th></tr></thead><tbody><tr><td>9188e153-3061-48ae-869c-18e201da1478</td><td>ABCS Tournament</td></tr><tr><td>e2217f6f-32f8-4759-90d2-d97fa84fa588</td><td>AFC Asian Cup</td></tr><tr><td>3d790788-27f3-49b9-9242-34492f0b6f9b</td><td>AFC Asian Cup qualification</td></tr><tr><td>daaf9f7b-fe1b-4cef-a57d-0741042e432f</td><td>AFC Challenge Cup</td></tr><tr><td>ddec508a-ca6a-4c08-8705-a545100bcc53</td><td>AFC Challenge Cup qualification</td></tr><tr><td>536856de-6ac7-4de9-9ac3-c3da5aed0590</td><td>AFF Championship</td></tr><tr><td>c7b846d5-1b55-4a58-b677-f929b4b5fb69</td><td>AFF Championship qualification</td></tr><tr><td>701a70ef-3a20-4af4-abc1-f8134e64d80e</td><td>Africa Cup of Nations qualification</td></tr><tr><td>9d6255a2-34b3-49cd-be1f-d08db0075cd4</td><td>African Cup of Nations</td></tr><tr><td>462cba6f-5372-4323-b21a-75bfed313fd9</td><td>African Cup of Nations qualification</td></tr><tr><td>3f50dc32-43e2-4ecf-afec-32125a61c936</td><td>African Friendship Games</td></tr><tr><td>8ba5a39a-8b03-4a8f-b3cb-25fd79f4f7cb</td><td>Afro-Asian Games</td></tr><tr><td>3f415a19-85b2-48b2-906c-91f0fbc2fd22</td><td>All-African Games</td></tr><tr><td>d3bc866f-4ef8-43ff-9dc4-77a912d9ca71</td><td>Amílcar Cabral Cup</td></tr><tr><td>18b4a38e-9b7a-446a-b3a5-86f5a79879bb</td><td>Arab Cup</td></tr><tr><td>b334292f-0303-4359-a1f2-7901ce3b6f57</td><td>Arab Cup qualification</td></tr><tr><td>7cfe7478-76a3-4e71-8de5-4c693b716155</td><td>Asian Games</td></tr><tr><td>590ab9ce-74ed-478a-8177-db045c55c526</td><td>Atlantic Cup</td></tr><tr><td>5bc26ebc-4943-4c9b-99a9-c7869ea84d7c</td><td>Atlantic Heritage Cup</td></tr><tr><td>ad9f3ef6-a2af-495a-82cd-f56c46cf4aec</td><td>Balkan Cup</td></tr><tr><td>ed362df3-dd1a-4b4f-9d77-fef09da7e1e6</td><td>Baltic Cup</td></tr><tr><td>409f4c68-39e1-487d-a836-18d3351ce302</td><td>Beijing International Friendship Tournament</td></tr><tr><td>fbdfffde-1ed9-46a5-913f-c645bb950c2c</td><td>Benedikt Fontana Cup</td></tr><tr><td>1863888b-e0f7-46bd-8c08-0619f66d9b62</td><td>Bolivarian Games</td></tr><tr><td>af7cbf72-2bc4-4c4d-8a8c-e23d49d77af6</td><td>Brazil Independence Cup</td></tr><tr><td>993aa8b9-a213-45b8-a879-c6b3658ee4e9</td><td>British Home Championship</td></tr><tr><td>bc00d390-b813-41d5-b191-2019e50a3731</td><td>CAFA Nations Cup</td></tr><tr><td>eb2717c3-2a02-4d18-bdfe-1183b7eb7985</td><td>CCCF Championship</td></tr><tr><td>2ddc3909-5dcd-4163-996d-1e14fdfd7974</td><td>CECAFA Cup</td></tr><tr><td>2a093c3b-b852-4ecb-9314-cef584225563</td><td>CFU Caribbean Cup</td></tr><tr><td>d70a5f3a-9010-47b1-9301-e37e38b10e88</td><td>CFU Caribbean Cup qualification</td></tr><tr><td>82fbb7d2-44e0-4cde-8e0f-62f4b6b243cf</td><td>CONCACAF Championship</td></tr><tr><td>e93976ac-20f5-4974-9383-2f02a46d176f</td><td>CONCACAF Championship qualification</td></tr><tr><td>14eec7d1-224e-4644-9085-6cd7c5a42f60</td><td>CONCACAF Nations League</td></tr><tr><td>28c87056-461b-485a-a088-676858799e4c</td><td>CONCACAF Nations League qualification</td></tr><tr><td>36acb972-9777-4938-bfd4-fe4414d45a72</td><td>CONIFA Africa Football Cup</td></tr><tr><td>56fca460-9669-4271-b83c-16fc3e4b6957</td><td>CONIFA Asia Cup</td></tr><tr><td>5da96b79-4eba-49a9-8980-b16dfafa4c70</td><td>CONIFA European Football Cup</td></tr><tr><td>aed34185-63ed-4ca6-8921-a91f4933811d</td><td>CONIFA South America Football Cup</td></tr><tr><td>afea93f7-da3b-42e1-b37f-dd3274509889</td><td>CONIFA World Football Cup</td></tr><tr><td>4f14e778-d944-4292-a29f-ad0dd8e69c87</td><td>CONIFA World Football Cup qualification</td></tr><tr><td>e25b1a15-da24-4853-82b4-d5b848bf8bdc</td><td>CONMEBOL–UEFA Cup of Champions</td></tr><tr><td>04492304-2a17-4634-b615-1a5cf06714c6</td><td>COSAFA Cup</td></tr><tr><td>1e03da27-bdec-4708-97e3-ef17f031b50f</td><td>COSAFA Cup qualification</td></tr><tr><td>acff7252-7c35-405b-820e-64569bfab1e2</td><td>Central American and Caribbean Games</td></tr><tr><td>21accdea-c4e2-4717-b1df-f8321216f7f4</td><td>Central European International Cup</td></tr><tr><td>f35921a0-2291-4786-8c34-a065c3a69d54</td><td>ConIFA Challenger Cup</td></tr><tr><td>50db3089-8fd0-414b-8fb5-e2012025a5ad</td><td>Confederations Cup</td></tr><tr><td>c15b6fdd-33ad-433f-b7cb-2144e2027791</td><td>Copa América</td></tr><tr><td>822e01e9-b412-487a-a799-ba9e638b3849</td><td>Copa América qualification</td></tr><tr><td>6363e59d-6027-443e-977d-10130f67a070</td><td>Copa Artigas</td></tr><tr><td>913c0089-5ef4-4477-b006-f294925e0aeb</td><td>Copa Bernardo O'Higgins</td></tr><tr><td>8cd81d6b-7f79-4871-97b1-b13a3093a695</td><td>Copa Carlos Dittborn</td></tr><tr><td>e15a6924-4d8e-4d87-809a-8d951f8c492b</td><td>Copa Chevallier Boutell</td></tr><tr><td>d6c03212-3294-47dd-b525-7d8f0bd1cf80</td><td>Copa Confraternidad</td></tr><tr><td>465b83c8-d154-4c49-87b9-d4a69da189bf</td><td>Copa Félix Bogado</td></tr><tr><td>38104cf6-8d57-43ce-a04c-b46a2500761b</td><td>Copa Juan Pinto Durán</td></tr><tr><td>d9c15553-fca4-4801-adf1-81371305db34</td><td>Copa Lipton</td></tr><tr><td>b53a9913-c824-4a33-8677-636b282e72d0</td><td>Copa Newton</td></tr><tr><td>7b20adee-20c5-4a7b-b38d-293fa2d4f423</td><td>Copa Oswaldo Cruz</td></tr><tr><td>5b0ef5ab-376f-4203-ab15-e4df97a84f87</td><td>Copa Paz del Chaco</td></tr><tr><td>55f790cc-2d87-4127-b016-de03bb05f8d3</td><td>Copa Premio Honor Argentino</td></tr><tr><td>dff8aa50-b8ff-47ad-985e-d85f53be3e6d</td><td>Copa Premio Honor Uruguayo</td></tr><tr><td>f65d8560-550c-416a-8d60-45be702f4b29</td><td>Copa Ramón Castilla</td></tr><tr><td>9d224222-b007-477e-a113-ae7968f5eed0</td><td>Copa Rio Branco</td></tr><tr><td>956d728d-bd57-46b2-bd53-c00499adf754</td><td>Copa Roca</td></tr><tr><td>f1c7b853-348c-47e0-8a72-1afa0e92c48d</td><td>Copa del Pacífico</td></tr><tr><td>76d802ed-6d0e-4c4d-aae4-9165cca5dbb0</td><td>Corsica Cup</td></tr><tr><td>b4c8257d-ee78-4c1f-9a33-65be7473e52b</td><td>Coupe de l'Outre-Mer</td></tr><tr><td>90be0a57-89af-4ec2-9c57-587ac45a03ee</td><td>Cup of Ancient Civilizations</td></tr><tr><td>bff4b30c-72c2-434e-837b-19a64bdfe6f7</td><td>Cyprus International Tournament</td></tr><tr><td>98dac008-d155-477e-be97-1eafedd9a76b</td><td>Dakar Tournament</td></tr><tr><td>8ac561a0-c718-47d7-b4a3-68f2344dfe07</td><td>Dragon Cup</td></tr><tr><td>6477823c-cc08-4e33-8080-93307a4805ba</td><td>Dunhill Cup</td></tr><tr><td>da06bdfa-e237-4513-a290-72a7bdcd8e2c</td><td>Dynasty Cup</td></tr><tr><td>13061fbe-7293-42ac-bd6e-1d98449a9833</td><td>EAFF Championship</td></tr><tr><td>91d139f3-1dec-484f-88a6-00ee43bd3aa2</td><td>ELF Cup</td></tr><tr><td>24c190a2-ca3b-49b3-a548-6f17b01a40e4</td><td>East Asian Games</td></tr><tr><td>993c4cd7-8d39-4537-b3e4-9003a9cf614d</td><td>FIFA 75th Anniversary Cup</td></tr><tr><td>b96b82f5-2e78-4470-a674-a1531a2020a6</td><td>FIFA Series</td></tr><tr><td>27a3c166-e2bb-4067-b23a-e3cc42b42459</td><td>FIFA World Cup</td></tr><tr><td>572d675d-dfbf-4ec6-b5fc-2dd2c1810c69</td><td>FIFA World Cup qualification</td></tr><tr><td>ccd8c267-bf5b-4fa2-8cfc-49fb9f35b76d</td><td>FIFI Wild Cup</td></tr><tr><td>facf163a-172b-48a6-922f-797998646a31</td><td>Far Eastern Championship Games</td></tr><tr><td>5a3f6cdb-0d0f-4a16-a564-a249649fe816</td><td>Four Nations Tournament</td></tr><tr><td>29b995c1-2753-49fa-baff-0321a90a74df</td><td>Friendly</td></tr><tr><td>c9c4183f-0b4c-4c58-9f9b-736cdb353c8e</td><td>GaNEFo</td></tr><tr><td>de8cd173-9165-4da0-9103-0b1ae44a3205</td><td>Gold Cup</td></tr><tr><td>eb59e323-ed48-4585-b9cd-2116ab9e42c6</td><td>Gold Cup qualification</td></tr><tr><td>fda2feb3-9afd-407c-9192-e36f3550b301</td><td>Great Wall Cup</td></tr><tr><td>1b825b0e-d38a-42f6-8947-f3a7b9fb3530</td><td>Guangzhou International Friendship Tournament</td></tr><tr><td>047c5286-54fc-4513-a73e-59f77f504913</td><td>Gulf Cup</td></tr><tr><td>2f790f7d-7007-4551-ba28-36d45ba352e2</td><td>Hungary Heritage Cup</td></tr><tr><td>0c573665-cca9-4aea-97ff-2ea0b807c1bd</td><td>Indian Ocean Island Games</td></tr><tr><td>51ebd20f-c79c-4233-9809-e9c63558a87b</td><td>Indonesia Tournament</td></tr><tr><td>60161dff-aba5-4d66-8d5a-5467196a7800</td><td>Inter Games Football Tournament</td></tr><tr><td>27f44f26-aa1a-42c5-85bf-330afd69410f</td><td>Intercontinental Cup</td></tr><tr><td>64f155bc-3a8b-43bc-b012-f778656f3918</td><td>Island Games</td></tr><tr><td>9170ab4e-d6c4-4b1f-a814-05b5c24583d3</td><td>Joe Robbie Cup</td></tr><tr><td>b144508d-93ff-4100-9e4a-12a8039fba40</td><td>Jordan International Tournament</td></tr></tbody></table></div>"
      ]
     },
     "metadata": {
      "application/vnd.databricks.v1+output": {
       "addedWidgets": {},
       "aggData": [],
       "aggError": "",
       "aggOverflow": false,
       "aggSchema": [],
       "aggSeriesLimitReached": false,
       "aggType": "",
       "arguments": {},
       "columnCustomDisplayInfos": {},
       "data": [
        [
         "9188e153-3061-48ae-869c-18e201da1478",
         "ABCS Tournament"
        ],
        [
         "e2217f6f-32f8-4759-90d2-d97fa84fa588",
         "AFC Asian Cup"
        ],
        [
         "3d790788-27f3-49b9-9242-34492f0b6f9b",
         "AFC Asian Cup qualification"
        ],
        [
         "daaf9f7b-fe1b-4cef-a57d-0741042e432f",
         "AFC Challenge Cup"
        ],
        [
         "ddec508a-ca6a-4c08-8705-a545100bcc53",
         "AFC Challenge Cup qualification"
        ],
        [
         "536856de-6ac7-4de9-9ac3-c3da5aed0590",
         "AFF Championship"
        ],
        [
         "c7b846d5-1b55-4a58-b677-f929b4b5fb69",
         "AFF Championship qualification"
        ],
        [
         "701a70ef-3a20-4af4-abc1-f8134e64d80e",
         "Africa Cup of Nations qualification"
        ],
        [
         "9d6255a2-34b3-49cd-be1f-d08db0075cd4",
         "African Cup of Nations"
        ],
        [
         "462cba6f-5372-4323-b21a-75bfed313fd9",
         "African Cup of Nations qualification"
        ],
        [
         "3f50dc32-43e2-4ecf-afec-32125a61c936",
         "African Friendship Games"
        ],
        [
         "8ba5a39a-8b03-4a8f-b3cb-25fd79f4f7cb",
         "Afro-Asian Games"
        ],
        [
         "3f415a19-85b2-48b2-906c-91f0fbc2fd22",
         "All-African Games"
        ],
        [
         "d3bc866f-4ef8-43ff-9dc4-77a912d9ca71",
         "Amílcar Cabral Cup"
        ],
        [
         "18b4a38e-9b7a-446a-b3a5-86f5a79879bb",
         "Arab Cup"
        ],
        [
         "b334292f-0303-4359-a1f2-7901ce3b6f57",
         "Arab Cup qualification"
        ],
        [
         "7cfe7478-76a3-4e71-8de5-4c693b716155",
         "Asian Games"
        ],
        [
         "590ab9ce-74ed-478a-8177-db045c55c526",
         "Atlantic Cup"
        ],
        [
         "5bc26ebc-4943-4c9b-99a9-c7869ea84d7c",
         "Atlantic Heritage Cup"
        ],
        [
         "ad9f3ef6-a2af-495a-82cd-f56c46cf4aec",
         "Balkan Cup"
        ],
        [
         "ed362df3-dd1a-4b4f-9d77-fef09da7e1e6",
         "Baltic Cup"
        ],
        [
         "409f4c68-39e1-487d-a836-18d3351ce302",
         "Beijing International Friendship Tournament"
        ],
        [
         "fbdfffde-1ed9-46a5-913f-c645bb950c2c",
         "Benedikt Fontana Cup"
        ],
        [
         "1863888b-e0f7-46bd-8c08-0619f66d9b62",
         "Bolivarian Games"
        ],
        [
         "af7cbf72-2bc4-4c4d-8a8c-e23d49d77af6",
         "Brazil Independence Cup"
        ],
        [
         "993aa8b9-a213-45b8-a879-c6b3658ee4e9",
         "British Home Championship"
        ],
        [
         "bc00d390-b813-41d5-b191-2019e50a3731",
         "CAFA Nations Cup"
        ],
        [
         "eb2717c3-2a02-4d18-bdfe-1183b7eb7985",
         "CCCF Championship"
        ],
        [
         "2ddc3909-5dcd-4163-996d-1e14fdfd7974",
         "CECAFA Cup"
        ],
        [
         "2a093c3b-b852-4ecb-9314-cef584225563",
         "CFU Caribbean Cup"
        ],
        [
         "d70a5f3a-9010-47b1-9301-e37e38b10e88",
         "CFU Caribbean Cup qualification"
        ],
        [
         "82fbb7d2-44e0-4cde-8e0f-62f4b6b243cf",
         "CONCACAF Championship"
        ],
        [
         "e93976ac-20f5-4974-9383-2f02a46d176f",
         "CONCACAF Championship qualification"
        ],
        [
         "14eec7d1-224e-4644-9085-6cd7c5a42f60",
         "CONCACAF Nations League"
        ],
        [
         "28c87056-461b-485a-a088-676858799e4c",
         "CONCACAF Nations League qualification"
        ],
        [
         "36acb972-9777-4938-bfd4-fe4414d45a72",
         "CONIFA Africa Football Cup"
        ],
        [
         "56fca460-9669-4271-b83c-16fc3e4b6957",
         "CONIFA Asia Cup"
        ],
        [
         "5da96b79-4eba-49a9-8980-b16dfafa4c70",
         "CONIFA European Football Cup"
        ],
        [
         "aed34185-63ed-4ca6-8921-a91f4933811d",
         "CONIFA South America Football Cup"
        ],
        [
         "afea93f7-da3b-42e1-b37f-dd3274509889",
         "CONIFA World Football Cup"
        ],
        [
         "4f14e778-d944-4292-a29f-ad0dd8e69c87",
         "CONIFA World Football Cup qualification"
        ],
        [
         "e25b1a15-da24-4853-82b4-d5b848bf8bdc",
         "CONMEBOL–UEFA Cup of Champions"
        ],
        [
         "04492304-2a17-4634-b615-1a5cf06714c6",
         "COSAFA Cup"
        ],
        [
         "1e03da27-bdec-4708-97e3-ef17f031b50f",
         "COSAFA Cup qualification"
        ],
        [
         "acff7252-7c35-405b-820e-64569bfab1e2",
         "Central American and Caribbean Games"
        ],
        [
         "21accdea-c4e2-4717-b1df-f8321216f7f4",
         "Central European International Cup"
        ],
        [
         "f35921a0-2291-4786-8c34-a065c3a69d54",
         "ConIFA Challenger Cup"
        ],
        [
         "50db3089-8fd0-414b-8fb5-e2012025a5ad",
         "Confederations Cup"
        ],
        [
         "c15b6fdd-33ad-433f-b7cb-2144e2027791",
         "Copa América"
        ],
        [
         "822e01e9-b412-487a-a799-ba9e638b3849",
         "Copa América qualification"
        ],
        [
         "6363e59d-6027-443e-977d-10130f67a070",
         "Copa Artigas"
        ],
        [
         "913c0089-5ef4-4477-b006-f294925e0aeb",
         "Copa Bernardo O'Higgins"
        ],
        [
         "8cd81d6b-7f79-4871-97b1-b13a3093a695",
         "Copa Carlos Dittborn"
        ],
        [
         "e15a6924-4d8e-4d87-809a-8d951f8c492b",
         "Copa Chevallier Boutell"
        ],
        [
         "d6c03212-3294-47dd-b525-7d8f0bd1cf80",
         "Copa Confraternidad"
        ],
        [
         "465b83c8-d154-4c49-87b9-d4a69da189bf",
         "Copa Félix Bogado"
        ],
        [
         "38104cf6-8d57-43ce-a04c-b46a2500761b",
         "Copa Juan Pinto Durán"
        ],
        [
         "d9c15553-fca4-4801-adf1-81371305db34",
         "Copa Lipton"
        ],
        [
         "b53a9913-c824-4a33-8677-636b282e72d0",
         "Copa Newton"
        ],
        [
         "7b20adee-20c5-4a7b-b38d-293fa2d4f423",
         "Copa Oswaldo Cruz"
        ],
        [
         "5b0ef5ab-376f-4203-ab15-e4df97a84f87",
         "Copa Paz del Chaco"
        ],
        [
         "55f790cc-2d87-4127-b016-de03bb05f8d3",
         "Copa Premio Honor Argentino"
        ],
        [
         "dff8aa50-b8ff-47ad-985e-d85f53be3e6d",
         "Copa Premio Honor Uruguayo"
        ],
        [
         "f65d8560-550c-416a-8d60-45be702f4b29",
         "Copa Ramón Castilla"
        ],
        [
         "9d224222-b007-477e-a113-ae7968f5eed0",
         "Copa Rio Branco"
        ],
        [
         "956d728d-bd57-46b2-bd53-c00499adf754",
         "Copa Roca"
        ],
        [
         "f1c7b853-348c-47e0-8a72-1afa0e92c48d",
         "Copa del Pacífico"
        ],
        [
         "76d802ed-6d0e-4c4d-aae4-9165cca5dbb0",
         "Corsica Cup"
        ],
        [
         "b4c8257d-ee78-4c1f-9a33-65be7473e52b",
         "Coupe de l'Outre-Mer"
        ],
        [
         "90be0a57-89af-4ec2-9c57-587ac45a03ee",
         "Cup of Ancient Civilizations"
        ],
        [
         "bff4b30c-72c2-434e-837b-19a64bdfe6f7",
         "Cyprus International Tournament"
        ],
        [
         "98dac008-d155-477e-be97-1eafedd9a76b",
         "Dakar Tournament"
        ],
        [
         "8ac561a0-c718-47d7-b4a3-68f2344dfe07",
         "Dragon Cup"
        ],
        [
         "6477823c-cc08-4e33-8080-93307a4805ba",
         "Dunhill Cup"
        ],
        [
         "da06bdfa-e237-4513-a290-72a7bdcd8e2c",
         "Dynasty Cup"
        ],
        [
         "13061fbe-7293-42ac-bd6e-1d98449a9833",
         "EAFF Championship"
        ],
        [
         "91d139f3-1dec-484f-88a6-00ee43bd3aa2",
         "ELF Cup"
        ],
        [
         "24c190a2-ca3b-49b3-a548-6f17b01a40e4",
         "East Asian Games"
        ],
        [
         "993c4cd7-8d39-4537-b3e4-9003a9cf614d",
         "FIFA 75th Anniversary Cup"
        ],
        [
         "b96b82f5-2e78-4470-a674-a1531a2020a6",
         "FIFA Series"
        ],
        [
         "27a3c166-e2bb-4067-b23a-e3cc42b42459",
         "FIFA World Cup"
        ],
        [
         "572d675d-dfbf-4ec6-b5fc-2dd2c1810c69",
         "FIFA World Cup qualification"
        ],
        [
         "ccd8c267-bf5b-4fa2-8cfc-49fb9f35b76d",
         "FIFI Wild Cup"
        ],
        [
         "facf163a-172b-48a6-922f-797998646a31",
         "Far Eastern Championship Games"
        ],
        [
         "5a3f6cdb-0d0f-4a16-a564-a249649fe816",
         "Four Nations Tournament"
        ],
        [
         "29b995c1-2753-49fa-baff-0321a90a74df",
         "Friendly"
        ],
        [
         "c9c4183f-0b4c-4c58-9f9b-736cdb353c8e",
         "GaNEFo"
        ],
        [
         "de8cd173-9165-4da0-9103-0b1ae44a3205",
         "Gold Cup"
        ],
        [
         "eb59e323-ed48-4585-b9cd-2116ab9e42c6",
         "Gold Cup qualification"
        ],
        [
         "fda2feb3-9afd-407c-9192-e36f3550b301",
         "Great Wall Cup"
        ],
        [
         "1b825b0e-d38a-42f6-8947-f3a7b9fb3530",
         "Guangzhou International Friendship Tournament"
        ],
        [
         "047c5286-54fc-4513-a73e-59f77f504913",
         "Gulf Cup"
        ],
        [
         "2f790f7d-7007-4551-ba28-36d45ba352e2",
         "Hungary Heritage Cup"
        ],
        [
         "0c573665-cca9-4aea-97ff-2ea0b807c1bd",
         "Indian Ocean Island Games"
        ],
        [
         "51ebd20f-c79c-4233-9809-e9c63558a87b",
         "Indonesia Tournament"
        ],
        [
         "60161dff-aba5-4d66-8d5a-5467196a7800",
         "Inter Games Football Tournament"
        ],
        [
         "27f44f26-aa1a-42c5-85bf-330afd69410f",
         "Intercontinental Cup"
        ],
        [
         "64f155bc-3a8b-43bc-b012-f778656f3918",
         "Island Games"
        ],
        [
         "9170ab4e-d6c4-4b1f-a814-05b5c24583d3",
         "Joe Robbie Cup"
        ],
        [
         "b144508d-93ff-4100-9e4a-12a8039fba40",
         "Jordan International Tournament"
        ]
       ],
       "datasetInfos": [],
       "dbfsResultPath": null,
       "isJsonSchema": true,
       "metadata": {},
       "overflow": false,
       "plotOptions": {
        "customPlotOptions": {},
        "displayType": "table",
        "pivotAggregation": null,
        "pivotColumns": null,
        "xColumns": null,
        "yColumns": null
       },
       "removedWidgets": [],
       "schema": [
        {
         "metadata": "{}",
         "name": "uuid",
         "type": "\"string\""
        },
        {
         "metadata": "{}",
         "name": "tournament",
         "type": "\"string\""
        }
       ],
       "type": "table"
      }
     },
     "output_type": "display_data"
    }
   ],
   "source": [
    "dim_tournament_df = (\n",
    "    results_df.select(\"tournament\")\n",
    "    .distinct()\n",
    "    .withColumn(\"uuid\", f.expr(\"uuid()\"))\n",
    "    .orderBy(\"tournament\")\n",
    "    .select(\"uuid\", \"tournament\")\n",
    ")\n",
    "display(dim_tournament_df.head(100))"
   ]
  },
  {
   "cell_type": "markdown",
   "metadata": {
    "application/vnd.databricks.v1+cell": {
     "cellMetadata": {
      "byteLimit": 2048000,
      "rowLimit": 10000
     },
     "inputWidgets": {},
     "nuid": "ade7773d-bd79-4121-8d29-a2af3159cafc",
     "showTitle": false,
     "title": ""
    }
   },
   "source": [
    "# Creation of the Dim Team dataframe"
   ]
  },
  {
   "cell_type": "code",
   "execution_count": 0,
   "metadata": {
    "application/vnd.databricks.v1+cell": {
     "cellMetadata": {
      "byteLimit": 2048000,
      "rowLimit": 10000
     },
     "inputWidgets": {},
     "nuid": "d7963ebb-0036-419d-a576-5ccf6ae42116",
     "showTitle": false,
     "title": ""
    }
   },
   "outputs": [
    {
     "output_type": "display_data",
     "data": {
      "text/html": [
       "<style scoped>\n",
       "  .table-result-container {\n",
       "    max-height: 300px;\n",
       "    overflow: auto;\n",
       "  }\n",
       "  table, th, td {\n",
       "    border: 1px solid black;\n",
       "    border-collapse: collapse;\n",
       "  }\n",
       "  th, td {\n",
       "    padding: 5px;\n",
       "  }\n",
       "  th {\n",
       "    text-align: left;\n",
       "  }\n",
       "</style><div class='table-result-container'><table class='table-result'><thead style='background-color: white'><tr><th>uuid</th><th>team</th></tr></thead><tbody><tr><td>5aa33a81-d8b5-455d-a571-4e64b6ed5934</td><td>Abkhazia</td></tr><tr><td>b428a388-7f06-4180-9a39-aecc9a28146f</td><td>Afghanistan</td></tr><tr><td>02755dbb-e8fe-4494-9146-6a37fd2b5eed</td><td>Albania</td></tr><tr><td>11bc1f31-c620-4419-b01c-397ec543cbef</td><td>Alderney</td></tr><tr><td>dccc8e36-20fb-492a-a93d-39d1378f5612</td><td>Algeria</td></tr><tr><td>adbabefe-0945-46f1-82a2-91a6eaeca87b</td><td>Ambazonia</td></tr><tr><td>3c23d573-712e-46fb-99ae-2844ea757ac8</td><td>American Samoa</td></tr><tr><td>4d248988-7f8d-4e57-888f-73317b4c3911</td><td>Andalusia</td></tr><tr><td>95e60810-1925-4023-b14a-f2d002c2efdd</td><td>Andorra</td></tr><tr><td>39a970af-fcfa-4048-b8e5-257f37283557</td><td>Angola</td></tr><tr><td>1cdf0642-7372-4f86-b750-1868962695ee</td><td>Anguilla</td></tr><tr><td>880e7b20-9b17-4f89-a51d-8ac7ea101ab5</td><td>Antigua and Barbuda</td></tr><tr><td>0c343757-0964-48ff-8817-7f9ed93f9a3d</td><td>Arameans Suryoye</td></tr><tr><td>0c736982-3fdd-40b5-8b00-ed33a10924b0</td><td>Argentina</td></tr><tr><td>f722e147-f4ee-4dea-9584-2f5fe126114f</td><td>Armenia</td></tr><tr><td>e101f649-f7e4-4a65-9144-036050549fdd</td><td>Artsakh</td></tr><tr><td>d08537fd-6909-46e9-94d2-7bcb07826719</td><td>Aruba</td></tr><tr><td>20ab3c9a-68b2-4c19-999b-74dcaa9bf5a2</td><td>Asturias</td></tr><tr><td>b9720e77-0282-483d-8ccb-9eeca6fff90e</td><td>Australia</td></tr><tr><td>b8c69d88-f863-4932-97ed-15b4b7bb5a19</td><td>Austria</td></tr><tr><td>1695c8bb-7bc2-49a6-a515-654d0ac40a1f</td><td>Aymara</td></tr><tr><td>54bfda9d-a068-4507-b047-58a1cd74193c</td><td>Azerbaijan</td></tr><tr><td>d3f89db8-7654-481c-a193-5dffb197a8d2</td><td>Bahamas</td></tr><tr><td>b88788d2-7357-40c9-a400-9c9cfbe85f63</td><td>Bahrain</td></tr><tr><td>e1f9a3b4-99bc-4725-9177-f366e754f873</td><td>Bangladesh</td></tr><tr><td>e9c28c19-7c3a-4a8a-97d2-f07d7f853b7a</td><td>Barawa</td></tr><tr><td>a52bee72-a94a-4b3e-8b19-0fe23e824cb0</td><td>Barbados</td></tr><tr><td>ca9e99f2-8a1f-486e-a7fa-8cb631cfb36e</td><td>Basque Country</td></tr><tr><td>8d73fa6d-5fff-4e71-a0cc-ea914a8434dd</td><td>Belarus</td></tr><tr><td>15410b00-d2ab-484a-bf3c-72cf58fd913b</td><td>Belgium</td></tr><tr><td>f213ddca-255c-4645-9e61-ff75300d0b9a</td><td>Belize</td></tr><tr><td>f7df5220-6b64-41a6-8b2f-fb53be8a12e3</td><td>Benin</td></tr><tr><td>005470f9-e908-4e90-bdac-730af9b8d259</td><td>Bermuda</td></tr><tr><td>42044268-c39f-4b20-9a09-4aec0d01733a</td><td>Bhutan</td></tr><tr><td>4539afb5-1816-4f2c-a053-8baff8f68fe1</td><td>Biafra</td></tr><tr><td>438c1472-2feb-4913-8256-03217bd21b7f</td><td>Bolivia</td></tr><tr><td>fcea5a03-ba25-4b62-8426-3dafb0a7ba49</td><td>Bonaire</td></tr><tr><td>849d0bb3-7dd0-40c2-98cc-0c0892dd51df</td><td>Bosnia and Herzegovina</td></tr><tr><td>67310767-39ad-489d-afda-af6ce605a20c</td><td>Botswana</td></tr><tr><td>254e3fd5-9a32-417d-bd97-4eb5756b4615</td><td>Brazil</td></tr><tr><td>c30a85b6-d1ab-4ce9-8536-2197fadf2b7b</td><td>British Virgin Islands</td></tr><tr><td>c31943f6-e077-4cfe-ac3c-43df8bc72dac</td><td>Brittany</td></tr><tr><td>c5bd96e8-e3b2-442e-be6f-c0884f6f76e3</td><td>Brunei</td></tr><tr><td>1acb3b7b-2c09-4261-a2b4-7ca2b498cd90</td><td>Bulgaria</td></tr><tr><td>46526476-841d-459f-8a1a-90c8807c93dc</td><td>Burkina Faso</td></tr><tr><td>f674db36-de23-4175-9192-ba4cf4da2e55</td><td>Burma</td></tr><tr><td>c3424a25-5f26-4698-a255-b9f6b90ff392</td><td>Burundi</td></tr><tr><td>cb3cbe8a-ac79-4544-ad2b-505b668c7544</td><td>Cambodia</td></tr><tr><td>5b8bbad5-5dc9-4808-a91a-9566258bd363</td><td>Cameroon</td></tr><tr><td>7dc69076-fd67-483b-afe2-325da28c391c</td><td>Canada</td></tr><tr><td>342936d3-0200-47ea-ab3a-53717c418d33</td><td>Canary Islands</td></tr><tr><td>cb99ef6e-608a-44ba-ac1c-ec7086cd3772</td><td>Cape Verde</td></tr><tr><td>934861e2-c1ce-4841-aff0-a178d9b07dfd</td><td>Cascadia</td></tr><tr><td>41474a94-b986-4548-b79f-d144bbf4ec90</td><td>Catalonia</td></tr><tr><td>f8643b76-d6b9-499c-b5ae-6c1ff7884a5e</td><td>Cayman Islands</td></tr><tr><td>1300fc58-bcbb-4bf7-b5a1-b1666af385e9</td><td>Central African Republic</td></tr><tr><td>c8569408-6d06-4eb1-be25-081c73bf6291</td><td>Central Spain</td></tr><tr><td>b8fe1feb-1591-423f-8c2f-acbfdc032b53</td><td>Chad</td></tr><tr><td>21c820d6-1dfb-4a20-bc38-69a49b341438</td><td>Chagos Islands</td></tr><tr><td>5285794d-f13f-4355-8477-e690d4465039</td><td>Chameria</td></tr><tr><td>4d4a7d74-ed54-4fb2-9455-fea6ad259d39</td><td>Chechnya</td></tr><tr><td>c6feef46-4900-434f-b5e7-13fbfd485290</td><td>Chile</td></tr><tr><td>8ab18432-7a56-43ff-93d0-0574d1bc98bf</td><td>China PR</td></tr><tr><td>9d51cf14-bde5-4941-84b7-41fd978a94e9</td><td>Cilento</td></tr><tr><td>03a20a65-c660-4950-9add-d0b852fd2dc7</td><td>Colombia</td></tr><tr><td>cd62fd35-c1e6-4c62-964d-86a3d3d154ed</td><td>Comoros</td></tr><tr><td>ebaa77b2-e03d-49a6-85a0-6574383c1e5d</td><td>Congo</td></tr><tr><td>e4b9eeb3-f817-4a63-8670-53f0fb880976</td><td>Cook Islands</td></tr><tr><td>c6ff8fb9-1581-4763-8b24-209e8104ce70</td><td>Corsica</td></tr><tr><td>082311e6-2728-47b8-adcf-4d5efa098593</td><td>Costa Rica</td></tr><tr><td>8ff037fa-53ec-4c10-8394-b1d0f00c2fe0</td><td>County of Nice</td></tr><tr><td>4ef91788-f700-42c5-b154-1e984523ee11</td><td>Crimea</td></tr><tr><td>b1a40f77-f6a6-4f2f-948c-cefb886b4d31</td><td>Croatia</td></tr><tr><td>20ecfa0e-ffb2-400f-b633-b2090537bb84</td><td>Cuba</td></tr><tr><td>1ad06e0e-c012-4c1d-8092-7f9a583ed51c</td><td>Curaçao</td></tr><tr><td>83d7cc19-8698-42a9-b999-10ca980f5f80</td><td>Cyprus</td></tr><tr><td>73b605cf-fae7-4f08-81ff-af64ffa26233</td><td>Czech Republic</td></tr><tr><td>c0aed58c-36fe-46ed-bfa1-250037eac8e8</td><td>Czechoslovakia</td></tr><tr><td>c91bf9a6-1fcf-46dc-b816-b332e7f36e00</td><td>DR Congo</td></tr><tr><td>600adb28-82f3-4a7e-a743-585253ebcad4</td><td>Darfur</td></tr><tr><td>5dccab54-604f-48e5-a3ee-d31f3784a0d9</td><td>Denmark</td></tr><tr><td>29ec9ecb-ad1e-4fea-b73e-ab4b709b5867</td><td>Djibouti</td></tr><tr><td>ed5a1da1-e173-44fc-96f0-bf292f6f615a</td><td>Dominica</td></tr><tr><td>65aa6a9b-5a2a-4bc4-9858-e0d40e774065</td><td>Dominican Republic</td></tr><tr><td>1550257a-3e5c-4c0d-a78c-789c23d0ffc5</td><td>Donetsk PR</td></tr><tr><td>c14eac1c-d383-460f-b2c3-187fe1c96203</td><td>Délvidék</td></tr><tr><td>cb1cc901-c734-4e36-886a-e44f502c94e5</td><td>East Timor</td></tr><tr><td>232bb3ee-10bc-4506-b756-8ab4d54640ce</td><td>Ecuador</td></tr><tr><td>19e7ba50-7081-4765-b5ec-252b2c860ce9</td><td>Egypt</td></tr><tr><td>02d873c5-ad76-43ef-ac91-fcc6a5f39908</td><td>El Salvador</td></tr><tr><td>cfce6f67-ac18-43e7-bffe-495dc0384b11</td><td>Elba Island</td></tr><tr><td>26b4ed8c-7a16-41de-aa22-e3517f8a4d4c</td><td>Ellan Vannin</td></tr><tr><td>2829daec-4541-4a26-b0e8-2865e4896e8c</td><td>England</td></tr><tr><td>20dd4847-bbd8-4d8e-a01d-8f7750fcf647</td><td>Equatorial Guinea</td></tr><tr><td>4df8535c-919c-408f-8a1a-c60efe14f6e0</td><td>Eritrea</td></tr><tr><td>19ddfb8e-cc32-4a37-bbf6-aa9835bb87a4</td><td>Estonia</td></tr><tr><td>0cd96caf-9d67-4320-83fc-7699072dac44</td><td>Eswatini</td></tr><tr><td>b55982a5-39c5-4d86-b01b-c0d45b2a43bb</td><td>Ethiopia</td></tr><tr><td>e4265c9b-66c5-46ec-addc-7ec406846815</td><td>Falkland Islands</td></tr><tr><td>e9b06ebf-1cc6-4d63-8682-f79446dd8cbf</td><td>Faroe Islands</td></tr></tbody></table></div>"
      ]
     },
     "metadata": {
      "application/vnd.databricks.v1+output": {
       "addedWidgets": {},
       "aggData": [],
       "aggError": "",
       "aggOverflow": false,
       "aggSchema": [],
       "aggSeriesLimitReached": false,
       "aggType": "",
       "arguments": {},
       "columnCustomDisplayInfos": {},
       "data": [
        [
         "5aa33a81-d8b5-455d-a571-4e64b6ed5934",
         "Abkhazia"
        ],
        [
         "b428a388-7f06-4180-9a39-aecc9a28146f",
         "Afghanistan"
        ],
        [
         "02755dbb-e8fe-4494-9146-6a37fd2b5eed",
         "Albania"
        ],
        [
         "11bc1f31-c620-4419-b01c-397ec543cbef",
         "Alderney"
        ],
        [
         "dccc8e36-20fb-492a-a93d-39d1378f5612",
         "Algeria"
        ],
        [
         "adbabefe-0945-46f1-82a2-91a6eaeca87b",
         "Ambazonia"
        ],
        [
         "3c23d573-712e-46fb-99ae-2844ea757ac8",
         "American Samoa"
        ],
        [
         "4d248988-7f8d-4e57-888f-73317b4c3911",
         "Andalusia"
        ],
        [
         "95e60810-1925-4023-b14a-f2d002c2efdd",
         "Andorra"
        ],
        [
         "39a970af-fcfa-4048-b8e5-257f37283557",
         "Angola"
        ],
        [
         "1cdf0642-7372-4f86-b750-1868962695ee",
         "Anguilla"
        ],
        [
         "880e7b20-9b17-4f89-a51d-8ac7ea101ab5",
         "Antigua and Barbuda"
        ],
        [
         "0c343757-0964-48ff-8817-7f9ed93f9a3d",
         "Arameans Suryoye"
        ],
        [
         "0c736982-3fdd-40b5-8b00-ed33a10924b0",
         "Argentina"
        ],
        [
         "f722e147-f4ee-4dea-9584-2f5fe126114f",
         "Armenia"
        ],
        [
         "e101f649-f7e4-4a65-9144-036050549fdd",
         "Artsakh"
        ],
        [
         "d08537fd-6909-46e9-94d2-7bcb07826719",
         "Aruba"
        ],
        [
         "20ab3c9a-68b2-4c19-999b-74dcaa9bf5a2",
         "Asturias"
        ],
        [
         "b9720e77-0282-483d-8ccb-9eeca6fff90e",
         "Australia"
        ],
        [
         "b8c69d88-f863-4932-97ed-15b4b7bb5a19",
         "Austria"
        ],
        [
         "1695c8bb-7bc2-49a6-a515-654d0ac40a1f",
         "Aymara"
        ],
        [
         "54bfda9d-a068-4507-b047-58a1cd74193c",
         "Azerbaijan"
        ],
        [
         "d3f89db8-7654-481c-a193-5dffb197a8d2",
         "Bahamas"
        ],
        [
         "b88788d2-7357-40c9-a400-9c9cfbe85f63",
         "Bahrain"
        ],
        [
         "e1f9a3b4-99bc-4725-9177-f366e754f873",
         "Bangladesh"
        ],
        [
         "e9c28c19-7c3a-4a8a-97d2-f07d7f853b7a",
         "Barawa"
        ],
        [
         "a52bee72-a94a-4b3e-8b19-0fe23e824cb0",
         "Barbados"
        ],
        [
         "ca9e99f2-8a1f-486e-a7fa-8cb631cfb36e",
         "Basque Country"
        ],
        [
         "8d73fa6d-5fff-4e71-a0cc-ea914a8434dd",
         "Belarus"
        ],
        [
         "15410b00-d2ab-484a-bf3c-72cf58fd913b",
         "Belgium"
        ],
        [
         "f213ddca-255c-4645-9e61-ff75300d0b9a",
         "Belize"
        ],
        [
         "f7df5220-6b64-41a6-8b2f-fb53be8a12e3",
         "Benin"
        ],
        [
         "005470f9-e908-4e90-bdac-730af9b8d259",
         "Bermuda"
        ],
        [
         "42044268-c39f-4b20-9a09-4aec0d01733a",
         "Bhutan"
        ],
        [
         "4539afb5-1816-4f2c-a053-8baff8f68fe1",
         "Biafra"
        ],
        [
         "438c1472-2feb-4913-8256-03217bd21b7f",
         "Bolivia"
        ],
        [
         "fcea5a03-ba25-4b62-8426-3dafb0a7ba49",
         "Bonaire"
        ],
        [
         "849d0bb3-7dd0-40c2-98cc-0c0892dd51df",
         "Bosnia and Herzegovina"
        ],
        [
         "67310767-39ad-489d-afda-af6ce605a20c",
         "Botswana"
        ],
        [
         "254e3fd5-9a32-417d-bd97-4eb5756b4615",
         "Brazil"
        ],
        [
         "c30a85b6-d1ab-4ce9-8536-2197fadf2b7b",
         "British Virgin Islands"
        ],
        [
         "c31943f6-e077-4cfe-ac3c-43df8bc72dac",
         "Brittany"
        ],
        [
         "c5bd96e8-e3b2-442e-be6f-c0884f6f76e3",
         "Brunei"
        ],
        [
         "1acb3b7b-2c09-4261-a2b4-7ca2b498cd90",
         "Bulgaria"
        ],
        [
         "46526476-841d-459f-8a1a-90c8807c93dc",
         "Burkina Faso"
        ],
        [
         "f674db36-de23-4175-9192-ba4cf4da2e55",
         "Burma"
        ],
        [
         "c3424a25-5f26-4698-a255-b9f6b90ff392",
         "Burundi"
        ],
        [
         "cb3cbe8a-ac79-4544-ad2b-505b668c7544",
         "Cambodia"
        ],
        [
         "5b8bbad5-5dc9-4808-a91a-9566258bd363",
         "Cameroon"
        ],
        [
         "7dc69076-fd67-483b-afe2-325da28c391c",
         "Canada"
        ],
        [
         "342936d3-0200-47ea-ab3a-53717c418d33",
         "Canary Islands"
        ],
        [
         "cb99ef6e-608a-44ba-ac1c-ec7086cd3772",
         "Cape Verde"
        ],
        [
         "934861e2-c1ce-4841-aff0-a178d9b07dfd",
         "Cascadia"
        ],
        [
         "41474a94-b986-4548-b79f-d144bbf4ec90",
         "Catalonia"
        ],
        [
         "f8643b76-d6b9-499c-b5ae-6c1ff7884a5e",
         "Cayman Islands"
        ],
        [
         "1300fc58-bcbb-4bf7-b5a1-b1666af385e9",
         "Central African Republic"
        ],
        [
         "c8569408-6d06-4eb1-be25-081c73bf6291",
         "Central Spain"
        ],
        [
         "b8fe1feb-1591-423f-8c2f-acbfdc032b53",
         "Chad"
        ],
        [
         "21c820d6-1dfb-4a20-bc38-69a49b341438",
         "Chagos Islands"
        ],
        [
         "5285794d-f13f-4355-8477-e690d4465039",
         "Chameria"
        ],
        [
         "4d4a7d74-ed54-4fb2-9455-fea6ad259d39",
         "Chechnya"
        ],
        [
         "c6feef46-4900-434f-b5e7-13fbfd485290",
         "Chile"
        ],
        [
         "8ab18432-7a56-43ff-93d0-0574d1bc98bf",
         "China PR"
        ],
        [
         "9d51cf14-bde5-4941-84b7-41fd978a94e9",
         "Cilento"
        ],
        [
         "03a20a65-c660-4950-9add-d0b852fd2dc7",
         "Colombia"
        ],
        [
         "cd62fd35-c1e6-4c62-964d-86a3d3d154ed",
         "Comoros"
        ],
        [
         "ebaa77b2-e03d-49a6-85a0-6574383c1e5d",
         "Congo"
        ],
        [
         "e4b9eeb3-f817-4a63-8670-53f0fb880976",
         "Cook Islands"
        ],
        [
         "c6ff8fb9-1581-4763-8b24-209e8104ce70",
         "Corsica"
        ],
        [
         "082311e6-2728-47b8-adcf-4d5efa098593",
         "Costa Rica"
        ],
        [
         "8ff037fa-53ec-4c10-8394-b1d0f00c2fe0",
         "County of Nice"
        ],
        [
         "4ef91788-f700-42c5-b154-1e984523ee11",
         "Crimea"
        ],
        [
         "b1a40f77-f6a6-4f2f-948c-cefb886b4d31",
         "Croatia"
        ],
        [
         "20ecfa0e-ffb2-400f-b633-b2090537bb84",
         "Cuba"
        ],
        [
         "1ad06e0e-c012-4c1d-8092-7f9a583ed51c",
         "Curaçao"
        ],
        [
         "83d7cc19-8698-42a9-b999-10ca980f5f80",
         "Cyprus"
        ],
        [
         "73b605cf-fae7-4f08-81ff-af64ffa26233",
         "Czech Republic"
        ],
        [
         "c0aed58c-36fe-46ed-bfa1-250037eac8e8",
         "Czechoslovakia"
        ],
        [
         "c91bf9a6-1fcf-46dc-b816-b332e7f36e00",
         "DR Congo"
        ],
        [
         "600adb28-82f3-4a7e-a743-585253ebcad4",
         "Darfur"
        ],
        [
         "5dccab54-604f-48e5-a3ee-d31f3784a0d9",
         "Denmark"
        ],
        [
         "29ec9ecb-ad1e-4fea-b73e-ab4b709b5867",
         "Djibouti"
        ],
        [
         "ed5a1da1-e173-44fc-96f0-bf292f6f615a",
         "Dominica"
        ],
        [
         "65aa6a9b-5a2a-4bc4-9858-e0d40e774065",
         "Dominican Republic"
        ],
        [
         "1550257a-3e5c-4c0d-a78c-789c23d0ffc5",
         "Donetsk PR"
        ],
        [
         "c14eac1c-d383-460f-b2c3-187fe1c96203",
         "Délvidék"
        ],
        [
         "cb1cc901-c734-4e36-886a-e44f502c94e5",
         "East Timor"
        ],
        [
         "232bb3ee-10bc-4506-b756-8ab4d54640ce",
         "Ecuador"
        ],
        [
         "19e7ba50-7081-4765-b5ec-252b2c860ce9",
         "Egypt"
        ],
        [
         "02d873c5-ad76-43ef-ac91-fcc6a5f39908",
         "El Salvador"
        ],
        [
         "cfce6f67-ac18-43e7-bffe-495dc0384b11",
         "Elba Island"
        ],
        [
         "26b4ed8c-7a16-41de-aa22-e3517f8a4d4c",
         "Ellan Vannin"
        ],
        [
         "2829daec-4541-4a26-b0e8-2865e4896e8c",
         "England"
        ],
        [
         "20dd4847-bbd8-4d8e-a01d-8f7750fcf647",
         "Equatorial Guinea"
        ],
        [
         "4df8535c-919c-408f-8a1a-c60efe14f6e0",
         "Eritrea"
        ],
        [
         "19ddfb8e-cc32-4a37-bbf6-aa9835bb87a4",
         "Estonia"
        ],
        [
         "0cd96caf-9d67-4320-83fc-7699072dac44",
         "Eswatini"
        ],
        [
         "b55982a5-39c5-4d86-b01b-c0d45b2a43bb",
         "Ethiopia"
        ],
        [
         "e4265c9b-66c5-46ec-addc-7ec406846815",
         "Falkland Islands"
        ],
        [
         "e9b06ebf-1cc6-4d63-8682-f79446dd8cbf",
         "Faroe Islands"
        ]
       ],
       "datasetInfos": [],
       "dbfsResultPath": null,
       "isJsonSchema": true,
       "metadata": {},
       "overflow": false,
       "plotOptions": {
        "customPlotOptions": {},
        "displayType": "table",
        "pivotAggregation": null,
        "pivotColumns": null,
        "xColumns": null,
        "yColumns": null
       },
       "removedWidgets": [],
       "schema": [
        {
         "metadata": "{}",
         "name": "uuid",
         "type": "\"string\""
        },
        {
         "metadata": "{}",
         "name": "team",
         "type": "\"string\""
        }
       ],
       "type": "table"
      }
     },
     "output_type": "display_data"
    }
   ],
   "source": [
    "dim_team_df = (\n",
    "    results_df.select(\"home_team\")\n",
    "    .union(results_df.select(\"away_team\"))\n",
    "    .distinct()\n",
    "    .withColumnRenamed(\"home_team\", \"team\")\n",
    "    .withColumn(\"uuid\", f.expr(\"uuid()\"))\n",
    "    .orderBy(\"team\")\n",
    "    .select(\"uuid\", \"team\")\n",
    ")\n",
    "display(dim_team_df.head(100))"
   ]
  },
  {
   "cell_type": "markdown",
   "metadata": {
    "application/vnd.databricks.v1+cell": {
     "cellMetadata": {
      "byteLimit": 2048000,
      "rowLimit": 10000
     },
     "inputWidgets": {},
     "nuid": "42334309-6904-4a49-8ed3-a43e2bec674e",
     "showTitle": false,
     "title": ""
    }
   },
   "source": [
    "# Creation of the Dim Match Dataframe"
   ]
  },
  {
   "cell_type": "code",
   "execution_count": 0,
   "metadata": {
    "application/vnd.databricks.v1+cell": {
     "cellMetadata": {
      "byteLimit": 2048000,
      "rowLimit": 10000
     },
     "inputWidgets": {},
     "nuid": "348b56c2-5392-4d14-8001-ed47c19f373c",
     "showTitle": false,
     "title": ""
    }
   },
   "outputs": [
    {
     "output_type": "display_data",
     "data": {
      "text/html": [
       "<style scoped>\n",
       "  .table-result-container {\n",
       "    max-height: 300px;\n",
       "    overflow: auto;\n",
       "  }\n",
       "  table, th, td {\n",
       "    border: 1px solid black;\n",
       "    border-collapse: collapse;\n",
       "  }\n",
       "  th, td {\n",
       "    padding: 5px;\n",
       "  }\n",
       "  th {\n",
       "    text-align: left;\n",
       "  }\n",
       "</style><div class='table-result-container'><table class='table-result'><thead style='background-color: white'><tr><th>uuid</th><th>home_team_uuid</th><th>away_team_uuid</th><th>date_uuid</th><th>tournament_uuid</th><th>city_uuid</th><th>neutral_field</th></tr></thead><tbody><tr><td>e9765db9-210b-470c-92b6-e5afeb9d25aa</td><td>930f1adc-c26a-4918-bb2b-ba51c70c056e</td><td>2829daec-4541-4a26-b0e8-2865e4896e8c</td><td>e52fa92e-8dc7-4aad-8aae-81fefe0214d5</td><td>29b995c1-2753-49fa-baff-0321a90a74df</td><td>9497ba90-3373-42e5-bbfb-58fc77ae830b</td><td>false</td></tr><tr><td>7356996b-6ce7-4209-9019-82eb99ba85ad</td><td>2829daec-4541-4a26-b0e8-2865e4896e8c</td><td>930f1adc-c26a-4918-bb2b-ba51c70c056e</td><td>7fef1c0e-a1d7-49ae-9332-3e3e8d1e79ad</td><td>29b995c1-2753-49fa-baff-0321a90a74df</td><td>a2f817e5-52cc-4dd5-9ff2-a5eb0b93698a</td><td>false</td></tr><tr><td>6aeea70f-0bfb-4a55-bf0a-0abb2c9817d4</td><td>930f1adc-c26a-4918-bb2b-ba51c70c056e</td><td>2829daec-4541-4a26-b0e8-2865e4896e8c</td><td>e7ad1430-ed60-476f-9432-14b6eea0bf37</td><td>29b995c1-2753-49fa-baff-0321a90a74df</td><td>9497ba90-3373-42e5-bbfb-58fc77ae830b</td><td>false</td></tr><tr><td>21fd98a2-fefd-43ac-8a99-8fa2481f4e00</td><td>2829daec-4541-4a26-b0e8-2865e4896e8c</td><td>930f1adc-c26a-4918-bb2b-ba51c70c056e</td><td>cc26c5d3-8d71-4c5b-bfdc-7610cd381ad9</td><td>29b995c1-2753-49fa-baff-0321a90a74df</td><td>a2f817e5-52cc-4dd5-9ff2-a5eb0b93698a</td><td>false</td></tr><tr><td>0ff999d5-7272-45cf-87b7-2d4960118446</td><td>930f1adc-c26a-4918-bb2b-ba51c70c056e</td><td>2829daec-4541-4a26-b0e8-2865e4896e8c</td><td>3d91b61f-5a41-42bc-a021-fbed43a355a1</td><td>29b995c1-2753-49fa-baff-0321a90a74df</td><td>9497ba90-3373-42e5-bbfb-58fc77ae830b</td><td>false</td></tr><tr><td>d8190350-5a76-44bd-bc1a-74b51446173d</td><td>930f1adc-c26a-4918-bb2b-ba51c70c056e</td><td>1241e9ca-1848-4e4f-813f-5edcd035e410</td><td>53eaa18c-2aac-478a-81c7-21ba05887061</td><td>29b995c1-2753-49fa-baff-0321a90a74df</td><td>9497ba90-3373-42e5-bbfb-58fc77ae830b</td><td>false</td></tr><tr><td>cee3dcf5-2a0e-4a55-be9c-36441942beb1</td><td>2829daec-4541-4a26-b0e8-2865e4896e8c</td><td>930f1adc-c26a-4918-bb2b-ba51c70c056e</td><td>32fd8bd7-46d5-4191-9d61-08e892749777</td><td>29b995c1-2753-49fa-baff-0321a90a74df</td><td>a2f817e5-52cc-4dd5-9ff2-a5eb0b93698a</td><td>false</td></tr><tr><td>78aa5857-95ba-4dfa-b560-5032080e5a32</td><td>1241e9ca-1848-4e4f-813f-5edcd035e410</td><td>930f1adc-c26a-4918-bb2b-ba51c70c056e</td><td>b45bf31f-1982-47b9-a4d1-04a3b7ebf9c3</td><td>29b995c1-2753-49fa-baff-0321a90a74df</td><td>5078ba42-8a28-4a5f-b118-d3b3f7af983e</td><td>false</td></tr><tr><td>ee328aca-4335-4dad-a1be-908dcc16e715</td><td>930f1adc-c26a-4918-bb2b-ba51c70c056e</td><td>2829daec-4541-4a26-b0e8-2865e4896e8c</td><td>f18819af-c611-41ff-88ec-62bce722f397</td><td>29b995c1-2753-49fa-baff-0321a90a74df</td><td>9497ba90-3373-42e5-bbfb-58fc77ae830b</td><td>false</td></tr><tr><td>4a326d08-cb03-41ab-9ed5-20fdd39649dc</td><td>930f1adc-c26a-4918-bb2b-ba51c70c056e</td><td>1241e9ca-1848-4e4f-813f-5edcd035e410</td><td>7beebc72-bf19-4795-8893-9ca694683246</td><td>29b995c1-2753-49fa-baff-0321a90a74df</td><td>9497ba90-3373-42e5-bbfb-58fc77ae830b</td><td>false</td></tr><tr><td>5c6cac58-b69e-43bf-a4ee-3b8d32952356</td><td>2829daec-4541-4a26-b0e8-2865e4896e8c</td><td>1241e9ca-1848-4e4f-813f-5edcd035e410</td><td>09aed68d-2871-4099-82e5-8b7b413b335d</td><td>29b995c1-2753-49fa-baff-0321a90a74df</td><td>a2f817e5-52cc-4dd5-9ff2-a5eb0b93698a</td><td>false</td></tr><tr><td>556f5118-88a7-4b7e-a318-31fce87aed09</td><td>2829daec-4541-4a26-b0e8-2865e4896e8c</td><td>930f1adc-c26a-4918-bb2b-ba51c70c056e</td><td>fb2d7550-9846-4b86-a30d-197f62c3e842</td><td>29b995c1-2753-49fa-baff-0321a90a74df</td><td>a2f817e5-52cc-4dd5-9ff2-a5eb0b93698a</td><td>false</td></tr><tr><td>a98e312e-bcd6-4e82-9d67-c9b2839e2778</td><td>1241e9ca-1848-4e4f-813f-5edcd035e410</td><td>930f1adc-c26a-4918-bb2b-ba51c70c056e</td><td>9fa0b6ae-8058-4101-bffb-e14a25e7d518</td><td>29b995c1-2753-49fa-baff-0321a90a74df</td><td>5078ba42-8a28-4a5f-b118-d3b3f7af983e</td><td>false</td></tr><tr><td>f7084be4-aaf1-4629-b744-7978762e9c81</td><td>930f1adc-c26a-4918-bb2b-ba51c70c056e</td><td>2829daec-4541-4a26-b0e8-2865e4896e8c</td><td>d1fcb0ac-36fe-4ec4-a8e1-4537f7fbec45</td><td>29b995c1-2753-49fa-baff-0321a90a74df</td><td>9497ba90-3373-42e5-bbfb-58fc77ae830b</td><td>false</td></tr><tr><td>c0405a45-54e0-4232-8f3f-a7ec30e3df8e</td><td>1241e9ca-1848-4e4f-813f-5edcd035e410</td><td>2829daec-4541-4a26-b0e8-2865e4896e8c</td><td>3f4a90da-4483-4b9b-8f0c-e991fb758d47</td><td>29b995c1-2753-49fa-baff-0321a90a74df</td><td>5078ba42-8a28-4a5f-b118-d3b3f7af983e</td><td>false</td></tr><tr><td>4280ca44-b157-46e4-ae27-0160a51e53d5</td><td>930f1adc-c26a-4918-bb2b-ba51c70c056e</td><td>1241e9ca-1848-4e4f-813f-5edcd035e410</td><td>c5d9756e-6918-4b13-a4e3-b51e42bc5276</td><td>29b995c1-2753-49fa-baff-0321a90a74df</td><td>9497ba90-3373-42e5-bbfb-58fc77ae830b</td><td>false</td></tr><tr><td>13ef16e0-4c07-49c8-9d4f-3f59b91d6ea3</td><td>2829daec-4541-4a26-b0e8-2865e4896e8c</td><td>1241e9ca-1848-4e4f-813f-5edcd035e410</td><td>653d362c-bb9b-4796-a691-a0af006a790f</td><td>29b995c1-2753-49fa-baff-0321a90a74df</td><td>c4200e07-e77d-4928-ae3b-f345e7d5f774</td><td>false</td></tr><tr><td>3ee5a11b-92f4-40df-9e3c-929403f306f8</td><td>2829daec-4541-4a26-b0e8-2865e4896e8c</td><td>930f1adc-c26a-4918-bb2b-ba51c70c056e</td><td>53b67591-d8b4-4dc4-88c1-c6ce42e807c3</td><td>29b995c1-2753-49fa-baff-0321a90a74df</td><td>a2f817e5-52cc-4dd5-9ff2-a5eb0b93698a</td><td>false</td></tr><tr><td>b1f550a7-645f-4af6-a61d-9516f612bfe8</td><td>1241e9ca-1848-4e4f-813f-5edcd035e410</td><td>930f1adc-c26a-4918-bb2b-ba51c70c056e</td><td>948be578-68df-44cb-917f-70b39e0bf5dd</td><td>29b995c1-2753-49fa-baff-0321a90a74df</td><td>5078ba42-8a28-4a5f-b118-d3b3f7af983e</td><td>false</td></tr><tr><td>2f9da44d-8d2d-4153-9176-8aa3e42b4e02</td><td>2e2fc2fd-a2cc-44b4-9cd0-1058b12bb784</td><td>2829daec-4541-4a26-b0e8-2865e4896e8c</td><td>e97095c2-1f8b-4097-8645-96c35ef100d2</td><td>29b995c1-2753-49fa-baff-0321a90a74df</td><td>47309e80-c12e-4981-9c8b-e629d1b6a942</td><td>false</td></tr><tr><td>f9f0a3be-1e23-4bc3-bef2-baeedaaf741e</td><td>1241e9ca-1848-4e4f-813f-5edcd035e410</td><td>2e2fc2fd-a2cc-44b4-9cd0-1058b12bb784</td><td>49e2e1de-f607-4614-9196-751064869126</td><td>29b995c1-2753-49fa-baff-0321a90a74df</td><td>5078ba42-8a28-4a5f-b118-d3b3f7af983e</td><td>false</td></tr><tr><td>c9c6a227-e0e2-458d-bb8d-5080bdcf97f8</td><td>930f1adc-c26a-4918-bb2b-ba51c70c056e</td><td>2829daec-4541-4a26-b0e8-2865e4896e8c</td><td>b0268a40-b871-4bd0-a686-837ec33ece04</td><td>29b995c1-2753-49fa-baff-0321a90a74df</td><td>9497ba90-3373-42e5-bbfb-58fc77ae830b</td><td>false</td></tr><tr><td>414a6061-4167-4d45-a337-68beff408b57</td><td>1241e9ca-1848-4e4f-813f-5edcd035e410</td><td>2829daec-4541-4a26-b0e8-2865e4896e8c</td><td>8541e2f9-9273-4a2f-b4a3-b21eabd9d1c3</td><td>29b995c1-2753-49fa-baff-0321a90a74df</td><td>5078ba42-8a28-4a5f-b118-d3b3f7af983e</td><td>false</td></tr><tr><td>78c70932-81d6-4877-aa81-39a3db1c09a3</td><td>930f1adc-c26a-4918-bb2b-ba51c70c056e</td><td>1241e9ca-1848-4e4f-813f-5edcd035e410</td><td>4ca05014-3a98-41d6-b606-1ba1dc23b80c</td><td>29b995c1-2753-49fa-baff-0321a90a74df</td><td>9497ba90-3373-42e5-bbfb-58fc77ae830b</td><td>false</td></tr><tr><td>260ff327-09aa-47eb-8fb6-5009fe3344fd</td><td>2829daec-4541-4a26-b0e8-2865e4896e8c</td><td>1241e9ca-1848-4e4f-813f-5edcd035e410</td><td>12283155-33ad-4452-b0b6-ffe8c69a9534</td><td>29b995c1-2753-49fa-baff-0321a90a74df</td><td>a2f817e5-52cc-4dd5-9ff2-a5eb0b93698a</td><td>false</td></tr><tr><td>189a067d-c5c4-4794-b0c6-52d15360e4d5</td><td>2829daec-4541-4a26-b0e8-2865e4896e8c</td><td>2e2fc2fd-a2cc-44b4-9cd0-1058b12bb784</td><td>42d4ec96-917a-4ad2-b85c-d0bc4f5395d4</td><td>29b995c1-2753-49fa-baff-0321a90a74df</td><td>5f1280da-236d-480d-ab48-6f409a9a58bd</td><td>false</td></tr><tr><td>c35ca88d-f15a-4281-9802-8552b5a10bf1</td><td>2829daec-4541-4a26-b0e8-2865e4896e8c</td><td>930f1adc-c26a-4918-bb2b-ba51c70c056e</td><td>bf25894a-9460-4cc1-9415-32469f9a1947</td><td>29b995c1-2753-49fa-baff-0321a90a74df</td><td>91ea92e4-e0a4-4cfe-b42e-7defa12aa57f</td><td>false</td></tr><tr><td>0b38c1f2-a0de-4114-a287-480f62dae06b</td><td>1241e9ca-1848-4e4f-813f-5edcd035e410</td><td>930f1adc-c26a-4918-bb2b-ba51c70c056e</td><td>30b2f9ea-e4c0-4fd3-98ad-869088de5403</td><td>29b995c1-2753-49fa-baff-0321a90a74df</td><td>5078ba42-8a28-4a5f-b118-d3b3f7af983e</td><td>false</td></tr><tr><td>244426b5-ded5-40f3-ac9b-7f45caaf925b</td><td>2e2fc2fd-a2cc-44b4-9cd0-1058b12bb784</td><td>1241e9ca-1848-4e4f-813f-5edcd035e410</td><td>2d5d7a7f-1756-4076-b91c-f2ae9bdff493</td><td>29b995c1-2753-49fa-baff-0321a90a74df</td><td>47309e80-c12e-4981-9c8b-e629d1b6a942</td><td>false</td></tr><tr><td>2f0b41d9-a9f2-4f7c-843b-d6091ba20307</td><td>2e2fc2fd-a2cc-44b4-9cd0-1058b12bb784</td><td>930f1adc-c26a-4918-bb2b-ba51c70c056e</td><td>c74eebc8-e82f-45b2-a7e2-2e60ddb07e0e</td><td>993aa8b9-a213-45b8-a879-c6b3658ee4e9</td><td>47309e80-c12e-4981-9c8b-e629d1b6a942</td><td>false</td></tr><tr><td>df0b582b-cac7-48eb-ae18-95af00137334</td><td>1241e9ca-1848-4e4f-813f-5edcd035e410</td><td>2e2fc2fd-a2cc-44b4-9cd0-1058b12bb784</td><td>f83d3838-7cae-4335-aa91-56cf8d12c38c</td><td>993aa8b9-a213-45b8-a879-c6b3658ee4e9</td><td>5078ba42-8a28-4a5f-b118-d3b3f7af983e</td><td>false</td></tr><tr><td>55ef21be-0efd-4acb-8d80-d5b3f3cd487c</td><td>2e2fc2fd-a2cc-44b4-9cd0-1058b12bb784</td><td>2829daec-4541-4a26-b0e8-2865e4896e8c</td><td>f6c72860-1cb9-4f72-b017-f987b06615ef</td><td>993aa8b9-a213-45b8-a879-c6b3658ee4e9</td><td>47309e80-c12e-4981-9c8b-e629d1b6a942</td><td>false</td></tr><tr><td>1aa89b83-deba-4d93-9634-69372ef06728</td><td>930f1adc-c26a-4918-bb2b-ba51c70c056e</td><td>2829daec-4541-4a26-b0e8-2865e4896e8c</td><td>f8c551ec-d776-4a2b-9dce-88d6bef374b1</td><td>993aa8b9-a213-45b8-a879-c6b3658ee4e9</td><td>9497ba90-3373-42e5-bbfb-58fc77ae830b</td><td>false</td></tr><tr><td>838f09fb-2c59-46a4-b775-43a52146bf3d</td><td>1241e9ca-1848-4e4f-813f-5edcd035e410</td><td>2829daec-4541-4a26-b0e8-2865e4896e8c</td><td>e41b5bc3-3126-41ae-9a24-e605f707dfa1</td><td>993aa8b9-a213-45b8-a879-c6b3658ee4e9</td><td>5078ba42-8a28-4a5f-b118-d3b3f7af983e</td><td>false</td></tr><tr><td>7375ccdd-83b2-40af-b849-fb543a88da99</td><td>930f1adc-c26a-4918-bb2b-ba51c70c056e</td><td>1241e9ca-1848-4e4f-813f-5edcd035e410</td><td>d0033989-405f-4055-815c-68e1da5f8200</td><td>993aa8b9-a213-45b8-a879-c6b3658ee4e9</td><td>9497ba90-3373-42e5-bbfb-58fc77ae830b</td><td>false</td></tr><tr><td>98a9c934-244e-40d2-bfbe-b7a55a471a1f</td><td>2829daec-4541-4a26-b0e8-2865e4896e8c</td><td>2e2fc2fd-a2cc-44b4-9cd0-1058b12bb784</td><td>2fadf2a5-e9f1-4fef-bde3-9ebf63724beb</td><td>993aa8b9-a213-45b8-a879-c6b3658ee4e9</td><td>064105d3-701a-4531-b8df-b287e7f3256c</td><td>false</td></tr><tr><td>4e3e912e-bbcf-4c5a-bc40-f4140cedc24c</td><td>2829daec-4541-4a26-b0e8-2865e4896e8c</td><td>1241e9ca-1848-4e4f-813f-5edcd035e410</td><td>1187022c-e3c7-418f-94c8-91b70f875878</td><td>993aa8b9-a213-45b8-a879-c6b3658ee4e9</td><td>c4200e07-e77d-4928-ae3b-f345e7d5f774</td><td>false</td></tr><tr><td>6e7b515f-07b7-4375-82bb-bf267551d8b2</td><td>930f1adc-c26a-4918-bb2b-ba51c70c056e</td><td>2e2fc2fd-a2cc-44b4-9cd0-1058b12bb784</td><td>1187022c-e3c7-418f-94c8-91b70f875878</td><td>993aa8b9-a213-45b8-a879-c6b3658ee4e9</td><td>9497ba90-3373-42e5-bbfb-58fc77ae830b</td><td>false</td></tr><tr><td>0a993e67-4d97-4fa9-9915-7c56ef073700</td><td>2829daec-4541-4a26-b0e8-2865e4896e8c</td><td>930f1adc-c26a-4918-bb2b-ba51c70c056e</td><td>1dbcdb34-216b-4c97-a8f4-6d5aa5e08390</td><td>993aa8b9-a213-45b8-a879-c6b3658ee4e9</td><td>a2f817e5-52cc-4dd5-9ff2-a5eb0b93698a</td><td>false</td></tr><tr><td>adcd6846-b939-4ef7-99a8-837faf825dc5</td><td>1241e9ca-1848-4e4f-813f-5edcd035e410</td><td>930f1adc-c26a-4918-bb2b-ba51c70c056e</td><td>4f2a0290-66bd-4e8d-81d0-81d80d0e2c4f</td><td>993aa8b9-a213-45b8-a879-c6b3658ee4e9</td><td>5078ba42-8a28-4a5f-b118-d3b3f7af983e</td><td>false</td></tr><tr><td>36455c30-bcea-48f6-8ec6-423afd50c6aa</td><td>2e2fc2fd-a2cc-44b4-9cd0-1058b12bb784</td><td>1241e9ca-1848-4e4f-813f-5edcd035e410</td><td>593963f2-be03-41e0-9acb-769296f25d5f</td><td>993aa8b9-a213-45b8-a879-c6b3658ee4e9</td><td>47309e80-c12e-4981-9c8b-e629d1b6a942</td><td>false</td></tr><tr><td>293daefc-a4c6-4c23-bc58-ad93635ca562</td><td>d620902c-ea95-4a0c-95d3-2b9bfc1a3941</td><td>7dc69076-fd67-483b-afe2-325da28c391c</td><td>1545c237-0b7c-42e5-a794-9f37d3ed2341</td><td>29b995c1-2753-49fa-baff-0321a90a74df</td><td>eab1f33b-7bf0-42dd-9ba1-f9d4d896862a</td><td>false</td></tr><tr><td>0d0715ed-6150-4522-9ee9-9d81eddab34a</td><td>1241e9ca-1848-4e4f-813f-5edcd035e410</td><td>2e2fc2fd-a2cc-44b4-9cd0-1058b12bb784</td><td>d7f3d9bc-3a9a-4e5f-9d7c-f680202e847a</td><td>993aa8b9-a213-45b8-a879-c6b3658ee4e9</td><td>5078ba42-8a28-4a5f-b118-d3b3f7af983e</td><td>false</td></tr><tr><td>76e8b8d0-9152-4cec-87a8-135f90cd0847</td><td>2e2fc2fd-a2cc-44b4-9cd0-1058b12bb784</td><td>2829daec-4541-4a26-b0e8-2865e4896e8c</td><td>f53a3c7e-4eb8-435d-a85a-9bc6de8a0dd2</td><td>993aa8b9-a213-45b8-a879-c6b3658ee4e9</td><td>47309e80-c12e-4981-9c8b-e629d1b6a942</td><td>false</td></tr><tr><td>fa4b2d12-fd0e-449e-b323-df3b811910bb</td><td>2e2fc2fd-a2cc-44b4-9cd0-1058b12bb784</td><td>930f1adc-c26a-4918-bb2b-ba51c70c056e</td><td>ba5ee054-cf6d-440c-bd60-73d92faff737</td><td>993aa8b9-a213-45b8-a879-c6b3658ee4e9</td><td>47309e80-c12e-4981-9c8b-e629d1b6a942</td><td>false</td></tr><tr><td>a3cdd045-1602-45ca-9afa-9960a57b16e4</td><td>930f1adc-c26a-4918-bb2b-ba51c70c056e</td><td>2829daec-4541-4a26-b0e8-2865e4896e8c</td><td>c810516d-dfed-4bb4-9128-2bdd9280a52b</td><td>993aa8b9-a213-45b8-a879-c6b3658ee4e9</td><td>9497ba90-3373-42e5-bbfb-58fc77ae830b</td><td>false</td></tr><tr><td>7bc7006c-206e-4291-a6ec-e564a618e236</td><td>1241e9ca-1848-4e4f-813f-5edcd035e410</td><td>2829daec-4541-4a26-b0e8-2865e4896e8c</td><td>71514f29-b9bb-411b-94e3-d328d651d01f</td><td>993aa8b9-a213-45b8-a879-c6b3658ee4e9</td><td>5078ba42-8a28-4a5f-b118-d3b3f7af983e</td><td>false</td></tr><tr><td>6bd4d3fb-b7db-413d-bc43-12a1ea4d4c35</td><td>930f1adc-c26a-4918-bb2b-ba51c70c056e</td><td>1241e9ca-1848-4e4f-813f-5edcd035e410</td><td>1da9e9af-fcb4-4e28-ad9f-c4fbd3576125</td><td>993aa8b9-a213-45b8-a879-c6b3658ee4e9</td><td>9497ba90-3373-42e5-bbfb-58fc77ae830b</td><td>false</td></tr><tr><td>09452ac8-d4d2-419e-8f29-8a09c6b14bd2</td><td>d620902c-ea95-4a0c-95d3-2b9bfc1a3941</td><td>7dc69076-fd67-483b-afe2-325da28c391c</td><td>ec0d41b0-81e6-4ec5-86db-09bfc2acdd60</td><td>29b995c1-2753-49fa-baff-0321a90a74df</td><td>eab1f33b-7bf0-42dd-9ba1-f9d4d896862a</td><td>false</td></tr><tr><td>4e67fc0e-ce85-496d-a0be-d3c49b85afa9</td><td>2829daec-4541-4a26-b0e8-2865e4896e8c</td><td>2e2fc2fd-a2cc-44b4-9cd0-1058b12bb784</td><td>0e5928a9-f0e3-4c78-a3da-833e7be3948b</td><td>993aa8b9-a213-45b8-a879-c6b3658ee4e9</td><td>91ea92e4-e0a4-4cfe-b42e-7defa12aa57f</td><td>false</td></tr><tr><td>eb6d4fec-2686-4088-97a0-f5ef351eb4bd</td><td>930f1adc-c26a-4918-bb2b-ba51c70c056e</td><td>2e2fc2fd-a2cc-44b4-9cd0-1058b12bb784</td><td>98ebf437-f35d-4597-933f-e7017c4d2572</td><td>993aa8b9-a213-45b8-a879-c6b3658ee4e9</td><td>9497ba90-3373-42e5-bbfb-58fc77ae830b</td><td>false</td></tr><tr><td>259d4a7a-eed7-4047-a90f-48cc4e40b08b</td><td>2829daec-4541-4a26-b0e8-2865e4896e8c</td><td>1241e9ca-1848-4e4f-813f-5edcd035e410</td><td>839e8b1d-9803-49f1-8883-c0e0910f9bd7</td><td>993aa8b9-a213-45b8-a879-c6b3658ee4e9</td><td>a2f817e5-52cc-4dd5-9ff2-a5eb0b93698a</td><td>false</td></tr><tr><td>702b8030-0b7e-4263-848e-69783a613eb6</td><td>2e2fc2fd-a2cc-44b4-9cd0-1058b12bb784</td><td>1241e9ca-1848-4e4f-813f-5edcd035e410</td><td>218d0178-bda6-421b-b0e0-2a4ef4fc9628</td><td>993aa8b9-a213-45b8-a879-c6b3658ee4e9</td><td>47309e80-c12e-4981-9c8b-e629d1b6a942</td><td>false</td></tr><tr><td>aa6d88a6-be1d-4391-88e0-35e1f85b92cf</td><td>2829daec-4541-4a26-b0e8-2865e4896e8c</td><td>930f1adc-c26a-4918-bb2b-ba51c70c056e</td><td>905c987b-b945-4ccb-b9b7-8abe3a239c87</td><td>993aa8b9-a213-45b8-a879-c6b3658ee4e9</td><td>c4200e07-e77d-4928-ae3b-f345e7d5f774</td><td>false</td></tr><tr><td>230f3a56-c973-4167-9cd0-33ff4d591b76</td><td>1241e9ca-1848-4e4f-813f-5edcd035e410</td><td>930f1adc-c26a-4918-bb2b-ba51c70c056e</td><td>2445b288-8348-45a9-bed4-e48112af14eb</td><td>993aa8b9-a213-45b8-a879-c6b3658ee4e9</td><td>5078ba42-8a28-4a5f-b118-d3b3f7af983e</td><td>false</td></tr><tr><td>ad9de4f5-82f1-47d3-bf50-963ac300a3b1</td><td>2829daec-4541-4a26-b0e8-2865e4896e8c</td><td>1241e9ca-1848-4e4f-813f-5edcd035e410</td><td>0816c033-3cfa-45a5-b966-71ee4e69700e</td><td>993aa8b9-a213-45b8-a879-c6b3658ee4e9</td><td>82ebbc49-24fd-4954-be38-856ffe721c6c</td><td>false</td></tr><tr><td>a32d90a9-5bd2-4a94-acd3-f1385942cbfa</td><td>1241e9ca-1848-4e4f-813f-5edcd035e410</td><td>2e2fc2fd-a2cc-44b4-9cd0-1058b12bb784</td><td>05300654-a8e9-489c-8145-2c28aced259d</td><td>993aa8b9-a213-45b8-a879-c6b3658ee4e9</td><td>5078ba42-8a28-4a5f-b118-d3b3f7af983e</td><td>false</td></tr><tr><td>9d6aa7fd-9b4b-4322-9220-5604fd64764d</td><td>930f1adc-c26a-4918-bb2b-ba51c70c056e</td><td>1241e9ca-1848-4e4f-813f-5edcd035e410</td><td>74ae77f9-ca1b-413d-94a3-64b5ef34ff90</td><td>993aa8b9-a213-45b8-a879-c6b3658ee4e9</td><td>33bb166c-42f1-4529-ac74-a6d79f4ac027</td><td>false</td></tr><tr><td>4be050c9-80cf-4406-8ed0-b47d04ec6ab8</td><td>930f1adc-c26a-4918-bb2b-ba51c70c056e</td><td>2829daec-4541-4a26-b0e8-2865e4896e8c</td><td>a4cb3ec1-f58d-4c1e-aa2f-901ec35fdfce</td><td>993aa8b9-a213-45b8-a879-c6b3658ee4e9</td><td>9497ba90-3373-42e5-bbfb-58fc77ae830b</td><td>false</td></tr><tr><td>f4d1935b-cb98-49e9-8c13-9595faf4ac3d</td><td>2e2fc2fd-a2cc-44b4-9cd0-1058b12bb784</td><td>930f1adc-c26a-4918-bb2b-ba51c70c056e</td><td>f7fd5d9a-2d47-4596-b1be-83db432c46ee</td><td>993aa8b9-a213-45b8-a879-c6b3658ee4e9</td><td>47309e80-c12e-4981-9c8b-e629d1b6a942</td><td>false</td></tr><tr><td>a3a177f6-6079-47e5-8ef1-85bf0de10843</td><td>2e2fc2fd-a2cc-44b4-9cd0-1058b12bb784</td><td>2829daec-4541-4a26-b0e8-2865e4896e8c</td><td>4ab06951-cb01-4aad-b4de-f8c56d987e9a</td><td>993aa8b9-a213-45b8-a879-c6b3658ee4e9</td><td>47309e80-c12e-4981-9c8b-e629d1b6a942</td><td>false</td></tr><tr><td>0c1c9835-4644-4b1e-a1d3-5d3256963508</td><td>930f1adc-c26a-4918-bb2b-ba51c70c056e</td><td>7dc69076-fd67-483b-afe2-325da28c391c</td><td>4d50040a-3f6e-4598-924f-696161747c98</td><td>29b995c1-2753-49fa-baff-0321a90a74df</td><td>9497ba90-3373-42e5-bbfb-58fc77ae830b</td><td>false</td></tr><tr><td>6d541575-43c1-447e-92db-22eb8ce6779d</td><td>2829daec-4541-4a26-b0e8-2865e4896e8c</td><td>1241e9ca-1848-4e4f-813f-5edcd035e410</td><td>dd90fcca-4aa2-48ef-9241-2cae80617f19</td><td>993aa8b9-a213-45b8-a879-c6b3658ee4e9</td><td>2127683d-13df-4923-8c91-329a042fa7cf</td><td>false</td></tr><tr><td>0a1cfa9f-9aa9-4b9d-93b2-c770ea4857fd</td><td>2829daec-4541-4a26-b0e8-2865e4896e8c</td><td>2e2fc2fd-a2cc-44b4-9cd0-1058b12bb784</td><td>41cbc58a-aa00-4a7e-a0cc-24d9576ce29c</td><td>993aa8b9-a213-45b8-a879-c6b3658ee4e9</td><td>5f1280da-236d-480d-ab48-6f409a9a58bd</td><td>false</td></tr><tr><td>04aed4e5-1759-4716-8520-bd7dbd81ccc9</td><td>930f1adc-c26a-4918-bb2b-ba51c70c056e</td><td>2e2fc2fd-a2cc-44b4-9cd0-1058b12bb784</td><td>76535493-ef14-49f9-ad84-f61de951b463</td><td>993aa8b9-a213-45b8-a879-c6b3658ee4e9</td><td>9497ba90-3373-42e5-bbfb-58fc77ae830b</td><td>false</td></tr><tr><td>2d9c39b2-0b7a-48a7-a353-05721c26eb24</td><td>2829daec-4541-4a26-b0e8-2865e4896e8c</td><td>930f1adc-c26a-4918-bb2b-ba51c70c056e</td><td>7dde0012-0d27-4d91-9214-fe3109c39ca3</td><td>993aa8b9-a213-45b8-a879-c6b3658ee4e9</td><td>a2f817e5-52cc-4dd5-9ff2-a5eb0b93698a</td><td>false</td></tr><tr><td>f1e95e43-7bda-4d74-9b23-9a3d76ea7ec4</td><td>1241e9ca-1848-4e4f-813f-5edcd035e410</td><td>930f1adc-c26a-4918-bb2b-ba51c70c056e</td><td>dfa6835c-fbfb-4d85-9a0f-7ad909dd2e05</td><td>993aa8b9-a213-45b8-a879-c6b3658ee4e9</td><td>5078ba42-8a28-4a5f-b118-d3b3f7af983e</td><td>false</td></tr><tr><td>b4bd86d3-6e3c-4525-a4c2-bb9ad4787a8e</td><td>2e2fc2fd-a2cc-44b4-9cd0-1058b12bb784</td><td>1241e9ca-1848-4e4f-813f-5edcd035e410</td><td>8cf71268-b1da-4b5c-bc65-377316bf5860</td><td>993aa8b9-a213-45b8-a879-c6b3658ee4e9</td><td>47309e80-c12e-4981-9c8b-e629d1b6a942</td><td>false</td></tr><tr><td>2314ee92-edc7-436f-b327-f1322634aef5</td><td>1241e9ca-1848-4e4f-813f-5edcd035e410</td><td>2e2fc2fd-a2cc-44b4-9cd0-1058b12bb784</td><td>938f44bf-6c5b-45e0-9f66-33e0012b2dd1</td><td>993aa8b9-a213-45b8-a879-c6b3658ee4e9</td><td>28e65e85-0945-4015-a661-1f319cd224d5</td><td>true</td></tr><tr><td>66adc272-4ab8-4e00-8efd-81dac9c796ad</td><td>2e2fc2fd-a2cc-44b4-9cd0-1058b12bb784</td><td>2829daec-4541-4a26-b0e8-2865e4896e8c</td><td>82b681b9-8f8e-498b-a508-9bd3604039e4</td><td>993aa8b9-a213-45b8-a879-c6b3658ee4e9</td><td>47309e80-c12e-4981-9c8b-e629d1b6a942</td><td>false</td></tr><tr><td>f53331e5-f8b4-44f0-94f9-a6247c59ed8d</td><td>1241e9ca-1848-4e4f-813f-5edcd035e410</td><td>2829daec-4541-4a26-b0e8-2865e4896e8c</td><td>82b681b9-8f8e-498b-a508-9bd3604039e4</td><td>993aa8b9-a213-45b8-a879-c6b3658ee4e9</td><td>5078ba42-8a28-4a5f-b118-d3b3f7af983e</td><td>false</td></tr><tr><td>e830ccb9-140a-4eff-b43d-61cb09c9bf25</td><td>930f1adc-c26a-4918-bb2b-ba51c70c056e</td><td>1241e9ca-1848-4e4f-813f-5edcd035e410</td><td>29a19d0a-d819-495e-8ae3-3255e827f20b</td><td>993aa8b9-a213-45b8-a879-c6b3658ee4e9</td><td>f0f224ae-d756-411e-b8ed-f8fb3689b81d</td><td>false</td></tr><tr><td>9473b13c-60e1-4f0b-b612-e1a63894ff3a</td><td>2e2fc2fd-a2cc-44b4-9cd0-1058b12bb784</td><td>930f1adc-c26a-4918-bb2b-ba51c70c056e</td><td>c3ab57b3-4f87-4077-ac55-566540d5519b</td><td>993aa8b9-a213-45b8-a879-c6b3658ee4e9</td><td>47309e80-c12e-4981-9c8b-e629d1b6a942</td><td>false</td></tr><tr><td>0e19df68-432b-480e-9471-9fb4f4ee977b</td><td>930f1adc-c26a-4918-bb2b-ba51c70c056e</td><td>2829daec-4541-4a26-b0e8-2865e4896e8c</td><td>715a4c3a-dcb4-4f51-8619-485092d40f38</td><td>993aa8b9-a213-45b8-a879-c6b3658ee4e9</td><td>9497ba90-3373-42e5-bbfb-58fc77ae830b</td><td>false</td></tr><tr><td>4ac56308-cfdd-4b98-9b9f-c6893a79277b</td><td>2e2fc2fd-a2cc-44b4-9cd0-1058b12bb784</td><td>1241e9ca-1848-4e4f-813f-5edcd035e410</td><td>01f985ce-5c0a-441c-84d6-bbe6f64215a9</td><td>993aa8b9-a213-45b8-a879-c6b3658ee4e9</td><td>47309e80-c12e-4981-9c8b-e629d1b6a942</td><td>false</td></tr><tr><td>8cee6b3b-7aa0-4cb6-bd32-639b8487d280</td><td>2829daec-4541-4a26-b0e8-2865e4896e8c</td><td>1241e9ca-1848-4e4f-813f-5edcd035e410</td><td>99c77f1e-589e-4540-b515-ccbe381a46ed</td><td>993aa8b9-a213-45b8-a879-c6b3658ee4e9</td><td>004c54ba-5850-4332-b12f-c6c3debac925</td><td>false</td></tr><tr><td>f1d2c198-a98c-4c17-95de-5fada62c4d23</td><td>2829daec-4541-4a26-b0e8-2865e4896e8c</td><td>2e2fc2fd-a2cc-44b4-9cd0-1058b12bb784</td><td>99c77f1e-589e-4540-b515-ccbe381a46ed</td><td>993aa8b9-a213-45b8-a879-c6b3658ee4e9</td><td>f28ac1ee-09da-48e7-86e2-7a40528144c4</td><td>false</td></tr><tr><td>72371293-69d1-428b-bf83-c6e23bebf0d9</td><td>1241e9ca-1848-4e4f-813f-5edcd035e410</td><td>930f1adc-c26a-4918-bb2b-ba51c70c056e</td><td>2cfbe14c-2d37-4935-ab45-22df1a585875</td><td>993aa8b9-a213-45b8-a879-c6b3658ee4e9</td><td>5078ba42-8a28-4a5f-b118-d3b3f7af983e</td><td>false</td></tr><tr><td>75907865-1fcd-44aa-99a5-5732d8947dfd</td><td>930f1adc-c26a-4918-bb2b-ba51c70c056e</td><td>2e2fc2fd-a2cc-44b4-9cd0-1058b12bb784</td><td>9d01066a-ebdd-49f6-95b1-5826196485b1</td><td>993aa8b9-a213-45b8-a879-c6b3658ee4e9</td><td>9497ba90-3373-42e5-bbfb-58fc77ae830b</td><td>false</td></tr><tr><td>1c4d9698-5331-4678-9fe4-dd2da495aeaa</td><td>2829daec-4541-4a26-b0e8-2865e4896e8c</td><td>930f1adc-c26a-4918-bb2b-ba51c70c056e</td><td>8f97e987-31a3-4ada-8fa5-0321fe095dd7</td><td>993aa8b9-a213-45b8-a879-c6b3658ee4e9</td><td>c4200e07-e77d-4928-ae3b-f345e7d5f774</td><td>false</td></tr><tr><td>a7d71d8a-9423-4446-a3f3-261d88cacbce</td><td>1241e9ca-1848-4e4f-813f-5edcd035e410</td><td>2e2fc2fd-a2cc-44b4-9cd0-1058b12bb784</td><td>efa2d271-7fd3-41e4-81c7-88a22bd725a6</td><td>993aa8b9-a213-45b8-a879-c6b3658ee4e9</td><td>ef5075a5-5ca3-4ded-b176-db4e344ed649</td><td>false</td></tr><tr><td>a92b9cce-880d-4413-887a-2ce95ff6abe1</td><td>2e2fc2fd-a2cc-44b4-9cd0-1058b12bb784</td><td>2829daec-4541-4a26-b0e8-2865e4896e8c</td><td>c5ae943a-5530-4b83-9868-e6b86036f0c3</td><td>993aa8b9-a213-45b8-a879-c6b3658ee4e9</td><td>47309e80-c12e-4981-9c8b-e629d1b6a942</td><td>false</td></tr><tr><td>c8c085b5-0dda-4587-80f4-6458f2cb67fa</td><td>1241e9ca-1848-4e4f-813f-5edcd035e410</td><td>2829daec-4541-4a26-b0e8-2865e4896e8c</td><td>c5ae943a-5530-4b83-9868-e6b86036f0c3</td><td>993aa8b9-a213-45b8-a879-c6b3658ee4e9</td><td>5078ba42-8a28-4a5f-b118-d3b3f7af983e</td><td>false</td></tr><tr><td>de9111bd-eb23-4b8c-931a-6a88653180f8</td><td>2e2fc2fd-a2cc-44b4-9cd0-1058b12bb784</td><td>930f1adc-c26a-4918-bb2b-ba51c70c056e</td><td>0b8038f1-237f-4966-a0ef-1b353b3bad5d</td><td>993aa8b9-a213-45b8-a879-c6b3658ee4e9</td><td>47309e80-c12e-4981-9c8b-e629d1b6a942</td><td>false</td></tr><tr><td>ed56fb85-c4cb-4c1c-9116-01be852356e0</td><td>930f1adc-c26a-4918-bb2b-ba51c70c056e</td><td>1241e9ca-1848-4e4f-813f-5edcd035e410</td><td>13d64090-29dd-4c75-8295-d839f86c07b3</td><td>993aa8b9-a213-45b8-a879-c6b3658ee4e9</td><td>33bb166c-42f1-4529-ac74-a6d79f4ac027</td><td>false</td></tr><tr><td>2922d8b8-97c0-444e-84d4-f8d52f48a28c</td><td>930f1adc-c26a-4918-bb2b-ba51c70c056e</td><td>2829daec-4541-4a26-b0e8-2865e4896e8c</td><td>6d4a9417-ce34-44ae-8141-aab25f71a602</td><td>993aa8b9-a213-45b8-a879-c6b3658ee4e9</td><td>9497ba90-3373-42e5-bbfb-58fc77ae830b</td><td>false</td></tr><tr><td>a3066561-6254-43d0-bb75-e0d6808e7de7</td><td>2829daec-4541-4a26-b0e8-2865e4896e8c</td><td>2e2fc2fd-a2cc-44b4-9cd0-1058b12bb784</td><td>cf90412d-26e6-4150-8455-ec2a945cc13e</td><td>993aa8b9-a213-45b8-a879-c6b3658ee4e9</td><td>b231acd8-7803-4f2f-8d72-a6c0988358d3</td><td>false</td></tr><tr><td>d8443cce-0de7-4d82-96e1-af56ab6d07ad</td><td>2829daec-4541-4a26-b0e8-2865e4896e8c</td><td>1241e9ca-1848-4e4f-813f-5edcd035e410</td><td>00c0b526-c2a2-4151-848d-9808073bbe91</td><td>993aa8b9-a213-45b8-a879-c6b3658ee4e9</td><td>2127683d-13df-4923-8c91-329a042fa7cf</td><td>false</td></tr><tr><td>e3dd39c7-6626-4464-bf32-11d5ce6a1b42</td><td>1241e9ca-1848-4e4f-813f-5edcd035e410</td><td>930f1adc-c26a-4918-bb2b-ba51c70c056e</td><td>4df23e65-55cc-46bc-becb-cde5187099b4</td><td>993aa8b9-a213-45b8-a879-c6b3658ee4e9</td><td>5078ba42-8a28-4a5f-b118-d3b3f7af983e</td><td>false</td></tr><tr><td>29bced7e-102c-4cd1-91a1-8474adf78c14</td><td>930f1adc-c26a-4918-bb2b-ba51c70c056e</td><td>2e2fc2fd-a2cc-44b4-9cd0-1058b12bb784</td><td>b29113ab-5c37-4601-a706-65570bc6995c</td><td>993aa8b9-a213-45b8-a879-c6b3658ee4e9</td><td>9497ba90-3373-42e5-bbfb-58fc77ae830b</td><td>false</td></tr><tr><td>c2496410-62c5-44ef-95ed-e06736823942</td><td>2829daec-4541-4a26-b0e8-2865e4896e8c</td><td>930f1adc-c26a-4918-bb2b-ba51c70c056e</td><td>3cf4b9b3-d0f3-4286-a587-d35d6863ff65</td><td>993aa8b9-a213-45b8-a879-c6b3658ee4e9</td><td>8c68ca4c-9a4e-4807-b1aa-d39988698803</td><td>false</td></tr><tr><td>b8516a94-d343-4994-9f94-c062d836fb03</td><td>1241e9ca-1848-4e4f-813f-5edcd035e410</td><td>2e2fc2fd-a2cc-44b4-9cd0-1058b12bb784</td><td>ac4204c6-7a83-40d6-aeee-1cc2754df20c</td><td>993aa8b9-a213-45b8-a879-c6b3658ee4e9</td><td>0389e8a9-c0c7-4356-8c2c-13c1ca14cdb5</td><td>false</td></tr><tr><td>738b4ffa-e387-4a79-80c6-ffd7f5b56e3d</td><td>2e2fc2fd-a2cc-44b4-9cd0-1058b12bb784</td><td>2829daec-4541-4a26-b0e8-2865e4896e8c</td><td>93f0514e-7d0f-4079-9ccf-79279e388531</td><td>993aa8b9-a213-45b8-a879-c6b3658ee4e9</td><td>47309e80-c12e-4981-9c8b-e629d1b6a942</td><td>false</td></tr><tr><td>8ca1cbf6-8e06-4a38-9da7-0829512a4755</td><td>1241e9ca-1848-4e4f-813f-5edcd035e410</td><td>2829daec-4541-4a26-b0e8-2865e4896e8c</td><td>678a393e-85c2-44c0-817d-1b714812d092</td><td>993aa8b9-a213-45b8-a879-c6b3658ee4e9</td><td>5078ba42-8a28-4a5f-b118-d3b3f7af983e</td><td>false</td></tr><tr><td>ae535838-f574-4c6b-8bea-286565c4b7a7</td><td>930f1adc-c26a-4918-bb2b-ba51c70c056e</td><td>1241e9ca-1848-4e4f-813f-5edcd035e410</td><td>811a24a4-d758-43f1-a8ec-2cba570d70bb</td><td>993aa8b9-a213-45b8-a879-c6b3658ee4e9</td><td>a7f7afc7-e6bb-4769-aec9-799e6822fa95</td><td>false</td></tr><tr><td>8ebc13d7-2ea6-47a3-baee-e4c7e34629f0</td><td>2e2fc2fd-a2cc-44b4-9cd0-1058b12bb784</td><td>930f1adc-c26a-4918-bb2b-ba51c70c056e</td><td>c8f77fca-dd6a-4ca8-9637-e2a688248b70</td><td>993aa8b9-a213-45b8-a879-c6b3658ee4e9</td><td>47309e80-c12e-4981-9c8b-e629d1b6a942</td><td>false</td></tr><tr><td>d49f4957-e6c4-40f1-83a1-9adbf76cc356</td><td>930f1adc-c26a-4918-bb2b-ba51c70c056e</td><td>2829daec-4541-4a26-b0e8-2865e4896e8c</td><td>2642265f-065c-4466-b768-e59072668ffc</td><td>993aa8b9-a213-45b8-a879-c6b3658ee4e9</td><td>9497ba90-3373-42e5-bbfb-58fc77ae830b</td><td>false</td></tr><tr><td>aab8f3c0-7449-4935-83f8-f992f415eab5</td><td>2829daec-4541-4a26-b0e8-2865e4896e8c</td><td>2e2fc2fd-a2cc-44b4-9cd0-1058b12bb784</td><td>e85338e2-6614-4b15-a170-06cf80c12b2f</td><td>993aa8b9-a213-45b8-a879-c6b3658ee4e9</td><td>4f064fd8-e329-43af-9c15-292e8dd66368</td><td>false</td></tr><tr><td>b5eadf28-c2f0-4bfe-9092-e541226fa265</td><td>2e2fc2fd-a2cc-44b4-9cd0-1058b12bb784</td><td>1241e9ca-1848-4e4f-813f-5edcd035e410</td><td>1a1e350a-bec0-4b31-8ce3-a77eda981716</td><td>993aa8b9-a213-45b8-a879-c6b3658ee4e9</td><td>47309e80-c12e-4981-9c8b-e629d1b6a942</td><td>false</td></tr><tr><td>5ea4fcf2-031b-43fa-b61a-073a7aee159f</td><td>2829daec-4541-4a26-b0e8-2865e4896e8c</td><td>1241e9ca-1848-4e4f-813f-5edcd035e410</td><td>a8b7f0ea-3138-4837-ad0e-0f477301d49a</td><td>993aa8b9-a213-45b8-a879-c6b3658ee4e9</td><td>a2f817e5-52cc-4dd5-9ff2-a5eb0b93698a</td><td>false</td></tr></tbody></table></div>"
      ]
     },
     "metadata": {
      "application/vnd.databricks.v1+output": {
       "addedWidgets": {},
       "aggData": [],
       "aggError": "",
       "aggOverflow": false,
       "aggSchema": [],
       "aggSeriesLimitReached": false,
       "aggType": "",
       "arguments": {},
       "columnCustomDisplayInfos": {},
       "data": [
        [
         "e9765db9-210b-470c-92b6-e5afeb9d25aa",
         "930f1adc-c26a-4918-bb2b-ba51c70c056e",
         "2829daec-4541-4a26-b0e8-2865e4896e8c",
         "e52fa92e-8dc7-4aad-8aae-81fefe0214d5",
         "29b995c1-2753-49fa-baff-0321a90a74df",
         "9497ba90-3373-42e5-bbfb-58fc77ae830b",
         false
        ],
        [
         "7356996b-6ce7-4209-9019-82eb99ba85ad",
         "2829daec-4541-4a26-b0e8-2865e4896e8c",
         "930f1adc-c26a-4918-bb2b-ba51c70c056e",
         "7fef1c0e-a1d7-49ae-9332-3e3e8d1e79ad",
         "29b995c1-2753-49fa-baff-0321a90a74df",
         "a2f817e5-52cc-4dd5-9ff2-a5eb0b93698a",
         false
        ],
        [
         "6aeea70f-0bfb-4a55-bf0a-0abb2c9817d4",
         "930f1adc-c26a-4918-bb2b-ba51c70c056e",
         "2829daec-4541-4a26-b0e8-2865e4896e8c",
         "e7ad1430-ed60-476f-9432-14b6eea0bf37",
         "29b995c1-2753-49fa-baff-0321a90a74df",
         "9497ba90-3373-42e5-bbfb-58fc77ae830b",
         false
        ],
        [
         "21fd98a2-fefd-43ac-8a99-8fa2481f4e00",
         "2829daec-4541-4a26-b0e8-2865e4896e8c",
         "930f1adc-c26a-4918-bb2b-ba51c70c056e",
         "cc26c5d3-8d71-4c5b-bfdc-7610cd381ad9",
         "29b995c1-2753-49fa-baff-0321a90a74df",
         "a2f817e5-52cc-4dd5-9ff2-a5eb0b93698a",
         false
        ],
        [
         "0ff999d5-7272-45cf-87b7-2d4960118446",
         "930f1adc-c26a-4918-bb2b-ba51c70c056e",
         "2829daec-4541-4a26-b0e8-2865e4896e8c",
         "3d91b61f-5a41-42bc-a021-fbed43a355a1",
         "29b995c1-2753-49fa-baff-0321a90a74df",
         "9497ba90-3373-42e5-bbfb-58fc77ae830b",
         false
        ],
        [
         "d8190350-5a76-44bd-bc1a-74b51446173d",
         "930f1adc-c26a-4918-bb2b-ba51c70c056e",
         "1241e9ca-1848-4e4f-813f-5edcd035e410",
         "53eaa18c-2aac-478a-81c7-21ba05887061",
         "29b995c1-2753-49fa-baff-0321a90a74df",
         "9497ba90-3373-42e5-bbfb-58fc77ae830b",
         false
        ],
        [
         "cee3dcf5-2a0e-4a55-be9c-36441942beb1",
         "2829daec-4541-4a26-b0e8-2865e4896e8c",
         "930f1adc-c26a-4918-bb2b-ba51c70c056e",
         "32fd8bd7-46d5-4191-9d61-08e892749777",
         "29b995c1-2753-49fa-baff-0321a90a74df",
         "a2f817e5-52cc-4dd5-9ff2-a5eb0b93698a",
         false
        ],
        [
         "78aa5857-95ba-4dfa-b560-5032080e5a32",
         "1241e9ca-1848-4e4f-813f-5edcd035e410",
         "930f1adc-c26a-4918-bb2b-ba51c70c056e",
         "b45bf31f-1982-47b9-a4d1-04a3b7ebf9c3",
         "29b995c1-2753-49fa-baff-0321a90a74df",
         "5078ba42-8a28-4a5f-b118-d3b3f7af983e",
         false
        ],
        [
         "ee328aca-4335-4dad-a1be-908dcc16e715",
         "930f1adc-c26a-4918-bb2b-ba51c70c056e",
         "2829daec-4541-4a26-b0e8-2865e4896e8c",
         "f18819af-c611-41ff-88ec-62bce722f397",
         "29b995c1-2753-49fa-baff-0321a90a74df",
         "9497ba90-3373-42e5-bbfb-58fc77ae830b",
         false
        ],
        [
         "4a326d08-cb03-41ab-9ed5-20fdd39649dc",
         "930f1adc-c26a-4918-bb2b-ba51c70c056e",
         "1241e9ca-1848-4e4f-813f-5edcd035e410",
         "7beebc72-bf19-4795-8893-9ca694683246",
         "29b995c1-2753-49fa-baff-0321a90a74df",
         "9497ba90-3373-42e5-bbfb-58fc77ae830b",
         false
        ],
        [
         "5c6cac58-b69e-43bf-a4ee-3b8d32952356",
         "2829daec-4541-4a26-b0e8-2865e4896e8c",
         "1241e9ca-1848-4e4f-813f-5edcd035e410",
         "09aed68d-2871-4099-82e5-8b7b413b335d",
         "29b995c1-2753-49fa-baff-0321a90a74df",
         "a2f817e5-52cc-4dd5-9ff2-a5eb0b93698a",
         false
        ],
        [
         "556f5118-88a7-4b7e-a318-31fce87aed09",
         "2829daec-4541-4a26-b0e8-2865e4896e8c",
         "930f1adc-c26a-4918-bb2b-ba51c70c056e",
         "fb2d7550-9846-4b86-a30d-197f62c3e842",
         "29b995c1-2753-49fa-baff-0321a90a74df",
         "a2f817e5-52cc-4dd5-9ff2-a5eb0b93698a",
         false
        ],
        [
         "a98e312e-bcd6-4e82-9d67-c9b2839e2778",
         "1241e9ca-1848-4e4f-813f-5edcd035e410",
         "930f1adc-c26a-4918-bb2b-ba51c70c056e",
         "9fa0b6ae-8058-4101-bffb-e14a25e7d518",
         "29b995c1-2753-49fa-baff-0321a90a74df",
         "5078ba42-8a28-4a5f-b118-d3b3f7af983e",
         false
        ],
        [
         "f7084be4-aaf1-4629-b744-7978762e9c81",
         "930f1adc-c26a-4918-bb2b-ba51c70c056e",
         "2829daec-4541-4a26-b0e8-2865e4896e8c",
         "d1fcb0ac-36fe-4ec4-a8e1-4537f7fbec45",
         "29b995c1-2753-49fa-baff-0321a90a74df",
         "9497ba90-3373-42e5-bbfb-58fc77ae830b",
         false
        ],
        [
         "c0405a45-54e0-4232-8f3f-a7ec30e3df8e",
         "1241e9ca-1848-4e4f-813f-5edcd035e410",
         "2829daec-4541-4a26-b0e8-2865e4896e8c",
         "3f4a90da-4483-4b9b-8f0c-e991fb758d47",
         "29b995c1-2753-49fa-baff-0321a90a74df",
         "5078ba42-8a28-4a5f-b118-d3b3f7af983e",
         false
        ],
        [
         "4280ca44-b157-46e4-ae27-0160a51e53d5",
         "930f1adc-c26a-4918-bb2b-ba51c70c056e",
         "1241e9ca-1848-4e4f-813f-5edcd035e410",
         "c5d9756e-6918-4b13-a4e3-b51e42bc5276",
         "29b995c1-2753-49fa-baff-0321a90a74df",
         "9497ba90-3373-42e5-bbfb-58fc77ae830b",
         false
        ],
        [
         "13ef16e0-4c07-49c8-9d4f-3f59b91d6ea3",
         "2829daec-4541-4a26-b0e8-2865e4896e8c",
         "1241e9ca-1848-4e4f-813f-5edcd035e410",
         "653d362c-bb9b-4796-a691-a0af006a790f",
         "29b995c1-2753-49fa-baff-0321a90a74df",
         "c4200e07-e77d-4928-ae3b-f345e7d5f774",
         false
        ],
        [
         "3ee5a11b-92f4-40df-9e3c-929403f306f8",
         "2829daec-4541-4a26-b0e8-2865e4896e8c",
         "930f1adc-c26a-4918-bb2b-ba51c70c056e",
         "53b67591-d8b4-4dc4-88c1-c6ce42e807c3",
         "29b995c1-2753-49fa-baff-0321a90a74df",
         "a2f817e5-52cc-4dd5-9ff2-a5eb0b93698a",
         false
        ],
        [
         "b1f550a7-645f-4af6-a61d-9516f612bfe8",
         "1241e9ca-1848-4e4f-813f-5edcd035e410",
         "930f1adc-c26a-4918-bb2b-ba51c70c056e",
         "948be578-68df-44cb-917f-70b39e0bf5dd",
         "29b995c1-2753-49fa-baff-0321a90a74df",
         "5078ba42-8a28-4a5f-b118-d3b3f7af983e",
         false
        ],
        [
         "2f9da44d-8d2d-4153-9176-8aa3e42b4e02",
         "2e2fc2fd-a2cc-44b4-9cd0-1058b12bb784",
         "2829daec-4541-4a26-b0e8-2865e4896e8c",
         "e97095c2-1f8b-4097-8645-96c35ef100d2",
         "29b995c1-2753-49fa-baff-0321a90a74df",
         "47309e80-c12e-4981-9c8b-e629d1b6a942",
         false
        ],
        [
         "f9f0a3be-1e23-4bc3-bef2-baeedaaf741e",
         "1241e9ca-1848-4e4f-813f-5edcd035e410",
         "2e2fc2fd-a2cc-44b4-9cd0-1058b12bb784",
         "49e2e1de-f607-4614-9196-751064869126",
         "29b995c1-2753-49fa-baff-0321a90a74df",
         "5078ba42-8a28-4a5f-b118-d3b3f7af983e",
         false
        ],
        [
         "c9c6a227-e0e2-458d-bb8d-5080bdcf97f8",
         "930f1adc-c26a-4918-bb2b-ba51c70c056e",
         "2829daec-4541-4a26-b0e8-2865e4896e8c",
         "b0268a40-b871-4bd0-a686-837ec33ece04",
         "29b995c1-2753-49fa-baff-0321a90a74df",
         "9497ba90-3373-42e5-bbfb-58fc77ae830b",
         false
        ],
        [
         "414a6061-4167-4d45-a337-68beff408b57",
         "1241e9ca-1848-4e4f-813f-5edcd035e410",
         "2829daec-4541-4a26-b0e8-2865e4896e8c",
         "8541e2f9-9273-4a2f-b4a3-b21eabd9d1c3",
         "29b995c1-2753-49fa-baff-0321a90a74df",
         "5078ba42-8a28-4a5f-b118-d3b3f7af983e",
         false
        ],
        [
         "78c70932-81d6-4877-aa81-39a3db1c09a3",
         "930f1adc-c26a-4918-bb2b-ba51c70c056e",
         "1241e9ca-1848-4e4f-813f-5edcd035e410",
         "4ca05014-3a98-41d6-b606-1ba1dc23b80c",
         "29b995c1-2753-49fa-baff-0321a90a74df",
         "9497ba90-3373-42e5-bbfb-58fc77ae830b",
         false
        ],
        [
         "260ff327-09aa-47eb-8fb6-5009fe3344fd",
         "2829daec-4541-4a26-b0e8-2865e4896e8c",
         "1241e9ca-1848-4e4f-813f-5edcd035e410",
         "12283155-33ad-4452-b0b6-ffe8c69a9534",
         "29b995c1-2753-49fa-baff-0321a90a74df",
         "a2f817e5-52cc-4dd5-9ff2-a5eb0b93698a",
         false
        ],
        [
         "189a067d-c5c4-4794-b0c6-52d15360e4d5",
         "2829daec-4541-4a26-b0e8-2865e4896e8c",
         "2e2fc2fd-a2cc-44b4-9cd0-1058b12bb784",
         "42d4ec96-917a-4ad2-b85c-d0bc4f5395d4",
         "29b995c1-2753-49fa-baff-0321a90a74df",
         "5f1280da-236d-480d-ab48-6f409a9a58bd",
         false
        ],
        [
         "c35ca88d-f15a-4281-9802-8552b5a10bf1",
         "2829daec-4541-4a26-b0e8-2865e4896e8c",
         "930f1adc-c26a-4918-bb2b-ba51c70c056e",
         "bf25894a-9460-4cc1-9415-32469f9a1947",
         "29b995c1-2753-49fa-baff-0321a90a74df",
         "91ea92e4-e0a4-4cfe-b42e-7defa12aa57f",
         false
        ],
        [
         "0b38c1f2-a0de-4114-a287-480f62dae06b",
         "1241e9ca-1848-4e4f-813f-5edcd035e410",
         "930f1adc-c26a-4918-bb2b-ba51c70c056e",
         "30b2f9ea-e4c0-4fd3-98ad-869088de5403",
         "29b995c1-2753-49fa-baff-0321a90a74df",
         "5078ba42-8a28-4a5f-b118-d3b3f7af983e",
         false
        ],
        [
         "244426b5-ded5-40f3-ac9b-7f45caaf925b",
         "2e2fc2fd-a2cc-44b4-9cd0-1058b12bb784",
         "1241e9ca-1848-4e4f-813f-5edcd035e410",
         "2d5d7a7f-1756-4076-b91c-f2ae9bdff493",
         "29b995c1-2753-49fa-baff-0321a90a74df",
         "47309e80-c12e-4981-9c8b-e629d1b6a942",
         false
        ],
        [
         "2f0b41d9-a9f2-4f7c-843b-d6091ba20307",
         "2e2fc2fd-a2cc-44b4-9cd0-1058b12bb784",
         "930f1adc-c26a-4918-bb2b-ba51c70c056e",
         "c74eebc8-e82f-45b2-a7e2-2e60ddb07e0e",
         "993aa8b9-a213-45b8-a879-c6b3658ee4e9",
         "47309e80-c12e-4981-9c8b-e629d1b6a942",
         false
        ],
        [
         "df0b582b-cac7-48eb-ae18-95af00137334",
         "1241e9ca-1848-4e4f-813f-5edcd035e410",
         "2e2fc2fd-a2cc-44b4-9cd0-1058b12bb784",
         "f83d3838-7cae-4335-aa91-56cf8d12c38c",
         "993aa8b9-a213-45b8-a879-c6b3658ee4e9",
         "5078ba42-8a28-4a5f-b118-d3b3f7af983e",
         false
        ],
        [
         "55ef21be-0efd-4acb-8d80-d5b3f3cd487c",
         "2e2fc2fd-a2cc-44b4-9cd0-1058b12bb784",
         "2829daec-4541-4a26-b0e8-2865e4896e8c",
         "f6c72860-1cb9-4f72-b017-f987b06615ef",
         "993aa8b9-a213-45b8-a879-c6b3658ee4e9",
         "47309e80-c12e-4981-9c8b-e629d1b6a942",
         false
        ],
        [
         "1aa89b83-deba-4d93-9634-69372ef06728",
         "930f1adc-c26a-4918-bb2b-ba51c70c056e",
         "2829daec-4541-4a26-b0e8-2865e4896e8c",
         "f8c551ec-d776-4a2b-9dce-88d6bef374b1",
         "993aa8b9-a213-45b8-a879-c6b3658ee4e9",
         "9497ba90-3373-42e5-bbfb-58fc77ae830b",
         false
        ],
        [
         "838f09fb-2c59-46a4-b775-43a52146bf3d",
         "1241e9ca-1848-4e4f-813f-5edcd035e410",
         "2829daec-4541-4a26-b0e8-2865e4896e8c",
         "e41b5bc3-3126-41ae-9a24-e605f707dfa1",
         "993aa8b9-a213-45b8-a879-c6b3658ee4e9",
         "5078ba42-8a28-4a5f-b118-d3b3f7af983e",
         false
        ],
        [
         "7375ccdd-83b2-40af-b849-fb543a88da99",
         "930f1adc-c26a-4918-bb2b-ba51c70c056e",
         "1241e9ca-1848-4e4f-813f-5edcd035e410",
         "d0033989-405f-4055-815c-68e1da5f8200",
         "993aa8b9-a213-45b8-a879-c6b3658ee4e9",
         "9497ba90-3373-42e5-bbfb-58fc77ae830b",
         false
        ],
        [
         "98a9c934-244e-40d2-bfbe-b7a55a471a1f",
         "2829daec-4541-4a26-b0e8-2865e4896e8c",
         "2e2fc2fd-a2cc-44b4-9cd0-1058b12bb784",
         "2fadf2a5-e9f1-4fef-bde3-9ebf63724beb",
         "993aa8b9-a213-45b8-a879-c6b3658ee4e9",
         "064105d3-701a-4531-b8df-b287e7f3256c",
         false
        ],
        [
         "4e3e912e-bbcf-4c5a-bc40-f4140cedc24c",
         "2829daec-4541-4a26-b0e8-2865e4896e8c",
         "1241e9ca-1848-4e4f-813f-5edcd035e410",
         "1187022c-e3c7-418f-94c8-91b70f875878",
         "993aa8b9-a213-45b8-a879-c6b3658ee4e9",
         "c4200e07-e77d-4928-ae3b-f345e7d5f774",
         false
        ],
        [
         "6e7b515f-07b7-4375-82bb-bf267551d8b2",
         "930f1adc-c26a-4918-bb2b-ba51c70c056e",
         "2e2fc2fd-a2cc-44b4-9cd0-1058b12bb784",
         "1187022c-e3c7-418f-94c8-91b70f875878",
         "993aa8b9-a213-45b8-a879-c6b3658ee4e9",
         "9497ba90-3373-42e5-bbfb-58fc77ae830b",
         false
        ],
        [
         "0a993e67-4d97-4fa9-9915-7c56ef073700",
         "2829daec-4541-4a26-b0e8-2865e4896e8c",
         "930f1adc-c26a-4918-bb2b-ba51c70c056e",
         "1dbcdb34-216b-4c97-a8f4-6d5aa5e08390",
         "993aa8b9-a213-45b8-a879-c6b3658ee4e9",
         "a2f817e5-52cc-4dd5-9ff2-a5eb0b93698a",
         false
        ],
        [
         "adcd6846-b939-4ef7-99a8-837faf825dc5",
         "1241e9ca-1848-4e4f-813f-5edcd035e410",
         "930f1adc-c26a-4918-bb2b-ba51c70c056e",
         "4f2a0290-66bd-4e8d-81d0-81d80d0e2c4f",
         "993aa8b9-a213-45b8-a879-c6b3658ee4e9",
         "5078ba42-8a28-4a5f-b118-d3b3f7af983e",
         false
        ],
        [
         "36455c30-bcea-48f6-8ec6-423afd50c6aa",
         "2e2fc2fd-a2cc-44b4-9cd0-1058b12bb784",
         "1241e9ca-1848-4e4f-813f-5edcd035e410",
         "593963f2-be03-41e0-9acb-769296f25d5f",
         "993aa8b9-a213-45b8-a879-c6b3658ee4e9",
         "47309e80-c12e-4981-9c8b-e629d1b6a942",
         false
        ],
        [
         "293daefc-a4c6-4c23-bc58-ad93635ca562",
         "d620902c-ea95-4a0c-95d3-2b9bfc1a3941",
         "7dc69076-fd67-483b-afe2-325da28c391c",
         "1545c237-0b7c-42e5-a794-9f37d3ed2341",
         "29b995c1-2753-49fa-baff-0321a90a74df",
         "eab1f33b-7bf0-42dd-9ba1-f9d4d896862a",
         false
        ],
        [
         "0d0715ed-6150-4522-9ee9-9d81eddab34a",
         "1241e9ca-1848-4e4f-813f-5edcd035e410",
         "2e2fc2fd-a2cc-44b4-9cd0-1058b12bb784",
         "d7f3d9bc-3a9a-4e5f-9d7c-f680202e847a",
         "993aa8b9-a213-45b8-a879-c6b3658ee4e9",
         "5078ba42-8a28-4a5f-b118-d3b3f7af983e",
         false
        ],
        [
         "76e8b8d0-9152-4cec-87a8-135f90cd0847",
         "2e2fc2fd-a2cc-44b4-9cd0-1058b12bb784",
         "2829daec-4541-4a26-b0e8-2865e4896e8c",
         "f53a3c7e-4eb8-435d-a85a-9bc6de8a0dd2",
         "993aa8b9-a213-45b8-a879-c6b3658ee4e9",
         "47309e80-c12e-4981-9c8b-e629d1b6a942",
         false
        ],
        [
         "fa4b2d12-fd0e-449e-b323-df3b811910bb",
         "2e2fc2fd-a2cc-44b4-9cd0-1058b12bb784",
         "930f1adc-c26a-4918-bb2b-ba51c70c056e",
         "ba5ee054-cf6d-440c-bd60-73d92faff737",
         "993aa8b9-a213-45b8-a879-c6b3658ee4e9",
         "47309e80-c12e-4981-9c8b-e629d1b6a942",
         false
        ],
        [
         "a3cdd045-1602-45ca-9afa-9960a57b16e4",
         "930f1adc-c26a-4918-bb2b-ba51c70c056e",
         "2829daec-4541-4a26-b0e8-2865e4896e8c",
         "c810516d-dfed-4bb4-9128-2bdd9280a52b",
         "993aa8b9-a213-45b8-a879-c6b3658ee4e9",
         "9497ba90-3373-42e5-bbfb-58fc77ae830b",
         false
        ],
        [
         "7bc7006c-206e-4291-a6ec-e564a618e236",
         "1241e9ca-1848-4e4f-813f-5edcd035e410",
         "2829daec-4541-4a26-b0e8-2865e4896e8c",
         "71514f29-b9bb-411b-94e3-d328d651d01f",
         "993aa8b9-a213-45b8-a879-c6b3658ee4e9",
         "5078ba42-8a28-4a5f-b118-d3b3f7af983e",
         false
        ],
        [
         "6bd4d3fb-b7db-413d-bc43-12a1ea4d4c35",
         "930f1adc-c26a-4918-bb2b-ba51c70c056e",
         "1241e9ca-1848-4e4f-813f-5edcd035e410",
         "1da9e9af-fcb4-4e28-ad9f-c4fbd3576125",
         "993aa8b9-a213-45b8-a879-c6b3658ee4e9",
         "9497ba90-3373-42e5-bbfb-58fc77ae830b",
         false
        ],
        [
         "09452ac8-d4d2-419e-8f29-8a09c6b14bd2",
         "d620902c-ea95-4a0c-95d3-2b9bfc1a3941",
         "7dc69076-fd67-483b-afe2-325da28c391c",
         "ec0d41b0-81e6-4ec5-86db-09bfc2acdd60",
         "29b995c1-2753-49fa-baff-0321a90a74df",
         "eab1f33b-7bf0-42dd-9ba1-f9d4d896862a",
         false
        ],
        [
         "4e67fc0e-ce85-496d-a0be-d3c49b85afa9",
         "2829daec-4541-4a26-b0e8-2865e4896e8c",
         "2e2fc2fd-a2cc-44b4-9cd0-1058b12bb784",
         "0e5928a9-f0e3-4c78-a3da-833e7be3948b",
         "993aa8b9-a213-45b8-a879-c6b3658ee4e9",
         "91ea92e4-e0a4-4cfe-b42e-7defa12aa57f",
         false
        ],
        [
         "eb6d4fec-2686-4088-97a0-f5ef351eb4bd",
         "930f1adc-c26a-4918-bb2b-ba51c70c056e",
         "2e2fc2fd-a2cc-44b4-9cd0-1058b12bb784",
         "98ebf437-f35d-4597-933f-e7017c4d2572",
         "993aa8b9-a213-45b8-a879-c6b3658ee4e9",
         "9497ba90-3373-42e5-bbfb-58fc77ae830b",
         false
        ],
        [
         "259d4a7a-eed7-4047-a90f-48cc4e40b08b",
         "2829daec-4541-4a26-b0e8-2865e4896e8c",
         "1241e9ca-1848-4e4f-813f-5edcd035e410",
         "839e8b1d-9803-49f1-8883-c0e0910f9bd7",
         "993aa8b9-a213-45b8-a879-c6b3658ee4e9",
         "a2f817e5-52cc-4dd5-9ff2-a5eb0b93698a",
         false
        ],
        [
         "702b8030-0b7e-4263-848e-69783a613eb6",
         "2e2fc2fd-a2cc-44b4-9cd0-1058b12bb784",
         "1241e9ca-1848-4e4f-813f-5edcd035e410",
         "218d0178-bda6-421b-b0e0-2a4ef4fc9628",
         "993aa8b9-a213-45b8-a879-c6b3658ee4e9",
         "47309e80-c12e-4981-9c8b-e629d1b6a942",
         false
        ],
        [
         "aa6d88a6-be1d-4391-88e0-35e1f85b92cf",
         "2829daec-4541-4a26-b0e8-2865e4896e8c",
         "930f1adc-c26a-4918-bb2b-ba51c70c056e",
         "905c987b-b945-4ccb-b9b7-8abe3a239c87",
         "993aa8b9-a213-45b8-a879-c6b3658ee4e9",
         "c4200e07-e77d-4928-ae3b-f345e7d5f774",
         false
        ],
        [
         "230f3a56-c973-4167-9cd0-33ff4d591b76",
         "1241e9ca-1848-4e4f-813f-5edcd035e410",
         "930f1adc-c26a-4918-bb2b-ba51c70c056e",
         "2445b288-8348-45a9-bed4-e48112af14eb",
         "993aa8b9-a213-45b8-a879-c6b3658ee4e9",
         "5078ba42-8a28-4a5f-b118-d3b3f7af983e",
         false
        ],
        [
         "ad9de4f5-82f1-47d3-bf50-963ac300a3b1",
         "2829daec-4541-4a26-b0e8-2865e4896e8c",
         "1241e9ca-1848-4e4f-813f-5edcd035e410",
         "0816c033-3cfa-45a5-b966-71ee4e69700e",
         "993aa8b9-a213-45b8-a879-c6b3658ee4e9",
         "82ebbc49-24fd-4954-be38-856ffe721c6c",
         false
        ],
        [
         "a32d90a9-5bd2-4a94-acd3-f1385942cbfa",
         "1241e9ca-1848-4e4f-813f-5edcd035e410",
         "2e2fc2fd-a2cc-44b4-9cd0-1058b12bb784",
         "05300654-a8e9-489c-8145-2c28aced259d",
         "993aa8b9-a213-45b8-a879-c6b3658ee4e9",
         "5078ba42-8a28-4a5f-b118-d3b3f7af983e",
         false
        ],
        [
         "9d6aa7fd-9b4b-4322-9220-5604fd64764d",
         "930f1adc-c26a-4918-bb2b-ba51c70c056e",
         "1241e9ca-1848-4e4f-813f-5edcd035e410",
         "74ae77f9-ca1b-413d-94a3-64b5ef34ff90",
         "993aa8b9-a213-45b8-a879-c6b3658ee4e9",
         "33bb166c-42f1-4529-ac74-a6d79f4ac027",
         false
        ],
        [
         "4be050c9-80cf-4406-8ed0-b47d04ec6ab8",
         "930f1adc-c26a-4918-bb2b-ba51c70c056e",
         "2829daec-4541-4a26-b0e8-2865e4896e8c",
         "a4cb3ec1-f58d-4c1e-aa2f-901ec35fdfce",
         "993aa8b9-a213-45b8-a879-c6b3658ee4e9",
         "9497ba90-3373-42e5-bbfb-58fc77ae830b",
         false
        ],
        [
         "f4d1935b-cb98-49e9-8c13-9595faf4ac3d",
         "2e2fc2fd-a2cc-44b4-9cd0-1058b12bb784",
         "930f1adc-c26a-4918-bb2b-ba51c70c056e",
         "f7fd5d9a-2d47-4596-b1be-83db432c46ee",
         "993aa8b9-a213-45b8-a879-c6b3658ee4e9",
         "47309e80-c12e-4981-9c8b-e629d1b6a942",
         false
        ],
        [
         "a3a177f6-6079-47e5-8ef1-85bf0de10843",
         "2e2fc2fd-a2cc-44b4-9cd0-1058b12bb784",
         "2829daec-4541-4a26-b0e8-2865e4896e8c",
         "4ab06951-cb01-4aad-b4de-f8c56d987e9a",
         "993aa8b9-a213-45b8-a879-c6b3658ee4e9",
         "47309e80-c12e-4981-9c8b-e629d1b6a942",
         false
        ],
        [
         "0c1c9835-4644-4b1e-a1d3-5d3256963508",
         "930f1adc-c26a-4918-bb2b-ba51c70c056e",
         "7dc69076-fd67-483b-afe2-325da28c391c",
         "4d50040a-3f6e-4598-924f-696161747c98",
         "29b995c1-2753-49fa-baff-0321a90a74df",
         "9497ba90-3373-42e5-bbfb-58fc77ae830b",
         false
        ],
        [
         "6d541575-43c1-447e-92db-22eb8ce6779d",
         "2829daec-4541-4a26-b0e8-2865e4896e8c",
         "1241e9ca-1848-4e4f-813f-5edcd035e410",
         "dd90fcca-4aa2-48ef-9241-2cae80617f19",
         "993aa8b9-a213-45b8-a879-c6b3658ee4e9",
         "2127683d-13df-4923-8c91-329a042fa7cf",
         false
        ],
        [
         "0a1cfa9f-9aa9-4b9d-93b2-c770ea4857fd",
         "2829daec-4541-4a26-b0e8-2865e4896e8c",
         "2e2fc2fd-a2cc-44b4-9cd0-1058b12bb784",
         "41cbc58a-aa00-4a7e-a0cc-24d9576ce29c",
         "993aa8b9-a213-45b8-a879-c6b3658ee4e9",
         "5f1280da-236d-480d-ab48-6f409a9a58bd",
         false
        ],
        [
         "04aed4e5-1759-4716-8520-bd7dbd81ccc9",
         "930f1adc-c26a-4918-bb2b-ba51c70c056e",
         "2e2fc2fd-a2cc-44b4-9cd0-1058b12bb784",
         "76535493-ef14-49f9-ad84-f61de951b463",
         "993aa8b9-a213-45b8-a879-c6b3658ee4e9",
         "9497ba90-3373-42e5-bbfb-58fc77ae830b",
         false
        ],
        [
         "2d9c39b2-0b7a-48a7-a353-05721c26eb24",
         "2829daec-4541-4a26-b0e8-2865e4896e8c",
         "930f1adc-c26a-4918-bb2b-ba51c70c056e",
         "7dde0012-0d27-4d91-9214-fe3109c39ca3",
         "993aa8b9-a213-45b8-a879-c6b3658ee4e9",
         "a2f817e5-52cc-4dd5-9ff2-a5eb0b93698a",
         false
        ],
        [
         "f1e95e43-7bda-4d74-9b23-9a3d76ea7ec4",
         "1241e9ca-1848-4e4f-813f-5edcd035e410",
         "930f1adc-c26a-4918-bb2b-ba51c70c056e",
         "dfa6835c-fbfb-4d85-9a0f-7ad909dd2e05",
         "993aa8b9-a213-45b8-a879-c6b3658ee4e9",
         "5078ba42-8a28-4a5f-b118-d3b3f7af983e",
         false
        ],
        [
         "b4bd86d3-6e3c-4525-a4c2-bb9ad4787a8e",
         "2e2fc2fd-a2cc-44b4-9cd0-1058b12bb784",
         "1241e9ca-1848-4e4f-813f-5edcd035e410",
         "8cf71268-b1da-4b5c-bc65-377316bf5860",
         "993aa8b9-a213-45b8-a879-c6b3658ee4e9",
         "47309e80-c12e-4981-9c8b-e629d1b6a942",
         false
        ],
        [
         "2314ee92-edc7-436f-b327-f1322634aef5",
         "1241e9ca-1848-4e4f-813f-5edcd035e410",
         "2e2fc2fd-a2cc-44b4-9cd0-1058b12bb784",
         "938f44bf-6c5b-45e0-9f66-33e0012b2dd1",
         "993aa8b9-a213-45b8-a879-c6b3658ee4e9",
         "28e65e85-0945-4015-a661-1f319cd224d5",
         true
        ],
        [
         "66adc272-4ab8-4e00-8efd-81dac9c796ad",
         "2e2fc2fd-a2cc-44b4-9cd0-1058b12bb784",
         "2829daec-4541-4a26-b0e8-2865e4896e8c",
         "82b681b9-8f8e-498b-a508-9bd3604039e4",
         "993aa8b9-a213-45b8-a879-c6b3658ee4e9",
         "47309e80-c12e-4981-9c8b-e629d1b6a942",
         false
        ],
        [
         "f53331e5-f8b4-44f0-94f9-a6247c59ed8d",
         "1241e9ca-1848-4e4f-813f-5edcd035e410",
         "2829daec-4541-4a26-b0e8-2865e4896e8c",
         "82b681b9-8f8e-498b-a508-9bd3604039e4",
         "993aa8b9-a213-45b8-a879-c6b3658ee4e9",
         "5078ba42-8a28-4a5f-b118-d3b3f7af983e",
         false
        ],
        [
         "e830ccb9-140a-4eff-b43d-61cb09c9bf25",
         "930f1adc-c26a-4918-bb2b-ba51c70c056e",
         "1241e9ca-1848-4e4f-813f-5edcd035e410",
         "29a19d0a-d819-495e-8ae3-3255e827f20b",
         "993aa8b9-a213-45b8-a879-c6b3658ee4e9",
         "f0f224ae-d756-411e-b8ed-f8fb3689b81d",
         false
        ],
        [
         "9473b13c-60e1-4f0b-b612-e1a63894ff3a",
         "2e2fc2fd-a2cc-44b4-9cd0-1058b12bb784",
         "930f1adc-c26a-4918-bb2b-ba51c70c056e",
         "c3ab57b3-4f87-4077-ac55-566540d5519b",
         "993aa8b9-a213-45b8-a879-c6b3658ee4e9",
         "47309e80-c12e-4981-9c8b-e629d1b6a942",
         false
        ],
        [
         "0e19df68-432b-480e-9471-9fb4f4ee977b",
         "930f1adc-c26a-4918-bb2b-ba51c70c056e",
         "2829daec-4541-4a26-b0e8-2865e4896e8c",
         "715a4c3a-dcb4-4f51-8619-485092d40f38",
         "993aa8b9-a213-45b8-a879-c6b3658ee4e9",
         "9497ba90-3373-42e5-bbfb-58fc77ae830b",
         false
        ],
        [
         "4ac56308-cfdd-4b98-9b9f-c6893a79277b",
         "2e2fc2fd-a2cc-44b4-9cd0-1058b12bb784",
         "1241e9ca-1848-4e4f-813f-5edcd035e410",
         "01f985ce-5c0a-441c-84d6-bbe6f64215a9",
         "993aa8b9-a213-45b8-a879-c6b3658ee4e9",
         "47309e80-c12e-4981-9c8b-e629d1b6a942",
         false
        ],
        [
         "8cee6b3b-7aa0-4cb6-bd32-639b8487d280",
         "2829daec-4541-4a26-b0e8-2865e4896e8c",
         "1241e9ca-1848-4e4f-813f-5edcd035e410",
         "99c77f1e-589e-4540-b515-ccbe381a46ed",
         "993aa8b9-a213-45b8-a879-c6b3658ee4e9",
         "004c54ba-5850-4332-b12f-c6c3debac925",
         false
        ],
        [
         "f1d2c198-a98c-4c17-95de-5fada62c4d23",
         "2829daec-4541-4a26-b0e8-2865e4896e8c",
         "2e2fc2fd-a2cc-44b4-9cd0-1058b12bb784",
         "99c77f1e-589e-4540-b515-ccbe381a46ed",
         "993aa8b9-a213-45b8-a879-c6b3658ee4e9",
         "f28ac1ee-09da-48e7-86e2-7a40528144c4",
         false
        ],
        [
         "72371293-69d1-428b-bf83-c6e23bebf0d9",
         "1241e9ca-1848-4e4f-813f-5edcd035e410",
         "930f1adc-c26a-4918-bb2b-ba51c70c056e",
         "2cfbe14c-2d37-4935-ab45-22df1a585875",
         "993aa8b9-a213-45b8-a879-c6b3658ee4e9",
         "5078ba42-8a28-4a5f-b118-d3b3f7af983e",
         false
        ],
        [
         "75907865-1fcd-44aa-99a5-5732d8947dfd",
         "930f1adc-c26a-4918-bb2b-ba51c70c056e",
         "2e2fc2fd-a2cc-44b4-9cd0-1058b12bb784",
         "9d01066a-ebdd-49f6-95b1-5826196485b1",
         "993aa8b9-a213-45b8-a879-c6b3658ee4e9",
         "9497ba90-3373-42e5-bbfb-58fc77ae830b",
         false
        ],
        [
         "1c4d9698-5331-4678-9fe4-dd2da495aeaa",
         "2829daec-4541-4a26-b0e8-2865e4896e8c",
         "930f1adc-c26a-4918-bb2b-ba51c70c056e",
         "8f97e987-31a3-4ada-8fa5-0321fe095dd7",
         "993aa8b9-a213-45b8-a879-c6b3658ee4e9",
         "c4200e07-e77d-4928-ae3b-f345e7d5f774",
         false
        ],
        [
         "a7d71d8a-9423-4446-a3f3-261d88cacbce",
         "1241e9ca-1848-4e4f-813f-5edcd035e410",
         "2e2fc2fd-a2cc-44b4-9cd0-1058b12bb784",
         "efa2d271-7fd3-41e4-81c7-88a22bd725a6",
         "993aa8b9-a213-45b8-a879-c6b3658ee4e9",
         "ef5075a5-5ca3-4ded-b176-db4e344ed649",
         false
        ],
        [
         "a92b9cce-880d-4413-887a-2ce95ff6abe1",
         "2e2fc2fd-a2cc-44b4-9cd0-1058b12bb784",
         "2829daec-4541-4a26-b0e8-2865e4896e8c",
         "c5ae943a-5530-4b83-9868-e6b86036f0c3",
         "993aa8b9-a213-45b8-a879-c6b3658ee4e9",
         "47309e80-c12e-4981-9c8b-e629d1b6a942",
         false
        ],
        [
         "c8c085b5-0dda-4587-80f4-6458f2cb67fa",
         "1241e9ca-1848-4e4f-813f-5edcd035e410",
         "2829daec-4541-4a26-b0e8-2865e4896e8c",
         "c5ae943a-5530-4b83-9868-e6b86036f0c3",
         "993aa8b9-a213-45b8-a879-c6b3658ee4e9",
         "5078ba42-8a28-4a5f-b118-d3b3f7af983e",
         false
        ],
        [
         "de9111bd-eb23-4b8c-931a-6a88653180f8",
         "2e2fc2fd-a2cc-44b4-9cd0-1058b12bb784",
         "930f1adc-c26a-4918-bb2b-ba51c70c056e",
         "0b8038f1-237f-4966-a0ef-1b353b3bad5d",
         "993aa8b9-a213-45b8-a879-c6b3658ee4e9",
         "47309e80-c12e-4981-9c8b-e629d1b6a942",
         false
        ],
        [
         "ed56fb85-c4cb-4c1c-9116-01be852356e0",
         "930f1adc-c26a-4918-bb2b-ba51c70c056e",
         "1241e9ca-1848-4e4f-813f-5edcd035e410",
         "13d64090-29dd-4c75-8295-d839f86c07b3",
         "993aa8b9-a213-45b8-a879-c6b3658ee4e9",
         "33bb166c-42f1-4529-ac74-a6d79f4ac027",
         false
        ],
        [
         "2922d8b8-97c0-444e-84d4-f8d52f48a28c",
         "930f1adc-c26a-4918-bb2b-ba51c70c056e",
         "2829daec-4541-4a26-b0e8-2865e4896e8c",
         "6d4a9417-ce34-44ae-8141-aab25f71a602",
         "993aa8b9-a213-45b8-a879-c6b3658ee4e9",
         "9497ba90-3373-42e5-bbfb-58fc77ae830b",
         false
        ],
        [
         "a3066561-6254-43d0-bb75-e0d6808e7de7",
         "2829daec-4541-4a26-b0e8-2865e4896e8c",
         "2e2fc2fd-a2cc-44b4-9cd0-1058b12bb784",
         "cf90412d-26e6-4150-8455-ec2a945cc13e",
         "993aa8b9-a213-45b8-a879-c6b3658ee4e9",
         "b231acd8-7803-4f2f-8d72-a6c0988358d3",
         false
        ],
        [
         "d8443cce-0de7-4d82-96e1-af56ab6d07ad",
         "2829daec-4541-4a26-b0e8-2865e4896e8c",
         "1241e9ca-1848-4e4f-813f-5edcd035e410",
         "00c0b526-c2a2-4151-848d-9808073bbe91",
         "993aa8b9-a213-45b8-a879-c6b3658ee4e9",
         "2127683d-13df-4923-8c91-329a042fa7cf",
         false
        ],
        [
         "e3dd39c7-6626-4464-bf32-11d5ce6a1b42",
         "1241e9ca-1848-4e4f-813f-5edcd035e410",
         "930f1adc-c26a-4918-bb2b-ba51c70c056e",
         "4df23e65-55cc-46bc-becb-cde5187099b4",
         "993aa8b9-a213-45b8-a879-c6b3658ee4e9",
         "5078ba42-8a28-4a5f-b118-d3b3f7af983e",
         false
        ],
        [
         "29bced7e-102c-4cd1-91a1-8474adf78c14",
         "930f1adc-c26a-4918-bb2b-ba51c70c056e",
         "2e2fc2fd-a2cc-44b4-9cd0-1058b12bb784",
         "b29113ab-5c37-4601-a706-65570bc6995c",
         "993aa8b9-a213-45b8-a879-c6b3658ee4e9",
         "9497ba90-3373-42e5-bbfb-58fc77ae830b",
         false
        ],
        [
         "c2496410-62c5-44ef-95ed-e06736823942",
         "2829daec-4541-4a26-b0e8-2865e4896e8c",
         "930f1adc-c26a-4918-bb2b-ba51c70c056e",
         "3cf4b9b3-d0f3-4286-a587-d35d6863ff65",
         "993aa8b9-a213-45b8-a879-c6b3658ee4e9",
         "8c68ca4c-9a4e-4807-b1aa-d39988698803",
         false
        ],
        [
         "b8516a94-d343-4994-9f94-c062d836fb03",
         "1241e9ca-1848-4e4f-813f-5edcd035e410",
         "2e2fc2fd-a2cc-44b4-9cd0-1058b12bb784",
         "ac4204c6-7a83-40d6-aeee-1cc2754df20c",
         "993aa8b9-a213-45b8-a879-c6b3658ee4e9",
         "0389e8a9-c0c7-4356-8c2c-13c1ca14cdb5",
         false
        ],
        [
         "738b4ffa-e387-4a79-80c6-ffd7f5b56e3d",
         "2e2fc2fd-a2cc-44b4-9cd0-1058b12bb784",
         "2829daec-4541-4a26-b0e8-2865e4896e8c",
         "93f0514e-7d0f-4079-9ccf-79279e388531",
         "993aa8b9-a213-45b8-a879-c6b3658ee4e9",
         "47309e80-c12e-4981-9c8b-e629d1b6a942",
         false
        ],
        [
         "8ca1cbf6-8e06-4a38-9da7-0829512a4755",
         "1241e9ca-1848-4e4f-813f-5edcd035e410",
         "2829daec-4541-4a26-b0e8-2865e4896e8c",
         "678a393e-85c2-44c0-817d-1b714812d092",
         "993aa8b9-a213-45b8-a879-c6b3658ee4e9",
         "5078ba42-8a28-4a5f-b118-d3b3f7af983e",
         false
        ],
        [
         "ae535838-f574-4c6b-8bea-286565c4b7a7",
         "930f1adc-c26a-4918-bb2b-ba51c70c056e",
         "1241e9ca-1848-4e4f-813f-5edcd035e410",
         "811a24a4-d758-43f1-a8ec-2cba570d70bb",
         "993aa8b9-a213-45b8-a879-c6b3658ee4e9",
         "a7f7afc7-e6bb-4769-aec9-799e6822fa95",
         false
        ],
        [
         "8ebc13d7-2ea6-47a3-baee-e4c7e34629f0",
         "2e2fc2fd-a2cc-44b4-9cd0-1058b12bb784",
         "930f1adc-c26a-4918-bb2b-ba51c70c056e",
         "c8f77fca-dd6a-4ca8-9637-e2a688248b70",
         "993aa8b9-a213-45b8-a879-c6b3658ee4e9",
         "47309e80-c12e-4981-9c8b-e629d1b6a942",
         false
        ],
        [
         "d49f4957-e6c4-40f1-83a1-9adbf76cc356",
         "930f1adc-c26a-4918-bb2b-ba51c70c056e",
         "2829daec-4541-4a26-b0e8-2865e4896e8c",
         "2642265f-065c-4466-b768-e59072668ffc",
         "993aa8b9-a213-45b8-a879-c6b3658ee4e9",
         "9497ba90-3373-42e5-bbfb-58fc77ae830b",
         false
        ],
        [
         "aab8f3c0-7449-4935-83f8-f992f415eab5",
         "2829daec-4541-4a26-b0e8-2865e4896e8c",
         "2e2fc2fd-a2cc-44b4-9cd0-1058b12bb784",
         "e85338e2-6614-4b15-a170-06cf80c12b2f",
         "993aa8b9-a213-45b8-a879-c6b3658ee4e9",
         "4f064fd8-e329-43af-9c15-292e8dd66368",
         false
        ],
        [
         "b5eadf28-c2f0-4bfe-9092-e541226fa265",
         "2e2fc2fd-a2cc-44b4-9cd0-1058b12bb784",
         "1241e9ca-1848-4e4f-813f-5edcd035e410",
         "1a1e350a-bec0-4b31-8ce3-a77eda981716",
         "993aa8b9-a213-45b8-a879-c6b3658ee4e9",
         "47309e80-c12e-4981-9c8b-e629d1b6a942",
         false
        ],
        [
         "5ea4fcf2-031b-43fa-b61a-073a7aee159f",
         "2829daec-4541-4a26-b0e8-2865e4896e8c",
         "1241e9ca-1848-4e4f-813f-5edcd035e410",
         "a8b7f0ea-3138-4837-ad0e-0f477301d49a",
         "993aa8b9-a213-45b8-a879-c6b3658ee4e9",
         "a2f817e5-52cc-4dd5-9ff2-a5eb0b93698a",
         false
        ]
       ],
       "datasetInfos": [],
       "dbfsResultPath": null,
       "isJsonSchema": true,
       "metadata": {},
       "overflow": false,
       "plotOptions": {
        "customPlotOptions": {},
        "displayType": "table",
        "pivotAggregation": null,
        "pivotColumns": null,
        "xColumns": null,
        "yColumns": null
       },
       "removedWidgets": [],
       "schema": [
        {
         "metadata": "{}",
         "name": "uuid",
         "type": "\"string\""
        },
        {
         "metadata": "{}",
         "name": "home_team_uuid",
         "type": "\"string\""
        },
        {
         "metadata": "{}",
         "name": "away_team_uuid",
         "type": "\"string\""
        },
        {
         "metadata": "{}",
         "name": "date_uuid",
         "type": "\"string\""
        },
        {
         "metadata": "{}",
         "name": "tournament_uuid",
         "type": "\"string\""
        },
        {
         "metadata": "{}",
         "name": "city_uuid",
         "type": "\"string\""
        },
        {
         "metadata": "{}",
         "name": "neutral_field",
         "type": "\"boolean\""
        }
       ],
       "type": "table"
      }
     },
     "output_type": "display_data"
    }
   ],
   "source": [
    "dim_match_df = (\n",
    "    results_df.join(dim_date_df, on=\"date\")\n",
    "    .withColumnRenamed(\"uuid\", \"date_uuid\")\n",
    "    .join(\n",
    "        dim_team_df.alias(\"home_team_df\"),\n",
    "        on=results_df.home_team == f.col(\"home_team_df.team\"),\n",
    "    )\n",
    "    .withColumnRenamed(\"uuid\", \"home_team_uuid\")\n",
    "    .join(\n",
    "        dim_team_df.alias(\"away_team_df\"),\n",
    "        on=results_df.away_team == f.col(\"away_team_df.team\"),\n",
    "    )\n",
    "    .withColumnRenamed(\"uuid\", \"away_team_uuid\")\n",
    "    .join(dim_tournament_df, on=results_df.tournament == dim_tournament_df.tournament)\n",
    "    .withColumnRenamed(\"uuid\", \"tournament_uuid\")\n",
    "    .join(dim_country_df, on=results_df.country == dim_country_df.country)\n",
    "    .withColumnRenamed(\"uuid\", \"temp_country_uuid\")\n",
    "    .join(\n",
    "        dim_city_df,\n",
    "        on=[\n",
    "            dim_city_df.country_uuid == f.col(\"temp_country_uuid\"),\n",
    "            dim_city_df.city == results_df.city,\n",
    "        ],\n",
    "    )\n",
    "    .withColumnRenamed(\"uuid\", \"city_uuid\")\n",
    "    .withColumn(\"uuid\", f.expr(\"uuid()\"))\n",
    "    .withColumnRenamed(\"neutral\", \"neutral_field\")\n",
    "    .select(\n",
    "        \"uuid\",\n",
    "        \"home_team_uuid\",\n",
    "        \"away_team_uuid\",\n",
    "        \"date_uuid\",\n",
    "        \"tournament_uuid\",\n",
    "        \"city_uuid\",\n",
    "        \"neutral_field\",\n",
    "    )\n",
    ")\n",
    "display(dim_match_df.head(100))"
   ]
  },
  {
   "cell_type": "markdown",
   "metadata": {
    "application/vnd.databricks.v1+cell": {
     "cellMetadata": {
      "byteLimit": 2048000,
      "rowLimit": 10000
     },
     "inputWidgets": {},
     "nuid": "941265a9-c3bc-46d2-ba49-282c2fca2526",
     "showTitle": false,
     "title": ""
    }
   },
   "source": [
    "# Creation of the Fact Result Dataframe"
   ]
  },
  {
   "cell_type": "code",
   "execution_count": 0,
   "metadata": {
    "application/vnd.databricks.v1+cell": {
     "cellMetadata": {
      "byteLimit": 2048000,
      "rowLimit": 10000
     },
     "inputWidgets": {},
     "nuid": "adfb88f2-6953-49f8-981a-e3bd610d10cc",
     "showTitle": false,
     "title": ""
    }
   },
   "outputs": [
    {
     "output_type": "display_data",
     "data": {
      "text/html": [
       "<style scoped>\n",
       "  .table-result-container {\n",
       "    max-height: 300px;\n",
       "    overflow: auto;\n",
       "  }\n",
       "  table, th, td {\n",
       "    border: 1px solid black;\n",
       "    border-collapse: collapse;\n",
       "  }\n",
       "  th, td {\n",
       "    padding: 5px;\n",
       "  }\n",
       "  th {\n",
       "    text-align: left;\n",
       "  }\n",
       "</style><div class='table-result-container'><table class='table-result'><thead style='background-color: white'><tr><th>uuid</th><th>match_uuid</th><th>home_score</th><th>away_score</th></tr></thead><tbody><tr><td>5462e0a2-a3a1-41cc-908b-0eb9e174c008</td><td>e9765db9-210b-470c-92b6-e5afeb9d25aa</td><td>0</td><td>0</td></tr><tr><td>ec93f2a4-04d0-43ea-825f-8978420d7846</td><td>7356996b-6ce7-4209-9019-82eb99ba85ad</td><td>4</td><td>2</td></tr><tr><td>93455c48-b464-47e0-a14a-f9d845dae809</td><td>6aeea70f-0bfb-4a55-bf0a-0abb2c9817d4</td><td>0</td><td>0</td></tr><tr><td>8eb375c2-0fec-4892-be46-59b1725b93d7</td><td>21fd98a2-fefd-43ac-8a99-8fa2481f4e00</td><td>4</td><td>2</td></tr><tr><td>a6b1ae92-7835-4953-aab6-b96f1c7e8c6f</td><td>0ff999d5-7272-45cf-87b7-2d4960118446</td><td>0</td><td>0</td></tr><tr><td>2a8bc664-71fe-4a8c-8008-a207b0dc0413</td><td>d8190350-5a76-44bd-bc1a-74b51446173d</td><td>4</td><td>0</td></tr><tr><td>782eb54a-7acf-4743-a489-59e376daa4fd</td><td>cee3dcf5-2a0e-4a55-be9c-36441942beb1</td><td>4</td><td>2</td></tr><tr><td>70fdee93-92a0-4987-8952-459686bd3c84</td><td>78aa5857-95ba-4dfa-b560-5032080e5a32</td><td>0</td><td>2</td></tr><tr><td>20fa35fc-2d8a-42fc-9ddd-f0604c91e4f6</td><td>ee328aca-4335-4dad-a1be-908dcc16e715</td><td>0</td><td>0</td></tr><tr><td>990ce92a-cc98-4c69-a9e3-f097c61b1d39</td><td>4a326d08-cb03-41ab-9ed5-20fdd39649dc</td><td>4</td><td>0</td></tr><tr><td>0c00aba2-0633-47c3-b23d-b73e0d35bc13</td><td>5c6cac58-b69e-43bf-a4ee-3b8d32952356</td><td>2</td><td>1</td></tr><tr><td>3a93f548-c072-44c4-9958-c3749eae35f4</td><td>556f5118-88a7-4b7e-a318-31fce87aed09</td><td>4</td><td>2</td></tr><tr><td>1045b248-9fb8-4f27-8561-01a17e68c54a</td><td>a98e312e-bcd6-4e82-9d67-c9b2839e2778</td><td>0</td><td>2</td></tr><tr><td>e2e7b4f5-92ed-43c2-abd5-bf6589b317b4</td><td>f7084be4-aaf1-4629-b744-7978762e9c81</td><td>0</td><td>0</td></tr><tr><td>a1ad768f-2068-46fd-a85b-edef8ef7f584</td><td>c0405a45-54e0-4232-8f3f-a7ec30e3df8e</td><td>2</td><td>3</td></tr><tr><td>f34d43a1-e32a-4310-83b4-449ab61335b7</td><td>4280ca44-b157-46e4-ae27-0160a51e53d5</td><td>4</td><td>0</td></tr><tr><td>c782a641-63b0-4550-a01f-25592a1628a5</td><td>13ef16e0-4c07-49c8-9d4f-3f59b91d6ea3</td><td>2</td><td>1</td></tr><tr><td>93d54646-0891-4885-a3ad-18a10c2676a1</td><td>3ee5a11b-92f4-40df-9e3c-929403f306f8</td><td>4</td><td>2</td></tr><tr><td>fb7bd87d-78a7-4489-9363-0ce10a1c529c</td><td>b1f550a7-645f-4af6-a61d-9516f612bfe8</td><td>0</td><td>2</td></tr><tr><td>a8013e27-9e32-4bbd-8fe8-18290d6c1283</td><td>2f9da44d-8d2d-4153-9176-8aa3e42b4e02</td><td>0</td><td>13</td></tr><tr><td>ef1a1403-de50-4671-bc35-2ccab6180888</td><td>f9f0a3be-1e23-4bc3-bef2-baeedaaf741e</td><td>7</td><td>1</td></tr><tr><td>2735d82f-c4e2-4076-9995-339db79db376</td><td>c9c6a227-e0e2-458d-bb8d-5080bdcf97f8</td><td>0</td><td>0</td></tr><tr><td>c1a39121-df59-47ce-9838-78204d8c4efc</td><td>414a6061-4167-4d45-a337-68beff408b57</td><td>2</td><td>3</td></tr><tr><td>d6e9a4e9-5b81-48eb-a7a9-d3fdac9ddc7a</td><td>78c70932-81d6-4877-aa81-39a3db1c09a3</td><td>4</td><td>0</td></tr><tr><td>e7fb3e30-e5cf-4679-89ff-09c418773c37</td><td>260ff327-09aa-47eb-8fb6-5009fe3344fd</td><td>2</td><td>1</td></tr><tr><td>7e7d0f7b-2f85-484d-b8e4-2ec52e0cf585</td><td>189a067d-c5c4-4794-b0c6-52d15360e4d5</td><td>7</td><td>0</td></tr><tr><td>7f54f075-63cc-4ec2-84ef-f1690639d29c</td><td>c35ca88d-f15a-4281-9802-8552b5a10bf1</td><td>4</td><td>2</td></tr><tr><td>8f965ead-4e01-4711-bfe2-0a65291dfc3b</td><td>0b38c1f2-a0de-4114-a287-480f62dae06b</td><td>0</td><td>2</td></tr><tr><td>8478e9f3-22ec-41b6-b54f-6fed09e0bd11</td><td>244426b5-ded5-40f3-ac9b-7f45caaf925b</td><td>1</td><td>1</td></tr><tr><td>9bcbcb23-b0af-4492-a07b-1416d9d3ef21</td><td>2f0b41d9-a9f2-4f7c-843b-d6091ba20307</td><td>0</td><td>5</td></tr><tr><td>5f42bb75-eb3c-44f7-8014-7db0f90b544e</td><td>df0b582b-cac7-48eb-ae18-95af00137334</td><td>7</td><td>1</td></tr><tr><td>b0933ce1-eacb-413f-b4bd-4764b12aa564</td><td>55ef21be-0efd-4acb-8d80-d5b3f3cd487c</td><td>0</td><td>13</td></tr><tr><td>7b85b276-9cfd-4a78-914b-e106689a1703</td><td>1aa89b83-deba-4d93-9634-69372ef06728</td><td>0</td><td>0</td></tr><tr><td>5450b880-3b56-4b9d-bf14-347ed7ade912</td><td>838f09fb-2c59-46a4-b775-43a52146bf3d</td><td>2</td><td>3</td></tr><tr><td>b50364b2-b03c-49e9-841e-992b3df07a25</td><td>7375ccdd-83b2-40af-b849-fb543a88da99</td><td>4</td><td>0</td></tr><tr><td>5a5c5d17-dc12-4f39-90be-7e9e998f254d</td><td>98a9c934-244e-40d2-bfbe-b7a55a471a1f</td><td>7</td><td>0</td></tr><tr><td>17489521-ba87-4f79-9d5b-585fbd5ebf6a</td><td>4e3e912e-bbcf-4c5a-bc40-f4140cedc24c</td><td>2</td><td>1</td></tr><tr><td>1455a004-5fa7-4292-9792-0a1f1fa78d7d</td><td>6e7b515f-07b7-4375-82bb-bf267551d8b2</td><td>8</td><td>2</td></tr><tr><td>44530ccb-d387-4c17-bae1-fabd863d857c</td><td>0a993e67-4d97-4fa9-9915-7c56ef073700</td><td>4</td><td>2</td></tr><tr><td>04412f5d-70f6-4a9f-ad36-737d9157d387</td><td>adcd6846-b939-4ef7-99a8-837faf825dc5</td><td>0</td><td>2</td></tr><tr><td>189d12b5-67df-4e75-99e5-afd39291eb28</td><td>36455c30-bcea-48f6-8ec6-423afd50c6aa</td><td>1</td><td>1</td></tr><tr><td>0fe5daf2-10bb-451f-ad17-e1957946bbbd</td><td>293daefc-a4c6-4c23-bc58-ad93635ca562</td><td>0</td><td>1</td></tr><tr><td>6787afab-f1ba-412f-8c09-fd162d3ded01</td><td>0d0715ed-6150-4522-9ee9-9d81eddab34a</td><td>7</td><td>1</td></tr><tr><td>df864079-511c-4ca3-9c8d-236379a4a4a2</td><td>76e8b8d0-9152-4cec-87a8-135f90cd0847</td><td>0</td><td>13</td></tr><tr><td>a5dca95d-26db-4b89-b534-a1b8cbe53e7d</td><td>fa4b2d12-fd0e-449e-b323-df3b811910bb</td><td>0</td><td>5</td></tr><tr><td>0606cdf5-aaea-43d6-9d78-0ef5478df232</td><td>a3cdd045-1602-45ca-9afa-9960a57b16e4</td><td>0</td><td>0</td></tr><tr><td>e141e075-268f-414f-90e3-9fe0a92fdb35</td><td>7bc7006c-206e-4291-a6ec-e564a618e236</td><td>2</td><td>3</td></tr><tr><td>e07c2eef-7968-46bf-a93a-4d1c3be6a70e</td><td>6bd4d3fb-b7db-413d-bc43-12a1ea4d4c35</td><td>4</td><td>0</td></tr><tr><td>67aeefbb-fbba-4324-8cb8-9efd6c3fcf64</td><td>09452ac8-d4d2-419e-8f29-8a09c6b14bd2</td><td>0</td><td>1</td></tr><tr><td>d9f1c103-b563-4e6c-b174-c2b107eb46b9</td><td>4e67fc0e-ce85-496d-a0be-d3c49b85afa9</td><td>7</td><td>0</td></tr><tr><td>3e66c1e7-128d-4a1c-b666-3e0087e10f2f</td><td>eb6d4fec-2686-4088-97a0-f5ef351eb4bd</td><td>8</td><td>2</td></tr><tr><td>a5bc3228-0f12-4570-b3b1-295af42e2fa1</td><td>259d4a7a-eed7-4047-a90f-48cc4e40b08b</td><td>2</td><td>1</td></tr><tr><td>f6c5a22e-b4dd-4633-af0b-35f67d3462c1</td><td>702b8030-0b7e-4263-848e-69783a613eb6</td><td>1</td><td>1</td></tr><tr><td>f7938057-24ce-4eed-84b1-302e5d8f82c3</td><td>aa6d88a6-be1d-4391-88e0-35e1f85b92cf</td><td>4</td><td>2</td></tr><tr><td>4fba3939-de09-4621-84c5-80fa56786f6d</td><td>230f3a56-c973-4167-9cd0-33ff4d591b76</td><td>0</td><td>2</td></tr><tr><td>4654a6ca-d3db-4e5e-8503-2d1688cfa1ac</td><td>ad9de4f5-82f1-47d3-bf50-963ac300a3b1</td><td>2</td><td>1</td></tr><tr><td>f8c5f1dc-3b6e-4d05-b212-40e4d97772dd</td><td>a32d90a9-5bd2-4a94-acd3-f1385942cbfa</td><td>7</td><td>1</td></tr><tr><td>6e58611b-6c29-4903-ad59-f45b93ec7cc9</td><td>9d6aa7fd-9b4b-4322-9220-5604fd64764d</td><td>4</td><td>0</td></tr><tr><td>e268be2f-2b28-40a5-9cc9-aa8e52ce2147</td><td>4be050c9-80cf-4406-8ed0-b47d04ec6ab8</td><td>0</td><td>0</td></tr><tr><td>6b77393b-b01f-48f5-842c-405c75261d04</td><td>f4d1935b-cb98-49e9-8c13-9595faf4ac3d</td><td>0</td><td>5</td></tr><tr><td>a47874e8-8240-475d-8d0f-71a68a53b728</td><td>a3a177f6-6079-47e5-8ef1-85bf0de10843</td><td>0</td><td>13</td></tr><tr><td>66538c6f-3148-4057-bbb1-61b28728c2f3</td><td>0c1c9835-4644-4b1e-a1d3-5d3256963508</td><td>4</td><td>0</td></tr><tr><td>d5ef0ce4-853a-44a5-ab73-001599df2fd2</td><td>6d541575-43c1-447e-92db-22eb8ce6779d</td><td>2</td><td>1</td></tr><tr><td>ef7070e4-e9f6-4b36-8300-3d76ec540535</td><td>0a1cfa9f-9aa9-4b9d-93b2-c770ea4857fd</td><td>7</td><td>0</td></tr><tr><td>79ea49cf-52a2-4ed6-9952-32d6db0b3c14</td><td>04aed4e5-1759-4716-8520-bd7dbd81ccc9</td><td>8</td><td>2</td></tr><tr><td>488f2f2a-168c-498b-abd8-001874220519</td><td>2d9c39b2-0b7a-48a7-a353-05721c26eb24</td><td>4</td><td>2</td></tr><tr><td>9cabde8b-d63a-4e74-8e56-04e32bd0f7a4</td><td>f1e95e43-7bda-4d74-9b23-9a3d76ea7ec4</td><td>0</td><td>2</td></tr><tr><td>acb415b8-fb57-4b02-afb9-753d92a8e187</td><td>b4bd86d3-6e3c-4525-a4c2-bb9ad4787a8e</td><td>1</td><td>1</td></tr><tr><td>68955103-2d70-40a8-9108-cc230721ab73</td><td>2314ee92-edc7-436f-b327-f1322634aef5</td><td>7</td><td>1</td></tr><tr><td>badebb38-703d-4e78-a506-4ca025fe87cc</td><td>66adc272-4ab8-4e00-8efd-81dac9c796ad</td><td>0</td><td>13</td></tr><tr><td>ae862d5d-923a-4203-a50a-a63ad5749ab1</td><td>f53331e5-f8b4-44f0-94f9-a6247c59ed8d</td><td>2</td><td>3</td></tr><tr><td>fc0d594e-7bcd-4e7a-9f25-8fcb4932fb15</td><td>e830ccb9-140a-4eff-b43d-61cb09c9bf25</td><td>4</td><td>0</td></tr><tr><td>b3f0c16a-e00e-41b4-b461-f8f2c48fe072</td><td>9473b13c-60e1-4f0b-b612-e1a63894ff3a</td><td>0</td><td>5</td></tr><tr><td>f896471a-35b6-404e-9453-4275b276ced9</td><td>0e19df68-432b-480e-9471-9fb4f4ee977b</td><td>0</td><td>0</td></tr><tr><td>c9429460-df87-4702-ae51-0b8aba6b50d6</td><td>4ac56308-cfdd-4b98-9b9f-c6893a79277b</td><td>1</td><td>1</td></tr><tr><td>9a451e7c-4364-4d38-b918-36d1313a53a7</td><td>8cee6b3b-7aa0-4cb6-bd32-639b8487d280</td><td>2</td><td>1</td></tr><tr><td>8c5c57f3-5c32-40bb-91f6-063fbd2efe1c</td><td>f1d2c198-a98c-4c17-95de-5fada62c4d23</td><td>7</td><td>0</td></tr><tr><td>d7f4da24-778a-4b6b-9b7e-0c56aca1d0bd</td><td>72371293-69d1-428b-bf83-c6e23bebf0d9</td><td>0</td><td>2</td></tr><tr><td>4bf7a238-1ad1-472c-b827-0b190a5fbd6c</td><td>75907865-1fcd-44aa-99a5-5732d8947dfd</td><td>8</td><td>2</td></tr><tr><td>145d4986-afc2-4483-a498-b78e531cd221</td><td>1c4d9698-5331-4678-9fe4-dd2da495aeaa</td><td>4</td><td>2</td></tr><tr><td>cb8f936c-5d60-47f1-a35f-fb2487f70488</td><td>a7d71d8a-9423-4446-a3f3-261d88cacbce</td><td>7</td><td>1</td></tr><tr><td>04a3b7b4-2e40-4f22-abe8-7ec0a51c90d0</td><td>a92b9cce-880d-4413-887a-2ce95ff6abe1</td><td>0</td><td>13</td></tr><tr><td>599001b4-c768-468c-81da-84388cb8c3f0</td><td>c8c085b5-0dda-4587-80f4-6458f2cb67fa</td><td>2</td><td>3</td></tr><tr><td>7d28d532-665c-40fd-aff8-d0cef5bc5479</td><td>de9111bd-eb23-4b8c-931a-6a88653180f8</td><td>0</td><td>5</td></tr><tr><td>c1bfc957-14b3-4e8e-bd15-fba37dc0ac67</td><td>ed56fb85-c4cb-4c1c-9116-01be852356e0</td><td>4</td><td>0</td></tr><tr><td>df132c8e-3d87-435c-93ca-6f038ffdb6f2</td><td>2922d8b8-97c0-444e-84d4-f8d52f48a28c</td><td>0</td><td>0</td></tr><tr><td>0ebc8e8b-b4d7-4ae0-aaef-1023fa4d20db</td><td>a3066561-6254-43d0-bb75-e0d6808e7de7</td><td>7</td><td>0</td></tr><tr><td>16765ff5-c298-4df2-8144-7ddb790a25a1</td><td>d8443cce-0de7-4d82-96e1-af56ab6d07ad</td><td>2</td><td>1</td></tr><tr><td>aa273e69-2279-4031-affd-6a650d448ff9</td><td>e3dd39c7-6626-4464-bf32-11d5ce6a1b42</td><td>0</td><td>2</td></tr><tr><td>a38c3039-2665-4dff-901a-712c19e45ea3</td><td>29bced7e-102c-4cd1-91a1-8474adf78c14</td><td>8</td><td>2</td></tr><tr><td>2142fd42-3248-483b-a10a-babbe41d889f</td><td>c2496410-62c5-44ef-95ed-e06736823942</td><td>4</td><td>2</td></tr><tr><td>b294448a-dc4e-423e-8aab-6bd9b2ab0ac7</td><td>b8516a94-d343-4994-9f94-c062d836fb03</td><td>7</td><td>1</td></tr><tr><td>8ceb60cd-17ec-49a0-9488-8cd4b91ab10e</td><td>738b4ffa-e387-4a79-80c6-ffd7f5b56e3d</td><td>0</td><td>13</td></tr><tr><td>77c9724e-14e6-40da-ad48-bbd06e9b5c9f</td><td>8ca1cbf6-8e06-4a38-9da7-0829512a4755</td><td>2</td><td>3</td></tr><tr><td>eb669432-101a-44af-a78b-4aa61e58cc0f</td><td>ae535838-f574-4c6b-8bea-286565c4b7a7</td><td>4</td><td>0</td></tr><tr><td>b90cf301-b700-4ec4-b670-411c88364cbe</td><td>8ebc13d7-2ea6-47a3-baee-e4c7e34629f0</td><td>0</td><td>5</td></tr><tr><td>a66377fd-b3f0-445b-ba68-d9ee5ce08954</td><td>d49f4957-e6c4-40f1-83a1-9adbf76cc356</td><td>0</td><td>0</td></tr><tr><td>17d9641c-b079-401f-91c9-ad9454887bda</td><td>aab8f3c0-7449-4935-83f8-f992f415eab5</td><td>7</td><td>0</td></tr><tr><td>358a1133-3e43-4c3b-b2f4-14d228290b99</td><td>b5eadf28-c2f0-4bfe-9092-e541226fa265</td><td>1</td><td>1</td></tr><tr><td>c335cda9-8de1-4075-b839-098515ba4474</td><td>5ea4fcf2-031b-43fa-b61a-073a7aee159f</td><td>2</td><td>1</td></tr></tbody></table></div>"
      ]
     },
     "metadata": {
      "application/vnd.databricks.v1+output": {
       "addedWidgets": {},
       "aggData": [],
       "aggError": "",
       "aggOverflow": false,
       "aggSchema": [],
       "aggSeriesLimitReached": false,
       "aggType": "",
       "arguments": {},
       "columnCustomDisplayInfos": {},
       "data": [
        [
         "5462e0a2-a3a1-41cc-908b-0eb9e174c008",
         "e9765db9-210b-470c-92b6-e5afeb9d25aa",
         0,
         0
        ],
        [
         "ec93f2a4-04d0-43ea-825f-8978420d7846",
         "7356996b-6ce7-4209-9019-82eb99ba85ad",
         4,
         2
        ],
        [
         "93455c48-b464-47e0-a14a-f9d845dae809",
         "6aeea70f-0bfb-4a55-bf0a-0abb2c9817d4",
         0,
         0
        ],
        [
         "8eb375c2-0fec-4892-be46-59b1725b93d7",
         "21fd98a2-fefd-43ac-8a99-8fa2481f4e00",
         4,
         2
        ],
        [
         "a6b1ae92-7835-4953-aab6-b96f1c7e8c6f",
         "0ff999d5-7272-45cf-87b7-2d4960118446",
         0,
         0
        ],
        [
         "2a8bc664-71fe-4a8c-8008-a207b0dc0413",
         "d8190350-5a76-44bd-bc1a-74b51446173d",
         4,
         0
        ],
        [
         "782eb54a-7acf-4743-a489-59e376daa4fd",
         "cee3dcf5-2a0e-4a55-be9c-36441942beb1",
         4,
         2
        ],
        [
         "70fdee93-92a0-4987-8952-459686bd3c84",
         "78aa5857-95ba-4dfa-b560-5032080e5a32",
         0,
         2
        ],
        [
         "20fa35fc-2d8a-42fc-9ddd-f0604c91e4f6",
         "ee328aca-4335-4dad-a1be-908dcc16e715",
         0,
         0
        ],
        [
         "990ce92a-cc98-4c69-a9e3-f097c61b1d39",
         "4a326d08-cb03-41ab-9ed5-20fdd39649dc",
         4,
         0
        ],
        [
         "0c00aba2-0633-47c3-b23d-b73e0d35bc13",
         "5c6cac58-b69e-43bf-a4ee-3b8d32952356",
         2,
         1
        ],
        [
         "3a93f548-c072-44c4-9958-c3749eae35f4",
         "556f5118-88a7-4b7e-a318-31fce87aed09",
         4,
         2
        ],
        [
         "1045b248-9fb8-4f27-8561-01a17e68c54a",
         "a98e312e-bcd6-4e82-9d67-c9b2839e2778",
         0,
         2
        ],
        [
         "e2e7b4f5-92ed-43c2-abd5-bf6589b317b4",
         "f7084be4-aaf1-4629-b744-7978762e9c81",
         0,
         0
        ],
        [
         "a1ad768f-2068-46fd-a85b-edef8ef7f584",
         "c0405a45-54e0-4232-8f3f-a7ec30e3df8e",
         2,
         3
        ],
        [
         "f34d43a1-e32a-4310-83b4-449ab61335b7",
         "4280ca44-b157-46e4-ae27-0160a51e53d5",
         4,
         0
        ],
        [
         "c782a641-63b0-4550-a01f-25592a1628a5",
         "13ef16e0-4c07-49c8-9d4f-3f59b91d6ea3",
         2,
         1
        ],
        [
         "93d54646-0891-4885-a3ad-18a10c2676a1",
         "3ee5a11b-92f4-40df-9e3c-929403f306f8",
         4,
         2
        ],
        [
         "fb7bd87d-78a7-4489-9363-0ce10a1c529c",
         "b1f550a7-645f-4af6-a61d-9516f612bfe8",
         0,
         2
        ],
        [
         "a8013e27-9e32-4bbd-8fe8-18290d6c1283",
         "2f9da44d-8d2d-4153-9176-8aa3e42b4e02",
         0,
         13
        ],
        [
         "ef1a1403-de50-4671-bc35-2ccab6180888",
         "f9f0a3be-1e23-4bc3-bef2-baeedaaf741e",
         7,
         1
        ],
        [
         "2735d82f-c4e2-4076-9995-339db79db376",
         "c9c6a227-e0e2-458d-bb8d-5080bdcf97f8",
         0,
         0
        ],
        [
         "c1a39121-df59-47ce-9838-78204d8c4efc",
         "414a6061-4167-4d45-a337-68beff408b57",
         2,
         3
        ],
        [
         "d6e9a4e9-5b81-48eb-a7a9-d3fdac9ddc7a",
         "78c70932-81d6-4877-aa81-39a3db1c09a3",
         4,
         0
        ],
        [
         "e7fb3e30-e5cf-4679-89ff-09c418773c37",
         "260ff327-09aa-47eb-8fb6-5009fe3344fd",
         2,
         1
        ],
        [
         "7e7d0f7b-2f85-484d-b8e4-2ec52e0cf585",
         "189a067d-c5c4-4794-b0c6-52d15360e4d5",
         7,
         0
        ],
        [
         "7f54f075-63cc-4ec2-84ef-f1690639d29c",
         "c35ca88d-f15a-4281-9802-8552b5a10bf1",
         4,
         2
        ],
        [
         "8f965ead-4e01-4711-bfe2-0a65291dfc3b",
         "0b38c1f2-a0de-4114-a287-480f62dae06b",
         0,
         2
        ],
        [
         "8478e9f3-22ec-41b6-b54f-6fed09e0bd11",
         "244426b5-ded5-40f3-ac9b-7f45caaf925b",
         1,
         1
        ],
        [
         "9bcbcb23-b0af-4492-a07b-1416d9d3ef21",
         "2f0b41d9-a9f2-4f7c-843b-d6091ba20307",
         0,
         5
        ],
        [
         "5f42bb75-eb3c-44f7-8014-7db0f90b544e",
         "df0b582b-cac7-48eb-ae18-95af00137334",
         7,
         1
        ],
        [
         "b0933ce1-eacb-413f-b4bd-4764b12aa564",
         "55ef21be-0efd-4acb-8d80-d5b3f3cd487c",
         0,
         13
        ],
        [
         "7b85b276-9cfd-4a78-914b-e106689a1703",
         "1aa89b83-deba-4d93-9634-69372ef06728",
         0,
         0
        ],
        [
         "5450b880-3b56-4b9d-bf14-347ed7ade912",
         "838f09fb-2c59-46a4-b775-43a52146bf3d",
         2,
         3
        ],
        [
         "b50364b2-b03c-49e9-841e-992b3df07a25",
         "7375ccdd-83b2-40af-b849-fb543a88da99",
         4,
         0
        ],
        [
         "5a5c5d17-dc12-4f39-90be-7e9e998f254d",
         "98a9c934-244e-40d2-bfbe-b7a55a471a1f",
         7,
         0
        ],
        [
         "17489521-ba87-4f79-9d5b-585fbd5ebf6a",
         "4e3e912e-bbcf-4c5a-bc40-f4140cedc24c",
         2,
         1
        ],
        [
         "1455a004-5fa7-4292-9792-0a1f1fa78d7d",
         "6e7b515f-07b7-4375-82bb-bf267551d8b2",
         8,
         2
        ],
        [
         "44530ccb-d387-4c17-bae1-fabd863d857c",
         "0a993e67-4d97-4fa9-9915-7c56ef073700",
         4,
         2
        ],
        [
         "04412f5d-70f6-4a9f-ad36-737d9157d387",
         "adcd6846-b939-4ef7-99a8-837faf825dc5",
         0,
         2
        ],
        [
         "189d12b5-67df-4e75-99e5-afd39291eb28",
         "36455c30-bcea-48f6-8ec6-423afd50c6aa",
         1,
         1
        ],
        [
         "0fe5daf2-10bb-451f-ad17-e1957946bbbd",
         "293daefc-a4c6-4c23-bc58-ad93635ca562",
         0,
         1
        ],
        [
         "6787afab-f1ba-412f-8c09-fd162d3ded01",
         "0d0715ed-6150-4522-9ee9-9d81eddab34a",
         7,
         1
        ],
        [
         "df864079-511c-4ca3-9c8d-236379a4a4a2",
         "76e8b8d0-9152-4cec-87a8-135f90cd0847",
         0,
         13
        ],
        [
         "a5dca95d-26db-4b89-b534-a1b8cbe53e7d",
         "fa4b2d12-fd0e-449e-b323-df3b811910bb",
         0,
         5
        ],
        [
         "0606cdf5-aaea-43d6-9d78-0ef5478df232",
         "a3cdd045-1602-45ca-9afa-9960a57b16e4",
         0,
         0
        ],
        [
         "e141e075-268f-414f-90e3-9fe0a92fdb35",
         "7bc7006c-206e-4291-a6ec-e564a618e236",
         2,
         3
        ],
        [
         "e07c2eef-7968-46bf-a93a-4d1c3be6a70e",
         "6bd4d3fb-b7db-413d-bc43-12a1ea4d4c35",
         4,
         0
        ],
        [
         "67aeefbb-fbba-4324-8cb8-9efd6c3fcf64",
         "09452ac8-d4d2-419e-8f29-8a09c6b14bd2",
         0,
         1
        ],
        [
         "d9f1c103-b563-4e6c-b174-c2b107eb46b9",
         "4e67fc0e-ce85-496d-a0be-d3c49b85afa9",
         7,
         0
        ],
        [
         "3e66c1e7-128d-4a1c-b666-3e0087e10f2f",
         "eb6d4fec-2686-4088-97a0-f5ef351eb4bd",
         8,
         2
        ],
        [
         "a5bc3228-0f12-4570-b3b1-295af42e2fa1",
         "259d4a7a-eed7-4047-a90f-48cc4e40b08b",
         2,
         1
        ],
        [
         "f6c5a22e-b4dd-4633-af0b-35f67d3462c1",
         "702b8030-0b7e-4263-848e-69783a613eb6",
         1,
         1
        ],
        [
         "f7938057-24ce-4eed-84b1-302e5d8f82c3",
         "aa6d88a6-be1d-4391-88e0-35e1f85b92cf",
         4,
         2
        ],
        [
         "4fba3939-de09-4621-84c5-80fa56786f6d",
         "230f3a56-c973-4167-9cd0-33ff4d591b76",
         0,
         2
        ],
        [
         "4654a6ca-d3db-4e5e-8503-2d1688cfa1ac",
         "ad9de4f5-82f1-47d3-bf50-963ac300a3b1",
         2,
         1
        ],
        [
         "f8c5f1dc-3b6e-4d05-b212-40e4d97772dd",
         "a32d90a9-5bd2-4a94-acd3-f1385942cbfa",
         7,
         1
        ],
        [
         "6e58611b-6c29-4903-ad59-f45b93ec7cc9",
         "9d6aa7fd-9b4b-4322-9220-5604fd64764d",
         4,
         0
        ],
        [
         "e268be2f-2b28-40a5-9cc9-aa8e52ce2147",
         "4be050c9-80cf-4406-8ed0-b47d04ec6ab8",
         0,
         0
        ],
        [
         "6b77393b-b01f-48f5-842c-405c75261d04",
         "f4d1935b-cb98-49e9-8c13-9595faf4ac3d",
         0,
         5
        ],
        [
         "a47874e8-8240-475d-8d0f-71a68a53b728",
         "a3a177f6-6079-47e5-8ef1-85bf0de10843",
         0,
         13
        ],
        [
         "66538c6f-3148-4057-bbb1-61b28728c2f3",
         "0c1c9835-4644-4b1e-a1d3-5d3256963508",
         4,
         0
        ],
        [
         "d5ef0ce4-853a-44a5-ab73-001599df2fd2",
         "6d541575-43c1-447e-92db-22eb8ce6779d",
         2,
         1
        ],
        [
         "ef7070e4-e9f6-4b36-8300-3d76ec540535",
         "0a1cfa9f-9aa9-4b9d-93b2-c770ea4857fd",
         7,
         0
        ],
        [
         "79ea49cf-52a2-4ed6-9952-32d6db0b3c14",
         "04aed4e5-1759-4716-8520-bd7dbd81ccc9",
         8,
         2
        ],
        [
         "488f2f2a-168c-498b-abd8-001874220519",
         "2d9c39b2-0b7a-48a7-a353-05721c26eb24",
         4,
         2
        ],
        [
         "9cabde8b-d63a-4e74-8e56-04e32bd0f7a4",
         "f1e95e43-7bda-4d74-9b23-9a3d76ea7ec4",
         0,
         2
        ],
        [
         "acb415b8-fb57-4b02-afb9-753d92a8e187",
         "b4bd86d3-6e3c-4525-a4c2-bb9ad4787a8e",
         1,
         1
        ],
        [
         "68955103-2d70-40a8-9108-cc230721ab73",
         "2314ee92-edc7-436f-b327-f1322634aef5",
         7,
         1
        ],
        [
         "badebb38-703d-4e78-a506-4ca025fe87cc",
         "66adc272-4ab8-4e00-8efd-81dac9c796ad",
         0,
         13
        ],
        [
         "ae862d5d-923a-4203-a50a-a63ad5749ab1",
         "f53331e5-f8b4-44f0-94f9-a6247c59ed8d",
         2,
         3
        ],
        [
         "fc0d594e-7bcd-4e7a-9f25-8fcb4932fb15",
         "e830ccb9-140a-4eff-b43d-61cb09c9bf25",
         4,
         0
        ],
        [
         "b3f0c16a-e00e-41b4-b461-f8f2c48fe072",
         "9473b13c-60e1-4f0b-b612-e1a63894ff3a",
         0,
         5
        ],
        [
         "f896471a-35b6-404e-9453-4275b276ced9",
         "0e19df68-432b-480e-9471-9fb4f4ee977b",
         0,
         0
        ],
        [
         "c9429460-df87-4702-ae51-0b8aba6b50d6",
         "4ac56308-cfdd-4b98-9b9f-c6893a79277b",
         1,
         1
        ],
        [
         "9a451e7c-4364-4d38-b918-36d1313a53a7",
         "8cee6b3b-7aa0-4cb6-bd32-639b8487d280",
         2,
         1
        ],
        [
         "8c5c57f3-5c32-40bb-91f6-063fbd2efe1c",
         "f1d2c198-a98c-4c17-95de-5fada62c4d23",
         7,
         0
        ],
        [
         "d7f4da24-778a-4b6b-9b7e-0c56aca1d0bd",
         "72371293-69d1-428b-bf83-c6e23bebf0d9",
         0,
         2
        ],
        [
         "4bf7a238-1ad1-472c-b827-0b190a5fbd6c",
         "75907865-1fcd-44aa-99a5-5732d8947dfd",
         8,
         2
        ],
        [
         "145d4986-afc2-4483-a498-b78e531cd221",
         "1c4d9698-5331-4678-9fe4-dd2da495aeaa",
         4,
         2
        ],
        [
         "cb8f936c-5d60-47f1-a35f-fb2487f70488",
         "a7d71d8a-9423-4446-a3f3-261d88cacbce",
         7,
         1
        ],
        [
         "04a3b7b4-2e40-4f22-abe8-7ec0a51c90d0",
         "a92b9cce-880d-4413-887a-2ce95ff6abe1",
         0,
         13
        ],
        [
         "599001b4-c768-468c-81da-84388cb8c3f0",
         "c8c085b5-0dda-4587-80f4-6458f2cb67fa",
         2,
         3
        ],
        [
         "7d28d532-665c-40fd-aff8-d0cef5bc5479",
         "de9111bd-eb23-4b8c-931a-6a88653180f8",
         0,
         5
        ],
        [
         "c1bfc957-14b3-4e8e-bd15-fba37dc0ac67",
         "ed56fb85-c4cb-4c1c-9116-01be852356e0",
         4,
         0
        ],
        [
         "df132c8e-3d87-435c-93ca-6f038ffdb6f2",
         "2922d8b8-97c0-444e-84d4-f8d52f48a28c",
         0,
         0
        ],
        [
         "0ebc8e8b-b4d7-4ae0-aaef-1023fa4d20db",
         "a3066561-6254-43d0-bb75-e0d6808e7de7",
         7,
         0
        ],
        [
         "16765ff5-c298-4df2-8144-7ddb790a25a1",
         "d8443cce-0de7-4d82-96e1-af56ab6d07ad",
         2,
         1
        ],
        [
         "aa273e69-2279-4031-affd-6a650d448ff9",
         "e3dd39c7-6626-4464-bf32-11d5ce6a1b42",
         0,
         2
        ],
        [
         "a38c3039-2665-4dff-901a-712c19e45ea3",
         "29bced7e-102c-4cd1-91a1-8474adf78c14",
         8,
         2
        ],
        [
         "2142fd42-3248-483b-a10a-babbe41d889f",
         "c2496410-62c5-44ef-95ed-e06736823942",
         4,
         2
        ],
        [
         "b294448a-dc4e-423e-8aab-6bd9b2ab0ac7",
         "b8516a94-d343-4994-9f94-c062d836fb03",
         7,
         1
        ],
        [
         "8ceb60cd-17ec-49a0-9488-8cd4b91ab10e",
         "738b4ffa-e387-4a79-80c6-ffd7f5b56e3d",
         0,
         13
        ],
        [
         "77c9724e-14e6-40da-ad48-bbd06e9b5c9f",
         "8ca1cbf6-8e06-4a38-9da7-0829512a4755",
         2,
         3
        ],
        [
         "eb669432-101a-44af-a78b-4aa61e58cc0f",
         "ae535838-f574-4c6b-8bea-286565c4b7a7",
         4,
         0
        ],
        [
         "b90cf301-b700-4ec4-b670-411c88364cbe",
         "8ebc13d7-2ea6-47a3-baee-e4c7e34629f0",
         0,
         5
        ],
        [
         "a66377fd-b3f0-445b-ba68-d9ee5ce08954",
         "d49f4957-e6c4-40f1-83a1-9adbf76cc356",
         0,
         0
        ],
        [
         "17d9641c-b079-401f-91c9-ad9454887bda",
         "aab8f3c0-7449-4935-83f8-f992f415eab5",
         7,
         0
        ],
        [
         "358a1133-3e43-4c3b-b2f4-14d228290b99",
         "b5eadf28-c2f0-4bfe-9092-e541226fa265",
         1,
         1
        ],
        [
         "c335cda9-8de1-4075-b839-098515ba4474",
         "5ea4fcf2-031b-43fa-b61a-073a7aee159f",
         2,
         1
        ]
       ],
       "datasetInfos": [],
       "dbfsResultPath": null,
       "isJsonSchema": true,
       "metadata": {},
       "overflow": false,
       "plotOptions": {
        "customPlotOptions": {},
        "displayType": "table",
        "pivotAggregation": null,
        "pivotColumns": null,
        "xColumns": null,
        "yColumns": null
       },
       "removedWidgets": [],
       "schema": [
        {
         "metadata": "{}",
         "name": "uuid",
         "type": "\"string\""
        },
        {
         "metadata": "{}",
         "name": "match_uuid",
         "type": "\"string\""
        },
        {
         "metadata": "{}",
         "name": "home_score",
         "type": "\"long\""
        },
        {
         "metadata": "{}",
         "name": "away_score",
         "type": "\"long\""
        }
       ],
       "type": "table"
      }
     },
     "output_type": "display_data"
    }
   ],
   "source": [
    "from pyspark.sql import functions as f\n",
    "\n",
    "fact_result_df = (\n",
    "    results_df.join(\n",
    "        dim_team_df.alias(\"home_team_df\"),\n",
    "        on=results_df.home_team == f.col(\"home_team_df.team\"),\n",
    "    )\n",
    "    .withColumnRenamed(\"uuid\", \"home_team_uuid\")\n",
    "    .join(\n",
    "        dim_team_df.alias(\"away_team_df\"),\n",
    "        on=results_df.away_team == f.col(\"away_team_df.team\"),\n",
    "    )\n",
    "    .withColumnRenamed(\"uuid\", \"away_team_uuid\")\n",
    "    .select(\n",
    "        f.col(\"home_team_uuid\").alias(\"fact_home_team_uuid\"),\n",
    "        f.col(\"away_team_uuid\").alias(\"fact_away_team_uuid\"),\n",
    "        \"home_score\",\n",
    "        \"away_score\",\n",
    "    )\n",
    "    .join(\n",
    "        dim_match_df,\n",
    "        on=[\n",
    "            dim_match_df.home_team_uuid == f.col(\"fact_home_team_uuid\"),\n",
    "            dim_match_df.away_team_uuid == f.col(\"fact_away_team_uuid\"),\n",
    "        ],\n",
    "    )\n",
    "    .withColumnRenamed(\"uuid\", \"match_uuid\")\n",
    "    .withColumn(\"uuid\", f.expr(\"uuid()\"))\n",
    "    .select(\"uuid\", \"match_uuid\", \"home_score\", \"away_score\")\n",
    ")\n",
    "\n",
    "display(fact_result_df.head(100))"
   ]
  },
  {
   "cell_type": "markdown",
   "metadata": {
    "application/vnd.databricks.v1+cell": {
     "cellMetadata": {
      "byteLimit": 2048000,
      "rowLimit": 10000
     },
     "inputWidgets": {},
     "nuid": "b2c783e4-f3d9-4cb3-916d-7eb261c5445d",
     "showTitle": false,
     "title": ""
    }
   },
   "source": [
    "# Creation of the Dim Scorer Dataframe"
   ]
  },
  {
   "cell_type": "code",
   "execution_count": 0,
   "metadata": {
    "application/vnd.databricks.v1+cell": {
     "cellMetadata": {
      "byteLimit": 2048000,
      "rowLimit": 10000
     },
     "inputWidgets": {},
     "nuid": "82890fa7-0b73-4bd8-b3a9-f51653079e7c",
     "showTitle": false,
     "title": ""
    }
   },
   "outputs": [
    {
     "output_type": "display_data",
     "data": {
      "text/html": [
       "<style scoped>\n",
       "  .table-result-container {\n",
       "    max-height: 300px;\n",
       "    overflow: auto;\n",
       "  }\n",
       "  table, th, td {\n",
       "    border: 1px solid black;\n",
       "    border-collapse: collapse;\n",
       "  }\n",
       "  th, td {\n",
       "    padding: 5px;\n",
       "  }\n",
       "  th {\n",
       "    text-align: left;\n",
       "  }\n",
       "</style><div class='table-result-container'><table class='table-result'><thead style='background-color: white'><tr><th>uuid</th><th>team_uuid</th><th>scorer</th></tr></thead><tbody><tr><td>c22c0bdd-571d-444d-bf89-ed0c1af66b84</td><td>b8c69d88-f863-4932-97ed-15b4b7bb5a19</td><td>Johann Horvath</td></tr><tr><td>cda309bf-cc0c-4f25-b935-a10723a75209</td><td>254e3fd5-9a32-417d-bd97-4eb5756b4615</td><td>Zizinho</td></tr><tr><td>6b798f89-e694-45eb-98f3-40f3651b6e10</td><td>ec8de98a-0a66-433d-9b99-009a8e39f118</td><td>Leocadio Marín</td></tr><tr><td>9ed79eb7-cff6-49aa-8161-4a7319edf1bd</td><td>ec8de98a-0a66-433d-9b99-009a8e39f118</td><td>Enrique Ávalos</td></tr><tr><td>9b333bd0-fc0a-45ef-8e52-6168993560f1</td><td>d620902c-ea95-4a0c-95d3-2b9bfc1a3941</td><td>Joe Gaetjens</td></tr><tr><td>7db1d847-04de-4847-b281-25269cbd01e4</td><td>1ad06e0e-c012-4c1d-8092-7f9a583ed51c</td><td>Wilfred de Lanoy</td></tr><tr><td>5ae3a0b3-b9f3-446d-9d7e-fee9c9b0bdac</td><td>03a31530-3d7c-4d0c-9c4e-275ab7a540e2</td><td>Roger Vonlanthen</td></tr><tr><td>23b7e9fe-143a-4c18-89e2-93b1fac2e3ce</td><td>930f1adc-c26a-4918-bb2b-ba51c70c056e</td><td>Alex Young</td></tr><tr><td>08bd9094-09db-43d2-869a-a1327c9c6a6a</td><td>729ccc0c-0c01-4769-9f2c-c507852ff076</td><td>Siegfried Haltman</td></tr><tr><td>fd63c764-b170-4d67-af10-40d76f1e30a9</td><td>aa0acca0-b60a-4fae-b4ce-a9408a96e4c8</td><td>Gerardo Barrios Morales</td></tr><tr><td>ce567c7f-133d-46af-81e8-c35f4e36fe22</td><td>d9821032-c4f5-4634-84a2-801e54a925a5</td><td>Gérard Hausser</td></tr><tr><td>00cef8af-b098-4a4d-b20e-2fbb7f6fc6a9</td><td>d0e2a2e6-0395-4559-948a-9f3b3504bbe9</td><td>Csaba Vidáts</td></tr><tr><td>7fa5c1b4-3854-4b7a-8efd-7342072a5eb6</td><td>2b28d2c7-9964-4913-9743-79860332c39e</td><td>José Francisco Rojo</td></tr><tr><td>fb4bc975-4087-4b58-bf2d-76cfab2d9c75</td><td>1241e9ca-1848-4e4f-813f-5edcd035e410</td><td>Terry Yorath</td></tr><tr><td>c708de31-0d12-44e5-a339-d10c34fed14c</td><td>2b28d2c7-9964-4913-9743-79860332c39e</td><td>Santillana</td></tr><tr><td>20bb8ab2-4d2d-4247-a86b-74af90e15805</td><td>a4d9b25f-d0fc-463d-a414-6cfe8b697389</td><td>Gerry Daly</td></tr><tr><td>7ad63e79-a0f3-4ab1-a019-a097a1438073</td><td>d9821032-c4f5-4634-84a2-801e54a925a5</td><td>Marius Trésor</td></tr><tr><td>b490ef5e-844b-42d3-9c8b-8dd39a826e18</td><td>57988d07-255b-4478-93fe-e95ba61fd587</td><td>Arnold Mühren</td></tr><tr><td>b9441627-b8c8-4385-973a-8d90c0a5fc74</td><td>03a31530-3d7c-4d0c-9c4e-275ab7a540e2</td><td>Marco Schällibaum</td></tr><tr><td>c8cae618-8007-42f3-8ffd-b69d7be2901f</td><td>03a31530-3d7c-4d0c-9c4e-275ab7a540e2</td><td>André Egli</td></tr><tr><td>c1f9b7bd-d429-4def-b985-26a1275afa62</td><td>f7025106-58ff-41aa-8582-f78040fd1254</td><td>Razali Saad</td></tr><tr><td>8aeb1312-f75a-4fb9-9911-d334bf760c58</td><td>83116da9-427f-4e68-ab14-f8c384c0e078</td><td>Raymond Xuereb</td></tr><tr><td>e002b722-262a-44f9-bd30-238f27127662</td><td>b8c69d88-f863-4932-97ed-15b4b7bb5a19</td><td>Andreas Herzog</td></tr><tr><td>9fd3e411-4ab1-433d-9247-0984c6441e84</td><td>e1f9a3b4-99bc-4725-9177-f366e754f873</td><td>Sheikh Mohammad Aslam</td></tr><tr><td>eab7c942-f174-4395-a584-2e47a36a3d7d</td><td>03a20a65-c660-4950-9add-d0b852fd2dc7</td><td>Antony de Ávila</td></tr><tr><td>24b50d03-c3aa-4e08-a69b-683b676bdaa2</td><td>19e7ba50-7081-4765-b5ec-252b2c860ce9</td><td>Hossam Hassan</td></tr><tr><td>613fa64c-6591-4d80-a9a2-57ae7afc1521</td><td>03a31530-3d7c-4d0c-9c4e-275ab7a540e2</td><td>Frédéric Chassot</td></tr><tr><td>0d4a6ae0-7444-4e67-8514-91343bdada4e</td><td>0c736982-3fdd-40b5-8b00-ed33a10924b0</td><td>Darío Franco</td></tr><tr><td>33f2d7ce-e128-41ec-a23b-6b74660dd00d</td><td>2e2fc2fd-a2cc-44b4-9cd0-1058b12bb784</td><td>Kevin Wilson</td></tr><tr><td>e01ddedd-0e54-4da9-8eed-9c7f55435e96</td><td>b8c69d88-f863-4932-97ed-15b4b7bb5a19</td><td>Leo Lainer</td></tr><tr><td>eef82040-c163-4c0c-8e5f-bae4f96a00c0</td><td>02d873c5-ad76-43ef-ac91-fcc6a5f39908</td><td>Mauricio Cienfuegos</td></tr><tr><td>760a36ce-b081-464b-8595-7cb633d0a6d5</td><td>2e2fc2fd-a2cc-44b4-9cd0-1058b12bb784</td><td>Michael Hughes</td></tr><tr><td>fa542fbd-9192-454e-ba5f-6a05892c415f</td><td>cb8c0fdb-ae7a-4b8f-80ac-5b491141f760</td><td>Presley Carson</td></tr><tr><td>3f7a22de-407a-48f7-9253-616580594cca</td><td>a52bee72-a94a-4b3e-8b19-0fe23e824cb0</td><td>Gregory Goodridge</td></tr><tr><td>015cce1d-f736-424a-ac3c-de6fb42d57e8</td><td>ebaa77b2-e03d-49a6-85a0-6574383c1e5d</td><td>Sousa Miyamou</td></tr><tr><td>aff354d9-8254-4286-9158-9ec5ffc1ceb1</td><td>8ab18432-7a56-43ff-93d0-0574d1bc98bf</td><td>Ma Mingyu</td></tr><tr><td>5656831c-c932-4b9b-b2f2-edc18e13082e</td><td>83d7cc19-8698-42a9-b999-10ca980f5f80</td><td>Michalis Konstantinou</td></tr><tr><td>9772baf4-af95-4d47-9115-3c56cd34a729</td><td>9a0a8c7d-6a7e-4540-bf9f-c4949b719ae8</td><td>Dereck Somanje</td></tr><tr><td>2f3c6f0a-89ab-4afc-aff7-e1d0ce899c83</td><td>54a47711-ddd8-4257-80ac-64522ba81528</td><td>Jack Samani</td></tr><tr><td>0868b090-37b2-46ae-aa68-a019781e00af</td><td>82047923-ab11-494d-a9e9-7e656a849d28</td><td>Lisi Leututu</td></tr><tr><td>654956d8-df01-4cd6-8bea-82d523b7d830</td><td>438c1472-2feb-4913-8256-03217bd21b7f</td><td>José Alfredo Castillo</td></tr><tr><td>0030b83f-4e6b-4198-86c4-12b6f5ab4003</td><td>15410b00-d2ab-484a-bf3c-72cf58fd913b</td><td>Peter Van Der Heyden</td></tr><tr><td>77e371a0-7311-4a20-b41d-371556fe2131</td><td>082311e6-2728-47b8-adcf-4d5efa098593</td><td>Erick Scott</td></tr><tr><td>c7ea66bc-a1c8-4f0f-abc2-a52baf5f36d6</td><td>74c39b96-3cd0-47bc-a46a-c810a664fe52</td><td>John Baraza</td></tr><tr><td>041f362f-27c3-49b9-b410-d776186b6ad3</td><td>7d0af52c-fb65-499d-af18-3ffb47beb387</td><td>Mohammed Al-Hinai</td></tr><tr><td>c4b6c13b-2783-4cad-a3be-9cd914c859c1</td><td>b9720e77-0282-483d-8ccb-9eeca6fff90e</td><td>Mile Sterjovski</td></tr><tr><td>3e73fad8-0540-4ae0-b22d-ae3ed21bbf09</td><td>c3ee8716-93b6-4174-9cd4-3791b2cecd97</td><td>Mansurdzhon Hakimov</td></tr><tr><td>8437a8a0-0c88-4e4c-91bb-00a325d16b0f</td><td>332d38df-e528-42be-851c-ef7f0c38f53d</td><td>Vyacheslav Amin</td></tr><tr><td>192d2434-9371-45f8-b902-eeb980cc5860</td><td>b22e8e7d-86f3-42a4-8708-7caf9f018ec8</td><td>Koray Avcı</td></tr><tr><td>eaa2c6f9-d9c1-4f2a-908c-9cb7855ff7fc</td><td>312891bf-dbbe-41f0-a01f-f2d4a3affe1a</td><td>Gunnar Heiðar Þorvaldsson</td></tr><tr><td>76103539-fc9a-4b85-8465-4d7a7e734de9</td><td>d9821032-c4f5-4634-84a2-801e54a925a5</td><td>Louis Saha</td></tr><tr><td>2e1da6d0-aefe-4cb7-9cad-f97db18d4127</td><td>f7bd5002-af1b-4cd1-a554-e8f7cdef51a8</td><td>Teeratep Winothai</td></tr><tr><td>cdac5e7c-2185-473c-9818-b2ac06e90681</td><td>7e9afdb0-d49e-4e6e-95e1-a1afebed81c4</td><td>David Mulligan</td></tr><tr><td>b531615c-7396-4765-9a7d-40724a24ce06</td><td>5db9c1a2-73ea-4cca-843f-54f308a23102</td><td>Osama Hawsawi</td></tr><tr><td>03e64027-4ee1-499d-b75d-1ca918d8c1d9</td><td>248f04f6-3970-4af5-bc7d-29575f0da462</td><td>Heiko Westermann</td></tr><tr><td>7aa643da-7219-48de-907c-f1f1a820f5e7</td><td>7e5846cf-f0c7-4771-8e19-d69d97033210</td><td>Khaleem Hyland</td></tr><tr><td>de1da921-60a5-454c-9d58-7e934c5cdcdf</td><td>8ab18432-7a56-43ff-93d0-0574d1bc98bf</td><td>Deng Zhuoxiang</td></tr><tr><td>c42f19ef-d5b2-4d4e-82fa-a48f9b5269cc</td><td>cb8c0fdb-ae7a-4b8f-80ac-5b491141f760</td><td>Jerry Bengtson</td></tr><tr><td>632554e4-bfbd-4616-8c46-2492f2edf663</td><td>aa18b252-39a3-4ebf-9549-8d41a46a1e25</td><td>Leong Ka Hang</td></tr><tr><td>65f453dc-0818-42a7-bea5-2162465afb6f</td><td>02d873c5-ad76-43ef-ac91-fcc6a5f39908</td><td>Christian Javier Bautista</td></tr><tr><td>d94eec8d-e667-4413-bd11-455dbc68306a</td><td>1ad06e0e-c012-4c1d-8092-7f9a583ed51c</td><td>Sendley Sidney Bito</td></tr><tr><td>45df0d59-f038-4d89-8c91-057a2f221a39</td><td>984adf57-bee6-453f-8c9c-759f244500a1</td><td>Kolo Touré</td></tr><tr><td>22aa2332-36c8-4088-b1b0-ecffc5818890</td><td>9303246a-bd3a-42bf-a04d-9f309dc28b0a</td><td>Maor Melikson</td></tr><tr><td>fd6c7418-b4bf-41ce-b7fb-962d343502c2</td><td>a4d9b25f-d0fc-463d-a414-6cfe8b697389</td><td>Marc Wilson</td></tr><tr><td>ede3ee3f-01c2-4f13-931a-e1d135f819e0</td><td>91666819-e7c6-4236-ae96-8f84d7385975</td><td>Roberto Chen</td></tr><tr><td>f59d8cfa-a8bf-47e8-8117-3aa3a2ef822e</td><td>c24e4f79-ee83-477d-9541-8795cd936936</td><td>Ricardo Costa</td></tr><tr><td>0a78f35b-ea67-4fc5-8714-10df929e6fdb</td><td>d0e2a2e6-0395-4559-948a-9f3b3504bbe9</td><td>Nemanja Nikolić</td></tr><tr><td>2771608e-d285-42ea-9585-daadfc6897be</td><td>1acb3b7b-2c09-4261-a2b4-7ca2b498cd90</td><td>Andrey Galabinov</td></tr><tr><td>0ae03ef0-d29e-41bb-bb34-eb89c2861fc3</td><td>03a31530-3d7c-4d0c-9c4e-275ab7a540e2</td><td>Ragnar Klavan</td></tr><tr><td>d5209804-bf9f-4608-a0c0-85aa62f9750d</td><td>232bb3ee-10bc-4506-b756-8ab4d54640ce</td><td>Gabriel Achilier</td></tr><tr><td>770638a4-d69d-466b-8d3c-9c919f9d93f9</td><td>95e60810-1925-4023-b14a-f2d002c2efdd</td><td>Alexandre Martínez Palau</td></tr><tr><td>2a29daef-2073-4149-905a-ce46f6f98340</td><td>91666819-e7c6-4236-ae96-8f84d7385975</td><td>Yassine Meriah</td></tr><tr><td>3b0aae75-31c6-487f-9ad1-a106f280573e</td><td>332d38df-e528-42be-851c-ef7f0c38f53d</td><td>Mirlan Murzaev</td></tr><tr><td>8451cb91-2360-4422-b166-70789f64fca1</td><td>7ed05dcb-fbbc-4dec-a385-080259fb4236</td><td>Omari Sterling-James</td></tr><tr><td>dc4dfbed-d7e9-4a25-86a6-61b0709c20b5</td><td>196325ae-deae-4f69-81b5-f9627611821e</td><td>Sanad Al Warfali</td></tr><tr><td>9e25070e-2b3f-44c9-85a0-8dd6923642f2</td><td>8ab18432-7a56-43ff-93d0-0574d1bc98bf</td><td>Zhu Chenjie</td></tr><tr><td>fc154d4a-56eb-466a-8f1d-e45cc6046a57</td><td>02755dbb-e8fe-4494-9146-6a37fd2b5eed</td><td>Kristjan Asllani</td></tr><tr><td>b9369ae2-cbab-45f8-bb73-dcd3baf0c5ca</td><td>f5092382-8336-46ff-b0dc-9a7c222f427d</td><td>Nguyễn Đình Bắc</td></tr><tr><td>a274fcfd-2f88-4cd1-909b-864a21896598</td><td>0f2dfad5-f6c4-4c8b-9932-0e4fdc4370bc</td><td>Nene Dorgeles</td></tr><tr><td>8f094133-76ec-4d94-b844-116a951e1aa5</td><td>c6feef46-4900-434f-b5e7-13fbfd485290</td><td>Alfredo France</td></tr><tr><td>eeee214b-bb65-40fb-87b6-ec2ad4df38fa</td><td>0c736982-3fdd-40b5-8b00-ed33a10924b0</td><td>Segundo Luna</td></tr><tr><td>bf1e2846-053e-4a62-a065-48ce41261bd1</td><td>254e3fd5-9a32-417d-bd97-4eb5756b4615</td><td>Julinho</td></tr><tr><td>2dd2969d-79e3-47a7-9602-177c43d46148</td><td>0c736982-3fdd-40b5-8b00-ed33a10924b0</td><td>Mario Rodríguez</td></tr><tr><td>b1d7508f-99e5-4232-b8c1-254350f7cd52</td><td>ff7ae0f8-81a5-49fa-9381-fb941411a01f</td><td>Sukumar Samajpati</td></tr><tr><td>38ded869-1552-4c3c-804d-cdb0410ab550</td><td>b8c69d88-f863-4932-97ed-15b4b7bb5a19</td><td>August Starek</td></tr><tr><td>548c2fa8-302a-490c-9593-fabbe74c9535</td><td>07fed875-08f4-4b06-9701-00707a92b93a</td><td>Akuetteh Armah</td></tr><tr><td>e905f8d4-9889-45f4-901a-4f51106b36f7</td><td>ebaa77b2-e03d-49a6-85a0-6574383c1e5d</td><td>André Mbouta</td></tr><tr><td>32ae6e40-6276-4255-a861-f1d3d836cb2d</td><td>77f35d94-0ab5-449e-a211-8dd623972ad7</td><td>Georgios Delikaris</td></tr><tr><td>0064b66c-72ad-44bb-bc34-4653adec10fe</td><td>57988d07-255b-4478-93fe-e95ba61fd587</td><td>Frans Thijssen</td></tr><tr><td>39dab107-f0ad-498c-a32d-ead9ca64e0ac</td><td>cc0838e8-37d2-4c9b-b0a0-be5783066e99</td><td>Roman Ogaza</td></tr><tr><td>fb7ef4f5-5f5d-4606-b1ac-7c2df46c7e9d</td><td>39865602-4968-4f11-a65d-275a52527833</td><td>Choi Jae-pil</td></tr><tr><td>f5d75a04-423f-4e74-8f16-7c0d951cdd88</td><td>b021bc1b-3c87-4a75-bac4-77bb2b36fa62</td><td>Lee Jung-il</td></tr><tr><td>b96aff33-24d9-4171-9f1d-c03870446159</td><td>39865602-4968-4f11-a65d-275a52527833</td><td>Li Yong-Man</td></tr><tr><td>f6576a7e-60eb-4f23-a340-8baf4859f67f</td><td>bfc6cd9a-6b48-4eee-a2ff-c578c2e62a48</td><td>Rodion Cămătaru</td></tr><tr><td>2960a5e0-87b0-453e-9422-54ea287808ec</td><td>d254c48c-8cfd-4826-a7cc-80e709e7cc82</td><td>Oleh Protasov</td></tr><tr><td>b0723326-2a7e-4225-827d-3bdace309b80</td><td>082311e6-2728-47b8-adcf-4d5efa098593</td><td>Johnny Williams</td></tr><tr><td>8ebe015f-8cb8-4a21-ba21-ce477565332c</td><td>9982f277-931f-48e8-b568-b0ebe749bbea</td><td>Ulf Kirsten</td></tr><tr><td>d211b760-a37f-4e42-8827-36166cbdb3a8</td><td>196325ae-deae-4f69-81b5-f9627611821e</td><td>Fawzi El-Aisawi</td></tr><tr><td>342fb914-6d38-4f3b-a89d-ff82ffc3d274</td><td>b021bc1b-3c87-4a75-bac4-77bb2b36fa62</td><td>Hwang Sun-hong</td></tr><tr><td>1c7976c4-7ac6-4f46-89f8-d4cb6b47f303</td><td>9982f277-931f-48e8-b568-b0ebe749bbea</td><td>Matthias Sammer</td></tr></tbody></table></div>"
      ]
     },
     "metadata": {
      "application/vnd.databricks.v1+output": {
       "addedWidgets": {},
       "aggData": [],
       "aggError": "",
       "aggOverflow": false,
       "aggSchema": [],
       "aggSeriesLimitReached": false,
       "aggType": "",
       "arguments": {},
       "columnCustomDisplayInfos": {},
       "data": [
        [
         "c22c0bdd-571d-444d-bf89-ed0c1af66b84",
         "b8c69d88-f863-4932-97ed-15b4b7bb5a19",
         "Johann Horvath"
        ],
        [
         "cda309bf-cc0c-4f25-b935-a10723a75209",
         "254e3fd5-9a32-417d-bd97-4eb5756b4615",
         "Zizinho"
        ],
        [
         "6b798f89-e694-45eb-98f3-40f3651b6e10",
         "ec8de98a-0a66-433d-9b99-009a8e39f118",
         "Leocadio Marín"
        ],
        [
         "9ed79eb7-cff6-49aa-8161-4a7319edf1bd",
         "ec8de98a-0a66-433d-9b99-009a8e39f118",
         "Enrique Ávalos"
        ],
        [
         "9b333bd0-fc0a-45ef-8e52-6168993560f1",
         "d620902c-ea95-4a0c-95d3-2b9bfc1a3941",
         "Joe Gaetjens"
        ],
        [
         "7db1d847-04de-4847-b281-25269cbd01e4",
         "1ad06e0e-c012-4c1d-8092-7f9a583ed51c",
         "Wilfred de Lanoy"
        ],
        [
         "5ae3a0b3-b9f3-446d-9d7e-fee9c9b0bdac",
         "03a31530-3d7c-4d0c-9c4e-275ab7a540e2",
         "Roger Vonlanthen"
        ],
        [
         "23b7e9fe-143a-4c18-89e2-93b1fac2e3ce",
         "930f1adc-c26a-4918-bb2b-ba51c70c056e",
         "Alex Young"
        ],
        [
         "08bd9094-09db-43d2-869a-a1327c9c6a6a",
         "729ccc0c-0c01-4769-9f2c-c507852ff076",
         "Siegfried Haltman"
        ],
        [
         "fd63c764-b170-4d67-af10-40d76f1e30a9",
         "aa0acca0-b60a-4fae-b4ce-a9408a96e4c8",
         "Gerardo Barrios Morales"
        ],
        [
         "ce567c7f-133d-46af-81e8-c35f4e36fe22",
         "d9821032-c4f5-4634-84a2-801e54a925a5",
         "Gérard Hausser"
        ],
        [
         "00cef8af-b098-4a4d-b20e-2fbb7f6fc6a9",
         "d0e2a2e6-0395-4559-948a-9f3b3504bbe9",
         "Csaba Vidáts"
        ],
        [
         "7fa5c1b4-3854-4b7a-8efd-7342072a5eb6",
         "2b28d2c7-9964-4913-9743-79860332c39e",
         "José Francisco Rojo"
        ],
        [
         "fb4bc975-4087-4b58-bf2d-76cfab2d9c75",
         "1241e9ca-1848-4e4f-813f-5edcd035e410",
         "Terry Yorath"
        ],
        [
         "c708de31-0d12-44e5-a339-d10c34fed14c",
         "2b28d2c7-9964-4913-9743-79860332c39e",
         "Santillana"
        ],
        [
         "20bb8ab2-4d2d-4247-a86b-74af90e15805",
         "a4d9b25f-d0fc-463d-a414-6cfe8b697389",
         "Gerry Daly"
        ],
        [
         "7ad63e79-a0f3-4ab1-a019-a097a1438073",
         "d9821032-c4f5-4634-84a2-801e54a925a5",
         "Marius Trésor"
        ],
        [
         "b490ef5e-844b-42d3-9c8b-8dd39a826e18",
         "57988d07-255b-4478-93fe-e95ba61fd587",
         "Arnold Mühren"
        ],
        [
         "b9441627-b8c8-4385-973a-8d90c0a5fc74",
         "03a31530-3d7c-4d0c-9c4e-275ab7a540e2",
         "Marco Schällibaum"
        ],
        [
         "c8cae618-8007-42f3-8ffd-b69d7be2901f",
         "03a31530-3d7c-4d0c-9c4e-275ab7a540e2",
         "André Egli"
        ],
        [
         "c1f9b7bd-d429-4def-b985-26a1275afa62",
         "f7025106-58ff-41aa-8582-f78040fd1254",
         "Razali Saad"
        ],
        [
         "8aeb1312-f75a-4fb9-9911-d334bf760c58",
         "83116da9-427f-4e68-ab14-f8c384c0e078",
         "Raymond Xuereb"
        ],
        [
         "e002b722-262a-44f9-bd30-238f27127662",
         "b8c69d88-f863-4932-97ed-15b4b7bb5a19",
         "Andreas Herzog"
        ],
        [
         "9fd3e411-4ab1-433d-9247-0984c6441e84",
         "e1f9a3b4-99bc-4725-9177-f366e754f873",
         "Sheikh Mohammad Aslam"
        ],
        [
         "eab7c942-f174-4395-a584-2e47a36a3d7d",
         "03a20a65-c660-4950-9add-d0b852fd2dc7",
         "Antony de Ávila"
        ],
        [
         "24b50d03-c3aa-4e08-a69b-683b676bdaa2",
         "19e7ba50-7081-4765-b5ec-252b2c860ce9",
         "Hossam Hassan"
        ],
        [
         "613fa64c-6591-4d80-a9a2-57ae7afc1521",
         "03a31530-3d7c-4d0c-9c4e-275ab7a540e2",
         "Frédéric Chassot"
        ],
        [
         "0d4a6ae0-7444-4e67-8514-91343bdada4e",
         "0c736982-3fdd-40b5-8b00-ed33a10924b0",
         "Darío Franco"
        ],
        [
         "33f2d7ce-e128-41ec-a23b-6b74660dd00d",
         "2e2fc2fd-a2cc-44b4-9cd0-1058b12bb784",
         "Kevin Wilson"
        ],
        [
         "e01ddedd-0e54-4da9-8eed-9c7f55435e96",
         "b8c69d88-f863-4932-97ed-15b4b7bb5a19",
         "Leo Lainer"
        ],
        [
         "eef82040-c163-4c0c-8e5f-bae4f96a00c0",
         "02d873c5-ad76-43ef-ac91-fcc6a5f39908",
         "Mauricio Cienfuegos"
        ],
        [
         "760a36ce-b081-464b-8595-7cb633d0a6d5",
         "2e2fc2fd-a2cc-44b4-9cd0-1058b12bb784",
         "Michael Hughes"
        ],
        [
         "fa542fbd-9192-454e-ba5f-6a05892c415f",
         "cb8c0fdb-ae7a-4b8f-80ac-5b491141f760",
         "Presley Carson"
        ],
        [
         "3f7a22de-407a-48f7-9253-616580594cca",
         "a52bee72-a94a-4b3e-8b19-0fe23e824cb0",
         "Gregory Goodridge"
        ],
        [
         "015cce1d-f736-424a-ac3c-de6fb42d57e8",
         "ebaa77b2-e03d-49a6-85a0-6574383c1e5d",
         "Sousa Miyamou"
        ],
        [
         "aff354d9-8254-4286-9158-9ec5ffc1ceb1",
         "8ab18432-7a56-43ff-93d0-0574d1bc98bf",
         "Ma Mingyu"
        ],
        [
         "5656831c-c932-4b9b-b2f2-edc18e13082e",
         "83d7cc19-8698-42a9-b999-10ca980f5f80",
         "Michalis Konstantinou"
        ],
        [
         "9772baf4-af95-4d47-9115-3c56cd34a729",
         "9a0a8c7d-6a7e-4540-bf9f-c4949b719ae8",
         "Dereck Somanje"
        ],
        [
         "2f3c6f0a-89ab-4afc-aff7-e1d0ce899c83",
         "54a47711-ddd8-4257-80ac-64522ba81528",
         "Jack Samani"
        ],
        [
         "0868b090-37b2-46ae-aa68-a019781e00af",
         "82047923-ab11-494d-a9e9-7e656a849d28",
         "Lisi Leututu"
        ],
        [
         "654956d8-df01-4cd6-8bea-82d523b7d830",
         "438c1472-2feb-4913-8256-03217bd21b7f",
         "José Alfredo Castillo"
        ],
        [
         "0030b83f-4e6b-4198-86c4-12b6f5ab4003",
         "15410b00-d2ab-484a-bf3c-72cf58fd913b",
         "Peter Van Der Heyden"
        ],
        [
         "77e371a0-7311-4a20-b41d-371556fe2131",
         "082311e6-2728-47b8-adcf-4d5efa098593",
         "Erick Scott"
        ],
        [
         "c7ea66bc-a1c8-4f0f-abc2-a52baf5f36d6",
         "74c39b96-3cd0-47bc-a46a-c810a664fe52",
         "John Baraza"
        ],
        [
         "041f362f-27c3-49b9-b410-d776186b6ad3",
         "7d0af52c-fb65-499d-af18-3ffb47beb387",
         "Mohammed Al-Hinai"
        ],
        [
         "c4b6c13b-2783-4cad-a3be-9cd914c859c1",
         "b9720e77-0282-483d-8ccb-9eeca6fff90e",
         "Mile Sterjovski"
        ],
        [
         "3e73fad8-0540-4ae0-b22d-ae3ed21bbf09",
         "c3ee8716-93b6-4174-9cd4-3791b2cecd97",
         "Mansurdzhon Hakimov"
        ],
        [
         "8437a8a0-0c88-4e4c-91bb-00a325d16b0f",
         "332d38df-e528-42be-851c-ef7f0c38f53d",
         "Vyacheslav Amin"
        ],
        [
         "192d2434-9371-45f8-b902-eeb980cc5860",
         "b22e8e7d-86f3-42a4-8708-7caf9f018ec8",
         "Koray Avcı"
        ],
        [
         "eaa2c6f9-d9c1-4f2a-908c-9cb7855ff7fc",
         "312891bf-dbbe-41f0-a01f-f2d4a3affe1a",
         "Gunnar Heiðar Þorvaldsson"
        ],
        [
         "76103539-fc9a-4b85-8465-4d7a7e734de9",
         "d9821032-c4f5-4634-84a2-801e54a925a5",
         "Louis Saha"
        ],
        [
         "2e1da6d0-aefe-4cb7-9cad-f97db18d4127",
         "f7bd5002-af1b-4cd1-a554-e8f7cdef51a8",
         "Teeratep Winothai"
        ],
        [
         "cdac5e7c-2185-473c-9818-b2ac06e90681",
         "7e9afdb0-d49e-4e6e-95e1-a1afebed81c4",
         "David Mulligan"
        ],
        [
         "b531615c-7396-4765-9a7d-40724a24ce06",
         "5db9c1a2-73ea-4cca-843f-54f308a23102",
         "Osama Hawsawi"
        ],
        [
         "03e64027-4ee1-499d-b75d-1ca918d8c1d9",
         "248f04f6-3970-4af5-bc7d-29575f0da462",
         "Heiko Westermann"
        ],
        [
         "7aa643da-7219-48de-907c-f1f1a820f5e7",
         "7e5846cf-f0c7-4771-8e19-d69d97033210",
         "Khaleem Hyland"
        ],
        [
         "de1da921-60a5-454c-9d58-7e934c5cdcdf",
         "8ab18432-7a56-43ff-93d0-0574d1bc98bf",
         "Deng Zhuoxiang"
        ],
        [
         "c42f19ef-d5b2-4d4e-82fa-a48f9b5269cc",
         "cb8c0fdb-ae7a-4b8f-80ac-5b491141f760",
         "Jerry Bengtson"
        ],
        [
         "632554e4-bfbd-4616-8c46-2492f2edf663",
         "aa18b252-39a3-4ebf-9549-8d41a46a1e25",
         "Leong Ka Hang"
        ],
        [
         "65f453dc-0818-42a7-bea5-2162465afb6f",
         "02d873c5-ad76-43ef-ac91-fcc6a5f39908",
         "Christian Javier Bautista"
        ],
        [
         "d94eec8d-e667-4413-bd11-455dbc68306a",
         "1ad06e0e-c012-4c1d-8092-7f9a583ed51c",
         "Sendley Sidney Bito"
        ],
        [
         "45df0d59-f038-4d89-8c91-057a2f221a39",
         "984adf57-bee6-453f-8c9c-759f244500a1",
         "Kolo Touré"
        ],
        [
         "22aa2332-36c8-4088-b1b0-ecffc5818890",
         "9303246a-bd3a-42bf-a04d-9f309dc28b0a",
         "Maor Melikson"
        ],
        [
         "fd6c7418-b4bf-41ce-b7fb-962d343502c2",
         "a4d9b25f-d0fc-463d-a414-6cfe8b697389",
         "Marc Wilson"
        ],
        [
         "ede3ee3f-01c2-4f13-931a-e1d135f819e0",
         "91666819-e7c6-4236-ae96-8f84d7385975",
         "Roberto Chen"
        ],
        [
         "f59d8cfa-a8bf-47e8-8117-3aa3a2ef822e",
         "c24e4f79-ee83-477d-9541-8795cd936936",
         "Ricardo Costa"
        ],
        [
         "0a78f35b-ea67-4fc5-8714-10df929e6fdb",
         "d0e2a2e6-0395-4559-948a-9f3b3504bbe9",
         "Nemanja Nikolić"
        ],
        [
         "2771608e-d285-42ea-9585-daadfc6897be",
         "1acb3b7b-2c09-4261-a2b4-7ca2b498cd90",
         "Andrey Galabinov"
        ],
        [
         "0ae03ef0-d29e-41bb-bb34-eb89c2861fc3",
         "03a31530-3d7c-4d0c-9c4e-275ab7a540e2",
         "Ragnar Klavan"
        ],
        [
         "d5209804-bf9f-4608-a0c0-85aa62f9750d",
         "232bb3ee-10bc-4506-b756-8ab4d54640ce",
         "Gabriel Achilier"
        ],
        [
         "770638a4-d69d-466b-8d3c-9c919f9d93f9",
         "95e60810-1925-4023-b14a-f2d002c2efdd",
         "Alexandre Martínez Palau"
        ],
        [
         "2a29daef-2073-4149-905a-ce46f6f98340",
         "91666819-e7c6-4236-ae96-8f84d7385975",
         "Yassine Meriah"
        ],
        [
         "3b0aae75-31c6-487f-9ad1-a106f280573e",
         "332d38df-e528-42be-851c-ef7f0c38f53d",
         "Mirlan Murzaev"
        ],
        [
         "8451cb91-2360-4422-b166-70789f64fca1",
         "7ed05dcb-fbbc-4dec-a385-080259fb4236",
         "Omari Sterling-James"
        ],
        [
         "dc4dfbed-d7e9-4a25-86a6-61b0709c20b5",
         "196325ae-deae-4f69-81b5-f9627611821e",
         "Sanad Al Warfali"
        ],
        [
         "9e25070e-2b3f-44c9-85a0-8dd6923642f2",
         "8ab18432-7a56-43ff-93d0-0574d1bc98bf",
         "Zhu Chenjie"
        ],
        [
         "fc154d4a-56eb-466a-8f1d-e45cc6046a57",
         "02755dbb-e8fe-4494-9146-6a37fd2b5eed",
         "Kristjan Asllani"
        ],
        [
         "b9369ae2-cbab-45f8-bb73-dcd3baf0c5ca",
         "f5092382-8336-46ff-b0dc-9a7c222f427d",
         "Nguyễn Đình Bắc"
        ],
        [
         "a274fcfd-2f88-4cd1-909b-864a21896598",
         "0f2dfad5-f6c4-4c8b-9932-0e4fdc4370bc",
         "Nene Dorgeles"
        ],
        [
         "8f094133-76ec-4d94-b844-116a951e1aa5",
         "c6feef46-4900-434f-b5e7-13fbfd485290",
         "Alfredo France"
        ],
        [
         "eeee214b-bb65-40fb-87b6-ec2ad4df38fa",
         "0c736982-3fdd-40b5-8b00-ed33a10924b0",
         "Segundo Luna"
        ],
        [
         "bf1e2846-053e-4a62-a065-48ce41261bd1",
         "254e3fd5-9a32-417d-bd97-4eb5756b4615",
         "Julinho"
        ],
        [
         "2dd2969d-79e3-47a7-9602-177c43d46148",
         "0c736982-3fdd-40b5-8b00-ed33a10924b0",
         "Mario Rodríguez"
        ],
        [
         "b1d7508f-99e5-4232-b8c1-254350f7cd52",
         "ff7ae0f8-81a5-49fa-9381-fb941411a01f",
         "Sukumar Samajpati"
        ],
        [
         "38ded869-1552-4c3c-804d-cdb0410ab550",
         "b8c69d88-f863-4932-97ed-15b4b7bb5a19",
         "August Starek"
        ],
        [
         "548c2fa8-302a-490c-9593-fabbe74c9535",
         "07fed875-08f4-4b06-9701-00707a92b93a",
         "Akuetteh Armah"
        ],
        [
         "e905f8d4-9889-45f4-901a-4f51106b36f7",
         "ebaa77b2-e03d-49a6-85a0-6574383c1e5d",
         "André Mbouta"
        ],
        [
         "32ae6e40-6276-4255-a861-f1d3d836cb2d",
         "77f35d94-0ab5-449e-a211-8dd623972ad7",
         "Georgios Delikaris"
        ],
        [
         "0064b66c-72ad-44bb-bc34-4653adec10fe",
         "57988d07-255b-4478-93fe-e95ba61fd587",
         "Frans Thijssen"
        ],
        [
         "39dab107-f0ad-498c-a32d-ead9ca64e0ac",
         "cc0838e8-37d2-4c9b-b0a0-be5783066e99",
         "Roman Ogaza"
        ],
        [
         "fb7ef4f5-5f5d-4606-b1ac-7c2df46c7e9d",
         "39865602-4968-4f11-a65d-275a52527833",
         "Choi Jae-pil"
        ],
        [
         "f5d75a04-423f-4e74-8f16-7c0d951cdd88",
         "b021bc1b-3c87-4a75-bac4-77bb2b36fa62",
         "Lee Jung-il"
        ],
        [
         "b96aff33-24d9-4171-9f1d-c03870446159",
         "39865602-4968-4f11-a65d-275a52527833",
         "Li Yong-Man"
        ],
        [
         "f6576a7e-60eb-4f23-a340-8baf4859f67f",
         "bfc6cd9a-6b48-4eee-a2ff-c578c2e62a48",
         "Rodion Cămătaru"
        ],
        [
         "2960a5e0-87b0-453e-9422-54ea287808ec",
         "d254c48c-8cfd-4826-a7cc-80e709e7cc82",
         "Oleh Protasov"
        ],
        [
         "b0723326-2a7e-4225-827d-3bdace309b80",
         "082311e6-2728-47b8-adcf-4d5efa098593",
         "Johnny Williams"
        ],
        [
         "8ebe015f-8cb8-4a21-ba21-ce477565332c",
         "9982f277-931f-48e8-b568-b0ebe749bbea",
         "Ulf Kirsten"
        ],
        [
         "d211b760-a37f-4e42-8827-36166cbdb3a8",
         "196325ae-deae-4f69-81b5-f9627611821e",
         "Fawzi El-Aisawi"
        ],
        [
         "342fb914-6d38-4f3b-a89d-ff82ffc3d274",
         "b021bc1b-3c87-4a75-bac4-77bb2b36fa62",
         "Hwang Sun-hong"
        ],
        [
         "1c7976c4-7ac6-4f46-89f8-d4cb6b47f303",
         "9982f277-931f-48e8-b568-b0ebe749bbea",
         "Matthias Sammer"
        ]
       ],
       "datasetInfos": [],
       "dbfsResultPath": null,
       "isJsonSchema": true,
       "metadata": {},
       "overflow": false,
       "plotOptions": {
        "customPlotOptions": {},
        "displayType": "table",
        "pivotAggregation": null,
        "pivotColumns": null,
        "xColumns": null,
        "yColumns": null
       },
       "removedWidgets": [],
       "schema": [
        {
         "metadata": "{}",
         "name": "uuid",
         "type": "\"string\""
        },
        {
         "metadata": "{}",
         "name": "team_uuid",
         "type": "\"string\""
        },
        {
         "metadata": "{}",
         "name": "scorer",
         "type": "\"string\""
        }
       ],
       "type": "table"
      }
     },
     "output_type": "display_data"
    }
   ],
   "source": [
    "dim_scorer_df = (\n",
    "    goalscorers_df.select(\"scorer\", \"team\")\n",
    "    .distinct()\n",
    "    .join(dim_team_df, on=goalscorers_df.team == dim_team_df.team)\n",
    "    .withColumnRenamed(\"uuid\", \"team_uuid\")\n",
    "    .withColumn(\"uuid\", f.expr(\"uuid()\"))\n",
    "    .select(\"uuid\", \"team_uuid\", \"scorer\")\n",
    ")\n",
    "display(dim_scorer_df.head(100))"
   ]
  },
  {
   "cell_type": "markdown",
   "metadata": {
    "application/vnd.databricks.v1+cell": {
     "cellMetadata": {
      "byteLimit": 2048000,
      "rowLimit": 10000
     },
     "inputWidgets": {},
     "nuid": "ce7728b2-6d34-43b5-97e6-a549d3c26c73",
     "showTitle": false,
     "title": ""
    }
   },
   "source": [
    "# Creation of the Fact Score Dataframe"
   ]
  },
  {
   "cell_type": "code",
   "execution_count": 0,
   "metadata": {
    "application/vnd.databricks.v1+cell": {
     "cellMetadata": {
      "byteLimit": 2048000,
      "rowLimit": 10000
     },
     "inputWidgets": {},
     "nuid": "fbb3280a-de93-4c38-9e7b-195d7ad4a992",
     "showTitle": false,
     "title": ""
    }
   },
   "outputs": [
    {
     "output_type": "display_data",
     "data": {
      "text/html": [
       "<style scoped>\n",
       "  .table-result-container {\n",
       "    max-height: 300px;\n",
       "    overflow: auto;\n",
       "  }\n",
       "  table, th, td {\n",
       "    border: 1px solid black;\n",
       "    border-collapse: collapse;\n",
       "  }\n",
       "  th, td {\n",
       "    padding: 5px;\n",
       "  }\n",
       "  th {\n",
       "    text-align: left;\n",
       "  }\n",
       "</style><div class='table-result-container'><table class='table-result'><thead style='background-color: white'><tr><th>uuid</th><th>scorer_uuid</th><th>match_uuid</th><th>minute</th><th>own_goal</th><th>penalty</th></tr></thead><tbody><tr><td>dc244af0-0932-402f-afc4-db07cacba5a1</td><td>21d7e45f-e70f-41e4-a9c4-27490cddebb3</td><td>9da40ec1-321d-4f08-a2dc-1ed40ffbea7b</td><td>5</td><td>false</td><td>false</td></tr><tr><td>a5e280e3-ad7d-46e2-a350-f7a5d3b96d40</td><td>c3b10066-4e02-44f3-ade3-52f31c2d4e16</td><td>2eb71864-1b81-466d-ac51-b432c62c6f5e</td><td>41</td><td>false</td><td>false</td></tr><tr><td>858bc2c6-77b5-45f5-8629-c4d4f85e5142</td><td>c3b10066-4e02-44f3-ade3-52f31c2d4e16</td><td>2eb71864-1b81-466d-ac51-b432c62c6f5e</td><td>56</td><td>false</td><td>false</td></tr><tr><td>65be48aa-f2f8-461d-8b25-699cdbbfecfd</td><td>c3b10066-4e02-44f3-ade3-52f31c2d4e16</td><td>2eb71864-1b81-466d-ac51-b432c62c6f5e</td><td>71</td><td>false</td><td>false</td></tr><tr><td>3f224c1b-edea-4d44-baea-ed128437af22</td><td>a1b0e58f-12ce-41b0-85ee-921e8ba469b0</td><td>c5ec1b35-3933-4d1d-9912-16f9646b07c8</td><td>35</td><td>false</td><td>false</td></tr><tr><td>bd4a1048-2800-4f74-99e5-a4410a295607</td><td>624b9285-17ea-49a6-a544-1434ea0d007e</td><td>92aaaaf9-02e0-44e2-a2f2-e23f751ebd1c</td><td>43</td><td>false</td><td>false</td></tr><tr><td>e64afa7b-546e-4244-8598-47691cf7af16</td><td>d385aee2-7347-422e-adc7-5b8d6921189b</td><td>e8b1b086-c20a-49b1-a5bb-204211850db4</td><td>29</td><td>false</td><td>false</td></tr><tr><td>7dc5eeeb-706c-4d7c-8404-07ca9ad630ec</td><td>7f4b4099-6ed6-4d8d-ae17-ae8265b789e6</td><td>0afcc8e8-745c-4e9e-a05c-94607860cf08</td><td>65</td><td>false</td><td>false</td></tr><tr><td>fd52abbb-85ca-46fc-be8f-3d87f2f4895e</td><td>1c18a965-45ea-4095-a4cb-e7785fad1669</td><td>e39c89a8-4f8b-4942-b037-ba1140ce7dd7</td><td>55</td><td>false</td><td>false</td></tr><tr><td>b31843a1-07a3-415f-ae4f-f46c36f3e5bf</td><td>1c18a965-45ea-4095-a4cb-e7785fad1669</td><td>e39c89a8-4f8b-4942-b037-ba1140ce7dd7</td><td>80</td><td>false</td><td>false</td></tr><tr><td>48569537-2956-4e40-a2ab-0e454df9c5e4</td><td>b0ba3226-1316-4494-a022-2726686396da</td><td>2eb71864-1b81-466d-ac51-b432c62c6f5e</td><td>88</td><td>false</td><td>false</td></tr><tr><td>ad937cc1-2449-4ae3-bb64-73f0d49d50d7</td><td>8ea168bf-f47d-4606-a03b-a623cb2be8b0</td><td>a0b9629b-1f25-4af4-87c5-6b4d426ac756</td><td>71</td><td>false</td><td>false</td></tr><tr><td>c0c683a8-4cfb-4b4b-9b59-22c3561567eb</td><td>821f4d70-9be6-4113-b727-7924aca70a71</td><td>1c9128f7-ef7b-4fd9-bd44-2e88cab34554</td><td>29</td><td>false</td><td>false</td></tr><tr><td>59d66449-6d41-4be4-aca2-73c5f5ee5030</td><td>ea421548-48a5-463f-a5bc-871ba028acc8</td><td>78b02ee6-d983-4682-bc68-b3664a1a6bfe</td><td>32</td><td>false</td><td>false</td></tr><tr><td>a0560951-7a28-443b-8390-54b2ec36c486</td><td>f7c42a68-27c8-4fd8-b598-5d78093f0136</td><td>7988c8b9-8066-468c-9899-103cae8f0214</td><td>2</td><td>false</td><td>false</td></tr><tr><td>ad76e115-c514-43d6-8b89-9446bbcbf908</td><td>f7c42a68-27c8-4fd8-b598-5d78093f0136</td><td>7988c8b9-8066-468c-9899-103cae8f0214</td><td>51</td><td>false</td><td>false</td></tr><tr><td>0dbe4038-ce68-44ff-ae24-5116b9ab29b5</td><td>f7c42a68-27c8-4fd8-b598-5d78093f0136</td><td>7988c8b9-8066-468c-9899-103cae8f0214</td><td>79</td><td>false</td><td>false</td></tr><tr><td>19c649b9-f84f-4796-a011-66c99d793795</td><td>f7c42a68-27c8-4fd8-b598-5d78093f0136</td><td>7988c8b9-8066-468c-9899-103cae8f0214</td><td>85</td><td>false</td><td>false</td></tr><tr><td>3bacc4ce-802a-4dab-b8a3-599c71e808db</td><td>0cd8af74-ce08-44ec-9d5e-824e503d9c00</td><td>316eae8c-4613-4186-9e8b-9a4c8c5698ce</td><td>66</td><td>false</td><td>false</td></tr><tr><td>e0b6b8f2-cdc1-4c5d-9dee-31350fc0bbdb</td><td>7fe3fc9a-95ae-470e-8a8c-100bf80edd7b</td><td>62b8277b-d1a1-4bb2-b0bc-4ecdbd8782a5</td><td>47</td><td>false</td><td>false</td></tr><tr><td>83c6d857-ac90-4f89-b278-59c52f85ecd4</td><td>fcb88874-079f-4908-98f4-ac15942fdd0f</td><td>9cce7baa-c4d9-43a7-882c-9dd22cac00cc</td><td>48</td><td>false</td><td>false</td></tr><tr><td>00991896-0f9e-4379-8c07-0b940ab31983</td><td>ce0972eb-11c7-40e1-940e-792260666958</td><td>a368ef70-e4ba-4f6c-bb59-cb103cd6a721</td><td>80</td><td>false</td><td>false</td></tr><tr><td>104065db-3abe-4d20-9dc5-b90e96061b49</td><td>c5b0abab-d5be-4e39-9533-e927cf883c48</td><td>aed5a9d3-3b36-4c80-9292-5a6c4d172b2f</td><td>90</td><td>false</td><td>false</td></tr><tr><td>4f86fa1d-1dfe-4162-b2f0-41400d598d77</td><td>0389bc5b-3f78-4958-8ea7-710494f37ffa</td><td>a3e62bf6-1d83-412c-bd10-69733296cf46</td><td>4</td><td>false</td><td>false</td></tr><tr><td>9841f8f7-491a-4bef-989d-fc2b91e90df0</td><td>2f8f8e87-83c4-4864-a2e5-f50498a8fd1b</td><td>04e9a6a9-049e-408e-8002-387f1c93df55</td><td>9</td><td>false</td><td>false</td></tr><tr><td>7c05c79c-48cb-43d1-97c3-7a573d4d5655</td><td>123eb441-aba0-46ae-9bd7-b2dcdbeed7af</td><td>a321d52d-b2ae-4e43-8ada-030b9f6f7c39</td><td>5</td><td>false</td><td>false</td></tr><tr><td>6f506120-601e-41a3-aafc-f6b79508a0d9</td><td>5eda1465-5659-4ce3-9d6f-d2ba036ad422</td><td>92aaaaf9-02e0-44e2-a2f2-e23f751ebd1c</td><td>49</td><td>false</td><td>false</td></tr><tr><td>36ab0b1c-9292-4ab4-a31f-16dc20dafa55</td><td>688849cd-e3bf-451d-9472-ef963b9f36eb</td><td>f26a1343-9613-4ec1-ac94-1b46c01d0881</td><td>86</td><td>false</td><td>false</td></tr><tr><td>19283ba8-2423-4dad-b284-fd9205dad28b</td><td>0e62ee03-a9b1-4ae6-9c04-1a49612acee7</td><td>9da40ec1-321d-4f08-a2dc-1ed40ffbea7b</td><td>74</td><td>false</td><td>false</td></tr><tr><td>e6ac29ac-b1c2-4b36-92b6-b350a0c9dd1a</td><td>989b8ba7-437e-426a-8ed9-fcceafed5f60</td><td>e1ccc326-2c73-49a8-b932-8d2c1f07cece</td><td>43</td><td>false</td><td>false</td></tr><tr><td>07a9de31-b8ff-491f-8be2-261452b1763b</td><td>8a94d6c9-172a-4a8d-ae36-6500360d5387</td><td>539827f0-78ed-4f33-a1ba-807118204818</td><td>53</td><td>false</td><td>false</td></tr><tr><td>ba78d269-418c-4e3e-ac62-7489edbc3daf</td><td>ad11cd4d-02ec-4164-ae66-29561b3ba40e</td><td>62b8277b-d1a1-4bb2-b0bc-4ecdbd8782a5</td><td>88</td><td>false</td><td>false</td></tr><tr><td>e653f8b5-8f89-424e-ae67-9d37a89307d6</td><td>6b70be0d-684b-4f21-907a-60f8a37abf03</td><td>0dcd3be6-0693-4dbd-9f14-ccb2b590017c</td><td>74</td><td>false</td><td>false</td></tr><tr><td>73edca32-623b-4ae4-8a4c-2b9b4ee175a4</td><td>3e86ff44-1fc5-4874-8ac0-92ac8e97f952</td><td>3b70892f-c2dc-4124-bb15-9a43efd3c38d</td><td>60</td><td>false</td><td>false</td></tr><tr><td>08d92ae2-d97f-4351-a5e3-66d1c5417da4</td><td>9d9d5fea-58ab-4d1f-8fa8-2f423506f6bf</td><td>d47af294-e9dd-490e-b9f6-0e5f9d79a9de</td><td>8</td><td>false</td><td>false</td></tr><tr><td>5f8b724d-e265-4e44-9398-79c438eb2e59</td><td>bd1c0a7c-3c8b-4ac3-8ead-643c420a05f2</td><td>ed2bce99-813b-4ddb-8e1d-275bc108cab9</td><td>61</td><td>false</td><td>false</td></tr><tr><td>4c7c9b52-3ee6-4f8d-b4d4-2b47091d79f7</td><td>5ac72535-3547-4b1d-bf2d-fe1699f0df52</td><td>710e2df4-d79e-4dc9-a1dc-760a88fbac71</td><td>27</td><td>false</td><td>true</td></tr><tr><td>6a852b1d-f53e-4244-8d6f-582f764cc018</td><td>5ac72535-3547-4b1d-bf2d-fe1699f0df52</td><td>710e2df4-d79e-4dc9-a1dc-760a88fbac71</td><td>90</td><td>false</td><td>false</td></tr><tr><td>e189bc9d-7fb6-48e7-976d-2ccc79a98033</td><td>cdbab6bb-4597-4a3f-98d1-89031ab17047</td><td>f6e13ced-63ed-455e-bec1-1d066b9ddab8</td><td>3</td><td>false</td><td>false</td></tr><tr><td>59294bee-1bbc-4ee5-a8de-78a2246d2a7f</td><td>3e486da0-98d4-4b40-8ee3-ed540617e12a</td><td>04e9a6a9-049e-408e-8002-387f1c93df55</td><td>47</td><td>false</td><td>false</td></tr><tr><td>e8904999-5264-49f2-b8ca-b57895aad358</td><td>537844f9-b680-42ae-b9d3-66a500ffc6e2</td><td>11c7b251-4cf0-4d6f-8fde-672b8f384300</td><td>86</td><td>false</td><td>false</td></tr><tr><td>f94e0f99-b777-4fea-895d-1b5d2b979560</td><td>a5c8a4a2-c39d-4cfa-880e-2651dc8a61fb</td><td>d1e75745-390c-4376-a42d-339989aaf917</td><td>17</td><td>false</td><td>false</td></tr><tr><td>afb6fcbb-46a2-453d-bb16-4e2d648ce634</td><td>a5c8a4a2-c39d-4cfa-880e-2651dc8a61fb</td><td>d1e75745-390c-4376-a42d-339989aaf917</td><td>51</td><td>false</td><td>false</td></tr><tr><td>bb366aa1-1a30-4e44-9718-8c20818f2ac9</td><td>a5c8a4a2-c39d-4cfa-880e-2651dc8a61fb</td><td>d1e75745-390c-4376-a42d-339989aaf917</td><td>67</td><td>false</td><td>false</td></tr><tr><td>063fcb89-c339-4ca4-b1c5-905419c33171</td><td>4a70bc45-a25d-4cc1-9914-b12f2b28f793</td><td>0afcc8e8-745c-4e9e-a05c-94607860cf08</td><td>5</td><td>false</td><td>false</td></tr><tr><td>76409d5b-840a-4fd8-85eb-3694c2ed0b1f</td><td>4a70bc45-a25d-4cc1-9914-b12f2b28f793</td><td>0afcc8e8-745c-4e9e-a05c-94607860cf08</td><td>33</td><td>false</td><td>false</td></tr><tr><td>98056be6-fa9e-4f3a-9e20-0518d7ee5eed</td><td>70b867d1-d658-4c55-a4de-3c932185da45</td><td>62b8277b-d1a1-4bb2-b0bc-4ecdbd8782a5</td><td>55</td><td>false</td><td>false</td></tr><tr><td>99918676-23b3-4665-b0e2-7e2b2eb52439</td><td>cd6ddef9-b4ec-4fe9-b26c-c5831a9621cb</td><td>522aeedc-267a-49a3-8925-74e575e86b9b</td><td>87</td><td>false</td><td>false</td></tr><tr><td>f1581efb-d076-4914-88ca-c0a7fa74ccda</td><td>1cca0d10-c26e-42fe-9b2e-e940ca09aca4</td><td>87f6c285-c456-49f8-8094-27c67cbe8640</td><td>85</td><td>false</td><td>false</td></tr><tr><td>b44a531a-c0f5-4626-87ab-cd04a409f876</td><td>71fca75e-2234-4c1b-b064-5c88c2f2e077</td><td>e1ccc326-2c73-49a8-b932-8d2c1f07cece</td><td>79</td><td>false</td><td>false</td></tr><tr><td>282f6015-be07-4113-b13b-1d09bc3ceeb1</td><td>1c03fce2-5795-4dcf-805b-1c1b26815a46</td><td>ce882369-7560-4ac0-8eb0-be2b96c94b0e</td><td>14</td><td>false</td><td>false</td></tr><tr><td>4d1dbc70-823a-4a6b-986f-a80288fa6032</td><td>02197fb5-0da2-40bb-9f02-0383fcc71205</td><td>d47af294-e9dd-490e-b9f6-0e5f9d79a9de</td><td>25</td><td>false</td><td>false</td></tr><tr><td>dbe02add-ffb2-47af-87d1-35b0ffd21934</td><td>e700eb75-867f-4569-8817-b0716cc37015</td><td>80de03cf-69e4-4e30-b6ba-d68bec1cef95</td><td>64</td><td>false</td><td>false</td></tr><tr><td>bd6c4ae5-2a1c-4a59-8988-34bb5c1ba507</td><td>7dbd053b-557b-4fe1-a50f-2796f9a3e325</td><td>b3bce923-24a4-420d-b165-63f87f47d48c</td><td>23</td><td>false</td><td>false</td></tr><tr><td>1dbe8b19-eb3e-400e-9830-8ac87e8bd576</td><td>b4552502-575a-4d5e-bbf1-5c6e9bb2d7dc</td><td>539827f0-78ed-4f33-a1ba-807118204818</td><td>87</td><td>true</td><td>false</td></tr><tr><td>c4ab4701-8851-4177-97a5-934ce50fa245</td><td>51a40d23-5a75-4216-b141-b8d5ef2f5c48</td><td>78b02ee6-d983-4682-bc68-b3664a1a6bfe</td><td>57</td><td>false</td><td>false</td></tr><tr><td>2aedbc14-8135-43c6-a935-5be9f8bf33c2</td><td>089ebf36-ced1-4c57-9695-a1b1e37d4e1d</td><td>275a0059-384d-49dd-8c43-91b4311e955a</td><td>15</td><td>false</td><td>false</td></tr><tr><td>8e110402-d75f-4870-8c18-9fa29df85ada</td><td>ce647441-d42b-45ce-a7d2-2815dbdb13ca</td><td>14078ce3-8521-46b2-b827-51e56c0bca06</td><td>8</td><td>false</td><td>false</td></tr><tr><td>a3e96ef3-e205-4cf9-b714-38873cc3b568</td><td>ce647441-d42b-45ce-a7d2-2815dbdb13ca</td><td>14078ce3-8521-46b2-b827-51e56c0bca06</td><td>90</td><td>false</td><td>false</td></tr><tr><td>b6a978a5-768f-4e7f-8642-61b124b50979</td><td>bd8364c8-2559-494b-8366-bfe36677cbf4</td><td>a321d52d-b2ae-4e43-8ada-030b9f6f7c39</td><td>62</td><td>false</td><td>true</td></tr><tr><td>b6d74dc2-fa94-4efe-bb0a-8e73b2e69953</td><td>906f357d-5edc-4383-acd8-3c3c41138eab</td><td>9c696dff-9211-4cf0-aac0-18d0c89b5c71</td><td>10</td><td>true</td><td>false</td></tr><tr><td>08d9873d-12f6-41a1-a074-4314e22d95b9</td><td>91833330-3fe4-4945-8b83-7c9a4e6942a1</td><td>a368ef70-e4ba-4f6c-bb59-cb103cd6a721</td><td>15</td><td>false</td><td>false</td></tr><tr><td>06c3601e-7dc0-4aa7-95c6-5ca648fb86c9</td><td>c1809eee-2091-4d72-b50f-b9a3782b3fad</td><td>9cce7baa-c4d9-43a7-882c-9dd22cac00cc</td><td>40</td><td>false</td><td>false</td></tr><tr><td>6ade023a-9a14-4d20-bff1-a61aecd942c4</td><td>23cc377b-a569-41d6-bc93-40034702fc18</td><td>564fd961-de5a-45a4-8780-2e25441e872e</td><td>54</td><td>false</td><td>false</td></tr><tr><td>6d6fb9e7-a270-4acb-b22d-f520eb952668</td><td>b5b09c4c-e99e-405d-a5fc-f132d281ed81</td><td>2bd1f793-9dfd-495e-b73b-a5060638a88a</td><td>59</td><td>false</td><td>false</td></tr><tr><td>2ab25a08-1989-4d96-873b-384d9ea9bf0c</td><td>adc0722b-3fb1-401a-8ce7-7616e8b8df7f</td><td>73873080-d89c-4f7d-83b0-063a80796af5</td><td>25</td><td>true</td><td>false</td></tr><tr><td>3ae03200-25c5-48ef-a4df-a522dc207917</td><td>b874ae1f-d2c7-46be-bc57-71a6a90b753d</td><td>9cce7baa-c4d9-43a7-882c-9dd22cac00cc</td><td>8</td><td>false</td><td>false</td></tr><tr><td>9da7d63f-5200-4cb8-b03e-3418d315d100</td><td>8f70c265-83cd-4180-bb14-f89f90e08ddf</td><td>3b70892f-c2dc-4124-bb15-9a43efd3c38d</td><td>28</td><td>false</td><td>false</td></tr><tr><td>4c56f957-4d5d-46b0-96dc-db514267b377</td><td>8f70c265-83cd-4180-bb14-f89f90e08ddf</td><td>3b70892f-c2dc-4124-bb15-9a43efd3c38d</td><td>57</td><td>false</td><td>false</td></tr><tr><td>f4779d15-c273-43ad-8496-60b0e654120c</td><td>491e49d6-7851-4e41-b813-eebd35683d78</td><td>3b70892f-c2dc-4124-bb15-9a43efd3c38d</td><td>26</td><td>false</td><td>false</td></tr><tr><td>834260b8-21dd-47aa-9c87-660e50749380</td><td>85b28f60-6c04-4bca-b410-951545b6cd35</td><td>98984ce2-f25e-48cf-ba7c-a102f1377e0b</td><td>56</td><td>false</td><td>false</td></tr><tr><td>b2ed2460-b7cd-49b6-b11b-8940c6ffbeb2</td><td>cc53dfc0-9fe3-437c-9b95-b6b1b559f4b8</td><td>78b02ee6-d983-4682-bc68-b3664a1a6bfe</td><td>37</td><td>false</td><td>false</td></tr><tr><td>2a0cab46-9311-46dc-a306-50b197229b09</td><td>4595df37-3e7d-4d36-8d00-fa3b6b17d29f</td><td>8a3b96ee-defc-4ef4-b7ea-74c518c82f3f</td><td>85</td><td>false</td><td>false</td></tr><tr><td>962da941-314b-4822-ab89-d2b950144d84</td><td>24886824-84a2-4882-8587-69a22c835c42</td><td>d1e75745-390c-4376-a42d-339989aaf917</td><td>33</td><td>false</td><td>false</td></tr><tr><td>d92af84f-f640-4cb3-ab84-f0e7d190877d</td><td>694f8ce1-b1b5-49d4-9343-3bebf944b723</td><td>e6836ba5-984a-4ad6-8077-4798fee20c9e</td><td>82</td><td>false</td><td>false</td></tr><tr><td>ff46eede-e5a2-4549-98d2-fa3820cb2b89</td><td>ed92e071-2b34-42ce-af0b-383a3e77b92b</td><td>a0b9629b-1f25-4af4-87c5-6b4d426ac756</td><td>13</td><td>false</td><td>false</td></tr><tr><td>473ecb61-6b6d-448c-9b8d-bada97f0f385</td><td>7d09538d-bd69-44b5-a4a0-c4a2b623e53a</td><td>b85e73f0-19de-4a19-b25b-d82621d46c25</td><td>3</td><td>false</td><td>false</td></tr><tr><td>4f4e4159-3915-460c-a6be-1255b1696808</td><td>7d09538d-bd69-44b5-a4a0-c4a2b623e53a</td><td>b85e73f0-19de-4a19-b25b-d82621d46c25</td><td>59</td><td>false</td><td>false</td></tr><tr><td>708c9f95-8e5d-410e-a5a6-c3a39016ab26</td><td>961199ad-62be-4e48-9b22-a4b342d8f36b</td><td>e1ccc326-2c73-49a8-b932-8d2c1f07cece</td><td>35</td><td>true</td><td>false</td></tr><tr><td>fc961cd3-6026-42ee-b3b0-f9448f565d92</td><td>353ec5ee-bb35-4602-bcb2-ce26d07d8cfb</td><td>6ffa59de-5de7-4fc6-a3e1-fea195f0b071</td><td>41</td><td>false</td><td>false</td></tr><tr><td>e483db2f-c0fd-484b-9d6a-f415c2692ac3</td><td>dd43f5d8-34fa-4028-96e6-8aa296038e6c</td><td>7988c8b9-8066-468c-9899-103cae8f0214</td><td>30</td><td>false</td><td>false</td></tr><tr><td>f5ab51bf-193f-4ad2-a5a0-c226df879e23</td><td>a5b6c5ad-1fd5-4275-b212-6b93ebb2ab5c</td><td>564fd961-de5a-45a4-8780-2e25441e872e</td><td>39</td><td>false</td><td>false</td></tr><tr><td>1728b8dc-169c-4493-8114-c632ab27fce3</td><td>984fe250-a5a8-4324-9afe-7fac389320b4</td><td>2abc9d6a-59e5-46e1-bc57-b293fddbeb5e</td><td>26</td><td>false</td><td>false</td></tr><tr><td>4785c838-63a5-44e7-9abd-3323b279afa2</td><td>ae831b09-9594-41e8-96aa-fcf817e98456</td><td>14078ce3-8521-46b2-b827-51e56c0bca06</td><td>28</td><td>false</td><td>false</td></tr><tr><td>9ec4672c-a6fb-42a2-8840-8ba2bafc08a9</td><td>506d155e-2ef2-4dff-881f-e4c507679d50</td><td>73873080-d89c-4f7d-83b0-063a80796af5</td><td>25</td><td>true</td><td>false</td></tr><tr><td>995632a1-8037-49ea-8b24-a5c302d48426</td><td>6c5c9f3f-0d91-4358-8400-e368b81868f9</td><td>e1ccc326-2c73-49a8-b932-8d2c1f07cece</td><td>35</td><td>true</td><td>false</td></tr><tr><td>e0300526-a366-4ce4-ab78-86f3e9cd06fe</td><td>56d0e50a-cb16-4037-b843-797d57a1295c</td><td>a0b9629b-1f25-4af4-87c5-6b4d426ac756</td><td>52</td><td>false</td><td>false</td></tr><tr><td>1691a26f-136d-4ea3-b3aa-ae070a777091</td><td>56d0e50a-cb16-4037-b843-797d57a1295c</td><td>a0b9629b-1f25-4af4-87c5-6b4d426ac756</td><td>89</td><td>false</td><td>false</td></tr><tr><td>51d18b3d-f55b-4fe1-9a2d-c37caf00c6dc</td><td>a6507987-1533-465c-b5af-2f801b40f428</td><td>8a3b96ee-defc-4ef4-b7ea-74c518c82f3f</td><td>57</td><td>false</td><td>false</td></tr><tr><td>2c9aaf32-4308-4206-8cb1-744b71efaf4f</td><td>b9c46ca7-26c2-43eb-a845-9b8319839cd8</td><td>e1ccc326-2c73-49a8-b932-8d2c1f07cece</td><td>45</td><td>false</td><td>false</td></tr><tr><td>c570f52a-1d6d-4ee6-9105-cb3c5c344381</td><td>dfabd9e6-1d1c-49c1-9069-972ea26c1bbf</td><td>b42e060b-6210-400e-b1d3-e6eb576cb62b</td><td>59</td><td>false</td><td>false</td></tr><tr><td>31248610-03f1-4b58-be63-f10d0bc5635e</td><td>9bd5908b-95cc-494e-baa3-86f65826b803</td><td>522aeedc-267a-49a3-8925-74e575e86b9b</td><td>42</td><td>false</td><td>false</td></tr><tr><td>98226c2a-5f29-4a16-a673-da76bb000731</td><td>a9acef9a-cb4f-4a60-b686-8de5ea95a9cb</td><td>93a76a11-7083-4e57-b925-28f684aff17e</td><td>90</td><td>false</td><td>false</td></tr><tr><td>4d284f10-0bb9-40e2-aa42-d72cf951a03e</td><td>39b68fab-8e00-4459-a238-7d49cfb69fdd</td><td>b42e060b-6210-400e-b1d3-e6eb576cb62b</td><td>80</td><td>false</td><td>false</td></tr><tr><td>e2f59209-0456-4593-926c-10a33abc1513</td><td>7bdbb54a-b3b4-4d6f-b05a-45b7183890d5</td><td>7988c8b9-8066-468c-9899-103cae8f0214</td><td>74</td><td>false</td><td>false</td></tr><tr><td>c572fd35-6f41-489e-9998-0466153b6173</td><td>7bdbb54a-b3b4-4d6f-b05a-45b7183890d5</td><td>7988c8b9-8066-468c-9899-103cae8f0214</td><td>87</td><td>false</td><td>false</td></tr><tr><td>e7f8c017-4e69-43e2-9cb1-e1986f678f8c</td><td>102382de-23ee-4c41-9802-5cba7f8a3324</td><td>e6836ba5-984a-4ad6-8077-4798fee20c9e</td><td>63</td><td>false</td><td>false</td></tr><tr><td>93f5a071-8684-42f3-bd06-f2f2dac1c062</td><td>4e3f9a1b-48e4-434b-8eaf-3489a5c15b12</td><td>ab765b33-efc2-496e-a4b3-257ed248f56e</td><td>67</td><td>false</td><td>false</td></tr><tr><td>736a4a5a-838b-4b4b-a590-0e3268c83374</td><td>4e3f9a1b-48e4-434b-8eaf-3489a5c15b12</td><td>ab765b33-efc2-496e-a4b3-257ed248f56e</td><td>81</td><td>false</td><td>false</td></tr><tr><td>b77a0c6b-298f-45fa-a082-9f0199d2d341</td><td>c816a265-4294-4936-a117-7fe7d3976f3f</td><td>98984ce2-f25e-48cf-ba7c-a102f1377e0b</td><td>31</td><td>false</td><td>false</td></tr></tbody></table></div>"
      ]
     },
     "metadata": {
      "application/vnd.databricks.v1+output": {
       "addedWidgets": {},
       "aggData": [],
       "aggError": "",
       "aggOverflow": false,
       "aggSchema": [],
       "aggSeriesLimitReached": false,
       "aggType": "",
       "arguments": {},
       "columnCustomDisplayInfos": {},
       "data": [
        [
         "dc244af0-0932-402f-afc4-db07cacba5a1",
         "21d7e45f-e70f-41e4-a9c4-27490cddebb3",
         "9da40ec1-321d-4f08-a2dc-1ed40ffbea7b",
         5,
         false,
         false
        ],
        [
         "a5e280e3-ad7d-46e2-a350-f7a5d3b96d40",
         "c3b10066-4e02-44f3-ade3-52f31c2d4e16",
         "2eb71864-1b81-466d-ac51-b432c62c6f5e",
         41,
         false,
         false
        ],
        [
         "858bc2c6-77b5-45f5-8629-c4d4f85e5142",
         "c3b10066-4e02-44f3-ade3-52f31c2d4e16",
         "2eb71864-1b81-466d-ac51-b432c62c6f5e",
         56,
         false,
         false
        ],
        [
         "65be48aa-f2f8-461d-8b25-699cdbbfecfd",
         "c3b10066-4e02-44f3-ade3-52f31c2d4e16",
         "2eb71864-1b81-466d-ac51-b432c62c6f5e",
         71,
         false,
         false
        ],
        [
         "3f224c1b-edea-4d44-baea-ed128437af22",
         "a1b0e58f-12ce-41b0-85ee-921e8ba469b0",
         "c5ec1b35-3933-4d1d-9912-16f9646b07c8",
         35,
         false,
         false
        ],
        [
         "bd4a1048-2800-4f74-99e5-a4410a295607",
         "624b9285-17ea-49a6-a544-1434ea0d007e",
         "92aaaaf9-02e0-44e2-a2f2-e23f751ebd1c",
         43,
         false,
         false
        ],
        [
         "e64afa7b-546e-4244-8598-47691cf7af16",
         "d385aee2-7347-422e-adc7-5b8d6921189b",
         "e8b1b086-c20a-49b1-a5bb-204211850db4",
         29,
         false,
         false
        ],
        [
         "7dc5eeeb-706c-4d7c-8404-07ca9ad630ec",
         "7f4b4099-6ed6-4d8d-ae17-ae8265b789e6",
         "0afcc8e8-745c-4e9e-a05c-94607860cf08",
         65,
         false,
         false
        ],
        [
         "fd52abbb-85ca-46fc-be8f-3d87f2f4895e",
         "1c18a965-45ea-4095-a4cb-e7785fad1669",
         "e39c89a8-4f8b-4942-b037-ba1140ce7dd7",
         55,
         false,
         false
        ],
        [
         "b31843a1-07a3-415f-ae4f-f46c36f3e5bf",
         "1c18a965-45ea-4095-a4cb-e7785fad1669",
         "e39c89a8-4f8b-4942-b037-ba1140ce7dd7",
         80,
         false,
         false
        ],
        [
         "48569537-2956-4e40-a2ab-0e454df9c5e4",
         "b0ba3226-1316-4494-a022-2726686396da",
         "2eb71864-1b81-466d-ac51-b432c62c6f5e",
         88,
         false,
         false
        ],
        [
         "ad937cc1-2449-4ae3-bb64-73f0d49d50d7",
         "8ea168bf-f47d-4606-a03b-a623cb2be8b0",
         "a0b9629b-1f25-4af4-87c5-6b4d426ac756",
         71,
         false,
         false
        ],
        [
         "c0c683a8-4cfb-4b4b-9b59-22c3561567eb",
         "821f4d70-9be6-4113-b727-7924aca70a71",
         "1c9128f7-ef7b-4fd9-bd44-2e88cab34554",
         29,
         false,
         false
        ],
        [
         "59d66449-6d41-4be4-aca2-73c5f5ee5030",
         "ea421548-48a5-463f-a5bc-871ba028acc8",
         "78b02ee6-d983-4682-bc68-b3664a1a6bfe",
         32,
         false,
         false
        ],
        [
         "a0560951-7a28-443b-8390-54b2ec36c486",
         "f7c42a68-27c8-4fd8-b598-5d78093f0136",
         "7988c8b9-8066-468c-9899-103cae8f0214",
         2,
         false,
         false
        ],
        [
         "ad76e115-c514-43d6-8b89-9446bbcbf908",
         "f7c42a68-27c8-4fd8-b598-5d78093f0136",
         "7988c8b9-8066-468c-9899-103cae8f0214",
         51,
         false,
         false
        ],
        [
         "0dbe4038-ce68-44ff-ae24-5116b9ab29b5",
         "f7c42a68-27c8-4fd8-b598-5d78093f0136",
         "7988c8b9-8066-468c-9899-103cae8f0214",
         79,
         false,
         false
        ],
        [
         "19c649b9-f84f-4796-a011-66c99d793795",
         "f7c42a68-27c8-4fd8-b598-5d78093f0136",
         "7988c8b9-8066-468c-9899-103cae8f0214",
         85,
         false,
         false
        ],
        [
         "3bacc4ce-802a-4dab-b8a3-599c71e808db",
         "0cd8af74-ce08-44ec-9d5e-824e503d9c00",
         "316eae8c-4613-4186-9e8b-9a4c8c5698ce",
         66,
         false,
         false
        ],
        [
         "e0b6b8f2-cdc1-4c5d-9dee-31350fc0bbdb",
         "7fe3fc9a-95ae-470e-8a8c-100bf80edd7b",
         "62b8277b-d1a1-4bb2-b0bc-4ecdbd8782a5",
         47,
         false,
         false
        ],
        [
         "83c6d857-ac90-4f89-b278-59c52f85ecd4",
         "fcb88874-079f-4908-98f4-ac15942fdd0f",
         "9cce7baa-c4d9-43a7-882c-9dd22cac00cc",
         48,
         false,
         false
        ],
        [
         "00991896-0f9e-4379-8c07-0b940ab31983",
         "ce0972eb-11c7-40e1-940e-792260666958",
         "a368ef70-e4ba-4f6c-bb59-cb103cd6a721",
         80,
         false,
         false
        ],
        [
         "104065db-3abe-4d20-9dc5-b90e96061b49",
         "c5b0abab-d5be-4e39-9533-e927cf883c48",
         "aed5a9d3-3b36-4c80-9292-5a6c4d172b2f",
         90,
         false,
         false
        ],
        [
         "4f86fa1d-1dfe-4162-b2f0-41400d598d77",
         "0389bc5b-3f78-4958-8ea7-710494f37ffa",
         "a3e62bf6-1d83-412c-bd10-69733296cf46",
         4,
         false,
         false
        ],
        [
         "9841f8f7-491a-4bef-989d-fc2b91e90df0",
         "2f8f8e87-83c4-4864-a2e5-f50498a8fd1b",
         "04e9a6a9-049e-408e-8002-387f1c93df55",
         9,
         false,
         false
        ],
        [
         "7c05c79c-48cb-43d1-97c3-7a573d4d5655",
         "123eb441-aba0-46ae-9bd7-b2dcdbeed7af",
         "a321d52d-b2ae-4e43-8ada-030b9f6f7c39",
         5,
         false,
         false
        ],
        [
         "6f506120-601e-41a3-aafc-f6b79508a0d9",
         "5eda1465-5659-4ce3-9d6f-d2ba036ad422",
         "92aaaaf9-02e0-44e2-a2f2-e23f751ebd1c",
         49,
         false,
         false
        ],
        [
         "36ab0b1c-9292-4ab4-a31f-16dc20dafa55",
         "688849cd-e3bf-451d-9472-ef963b9f36eb",
         "f26a1343-9613-4ec1-ac94-1b46c01d0881",
         86,
         false,
         false
        ],
        [
         "19283ba8-2423-4dad-b284-fd9205dad28b",
         "0e62ee03-a9b1-4ae6-9c04-1a49612acee7",
         "9da40ec1-321d-4f08-a2dc-1ed40ffbea7b",
         74,
         false,
         false
        ],
        [
         "e6ac29ac-b1c2-4b36-92b6-b350a0c9dd1a",
         "989b8ba7-437e-426a-8ed9-fcceafed5f60",
         "e1ccc326-2c73-49a8-b932-8d2c1f07cece",
         43,
         false,
         false
        ],
        [
         "07a9de31-b8ff-491f-8be2-261452b1763b",
         "8a94d6c9-172a-4a8d-ae36-6500360d5387",
         "539827f0-78ed-4f33-a1ba-807118204818",
         53,
         false,
         false
        ],
        [
         "ba78d269-418c-4e3e-ac62-7489edbc3daf",
         "ad11cd4d-02ec-4164-ae66-29561b3ba40e",
         "62b8277b-d1a1-4bb2-b0bc-4ecdbd8782a5",
         88,
         false,
         false
        ],
        [
         "e653f8b5-8f89-424e-ae67-9d37a89307d6",
         "6b70be0d-684b-4f21-907a-60f8a37abf03",
         "0dcd3be6-0693-4dbd-9f14-ccb2b590017c",
         74,
         false,
         false
        ],
        [
         "73edca32-623b-4ae4-8a4c-2b9b4ee175a4",
         "3e86ff44-1fc5-4874-8ac0-92ac8e97f952",
         "3b70892f-c2dc-4124-bb15-9a43efd3c38d",
         60,
         false,
         false
        ],
        [
         "08d92ae2-d97f-4351-a5e3-66d1c5417da4",
         "9d9d5fea-58ab-4d1f-8fa8-2f423506f6bf",
         "d47af294-e9dd-490e-b9f6-0e5f9d79a9de",
         8,
         false,
         false
        ],
        [
         "5f8b724d-e265-4e44-9398-79c438eb2e59",
         "bd1c0a7c-3c8b-4ac3-8ead-643c420a05f2",
         "ed2bce99-813b-4ddb-8e1d-275bc108cab9",
         61,
         false,
         false
        ],
        [
         "4c7c9b52-3ee6-4f8d-b4d4-2b47091d79f7",
         "5ac72535-3547-4b1d-bf2d-fe1699f0df52",
         "710e2df4-d79e-4dc9-a1dc-760a88fbac71",
         27,
         false,
         true
        ],
        [
         "6a852b1d-f53e-4244-8d6f-582f764cc018",
         "5ac72535-3547-4b1d-bf2d-fe1699f0df52",
         "710e2df4-d79e-4dc9-a1dc-760a88fbac71",
         90,
         false,
         false
        ],
        [
         "e189bc9d-7fb6-48e7-976d-2ccc79a98033",
         "cdbab6bb-4597-4a3f-98d1-89031ab17047",
         "f6e13ced-63ed-455e-bec1-1d066b9ddab8",
         3,
         false,
         false
        ],
        [
         "59294bee-1bbc-4ee5-a8de-78a2246d2a7f",
         "3e486da0-98d4-4b40-8ee3-ed540617e12a",
         "04e9a6a9-049e-408e-8002-387f1c93df55",
         47,
         false,
         false
        ],
        [
         "e8904999-5264-49f2-b8ca-b57895aad358",
         "537844f9-b680-42ae-b9d3-66a500ffc6e2",
         "11c7b251-4cf0-4d6f-8fde-672b8f384300",
         86,
         false,
         false
        ],
        [
         "f94e0f99-b777-4fea-895d-1b5d2b979560",
         "a5c8a4a2-c39d-4cfa-880e-2651dc8a61fb",
         "d1e75745-390c-4376-a42d-339989aaf917",
         17,
         false,
         false
        ],
        [
         "afb6fcbb-46a2-453d-bb16-4e2d648ce634",
         "a5c8a4a2-c39d-4cfa-880e-2651dc8a61fb",
         "d1e75745-390c-4376-a42d-339989aaf917",
         51,
         false,
         false
        ],
        [
         "bb366aa1-1a30-4e44-9718-8c20818f2ac9",
         "a5c8a4a2-c39d-4cfa-880e-2651dc8a61fb",
         "d1e75745-390c-4376-a42d-339989aaf917",
         67,
         false,
         false
        ],
        [
         "063fcb89-c339-4ca4-b1c5-905419c33171",
         "4a70bc45-a25d-4cc1-9914-b12f2b28f793",
         "0afcc8e8-745c-4e9e-a05c-94607860cf08",
         5,
         false,
         false
        ],
        [
         "76409d5b-840a-4fd8-85eb-3694c2ed0b1f",
         "4a70bc45-a25d-4cc1-9914-b12f2b28f793",
         "0afcc8e8-745c-4e9e-a05c-94607860cf08",
         33,
         false,
         false
        ],
        [
         "98056be6-fa9e-4f3a-9e20-0518d7ee5eed",
         "70b867d1-d658-4c55-a4de-3c932185da45",
         "62b8277b-d1a1-4bb2-b0bc-4ecdbd8782a5",
         55,
         false,
         false
        ],
        [
         "99918676-23b3-4665-b0e2-7e2b2eb52439",
         "cd6ddef9-b4ec-4fe9-b26c-c5831a9621cb",
         "522aeedc-267a-49a3-8925-74e575e86b9b",
         87,
         false,
         false
        ],
        [
         "f1581efb-d076-4914-88ca-c0a7fa74ccda",
         "1cca0d10-c26e-42fe-9b2e-e940ca09aca4",
         "87f6c285-c456-49f8-8094-27c67cbe8640",
         85,
         false,
         false
        ],
        [
         "b44a531a-c0f5-4626-87ab-cd04a409f876",
         "71fca75e-2234-4c1b-b064-5c88c2f2e077",
         "e1ccc326-2c73-49a8-b932-8d2c1f07cece",
         79,
         false,
         false
        ],
        [
         "282f6015-be07-4113-b13b-1d09bc3ceeb1",
         "1c03fce2-5795-4dcf-805b-1c1b26815a46",
         "ce882369-7560-4ac0-8eb0-be2b96c94b0e",
         14,
         false,
         false
        ],
        [
         "4d1dbc70-823a-4a6b-986f-a80288fa6032",
         "02197fb5-0da2-40bb-9f02-0383fcc71205",
         "d47af294-e9dd-490e-b9f6-0e5f9d79a9de",
         25,
         false,
         false
        ],
        [
         "dbe02add-ffb2-47af-87d1-35b0ffd21934",
         "e700eb75-867f-4569-8817-b0716cc37015",
         "80de03cf-69e4-4e30-b6ba-d68bec1cef95",
         64,
         false,
         false
        ],
        [
         "bd6c4ae5-2a1c-4a59-8988-34bb5c1ba507",
         "7dbd053b-557b-4fe1-a50f-2796f9a3e325",
         "b3bce923-24a4-420d-b165-63f87f47d48c",
         23,
         false,
         false
        ],
        [
         "1dbe8b19-eb3e-400e-9830-8ac87e8bd576",
         "b4552502-575a-4d5e-bbf1-5c6e9bb2d7dc",
         "539827f0-78ed-4f33-a1ba-807118204818",
         87,
         true,
         false
        ],
        [
         "c4ab4701-8851-4177-97a5-934ce50fa245",
         "51a40d23-5a75-4216-b141-b8d5ef2f5c48",
         "78b02ee6-d983-4682-bc68-b3664a1a6bfe",
         57,
         false,
         false
        ],
        [
         "2aedbc14-8135-43c6-a935-5be9f8bf33c2",
         "089ebf36-ced1-4c57-9695-a1b1e37d4e1d",
         "275a0059-384d-49dd-8c43-91b4311e955a",
         15,
         false,
         false
        ],
        [
         "8e110402-d75f-4870-8c18-9fa29df85ada",
         "ce647441-d42b-45ce-a7d2-2815dbdb13ca",
         "14078ce3-8521-46b2-b827-51e56c0bca06",
         8,
         false,
         false
        ],
        [
         "a3e96ef3-e205-4cf9-b714-38873cc3b568",
         "ce647441-d42b-45ce-a7d2-2815dbdb13ca",
         "14078ce3-8521-46b2-b827-51e56c0bca06",
         90,
         false,
         false
        ],
        [
         "b6a978a5-768f-4e7f-8642-61b124b50979",
         "bd8364c8-2559-494b-8366-bfe36677cbf4",
         "a321d52d-b2ae-4e43-8ada-030b9f6f7c39",
         62,
         false,
         true
        ],
        [
         "b6d74dc2-fa94-4efe-bb0a-8e73b2e69953",
         "906f357d-5edc-4383-acd8-3c3c41138eab",
         "9c696dff-9211-4cf0-aac0-18d0c89b5c71",
         10,
         true,
         false
        ],
        [
         "08d9873d-12f6-41a1-a074-4314e22d95b9",
         "91833330-3fe4-4945-8b83-7c9a4e6942a1",
         "a368ef70-e4ba-4f6c-bb59-cb103cd6a721",
         15,
         false,
         false
        ],
        [
         "06c3601e-7dc0-4aa7-95c6-5ca648fb86c9",
         "c1809eee-2091-4d72-b50f-b9a3782b3fad",
         "9cce7baa-c4d9-43a7-882c-9dd22cac00cc",
         40,
         false,
         false
        ],
        [
         "6ade023a-9a14-4d20-bff1-a61aecd942c4",
         "23cc377b-a569-41d6-bc93-40034702fc18",
         "564fd961-de5a-45a4-8780-2e25441e872e",
         54,
         false,
         false
        ],
        [
         "6d6fb9e7-a270-4acb-b22d-f520eb952668",
         "b5b09c4c-e99e-405d-a5fc-f132d281ed81",
         "2bd1f793-9dfd-495e-b73b-a5060638a88a",
         59,
         false,
         false
        ],
        [
         "2ab25a08-1989-4d96-873b-384d9ea9bf0c",
         "adc0722b-3fb1-401a-8ce7-7616e8b8df7f",
         "73873080-d89c-4f7d-83b0-063a80796af5",
         25,
         true,
         false
        ],
        [
         "3ae03200-25c5-48ef-a4df-a522dc207917",
         "b874ae1f-d2c7-46be-bc57-71a6a90b753d",
         "9cce7baa-c4d9-43a7-882c-9dd22cac00cc",
         8,
         false,
         false
        ],
        [
         "9da7d63f-5200-4cb8-b03e-3418d315d100",
         "8f70c265-83cd-4180-bb14-f89f90e08ddf",
         "3b70892f-c2dc-4124-bb15-9a43efd3c38d",
         28,
         false,
         false
        ],
        [
         "4c56f957-4d5d-46b0-96dc-db514267b377",
         "8f70c265-83cd-4180-bb14-f89f90e08ddf",
         "3b70892f-c2dc-4124-bb15-9a43efd3c38d",
         57,
         false,
         false
        ],
        [
         "f4779d15-c273-43ad-8496-60b0e654120c",
         "491e49d6-7851-4e41-b813-eebd35683d78",
         "3b70892f-c2dc-4124-bb15-9a43efd3c38d",
         26,
         false,
         false
        ],
        [
         "834260b8-21dd-47aa-9c87-660e50749380",
         "85b28f60-6c04-4bca-b410-951545b6cd35",
         "98984ce2-f25e-48cf-ba7c-a102f1377e0b",
         56,
         false,
         false
        ],
        [
         "b2ed2460-b7cd-49b6-b11b-8940c6ffbeb2",
         "cc53dfc0-9fe3-437c-9b95-b6b1b559f4b8",
         "78b02ee6-d983-4682-bc68-b3664a1a6bfe",
         37,
         false,
         false
        ],
        [
         "2a0cab46-9311-46dc-a306-50b197229b09",
         "4595df37-3e7d-4d36-8d00-fa3b6b17d29f",
         "8a3b96ee-defc-4ef4-b7ea-74c518c82f3f",
         85,
         false,
         false
        ],
        [
         "962da941-314b-4822-ab89-d2b950144d84",
         "24886824-84a2-4882-8587-69a22c835c42",
         "d1e75745-390c-4376-a42d-339989aaf917",
         33,
         false,
         false
        ],
        [
         "d92af84f-f640-4cb3-ab84-f0e7d190877d",
         "694f8ce1-b1b5-49d4-9343-3bebf944b723",
         "e6836ba5-984a-4ad6-8077-4798fee20c9e",
         82,
         false,
         false
        ],
        [
         "ff46eede-e5a2-4549-98d2-fa3820cb2b89",
         "ed92e071-2b34-42ce-af0b-383a3e77b92b",
         "a0b9629b-1f25-4af4-87c5-6b4d426ac756",
         13,
         false,
         false
        ],
        [
         "473ecb61-6b6d-448c-9b8d-bada97f0f385",
         "7d09538d-bd69-44b5-a4a0-c4a2b623e53a",
         "b85e73f0-19de-4a19-b25b-d82621d46c25",
         3,
         false,
         false
        ],
        [
         "4f4e4159-3915-460c-a6be-1255b1696808",
         "7d09538d-bd69-44b5-a4a0-c4a2b623e53a",
         "b85e73f0-19de-4a19-b25b-d82621d46c25",
         59,
         false,
         false
        ],
        [
         "708c9f95-8e5d-410e-a5a6-c3a39016ab26",
         "961199ad-62be-4e48-9b22-a4b342d8f36b",
         "e1ccc326-2c73-49a8-b932-8d2c1f07cece",
         35,
         true,
         false
        ],
        [
         "fc961cd3-6026-42ee-b3b0-f9448f565d92",
         "353ec5ee-bb35-4602-bcb2-ce26d07d8cfb",
         "6ffa59de-5de7-4fc6-a3e1-fea195f0b071",
         41,
         false,
         false
        ],
        [
         "e483db2f-c0fd-484b-9d6a-f415c2692ac3",
         "dd43f5d8-34fa-4028-96e6-8aa296038e6c",
         "7988c8b9-8066-468c-9899-103cae8f0214",
         30,
         false,
         false
        ],
        [
         "f5ab51bf-193f-4ad2-a5a0-c226df879e23",
         "a5b6c5ad-1fd5-4275-b212-6b93ebb2ab5c",
         "564fd961-de5a-45a4-8780-2e25441e872e",
         39,
         false,
         false
        ],
        [
         "1728b8dc-169c-4493-8114-c632ab27fce3",
         "984fe250-a5a8-4324-9afe-7fac389320b4",
         "2abc9d6a-59e5-46e1-bc57-b293fddbeb5e",
         26,
         false,
         false
        ],
        [
         "4785c838-63a5-44e7-9abd-3323b279afa2",
         "ae831b09-9594-41e8-96aa-fcf817e98456",
         "14078ce3-8521-46b2-b827-51e56c0bca06",
         28,
         false,
         false
        ],
        [
         "9ec4672c-a6fb-42a2-8840-8ba2bafc08a9",
         "506d155e-2ef2-4dff-881f-e4c507679d50",
         "73873080-d89c-4f7d-83b0-063a80796af5",
         25,
         true,
         false
        ],
        [
         "995632a1-8037-49ea-8b24-a5c302d48426",
         "6c5c9f3f-0d91-4358-8400-e368b81868f9",
         "e1ccc326-2c73-49a8-b932-8d2c1f07cece",
         35,
         true,
         false
        ],
        [
         "e0300526-a366-4ce4-ab78-86f3e9cd06fe",
         "56d0e50a-cb16-4037-b843-797d57a1295c",
         "a0b9629b-1f25-4af4-87c5-6b4d426ac756",
         52,
         false,
         false
        ],
        [
         "1691a26f-136d-4ea3-b3aa-ae070a777091",
         "56d0e50a-cb16-4037-b843-797d57a1295c",
         "a0b9629b-1f25-4af4-87c5-6b4d426ac756",
         89,
         false,
         false
        ],
        [
         "51d18b3d-f55b-4fe1-9a2d-c37caf00c6dc",
         "a6507987-1533-465c-b5af-2f801b40f428",
         "8a3b96ee-defc-4ef4-b7ea-74c518c82f3f",
         57,
         false,
         false
        ],
        [
         "2c9aaf32-4308-4206-8cb1-744b71efaf4f",
         "b9c46ca7-26c2-43eb-a845-9b8319839cd8",
         "e1ccc326-2c73-49a8-b932-8d2c1f07cece",
         45,
         false,
         false
        ],
        [
         "c570f52a-1d6d-4ee6-9105-cb3c5c344381",
         "dfabd9e6-1d1c-49c1-9069-972ea26c1bbf",
         "b42e060b-6210-400e-b1d3-e6eb576cb62b",
         59,
         false,
         false
        ],
        [
         "31248610-03f1-4b58-be63-f10d0bc5635e",
         "9bd5908b-95cc-494e-baa3-86f65826b803",
         "522aeedc-267a-49a3-8925-74e575e86b9b",
         42,
         false,
         false
        ],
        [
         "98226c2a-5f29-4a16-a673-da76bb000731",
         "a9acef9a-cb4f-4a60-b686-8de5ea95a9cb",
         "93a76a11-7083-4e57-b925-28f684aff17e",
         90,
         false,
         false
        ],
        [
         "4d284f10-0bb9-40e2-aa42-d72cf951a03e",
         "39b68fab-8e00-4459-a238-7d49cfb69fdd",
         "b42e060b-6210-400e-b1d3-e6eb576cb62b",
         80,
         false,
         false
        ],
        [
         "e2f59209-0456-4593-926c-10a33abc1513",
         "7bdbb54a-b3b4-4d6f-b05a-45b7183890d5",
         "7988c8b9-8066-468c-9899-103cae8f0214",
         74,
         false,
         false
        ],
        [
         "c572fd35-6f41-489e-9998-0466153b6173",
         "7bdbb54a-b3b4-4d6f-b05a-45b7183890d5",
         "7988c8b9-8066-468c-9899-103cae8f0214",
         87,
         false,
         false
        ],
        [
         "e7f8c017-4e69-43e2-9cb1-e1986f678f8c",
         "102382de-23ee-4c41-9802-5cba7f8a3324",
         "e6836ba5-984a-4ad6-8077-4798fee20c9e",
         63,
         false,
         false
        ],
        [
         "93f5a071-8684-42f3-bd06-f2f2dac1c062",
         "4e3f9a1b-48e4-434b-8eaf-3489a5c15b12",
         "ab765b33-efc2-496e-a4b3-257ed248f56e",
         67,
         false,
         false
        ],
        [
         "736a4a5a-838b-4b4b-a590-0e3268c83374",
         "4e3f9a1b-48e4-434b-8eaf-3489a5c15b12",
         "ab765b33-efc2-496e-a4b3-257ed248f56e",
         81,
         false,
         false
        ],
        [
         "b77a0c6b-298f-45fa-a082-9f0199d2d341",
         "c816a265-4294-4936-a117-7fe7d3976f3f",
         "98984ce2-f25e-48cf-ba7c-a102f1377e0b",
         31,
         false,
         false
        ]
       ],
       "datasetInfos": [],
       "dbfsResultPath": null,
       "isJsonSchema": true,
       "metadata": {},
       "overflow": false,
       "plotOptions": {
        "customPlotOptions": {},
        "displayType": "table",
        "pivotAggregation": null,
        "pivotColumns": null,
        "xColumns": null,
        "yColumns": null
       },
       "removedWidgets": [],
       "schema": [
        {
         "metadata": "{}",
         "name": "uuid",
         "type": "\"string\""
        },
        {
         "metadata": "{}",
         "name": "scorer_uuid",
         "type": "\"string\""
        },
        {
         "metadata": "{}",
         "name": "match_uuid",
         "type": "\"string\""
        },
        {
         "metadata": "{}",
         "name": "minute",
         "type": "\"long\""
        },
        {
         "metadata": "{}",
         "name": "own_goal",
         "type": "\"boolean\""
        },
        {
         "metadata": "{}",
         "name": "penalty",
         "type": "\"boolean\""
        }
       ],
       "type": "table"
      }
     },
     "output_type": "display_data"
    }
   ],
   "source": [
    "fact_score_df = (\n",
    "    goalscorers_df.join(dim_team_df, on=goalscorers_df.team == dim_team_df.team)\n",
    "    .withColumnRenamed(\"uuid\", \"team_uuid\")\n",
    "    .join(\n",
    "        dim_scorer_df,\n",
    "        on=[\n",
    "            goalscorers_df.scorer == dim_scorer_df.scorer,\n",
    "            goalscorers_df.team == dim_team_df.team,\n",
    "        ],\n",
    "    )\n",
    "    .withColumnRenamed(\"uuid\", \"scorer_uuid\")\n",
    "    .select(goalscorers_df[\"*\"], \"scorer_uuid\")\n",
    "    .join(dim_date_df, on=goalscorers_df.date == dim_date_df.date)\n",
    "    .withColumnRenamed(\"uuid\", \"date_uuid_join\")\n",
    "    .select(goalscorers_df[\"*\"], \"scorer_uuid\", \"date_uuid_join\")\n",
    "    .join(dim_team_df, on=goalscorers_df.home_team == dim_team_df.team)\n",
    "    .withColumnRenamed(\"uuid\", \"home_team_uuid_join\")\n",
    "    .select(goalscorers_df[\"*\"], \"scorer_uuid\", \"date_uuid_join\", \"home_team_uuid_join\")\n",
    "    .join(dim_team_df, on=goalscorers_df.away_team == dim_team_df.team)\n",
    "    .withColumnRenamed(\"uuid\", \"away_team_uuid_join\")\n",
    "    .select(\n",
    "        \"scorer_uuid\",\n",
    "        \"date_uuid_join\",\n",
    "        \"home_team_uuid_join\",\n",
    "        \"away_team_uuid_join\",\n",
    "        \"minute\",\n",
    "        \"own_goal\",\n",
    "        \"penalty\",\n",
    "    )\n",
    "    .join(\n",
    "        dim_match_df,\n",
    "        on=[\n",
    "            f.col(\"date_uuid_join\") == dim_match_df.date_uuid,\n",
    "            f.col(\"home_team_uuid_join\") == dim_match_df.home_team_uuid,\n",
    "            f.col(\"away_team_uuid_join\") == dim_match_df.away_team_uuid,\n",
    "        ],\n",
    "    )\n",
    "    .withColumnRenamed(\"uuid\", \"match_uuid\")\n",
    "    .withColumn(\"uuid\", f.expr(\"uuid()\"))\n",
    "    .select(\"uuid\", \"scorer_uuid\", \"match_uuid\", \"minute\", \"own_goal\", \"penalty\")\n",
    ")\n",
    "\n",
    "display(fact_score_df.head(100))"
   ]
  },
  {
   "cell_type": "markdown",
   "metadata": {
    "application/vnd.databricks.v1+cell": {
     "cellMetadata": {
      "byteLimit": 2048000,
      "rowLimit": 10000
     },
     "inputWidgets": {},
     "nuid": "f4807992-92da-4e37-ae5f-a295ad85506d",
     "showTitle": false,
     "title": ""
    }
   },
   "source": [
    "# Creation of the Dim Shootout Dataframe"
   ]
  },
  {
   "cell_type": "markdown",
   "metadata": {
    "application/vnd.databricks.v1+cell": {
     "cellMetadata": {
      "byteLimit": 2048000,
      "rowLimit": 10000
     },
     "inputWidgets": {},
     "nuid": "38e19403-48c2-44da-bbb6-05bb140dfee3",
     "showTitle": false,
     "title": ""
    }
   },
   "source": [
    "The next UDFs were built in order to avoid joining again dataframes when you can get the uuid from a previous join"
   ]
  },
  {
   "cell_type": "code",
   "execution_count": 0,
   "metadata": {
    "application/vnd.databricks.v1+cell": {
     "cellMetadata": {
      "byteLimit": 2048000,
      "rowLimit": 10000
     },
     "inputWidgets": {},
     "nuid": "22b2bb67-e98e-4b76-9cba-90b328abf50f",
     "showTitle": false,
     "title": ""
    }
   },
   "outputs": [],
   "source": [
    "@udf\n",
    "def get_winner_uuid(\n",
    "    home_team_uuid, home_team_name, away_team_uuid, away_team_name, winner_name\n",
    "):\n",
    "    if winner_name == home_team_name:\n",
    "        return home_team_uuid\n",
    "    elif winner_name == away_team_name:\n",
    "        return away_team_uuid\n",
    "    else:\n",
    "        return None"
   ]
  },
  {
   "cell_type": "code",
   "execution_count": 0,
   "metadata": {
    "application/vnd.databricks.v1+cell": {
     "cellMetadata": {
      "byteLimit": 2048000,
      "rowLimit": 10000
     },
     "inputWidgets": {},
     "nuid": "46aa23f2-773d-4d47-9fa5-589243d7d4b5",
     "showTitle": false,
     "title": ""
    }
   },
   "outputs": [],
   "source": [
    "@udf\n",
    "def get_first_shooter_uuid(\n",
    "    home_team_uuid, home_team_name, away_team_uuid, away_team_name, first_shooter_name\n",
    "):\n",
    "    if first_shooter_name == home_team_name:\n",
    "        return home_team_uuid\n",
    "    elif first_shooter_name == away_team_name:\n",
    "        return away_team_uuid\n",
    "    else:\n",
    "        return None"
   ]
  },
  {
   "cell_type": "code",
   "execution_count": 0,
   "metadata": {
    "application/vnd.databricks.v1+cell": {
     "cellMetadata": {
      "byteLimit": 2048000,
      "rowLimit": 10000
     },
     "inputWidgets": {},
     "nuid": "651fbebb-aec4-4d6a-a669-216944f89fe7",
     "showTitle": false,
     "title": ""
    }
   },
   "outputs": [
    {
     "output_type": "display_data",
     "data": {
      "text/html": [
       "<style scoped>\n",
       "  .table-result-container {\n",
       "    max-height: 300px;\n",
       "    overflow: auto;\n",
       "  }\n",
       "  table, th, td {\n",
       "    border: 1px solid black;\n",
       "    border-collapse: collapse;\n",
       "  }\n",
       "  th, td {\n",
       "    padding: 5px;\n",
       "  }\n",
       "  th {\n",
       "    text-align: left;\n",
       "  }\n",
       "</style><div class='table-result-container'><table class='table-result'><thead style='background-color: white'><tr><th>uuid</th><th>match_uuid</th><th>winner_uuid</th><th>first_shooter_uuid</th></tr></thead><tbody><tr><td>d40db72b-4a1d-4630-ba52-7b6cddab5a75</td><td>2ffbfbc6-1028-44dd-b120-e00501c782d5</td><td>03305867-96d8-4304-9e0f-b90990774a95</td><td>null</td></tr><tr><td>84d494de-cb84-4a0f-ae3d-31d893641a5d</td><td>3744aa5d-161b-4f56-b4f9-c9a10fb60ad0</td><td>d254c48c-8cfd-4826-a7cc-80e709e7cc82</td><td>null</td></tr><tr><td>be79a7d5-da82-4ad7-a125-2c310863e1ad</td><td>6057cad6-6bc4-4b76-bbf3-7fd552f878aa</td><td>73dedd7e-ac85-4500-bea3-4d0edb58c418</td><td>null</td></tr><tr><td>bf6387e6-56ee-49c5-ada0-72a9e60c1087</td><td>f6807c56-75c3-4f98-98fa-12776c592eac</td><td>b8fe1feb-1591-423f-8c2f-acbfdc032b53</td><td>null</td></tr><tr><td>75fc8852-edd6-4242-ae4c-f18c256c3600</td><td>08105413-1399-4d1a-8961-f8b6b1b2ddf6</td><td>46526476-841d-459f-8a1a-90c8807c93dc</td><td>ff4e150e-cfe6-41ae-a9bb-47352dad3cd7</td></tr><tr><td>23c71b18-86a9-4117-95c9-2ec852b666f4</td><td>fa917102-4287-43f4-a6fa-162aed4cc284</td><td>d620902c-ea95-4a0c-95d3-2b9bfc1a3941</td><td>d620902c-ea95-4a0c-95d3-2b9bfc1a3941</td></tr><tr><td>5c6953a0-293c-400c-8356-7a68119bc4d9</td><td>ece939b7-3722-4c97-af85-864c1e6e2e13</td><td>da61354e-dc80-4678-bc74-52d98cf826cc</td><td>0c736982-3fdd-40b5-8b00-ed33a10924b0</td></tr><tr><td>489f0be8-2e23-4a78-b797-ba995c92dce1</td><td>a0480db9-5100-423f-925e-409c8aa39c14</td><td>09f18fdb-5e6f-43b3-a87c-7a1116121b63</td><td>null</td></tr><tr><td>b13ea7a1-c1ed-4749-a6ce-828fccb6219f</td><td>fb3e70dc-f940-4a41-84a4-7b08d720ed43</td><td>421e74dd-45dd-43d8-bf87-ce8456ed21c3</td><td>null</td></tr><tr><td>ee40b907-ac07-47f9-ab3c-b72b0bd8ed5e</td><td>16c654a1-0b6b-426e-8358-3268fb10cb4a</td><td>f7bd5002-af1b-4cd1-a554-e8f7cdef51a8</td><td>null</td></tr><tr><td>12933f2d-a335-4606-9054-023dbf2bf5e9</td><td>ad905669-ee88-430e-929c-54b13f416087</td><td>9a0a8c7d-6a7e-4540-bf9f-c4949b719ae8</td><td>null</td></tr><tr><td>1ddfd175-5c0f-4977-89d5-238b00387006</td><td>0476b24f-a4bf-4012-8c76-7a3b1da3fe88</td><td>0345d68d-0ba4-41ef-8bad-ebc30af9249a</td><td>null</td></tr><tr><td>3ffbd328-c427-48fd-83f9-5183663ad6fa</td><td>dca9a5a2-bce8-4b37-9f55-3482a3adcb1b</td><td>39865602-4968-4f11-a65d-275a52527833</td><td>null</td></tr><tr><td>172556e0-77ef-4d76-8923-526e8fa92523</td><td>6b2af50b-a243-4adc-8990-0421925792d3</td><td>67310767-39ad-489d-afda-af6ce605a20c</td><td>null</td></tr><tr><td>abb73dd7-e618-4d26-b26f-28363b79d1de</td><td>2ad6066a-6328-412e-a87c-fbf6cc9c8ebf</td><td>661043d3-5c78-4285-bc82-3e1069c05f04</td><td>da61354e-dc80-4678-bc74-52d98cf826cc</td></tr><tr><td>6625ed72-5260-4eaa-ad42-32be7ad73979</td><td>f05c3bca-b4d5-4201-a355-ce0dda3e6191</td><td>28d70380-6814-4958-8a5d-85eb25ede3f7</td><td>92d7a98d-0acd-4162-93fd-3bdc6ef5a950</td></tr><tr><td>2ba85445-58c2-4ac2-b48d-5cb42e886b04</td><td>4a04e501-c99a-4b04-9827-d74c8c06787c</td><td>5aa33a81-d8b5-455d-a571-4e64b6ed5934</td><td>null</td></tr><tr><td>93d25ec0-9ec6-4f13-aa47-f3970e1cc5b2</td><td>c9f288d7-64b9-4a58-9a28-baa68d487206</td><td>ff7ae0f8-81a5-49fa-9381-fb941411a01f</td><td>ff7ae0f8-81a5-49fa-9381-fb941411a01f</td></tr><tr><td>97965cb0-f4ea-4a37-a7fd-3415fe1fc772</td><td>3a9e7e20-541c-470e-94c6-ad7a2c1309c6</td><td>f7bd5002-af1b-4cd1-a554-e8f7cdef51a8</td><td>null</td></tr><tr><td>ef1271b5-147b-4ec5-820c-e540852d5396</td><td>9d08f2b1-7cb1-41e5-8ae7-9a2408b8c6e0</td><td>39a970af-fcfa-4048-b8e5-257f37283557</td><td>null</td></tr><tr><td>d7f9968a-ae70-40d0-a20a-b95d975b5706</td><td>c5fbf975-aa7b-47d0-83be-1b62d9fb24eb</td><td>c26c223b-1818-4f20-908a-6ea7bc181e31</td><td>null</td></tr><tr><td>85a53fb3-6bfd-424a-bc85-5f18ef2cac4b</td><td>28cb8b4b-e2a5-43c6-b9a8-1be4818bdd5e</td><td>74c39b96-3cd0-47bc-a46a-c810a664fe52</td><td>null</td></tr><tr><td>3e78232e-aea3-430d-a34a-af4edae91f5d</td><td>2e40dcc5-f858-41c1-9526-2a546271a922</td><td>7dc69076-fd67-483b-afe2-325da28c391c</td><td>null</td></tr><tr><td>8f400c9c-81a6-4d69-b880-564a5ae5938e</td><td>d5e019ea-d97e-41e6-a72f-f9949a020c54</td><td>d9821032-c4f5-4634-84a2-801e54a925a5</td><td>d9821032-c4f5-4634-84a2-801e54a925a5</td></tr><tr><td>67d65f9f-6176-4fdc-aa02-f979b61c41e2</td><td>f20709be-b732-41ae-a6dd-6549196a892d</td><td>51ad17cd-ed65-4857-9244-e5f94baf5144</td><td>null</td></tr><tr><td>a3087e81-2891-41ec-99cb-78ca449c801e</td><td>949c7243-29f1-44ba-bb8f-5606d6d86bfb</td><td>92d7a98d-0acd-4162-93fd-3bdc6ef5a950</td><td>null</td></tr><tr><td>e7bb80b2-dc43-4131-ba39-f1e7b49013b9</td><td>4615eea5-33ad-40dc-a396-681dcebe1e88</td><td>082311e6-2728-47b8-adcf-4d5efa098593</td><td>null</td></tr><tr><td>3ef9eb97-df3f-4a81-9f5b-f8433882f0a6</td><td>8586521d-7a85-441a-85d2-f2bb0e8bbd40</td><td>495359e5-f0d2-46ef-a17c-487f28569098</td><td>null</td></tr><tr><td>76e16fc2-5f23-48d5-bcc5-2daab81fe487</td><td>eebb5907-4d05-473b-bc52-d372da8c50ef</td><td>b943f932-233a-497b-bebf-8932d0ea1e70</td><td>984adf57-bee6-453f-8c9c-759f244500a1</td></tr><tr><td>3a2420e8-ac80-4da3-a436-acfd93657bd0</td><td>2cb303b5-6be0-44fb-98a9-783a10caf483</td><td>0c736982-3fdd-40b5-8b00-ed33a10924b0</td><td>null</td></tr><tr><td>26ebafd6-dcb5-4bee-8e82-a957ee6ac252</td><td>8f1bcd81-bb76-48ba-90ec-b1ef87949a5a</td><td>b021bc1b-3c87-4a75-bac4-77bb2b36fa62</td><td>b021bc1b-3c87-4a75-bac4-77bb2b36fa62</td></tr><tr><td>16cb9a4b-0147-4ce2-b7b4-dcef3440b351</td><td>f5490e71-6202-4eb1-8703-ac1467c0a179</td><td>51b272df-bc9c-4797-a378-7eb8bd372cc1</td><td>51b272df-bc9c-4797-a378-7eb8bd372cc1</td></tr><tr><td>d1b92d98-1102-44ae-bef3-a13d32f0a113</td><td>bb25907d-c7d4-4780-b2ff-267251533ed3</td><td>b88788d2-7357-40c9-a400-9c9cfbe85f63</td><td>null</td></tr><tr><td>27b779e2-9269-42cd-896f-034376b8d2c2</td><td>07d98aa8-74e1-4a22-a44f-ee4ede3c5c90</td><td>b9720e77-0282-483d-8ccb-9eeca6fff90e</td><td>null</td></tr><tr><td>948142a6-c737-467a-b7b0-0c819f178334</td><td>b12f8abe-1393-41bf-8e82-e46c633b2044</td><td>09f18fdb-5e6f-43b3-a87c-7a1116121b63</td><td>null</td></tr><tr><td>d85bc28f-13eb-44e8-a4e3-9152d8f383f6</td><td>657ed4bb-ed27-473b-b49f-99f5ba107a25</td><td>9a0a8c7d-6a7e-4540-bf9f-c4949b719ae8</td><td>null</td></tr><tr><td>dd319586-c3dc-4d20-af2e-b6bbdc53c481</td><td>2202ab80-8100-43ff-8902-f9b8301001ac</td><td>bdd5683d-3909-4a97-a3cd-ff386d784388</td><td>null</td></tr><tr><td>8a0de042-8eb3-46f8-aee5-bfa31b64ed0c</td><td>1c84227f-1c57-4c4f-8f35-28f27cb14302</td><td>7d0af52c-fb65-499d-af18-3ffb47beb387</td><td>null</td></tr><tr><td>ce7478f7-2069-444d-b148-f7537cd64d6c</td><td>c91b5556-4c25-4396-b857-2ebc9b64e5b1</td><td>ff7ae0f8-81a5-49fa-9381-fb941411a01f</td><td>null</td></tr><tr><td>a6d6c854-417a-421b-943c-a2f2972059b3</td><td>ec2e7f65-1d6f-4f68-be51-acca748873ad</td><td>13f47b8f-52c3-4772-85be-0e3bdc53a5e7</td><td>null</td></tr><tr><td>ae1debea-b6a0-4b5a-91eb-98c55f7cc91c</td><td>75ae3620-edc4-4385-9422-ef1db4460ad9</td><td>4ae5c3ac-3b3c-4643-bd12-1bb121118121</td><td>null</td></tr><tr><td>0f7c3876-ee5d-458b-bcf4-8444b0cb5a9b</td><td>6a2402a3-7de0-4acc-986e-733165178b13</td><td>5a885d74-6b05-4e2b-aafd-ee7f27d786f0</td><td>null</td></tr><tr><td>043f8a5f-3447-42c1-ac6a-412181d4a376</td><td>c4b3e733-a91f-403e-832b-1885d1a777c4</td><td>8ab18432-7a56-43ff-93d0-0574d1bc98bf</td><td>null</td></tr><tr><td>645f6fe0-4265-4aab-ab2b-76d195cc4806</td><td>ffa680a8-4a34-42ca-ae1e-ab9cc06d5dee</td><td>5dccab54-604f-48e5-a3ee-d31f3784a0d9</td><td>57988d07-255b-4478-93fe-e95ba61fd587</td></tr><tr><td>1b68417f-579e-4bda-98bc-d466077ddf0c</td><td>b8c27a07-2e3f-4ab6-892f-5d89b9ac65f5</td><td>f7bd5002-af1b-4cd1-a554-e8f7cdef51a8</td><td>null</td></tr><tr><td>f613b84f-3157-4fcc-a88a-603cac304e62</td><td>2413d8a1-8855-4bb8-8af6-662aad978435</td><td>46526476-841d-459f-8a1a-90c8807c93dc</td><td>null</td></tr><tr><td>e8d38cd2-0127-4825-ad9f-7d2dea8aa1e3</td><td>5c2e3b29-536b-4362-b922-44b6703d5130</td><td>b55982a5-39c5-4d86-b01b-c0d45b2a43bb</td><td>null</td></tr><tr><td>7ef7e826-bca7-49e2-9b5a-5ebc96ecb995</td><td>d5710f39-057d-439b-855f-015cfbfa05df</td><td>b021bc1b-3c87-4a75-bac4-77bb2b36fa62</td><td>null</td></tr><tr><td>40445aed-4df6-4c36-b109-f0c1b6c6ce8d</td><td>eef8de42-ccb2-4481-88d2-9c100977731d</td><td>03a20a65-c660-4950-9add-d0b852fd2dc7</td><td>03a20a65-c660-4950-9add-d0b852fd2dc7</td></tr><tr><td>1631bd58-fd77-494e-a7ab-2e7bc58dfe5b</td><td>43b9023e-6087-4e35-a6dc-ac046865ce96</td><td>63bf5b54-e427-4c1b-8f90-9a072d1e64ef</td><td>null</td></tr><tr><td>a8a8e80d-bd4b-4969-b413-c945d3e5952e</td><td>5cd2d01b-0847-43c0-a283-318a59a2dde2</td><td>03305867-96d8-4304-9e0f-b90990774a95</td><td>null</td></tr><tr><td>672c8d84-046b-4b35-a3a0-22b90b52b21e</td><td>86871fb2-601d-49a4-b507-36a14ddc800e</td><td>b021bc1b-3c87-4a75-bac4-77bb2b36fa62</td><td>null</td></tr><tr><td>8099b0a6-ae13-4572-9be7-be92fd7184cb</td><td>0d85ea67-9e8c-44bc-bc68-56bcc0b66ba9</td><td>2e2fc2fd-a2cc-44b4-9cd0-1058b12bb784</td><td>849d0bb3-7dd0-40c2-98cc-0c0892dd51df</td></tr><tr><td>855bb6ee-eff4-48d6-a97f-9975cf987944</td><td>72b605ee-affe-45a9-a571-e0d9996c3150</td><td>7d0af52c-fb65-499d-af18-3ffb47beb387</td><td>null</td></tr><tr><td>5dd69630-509f-40a6-b7f2-cc1b693676d5</td><td>0cce24b3-00e7-450d-ad84-57ea68755e65</td><td>fd0bb15d-78d1-412b-ad9a-7744cf2a4297</td><td>null</td></tr><tr><td>c4cfc0df-033b-4486-a5fa-12cd91c9d40e</td><td>19b2c3a6-d1df-4f7c-88b3-acc1880c8844</td><td>0cd96caf-9d67-4320-83fc-7699072dac44</td><td>null</td></tr><tr><td>af01d780-c5d6-4158-a271-a2ef5a237c06</td><td>a47fd455-4011-474b-a371-1861f4634d3a</td><td>254e3fd5-9a32-417d-bd97-4eb5756b4615</td><td>0c736982-3fdd-40b5-8b00-ed33a10924b0</td></tr><tr><td>b0cfc7b6-37a7-4561-922a-7e6aa2db0b50</td><td>b44bcec7-2f26-41ba-a515-648088ce0afc</td><td>0b8f1faa-94dd-43ff-bc02-cd006046c388</td><td>null</td></tr><tr><td>8a24b6e6-5b06-440d-85e3-c51eefb549b2</td><td>9a55fe2e-f0bb-4941-9a32-6da3287abdd7</td><td>10800925-9ce0-4154-913b-c93c9362169c</td><td>null</td></tr><tr><td>0a59d649-37bf-470f-8642-22ad3503330d</td><td>fabf49e9-58c7-4375-a3cd-dd065e6075f3</td><td>03a20a65-c660-4950-9add-d0b852fd2dc7</td><td>d620902c-ea95-4a0c-95d3-2b9bfc1a3941</td></tr><tr><td>a3f6e7c6-59d8-49f7-8945-f4f3a5f1c9de</td><td>8073aaab-b80d-47fa-b3ff-db1e68080740</td><td>5548063c-11e5-4f8a-b8b5-f44efbda99dc</td><td>null</td></tr><tr><td>b107d26a-e89c-4211-9d4f-a11bda0fe7c2</td><td>2c729877-1ea5-4697-a032-fe8bb2bb23b3</td><td>248f04f6-3970-4af5-bc7d-29575f0da462</td><td>2829daec-4541-4a26-b0e8-2865e4896e8c</td></tr><tr><td>7666f255-0c28-45d3-b928-6b7e98e540a2</td><td>7832e789-0896-448f-9c32-85ce2a5dd5ac</td><td>458c2381-0746-4aad-90eb-0bf6cfcaac20</td><td>null</td></tr><tr><td>770c4596-e29e-4d6d-88c2-569d759cb5f1</td><td>1754d2a3-1221-44e9-a13d-99349231c4bb</td><td>ca603973-c01f-4028-8c0d-57056ac15fae</td><td>null</td></tr><tr><td>f384b62e-4a6f-4e19-a256-444b2b167c16</td><td>5df85d20-179e-46a5-b6df-bb35ea9d5ad8</td><td>b021bc1b-3c87-4a75-bac4-77bb2b36fa62</td><td>null</td></tr><tr><td>d9a52498-2ee1-44ae-b45e-2702c2edd32f</td><td>850f59ca-b9ce-4de9-b6b2-d251c1e82fd3</td><td>13f47b8f-52c3-4772-85be-0e3bdc53a5e7</td><td>null</td></tr><tr><td>2a9a4408-236b-48af-b989-8fc1f8fb41bb</td><td>9342cccc-0089-4831-82f6-dbae9da9fe29</td><td>4d6c4537-35ed-4f08-97ba-35ec8aa14043</td><td>null</td></tr><tr><td>f2669e1e-6650-4279-835d-cd306075c32e</td><td>6468574d-6b15-4a93-84ca-78ecf6ab7818</td><td>73dedd7e-ac85-4500-bea3-4d0edb58c418</td><td>null</td></tr><tr><td>4d28b405-a0fa-4af3-a110-0f2133b7f9ab</td><td>10ea4493-8a9a-4235-ab1b-ae0f438d24cb</td><td>54a47711-ddd8-4257-80ac-64522ba81528</td><td>null</td></tr><tr><td>54ee5027-6b49-48b0-8eda-904f93a733e1</td><td>26e99a38-99a4-417e-ac25-10d8eb740e69</td><td>0c5b4fd8-da81-410b-b040-25a86d066804</td><td>null</td></tr><tr><td>c98ac0f2-9776-4f39-9deb-baeac0b926af</td><td>a96f93bc-8274-4a91-ab0a-79e6d815fea6</td><td>67310767-39ad-489d-afda-af6ce605a20c</td><td>null</td></tr><tr><td>26859adb-eecc-493b-98ba-1d3c2ac80a79</td><td>40c3ef73-ee7b-41ec-a778-44f06af55196</td><td>da61354e-dc80-4678-bc74-52d98cf826cc</td><td>da61354e-dc80-4678-bc74-52d98cf826cc</td></tr><tr><td>18262727-9d45-44ce-b174-26a0aa72e74e</td><td>b80fb4f5-2010-4672-9b25-757db5160c70</td><td>7d0af52c-fb65-499d-af18-3ffb47beb387</td><td>null</td></tr><tr><td>536a927b-57fe-4811-953d-05b763fec7ef</td><td>66a9b45b-cdb6-41a0-be2f-1c3ab769ce9c</td><td>fd0bb15d-78d1-412b-ad9a-7744cf2a4297</td><td>null</td></tr><tr><td>41244bdc-ff00-48b7-b6f5-14d509e872a7</td><td>9e669b02-1cfc-46a0-b821-c6c5b2de6b90</td><td>5a885d74-6b05-4e2b-aafd-ee7f27d786f0</td><td>null</td></tr><tr><td>5a4a73be-b376-4c43-8dad-9bc611757ca6</td><td>fcf80bfa-0053-4d8c-9554-5313b6a57c9f</td><td>ff4e150e-cfe6-41ae-a9bb-47352dad3cd7</td><td>null</td></tr><tr><td>ef31376a-3bfd-4c92-b494-ca472bfe50c9</td><td>ca839457-1b11-4809-a8af-c14ba023b98f</td><td>63bf5b54-e427-4c1b-8f90-9a072d1e64ef</td><td>null</td></tr><tr><td>8b750e35-ea4f-483d-bea2-032068adb1cd</td><td>6cefb08c-c2aa-4836-80a9-8abea9c8dea1</td><td>c24e4f79-ee83-477d-9541-8795cd936936</td><td>c24e4f79-ee83-477d-9541-8795cd936936</td></tr><tr><td>a6678040-d6f3-4355-baa9-c729b743bc72</td><td>aa0e3c23-f620-47df-870c-a2f339e88bae</td><td>20dd4847-bbd8-4d8e-a01d-8f7750fcf647</td><td>20dd4847-bbd8-4d8e-a01d-8f7750fcf647</td></tr><tr><td>6fb96e11-0b4b-4ad4-8908-cbc9c308a877</td><td>6b5e461f-2567-40c3-8676-b7b9cbad2324</td><td>28d70380-6814-4958-8a5d-85eb25ede3f7</td><td>null</td></tr><tr><td>35ec59d2-08aa-4f51-865d-1946ccf02b34</td><td>1d332476-9ee9-4bf2-a836-fd18dac21d8f</td><td>b943f932-233a-497b-bebf-8932d0ea1e70</td><td>null</td></tr><tr><td>299bed13-02bc-489f-a27f-b94affdb5451</td><td>9385c375-d17c-43cf-8a41-ae5a1dfb2307</td><td>28d70380-6814-4958-8a5d-85eb25ede3f7</td><td>null</td></tr><tr><td>b0d4592d-d004-448f-bb33-a2117adc7806</td><td>801fe54b-0cb7-4ff4-8934-7e83afb4d8a6</td><td>9303246a-bd3a-42bf-a04d-9f309dc28b0a</td><td>null</td></tr><tr><td>625c8e1c-0f84-43dc-988f-c5f91a5e5687</td><td>52727d35-ec3d-401a-b24e-02663b7fd5c5</td><td>df700ea2-3015-48bb-9020-6119bd50c07d</td><td>null</td></tr><tr><td>7ae4079b-c358-4a35-b687-e0166a9a3c5b</td><td>42ef850b-5164-4ff5-bc8e-4c68871fa6fd</td><td>0c736982-3fdd-40b5-8b00-ed33a10924b0</td><td>0c736982-3fdd-40b5-8b00-ed33a10924b0</td></tr><tr><td>5898eead-6908-4003-8ac5-8c1fd0202d41</td><td>cfeb658d-525b-401e-9457-ec71fbd70516</td><td>05a3fb27-5cbf-4fd2-b248-52ec984935fe</td><td>null</td></tr><tr><td>bfc28901-51f9-42e8-9d90-a259415a01ea</td><td>50c2db66-a608-453f-a6a0-105bf2ac8496</td><td>b8b01404-8d42-4414-8b52-f42a0f6106b2</td><td>null</td></tr><tr><td>ebd45b24-dc97-457a-bcbc-c8286d88bbb0</td><td>aa24a6fe-ca2f-46c2-9604-4ebd3a92d514</td><td>b9720e77-0282-483d-8ccb-9eeca6fff90e</td><td>b9720e77-0282-483d-8ccb-9eeca6fff90e</td></tr><tr><td>a2443147-7bd5-401c-93f0-517b7784a1d7</td><td>26cc6ec1-7f0d-4752-89ba-d0e7e2a685c7</td><td>03305867-96d8-4304-9e0f-b90990774a95</td><td>null</td></tr><tr><td>efe751c2-9462-40ed-abe1-ae3ba720bf59</td><td>e2cd3942-f216-4e6a-9a40-765549771bd0</td><td>19e7ba50-7081-4765-b5ec-252b2c860ce9</td><td>null</td></tr><tr><td>8cd3f5e0-63c7-461f-8107-e65ea08356ce</td><td>8d9b2ea4-2934-4cd4-9ade-21e7eedb2c85</td><td>4ede402a-535e-47cc-bebb-94a99071e1ee</td><td>null</td></tr><tr><td>07eace5e-bf15-409a-a976-d4cb237ea399</td><td>9cd6469d-de22-4030-afef-fd671f87feb3</td><td>e789f0fc-1ebb-41ff-abab-d196f507d549</td><td>null</td></tr><tr><td>9aaf67aa-0708-4f40-86c6-d2e13bfcc003</td><td>676e3f99-e260-4ac3-ad81-14d18ad49711</td><td>e6a7bfc7-cbcb-4e95-ae8a-9ee554b0d037</td><td>null</td></tr><tr><td>5ae9a2ca-898e-4919-99ce-2b68bc704555</td><td>4a922852-f5c1-47db-9ffa-b3dfd81c90a3</td><td>0f2dfad5-f6c4-4c8b-9932-0e4fdc4370bc</td><td>null</td></tr><tr><td>6214e190-622c-4f1f-b5b2-8aa30e752ee5</td><td>3753643d-1409-4524-a3eb-24bad1a6d99f</td><td>92d7a98d-0acd-4162-93fd-3bdc6ef5a950</td><td>null</td></tr><tr><td>36da97c8-402c-41d8-9274-5ab2efa8cfd2</td><td>b0bb7b3d-f551-484a-9f95-2e661980a598</td><td>b9720e77-0282-483d-8ccb-9eeca6fff90e</td><td>b9720e77-0282-483d-8ccb-9eeca6fff90e</td></tr><tr><td>67ccf289-7ff6-4dd4-bd19-93fe8499d6b5</td><td>d0308d1e-ebc4-4792-85fa-f7f06fd77777</td><td>b8b01404-8d42-4414-8b52-f42a0f6106b2</td><td>b8b01404-8d42-4414-8b52-f42a0f6106b2</td></tr><tr><td>68191b7c-35df-487c-b1f8-469e7f29b7cc</td><td>33ed1c35-971b-41f3-b03c-8cca18625138</td><td>b021bc1b-3c87-4a75-bac4-77bb2b36fa62</td><td>null</td></tr><tr><td>6060e2a3-9708-461e-a13a-8f84e46c732d</td><td>690e5341-931c-4832-8262-7eca528bff1f</td><td>2b28d2c7-9964-4913-9743-79860332c39e</td><td>5dccab54-604f-48e5-a3ee-d31f3784a0d9</td></tr><tr><td>47bb99f1-d28a-439a-9ae0-4ef30a79613d</td><td>df09e3d5-361b-49b7-82ab-b622fb3abc68</td><td>92d7a98d-0acd-4162-93fd-3bdc6ef5a950</td><td>null</td></tr></tbody></table></div>"
      ]
     },
     "metadata": {
      "application/vnd.databricks.v1+output": {
       "addedWidgets": {},
       "aggData": [],
       "aggError": "",
       "aggOverflow": false,
       "aggSchema": [],
       "aggSeriesLimitReached": false,
       "aggType": "",
       "arguments": {},
       "columnCustomDisplayInfos": {},
       "data": [
        [
         "d40db72b-4a1d-4630-ba52-7b6cddab5a75",
         "2ffbfbc6-1028-44dd-b120-e00501c782d5",
         "03305867-96d8-4304-9e0f-b90990774a95",
         null
        ],
        [
         "84d494de-cb84-4a0f-ae3d-31d893641a5d",
         "3744aa5d-161b-4f56-b4f9-c9a10fb60ad0",
         "d254c48c-8cfd-4826-a7cc-80e709e7cc82",
         null
        ],
        [
         "be79a7d5-da82-4ad7-a125-2c310863e1ad",
         "6057cad6-6bc4-4b76-bbf3-7fd552f878aa",
         "73dedd7e-ac85-4500-bea3-4d0edb58c418",
         null
        ],
        [
         "bf6387e6-56ee-49c5-ada0-72a9e60c1087",
         "f6807c56-75c3-4f98-98fa-12776c592eac",
         "b8fe1feb-1591-423f-8c2f-acbfdc032b53",
         null
        ],
        [
         "75fc8852-edd6-4242-ae4c-f18c256c3600",
         "08105413-1399-4d1a-8961-f8b6b1b2ddf6",
         "46526476-841d-459f-8a1a-90c8807c93dc",
         "ff4e150e-cfe6-41ae-a9bb-47352dad3cd7"
        ],
        [
         "23c71b18-86a9-4117-95c9-2ec852b666f4",
         "fa917102-4287-43f4-a6fa-162aed4cc284",
         "d620902c-ea95-4a0c-95d3-2b9bfc1a3941",
         "d620902c-ea95-4a0c-95d3-2b9bfc1a3941"
        ],
        [
         "5c6953a0-293c-400c-8356-7a68119bc4d9",
         "ece939b7-3722-4c97-af85-864c1e6e2e13",
         "da61354e-dc80-4678-bc74-52d98cf826cc",
         "0c736982-3fdd-40b5-8b00-ed33a10924b0"
        ],
        [
         "489f0be8-2e23-4a78-b797-ba995c92dce1",
         "a0480db9-5100-423f-925e-409c8aa39c14",
         "09f18fdb-5e6f-43b3-a87c-7a1116121b63",
         null
        ],
        [
         "b13ea7a1-c1ed-4749-a6ce-828fccb6219f",
         "fb3e70dc-f940-4a41-84a4-7b08d720ed43",
         "421e74dd-45dd-43d8-bf87-ce8456ed21c3",
         null
        ],
        [
         "ee40b907-ac07-47f9-ab3c-b72b0bd8ed5e",
         "16c654a1-0b6b-426e-8358-3268fb10cb4a",
         "f7bd5002-af1b-4cd1-a554-e8f7cdef51a8",
         null
        ],
        [
         "12933f2d-a335-4606-9054-023dbf2bf5e9",
         "ad905669-ee88-430e-929c-54b13f416087",
         "9a0a8c7d-6a7e-4540-bf9f-c4949b719ae8",
         null
        ],
        [
         "1ddfd175-5c0f-4977-89d5-238b00387006",
         "0476b24f-a4bf-4012-8c76-7a3b1da3fe88",
         "0345d68d-0ba4-41ef-8bad-ebc30af9249a",
         null
        ],
        [
         "3ffbd328-c427-48fd-83f9-5183663ad6fa",
         "dca9a5a2-bce8-4b37-9f55-3482a3adcb1b",
         "39865602-4968-4f11-a65d-275a52527833",
         null
        ],
        [
         "172556e0-77ef-4d76-8923-526e8fa92523",
         "6b2af50b-a243-4adc-8990-0421925792d3",
         "67310767-39ad-489d-afda-af6ce605a20c",
         null
        ],
        [
         "abb73dd7-e618-4d26-b26f-28363b79d1de",
         "2ad6066a-6328-412e-a87c-fbf6cc9c8ebf",
         "661043d3-5c78-4285-bc82-3e1069c05f04",
         "da61354e-dc80-4678-bc74-52d98cf826cc"
        ],
        [
         "6625ed72-5260-4eaa-ad42-32be7ad73979",
         "f05c3bca-b4d5-4201-a355-ce0dda3e6191",
         "28d70380-6814-4958-8a5d-85eb25ede3f7",
         "92d7a98d-0acd-4162-93fd-3bdc6ef5a950"
        ],
        [
         "2ba85445-58c2-4ac2-b48d-5cb42e886b04",
         "4a04e501-c99a-4b04-9827-d74c8c06787c",
         "5aa33a81-d8b5-455d-a571-4e64b6ed5934",
         null
        ],
        [
         "93d25ec0-9ec6-4f13-aa47-f3970e1cc5b2",
         "c9f288d7-64b9-4a58-9a28-baa68d487206",
         "ff7ae0f8-81a5-49fa-9381-fb941411a01f",
         "ff7ae0f8-81a5-49fa-9381-fb941411a01f"
        ],
        [
         "97965cb0-f4ea-4a37-a7fd-3415fe1fc772",
         "3a9e7e20-541c-470e-94c6-ad7a2c1309c6",
         "f7bd5002-af1b-4cd1-a554-e8f7cdef51a8",
         null
        ],
        [
         "ef1271b5-147b-4ec5-820c-e540852d5396",
         "9d08f2b1-7cb1-41e5-8ae7-9a2408b8c6e0",
         "39a970af-fcfa-4048-b8e5-257f37283557",
         null
        ],
        [
         "d7f9968a-ae70-40d0-a20a-b95d975b5706",
         "c5fbf975-aa7b-47d0-83be-1b62d9fb24eb",
         "c26c223b-1818-4f20-908a-6ea7bc181e31",
         null
        ],
        [
         "85a53fb3-6bfd-424a-bc85-5f18ef2cac4b",
         "28cb8b4b-e2a5-43c6-b9a8-1be4818bdd5e",
         "74c39b96-3cd0-47bc-a46a-c810a664fe52",
         null
        ],
        [
         "3e78232e-aea3-430d-a34a-af4edae91f5d",
         "2e40dcc5-f858-41c1-9526-2a546271a922",
         "7dc69076-fd67-483b-afe2-325da28c391c",
         null
        ],
        [
         "8f400c9c-81a6-4d69-b880-564a5ae5938e",
         "d5e019ea-d97e-41e6-a72f-f9949a020c54",
         "d9821032-c4f5-4634-84a2-801e54a925a5",
         "d9821032-c4f5-4634-84a2-801e54a925a5"
        ],
        [
         "67d65f9f-6176-4fdc-aa02-f979b61c41e2",
         "f20709be-b732-41ae-a6dd-6549196a892d",
         "51ad17cd-ed65-4857-9244-e5f94baf5144",
         null
        ],
        [
         "a3087e81-2891-41ec-99cb-78ca449c801e",
         "949c7243-29f1-44ba-bb8f-5606d6d86bfb",
         "92d7a98d-0acd-4162-93fd-3bdc6ef5a950",
         null
        ],
        [
         "e7bb80b2-dc43-4131-ba39-f1e7b49013b9",
         "4615eea5-33ad-40dc-a396-681dcebe1e88",
         "082311e6-2728-47b8-adcf-4d5efa098593",
         null
        ],
        [
         "3ef9eb97-df3f-4a81-9f5b-f8433882f0a6",
         "8586521d-7a85-441a-85d2-f2bb0e8bbd40",
         "495359e5-f0d2-46ef-a17c-487f28569098",
         null
        ],
        [
         "76e16fc2-5f23-48d5-bcc5-2daab81fe487",
         "eebb5907-4d05-473b-bc52-d372da8c50ef",
         "b943f932-233a-497b-bebf-8932d0ea1e70",
         "984adf57-bee6-453f-8c9c-759f244500a1"
        ],
        [
         "3a2420e8-ac80-4da3-a436-acfd93657bd0",
         "2cb303b5-6be0-44fb-98a9-783a10caf483",
         "0c736982-3fdd-40b5-8b00-ed33a10924b0",
         null
        ],
        [
         "26ebafd6-dcb5-4bee-8e82-a957ee6ac252",
         "8f1bcd81-bb76-48ba-90ec-b1ef87949a5a",
         "b021bc1b-3c87-4a75-bac4-77bb2b36fa62",
         "b021bc1b-3c87-4a75-bac4-77bb2b36fa62"
        ],
        [
         "16cb9a4b-0147-4ce2-b7b4-dcef3440b351",
         "f5490e71-6202-4eb1-8703-ac1467c0a179",
         "51b272df-bc9c-4797-a378-7eb8bd372cc1",
         "51b272df-bc9c-4797-a378-7eb8bd372cc1"
        ],
        [
         "d1b92d98-1102-44ae-bef3-a13d32f0a113",
         "bb25907d-c7d4-4780-b2ff-267251533ed3",
         "b88788d2-7357-40c9-a400-9c9cfbe85f63",
         null
        ],
        [
         "27b779e2-9269-42cd-896f-034376b8d2c2",
         "07d98aa8-74e1-4a22-a44f-ee4ede3c5c90",
         "b9720e77-0282-483d-8ccb-9eeca6fff90e",
         null
        ],
        [
         "948142a6-c737-467a-b7b0-0c819f178334",
         "b12f8abe-1393-41bf-8e82-e46c633b2044",
         "09f18fdb-5e6f-43b3-a87c-7a1116121b63",
         null
        ],
        [
         "d85bc28f-13eb-44e8-a4e3-9152d8f383f6",
         "657ed4bb-ed27-473b-b49f-99f5ba107a25",
         "9a0a8c7d-6a7e-4540-bf9f-c4949b719ae8",
         null
        ],
        [
         "dd319586-c3dc-4d20-af2e-b6bbdc53c481",
         "2202ab80-8100-43ff-8902-f9b8301001ac",
         "bdd5683d-3909-4a97-a3cd-ff386d784388",
         null
        ],
        [
         "8a0de042-8eb3-46f8-aee5-bfa31b64ed0c",
         "1c84227f-1c57-4c4f-8f35-28f27cb14302",
         "7d0af52c-fb65-499d-af18-3ffb47beb387",
         null
        ],
        [
         "ce7478f7-2069-444d-b148-f7537cd64d6c",
         "c91b5556-4c25-4396-b857-2ebc9b64e5b1",
         "ff7ae0f8-81a5-49fa-9381-fb941411a01f",
         null
        ],
        [
         "a6d6c854-417a-421b-943c-a2f2972059b3",
         "ec2e7f65-1d6f-4f68-be51-acca748873ad",
         "13f47b8f-52c3-4772-85be-0e3bdc53a5e7",
         null
        ],
        [
         "ae1debea-b6a0-4b5a-91eb-98c55f7cc91c",
         "75ae3620-edc4-4385-9422-ef1db4460ad9",
         "4ae5c3ac-3b3c-4643-bd12-1bb121118121",
         null
        ],
        [
         "0f7c3876-ee5d-458b-bcf4-8444b0cb5a9b",
         "6a2402a3-7de0-4acc-986e-733165178b13",
         "5a885d74-6b05-4e2b-aafd-ee7f27d786f0",
         null
        ],
        [
         "043f8a5f-3447-42c1-ac6a-412181d4a376",
         "c4b3e733-a91f-403e-832b-1885d1a777c4",
         "8ab18432-7a56-43ff-93d0-0574d1bc98bf",
         null
        ],
        [
         "645f6fe0-4265-4aab-ab2b-76d195cc4806",
         "ffa680a8-4a34-42ca-ae1e-ab9cc06d5dee",
         "5dccab54-604f-48e5-a3ee-d31f3784a0d9",
         "57988d07-255b-4478-93fe-e95ba61fd587"
        ],
        [
         "1b68417f-579e-4bda-98bc-d466077ddf0c",
         "b8c27a07-2e3f-4ab6-892f-5d89b9ac65f5",
         "f7bd5002-af1b-4cd1-a554-e8f7cdef51a8",
         null
        ],
        [
         "f613b84f-3157-4fcc-a88a-603cac304e62",
         "2413d8a1-8855-4bb8-8af6-662aad978435",
         "46526476-841d-459f-8a1a-90c8807c93dc",
         null
        ],
        [
         "e8d38cd2-0127-4825-ad9f-7d2dea8aa1e3",
         "5c2e3b29-536b-4362-b922-44b6703d5130",
         "b55982a5-39c5-4d86-b01b-c0d45b2a43bb",
         null
        ],
        [
         "7ef7e826-bca7-49e2-9b5a-5ebc96ecb995",
         "d5710f39-057d-439b-855f-015cfbfa05df",
         "b021bc1b-3c87-4a75-bac4-77bb2b36fa62",
         null
        ],
        [
         "40445aed-4df6-4c36-b109-f0c1b6c6ce8d",
         "eef8de42-ccb2-4481-88d2-9c100977731d",
         "03a20a65-c660-4950-9add-d0b852fd2dc7",
         "03a20a65-c660-4950-9add-d0b852fd2dc7"
        ],
        [
         "1631bd58-fd77-494e-a7ab-2e7bc58dfe5b",
         "43b9023e-6087-4e35-a6dc-ac046865ce96",
         "63bf5b54-e427-4c1b-8f90-9a072d1e64ef",
         null
        ],
        [
         "a8a8e80d-bd4b-4969-b413-c945d3e5952e",
         "5cd2d01b-0847-43c0-a283-318a59a2dde2",
         "03305867-96d8-4304-9e0f-b90990774a95",
         null
        ],
        [
         "672c8d84-046b-4b35-a3a0-22b90b52b21e",
         "86871fb2-601d-49a4-b507-36a14ddc800e",
         "b021bc1b-3c87-4a75-bac4-77bb2b36fa62",
         null
        ],
        [
         "8099b0a6-ae13-4572-9be7-be92fd7184cb",
         "0d85ea67-9e8c-44bc-bc68-56bcc0b66ba9",
         "2e2fc2fd-a2cc-44b4-9cd0-1058b12bb784",
         "849d0bb3-7dd0-40c2-98cc-0c0892dd51df"
        ],
        [
         "855bb6ee-eff4-48d6-a97f-9975cf987944",
         "72b605ee-affe-45a9-a571-e0d9996c3150",
         "7d0af52c-fb65-499d-af18-3ffb47beb387",
         null
        ],
        [
         "5dd69630-509f-40a6-b7f2-cc1b693676d5",
         "0cce24b3-00e7-450d-ad84-57ea68755e65",
         "fd0bb15d-78d1-412b-ad9a-7744cf2a4297",
         null
        ],
        [
         "c4cfc0df-033b-4486-a5fa-12cd91c9d40e",
         "19b2c3a6-d1df-4f7c-88b3-acc1880c8844",
         "0cd96caf-9d67-4320-83fc-7699072dac44",
         null
        ],
        [
         "af01d780-c5d6-4158-a271-a2ef5a237c06",
         "a47fd455-4011-474b-a371-1861f4634d3a",
         "254e3fd5-9a32-417d-bd97-4eb5756b4615",
         "0c736982-3fdd-40b5-8b00-ed33a10924b0"
        ],
        [
         "b0cfc7b6-37a7-4561-922a-7e6aa2db0b50",
         "b44bcec7-2f26-41ba-a515-648088ce0afc",
         "0b8f1faa-94dd-43ff-bc02-cd006046c388",
         null
        ],
        [
         "8a24b6e6-5b06-440d-85e3-c51eefb549b2",
         "9a55fe2e-f0bb-4941-9a32-6da3287abdd7",
         "10800925-9ce0-4154-913b-c93c9362169c",
         null
        ],
        [
         "0a59d649-37bf-470f-8642-22ad3503330d",
         "fabf49e9-58c7-4375-a3cd-dd065e6075f3",
         "03a20a65-c660-4950-9add-d0b852fd2dc7",
         "d620902c-ea95-4a0c-95d3-2b9bfc1a3941"
        ],
        [
         "a3f6e7c6-59d8-49f7-8945-f4f3a5f1c9de",
         "8073aaab-b80d-47fa-b3ff-db1e68080740",
         "5548063c-11e5-4f8a-b8b5-f44efbda99dc",
         null
        ],
        [
         "b107d26a-e89c-4211-9d4f-a11bda0fe7c2",
         "2c729877-1ea5-4697-a032-fe8bb2bb23b3",
         "248f04f6-3970-4af5-bc7d-29575f0da462",
         "2829daec-4541-4a26-b0e8-2865e4896e8c"
        ],
        [
         "7666f255-0c28-45d3-b928-6b7e98e540a2",
         "7832e789-0896-448f-9c32-85ce2a5dd5ac",
         "458c2381-0746-4aad-90eb-0bf6cfcaac20",
         null
        ],
        [
         "770c4596-e29e-4d6d-88c2-569d759cb5f1",
         "1754d2a3-1221-44e9-a13d-99349231c4bb",
         "ca603973-c01f-4028-8c0d-57056ac15fae",
         null
        ],
        [
         "f384b62e-4a6f-4e19-a256-444b2b167c16",
         "5df85d20-179e-46a5-b6df-bb35ea9d5ad8",
         "b021bc1b-3c87-4a75-bac4-77bb2b36fa62",
         null
        ],
        [
         "d9a52498-2ee1-44ae-b45e-2702c2edd32f",
         "850f59ca-b9ce-4de9-b6b2-d251c1e82fd3",
         "13f47b8f-52c3-4772-85be-0e3bdc53a5e7",
         null
        ],
        [
         "2a9a4408-236b-48af-b989-8fc1f8fb41bb",
         "9342cccc-0089-4831-82f6-dbae9da9fe29",
         "4d6c4537-35ed-4f08-97ba-35ec8aa14043",
         null
        ],
        [
         "f2669e1e-6650-4279-835d-cd306075c32e",
         "6468574d-6b15-4a93-84ca-78ecf6ab7818",
         "73dedd7e-ac85-4500-bea3-4d0edb58c418",
         null
        ],
        [
         "4d28b405-a0fa-4af3-a110-0f2133b7f9ab",
         "10ea4493-8a9a-4235-ab1b-ae0f438d24cb",
         "54a47711-ddd8-4257-80ac-64522ba81528",
         null
        ],
        [
         "54ee5027-6b49-48b0-8eda-904f93a733e1",
         "26e99a38-99a4-417e-ac25-10d8eb740e69",
         "0c5b4fd8-da81-410b-b040-25a86d066804",
         null
        ],
        [
         "c98ac0f2-9776-4f39-9deb-baeac0b926af",
         "a96f93bc-8274-4a91-ab0a-79e6d815fea6",
         "67310767-39ad-489d-afda-af6ce605a20c",
         null
        ],
        [
         "26859adb-eecc-493b-98ba-1d3c2ac80a79",
         "40c3ef73-ee7b-41ec-a778-44f06af55196",
         "da61354e-dc80-4678-bc74-52d98cf826cc",
         "da61354e-dc80-4678-bc74-52d98cf826cc"
        ],
        [
         "18262727-9d45-44ce-b174-26a0aa72e74e",
         "b80fb4f5-2010-4672-9b25-757db5160c70",
         "7d0af52c-fb65-499d-af18-3ffb47beb387",
         null
        ],
        [
         "536a927b-57fe-4811-953d-05b763fec7ef",
         "66a9b45b-cdb6-41a0-be2f-1c3ab769ce9c",
         "fd0bb15d-78d1-412b-ad9a-7744cf2a4297",
         null
        ],
        [
         "41244bdc-ff00-48b7-b6f5-14d509e872a7",
         "9e669b02-1cfc-46a0-b821-c6c5b2de6b90",
         "5a885d74-6b05-4e2b-aafd-ee7f27d786f0",
         null
        ],
        [
         "5a4a73be-b376-4c43-8dad-9bc611757ca6",
         "fcf80bfa-0053-4d8c-9554-5313b6a57c9f",
         "ff4e150e-cfe6-41ae-a9bb-47352dad3cd7",
         null
        ],
        [
         "ef31376a-3bfd-4c92-b494-ca472bfe50c9",
         "ca839457-1b11-4809-a8af-c14ba023b98f",
         "63bf5b54-e427-4c1b-8f90-9a072d1e64ef",
         null
        ],
        [
         "8b750e35-ea4f-483d-bea2-032068adb1cd",
         "6cefb08c-c2aa-4836-80a9-8abea9c8dea1",
         "c24e4f79-ee83-477d-9541-8795cd936936",
         "c24e4f79-ee83-477d-9541-8795cd936936"
        ],
        [
         "a6678040-d6f3-4355-baa9-c729b743bc72",
         "aa0e3c23-f620-47df-870c-a2f339e88bae",
         "20dd4847-bbd8-4d8e-a01d-8f7750fcf647",
         "20dd4847-bbd8-4d8e-a01d-8f7750fcf647"
        ],
        [
         "6fb96e11-0b4b-4ad4-8908-cbc9c308a877",
         "6b5e461f-2567-40c3-8676-b7b9cbad2324",
         "28d70380-6814-4958-8a5d-85eb25ede3f7",
         null
        ],
        [
         "35ec59d2-08aa-4f51-865d-1946ccf02b34",
         "1d332476-9ee9-4bf2-a836-fd18dac21d8f",
         "b943f932-233a-497b-bebf-8932d0ea1e70",
         null
        ],
        [
         "299bed13-02bc-489f-a27f-b94affdb5451",
         "9385c375-d17c-43cf-8a41-ae5a1dfb2307",
         "28d70380-6814-4958-8a5d-85eb25ede3f7",
         null
        ],
        [
         "b0d4592d-d004-448f-bb33-a2117adc7806",
         "801fe54b-0cb7-4ff4-8934-7e83afb4d8a6",
         "9303246a-bd3a-42bf-a04d-9f309dc28b0a",
         null
        ],
        [
         "625c8e1c-0f84-43dc-988f-c5f91a5e5687",
         "52727d35-ec3d-401a-b24e-02663b7fd5c5",
         "df700ea2-3015-48bb-9020-6119bd50c07d",
         null
        ],
        [
         "7ae4079b-c358-4a35-b687-e0166a9a3c5b",
         "42ef850b-5164-4ff5-bc8e-4c68871fa6fd",
         "0c736982-3fdd-40b5-8b00-ed33a10924b0",
         "0c736982-3fdd-40b5-8b00-ed33a10924b0"
        ],
        [
         "5898eead-6908-4003-8ac5-8c1fd0202d41",
         "cfeb658d-525b-401e-9457-ec71fbd70516",
         "05a3fb27-5cbf-4fd2-b248-52ec984935fe",
         null
        ],
        [
         "bfc28901-51f9-42e8-9d90-a259415a01ea",
         "50c2db66-a608-453f-a6a0-105bf2ac8496",
         "b8b01404-8d42-4414-8b52-f42a0f6106b2",
         null
        ],
        [
         "ebd45b24-dc97-457a-bcbc-c8286d88bbb0",
         "aa24a6fe-ca2f-46c2-9604-4ebd3a92d514",
         "b9720e77-0282-483d-8ccb-9eeca6fff90e",
         "b9720e77-0282-483d-8ccb-9eeca6fff90e"
        ],
        [
         "a2443147-7bd5-401c-93f0-517b7784a1d7",
         "26cc6ec1-7f0d-4752-89ba-d0e7e2a685c7",
         "03305867-96d8-4304-9e0f-b90990774a95",
         null
        ],
        [
         "efe751c2-9462-40ed-abe1-ae3ba720bf59",
         "e2cd3942-f216-4e6a-9a40-765549771bd0",
         "19e7ba50-7081-4765-b5ec-252b2c860ce9",
         null
        ],
        [
         "8cd3f5e0-63c7-461f-8107-e65ea08356ce",
         "8d9b2ea4-2934-4cd4-9ade-21e7eedb2c85",
         "4ede402a-535e-47cc-bebb-94a99071e1ee",
         null
        ],
        [
         "07eace5e-bf15-409a-a976-d4cb237ea399",
         "9cd6469d-de22-4030-afef-fd671f87feb3",
         "e789f0fc-1ebb-41ff-abab-d196f507d549",
         null
        ],
        [
         "9aaf67aa-0708-4f40-86c6-d2e13bfcc003",
         "676e3f99-e260-4ac3-ad81-14d18ad49711",
         "e6a7bfc7-cbcb-4e95-ae8a-9ee554b0d037",
         null
        ],
        [
         "5ae9a2ca-898e-4919-99ce-2b68bc704555",
         "4a922852-f5c1-47db-9ffa-b3dfd81c90a3",
         "0f2dfad5-f6c4-4c8b-9932-0e4fdc4370bc",
         null
        ],
        [
         "6214e190-622c-4f1f-b5b2-8aa30e752ee5",
         "3753643d-1409-4524-a3eb-24bad1a6d99f",
         "92d7a98d-0acd-4162-93fd-3bdc6ef5a950",
         null
        ],
        [
         "36da97c8-402c-41d8-9274-5ab2efa8cfd2",
         "b0bb7b3d-f551-484a-9f95-2e661980a598",
         "b9720e77-0282-483d-8ccb-9eeca6fff90e",
         "b9720e77-0282-483d-8ccb-9eeca6fff90e"
        ],
        [
         "67ccf289-7ff6-4dd4-bd19-93fe8499d6b5",
         "d0308d1e-ebc4-4792-85fa-f7f06fd77777",
         "b8b01404-8d42-4414-8b52-f42a0f6106b2",
         "b8b01404-8d42-4414-8b52-f42a0f6106b2"
        ],
        [
         "68191b7c-35df-487c-b1f8-469e7f29b7cc",
         "33ed1c35-971b-41f3-b03c-8cca18625138",
         "b021bc1b-3c87-4a75-bac4-77bb2b36fa62",
         null
        ],
        [
         "6060e2a3-9708-461e-a13a-8f84e46c732d",
         "690e5341-931c-4832-8262-7eca528bff1f",
         "2b28d2c7-9964-4913-9743-79860332c39e",
         "5dccab54-604f-48e5-a3ee-d31f3784a0d9"
        ],
        [
         "47bb99f1-d28a-439a-9ae0-4ef30a79613d",
         "df09e3d5-361b-49b7-82ab-b622fb3abc68",
         "92d7a98d-0acd-4162-93fd-3bdc6ef5a950",
         null
        ]
       ],
       "datasetInfos": [],
       "dbfsResultPath": null,
       "isJsonSchema": true,
       "metadata": {},
       "overflow": false,
       "plotOptions": {
        "customPlotOptions": {},
        "displayType": "table",
        "pivotAggregation": null,
        "pivotColumns": null,
        "xColumns": null,
        "yColumns": null
       },
       "removedWidgets": [],
       "schema": [
        {
         "metadata": "{}",
         "name": "uuid",
         "type": "\"string\""
        },
        {
         "metadata": "{}",
         "name": "match_uuid",
         "type": "\"string\""
        },
        {
         "metadata": "{}",
         "name": "winner_uuid",
         "type": "\"string\""
        },
        {
         "metadata": "{}",
         "name": "first_shooter_uuid",
         "type": "\"string\""
        }
       ],
       "type": "table"
      }
     },
     "output_type": "display_data"
    }
   ],
   "source": [
    "dim_shootout_df = (\n",
    "    shootouts_df.join(dim_team_df, on=shootouts_df.home_team == dim_team_df.team)\n",
    "    .withColumnRenamed(\"uuid\", \"home_team_uuid\")\n",
    "    .withColumnRenamed(\"team\", \"home_team_name\")\n",
    "    .join(dim_team_df, on=shootouts_df.away_team == dim_team_df.team)\n",
    "    .withColumnRenamed(\"uuid\", \"away_team_uuid\")\n",
    "    .withColumnRenamed(\"team\", \"away_team_name\")\n",
    "    .withColumn(\n",
    "        \"winner_uuid\",\n",
    "        get_winner_uuid(\n",
    "            f.col(\"home_team_uuid\"),\n",
    "            f.col(\"home_team_name\"),\n",
    "            f.col(\"away_team_uuid\"),\n",
    "            f.col(\"away_team_name\"),\n",
    "            f.col(\"winner\"),\n",
    "        ),\n",
    "    )\n",
    "    .withColumn(\n",
    "        \"first_shooter_uuid\",\n",
    "        get_first_shooter_uuid(\n",
    "            f.col(\"home_team_uuid\"),\n",
    "            f.col(\"home_team_name\"),\n",
    "            f.col(\"away_team_uuid\"),\n",
    "            f.col(\"away_team_name\"),\n",
    "            f.col(\"first_shooter\"),\n",
    "        ),\n",
    "    )\n",
    "    .join(dim_date_df, on=shootouts_df.date == dim_date_df.date)\n",
    "    .withColumnRenamed(\"uuid\", \"date_uuid\")\n",
    "    .select(\n",
    "        f.col(\"home_team_uuid\").alias(\"home_team_uuid_for_join\"),\n",
    "        f.col(\"away_team_uuid\").alias(\"away_team_uuid_for_join\"),\n",
    "        \"winner_uuid\",\n",
    "        \"first_shooter_uuid\",\n",
    "        f.col(\"date_uuid\").alias(\"date_uuid_for_join\"),\n",
    "    )\n",
    "    .join(\n",
    "        dim_match_df,\n",
    "        on=[\n",
    "            dim_match_df.date_uuid == f.col(\"date_uuid_for_join\"),\n",
    "            dim_match_df.home_team_uuid == f.col(\"home_team_uuid_for_join\"),\n",
    "            dim_match_df.away_team_uuid == f.col(\"away_team_uuid_for_join\"),\n",
    "        ],\n",
    "    )\n",
    "    .withColumnRenamed(\"uuid\", \"match_uuid\")\n",
    "    .withColumn(\"uuid\", f.expr(\"uuid()\"))\n",
    "    .select(\"uuid\", \"match_uuid\", \"winner_uuid\", \"first_shooter_uuid\")\n",
    ")\n",
    "display(dim_shootout_df.head(100))"
   ]
  },
  {
   "cell_type": "markdown",
   "metadata": {
    "application/vnd.databricks.v1+cell": {
     "cellMetadata": {
      "byteLimit": 2048000,
      "rowLimit": 10000
     },
     "inputWidgets": {},
     "nuid": "f2270583-8a7e-45af-a941-8d97b3401ab9",
     "showTitle": false,
     "title": ""
    }
   },
   "source": [
    "# Uploading the data to the Hive Metastore"
   ]
  },
  {
   "cell_type": "code",
   "execution_count": 0,
   "metadata": {
    "application/vnd.databricks.v1+cell": {
     "cellMetadata": {
      "byteLimit": 2048000,
      "implicitDf": true,
      "rowLimit": 10000
     },
     "inputWidgets": {},
     "nuid": "6ca3618b-7643-4c67-a07d-9eb0e9358204",
     "showTitle": false,
     "title": ""
    }
   },
   "outputs": [
    {
     "output_type": "display_data",
     "data": {
      "text/html": [
       "<style scoped>\n",
       "  .table-result-container {\n",
       "    max-height: 300px;\n",
       "    overflow: auto;\n",
       "  }\n",
       "  table, th, td {\n",
       "    border: 1px solid black;\n",
       "    border-collapse: collapse;\n",
       "  }\n",
       "  th, td {\n",
       "    padding: 5px;\n",
       "  }\n",
       "  th {\n",
       "    text-align: left;\n",
       "  }\n",
       "</style><div class='table-result-container'><table class='table-result'><thead style='background-color: white'><tr></tr></thead><tbody></tbody></table></div>"
      ]
     },
     "metadata": {
      "application/vnd.databricks.v1+output": {
       "addedWidgets": {},
       "aggData": [],
       "aggError": "",
       "aggOverflow": false,
       "aggSchema": [],
       "aggSeriesLimitReached": false,
       "aggType": "",
       "arguments": {},
       "columnCustomDisplayInfos": {},
       "data": [],
       "datasetInfos": [],
       "dbfsResultPath": null,
       "isJsonSchema": true,
       "metadata": {
        "dataframeName": null
       },
       "overflow": false,
       "plotOptions": {
        "customPlotOptions": {},
        "displayType": "table",
        "pivotAggregation": null,
        "pivotColumns": null,
        "xColumns": null,
        "yColumns": null
       },
       "removedWidgets": [],
       "schema": [],
       "type": "table"
      }
     },
     "output_type": "display_data"
    }
   ],
   "source": [
    "%sql\n",
    "CREATE SCHEMA IF NOT EXISTS warehouse"
   ]
  },
  {
   "cell_type": "code",
   "execution_count": 0,
   "metadata": {
    "application/vnd.databricks.v1+cell": {
     "cellMetadata": {
      "byteLimit": 2048000,
      "rowLimit": 10000
     },
     "inputWidgets": {},
     "nuid": "4bfcd49c-ce5b-458e-8dbe-69dd41bae9f2",
     "showTitle": false,
     "title": ""
    }
   },
   "outputs": [],
   "source": [
    "dim_date_df.write.mode(\"overwrite\").saveAsTable(\"warehouse.DimDate\")\n",
    "dim_country_df.write.mode(\"overwrite\").saveAsTable(\"warehouse.DimCountry\")\n",
    "dim_city_df.write.mode(\"overwrite\").saveAsTable(\"warehouse.DimCity\")\n",
    "dim_team_df.write.mode(\"overwrite\").saveAsTable(\"warehouse.DimTeam\")\n",
    "dim_tournament_df.write.mode(\"overwrite\").saveAsTable(\"warehouse.DimTournament\")\n",
    "dim_match_df.write.mode(\"overwrite\").saveAsTable(\"warehouse.DimMatch\")\n",
    "fact_result_df.write.mode(\"overwrite\").saveAsTable(\"warehouse.FactResult\")\n",
    "dim_scorer_df.write.mode(\"overwrite\").saveAsTable(\"warehouse.DimScorer\")\n",
    "fact_score_df.write.mode(\"overwrite\").saveAsTable(\"warehouse.FactScore\")\n",
    "dim_shootout_df.write.mode(\"overwrite\").saveAsTable(\"warehouse.DimShootout\")"
   ]
  }
 ],
 "metadata": {
  "application/vnd.databricks.v1+notebook": {
   "dashboards": [],
   "environmentMetadata": null,
   "language": "python",
   "notebookMetadata": {
    "mostRecentlyExecutedCommandWithImplicitDF": {
     "commandId": 194607288111004,
     "dataframes": [
      "_sqldf"
     ]
    },
    "pythonIndentUnit": 4
   },
   "notebookName": "International football",
   "widgets": {}
  }
 },
 "nbformat": 4,
 "nbformat_minor": 0
}
